{
 "cells": [
  {
   "cell_type": "markdown",
   "metadata": {},
   "source": [
    "# **Analyse de sentiments sur les critiques spectateurs sur Allociné**\n",
    "**Projet Python pour la Data science - 2A ENSAE**\n",
    "\n",
    "Zakaria BOULLIAIRE, Massyle DENDENE, Brian RAMESH"
   ]
  },
  {
   "cell_type": "markdown",
   "metadata": {},
   "source": [
    "# Introduction"
   ]
  },
  {
   "cell_type": "markdown",
   "metadata": {},
   "source": [
    "L'idée de ce projet est de prédire (\"mettre la variable à prédire\"), à partir d'une analyse de sentiment faite sur les critiques données pas les spectateurs (et non la presse), sur le site Allociné. \n",
    "Nous allons donc consituer une base de données de film, en scrappant le site Allociné et en utilisant l'API de The Movie Database (TMDB) pour compléter les données manquantes."
   ]
  },
  {
   "cell_type": "markdown",
   "metadata": {},
   "source": [
    "### Imports nécessaires"
   ]
  },
  {
   "cell_type": "code",
   "execution_count": 1,
   "metadata": {},
   "outputs": [],
   "source": [
    "# BeutifulSoup pour le scrapping\n",
    "from urllib.request import urlopen\n",
    "from bs4 import BeautifulSoup as bs\n",
    "import requests\n",
    "from concurrent.futures import ThreadPoolExecutor"
   ]
  },
  {
   "cell_type": "code",
   "execution_count": 2,
   "metadata": {},
   "outputs": [],
   "source": [
    "# Classique python\n",
    "import pandas as pd\n",
    "import numpy as np\n",
    "import matplotlib.pyplot as plt\n",
    "from random import randint\n",
    "import seaborn as sns\n",
    "from warnings import warn\n",
    "from time import sleep\n",
    "from datetime import datetime\n",
    "from dateutil import parser "
   ]
  },
  {
   "cell_type": "code",
   "execution_count": 3,
   "metadata": {},
   "outputs": [],
   "source": [
    "# NLP\n",
    "from nltk.corpus import stopwords\n",
    "from nltk.tokenize import word_tokenize\n",
    "from nltk.stem import WordNetLemmatizer\n",
    "import string\n",
    "\n",
    "from textblob import Blobber\n",
    "from textblob_fr import PatternTagger, PatternAnalyzer"
   ]
  },
  {
   "cell_type": "code",
   "execution_count": 4,
   "metadata": {},
   "outputs": [],
   "source": [
    "# ML\n",
    "\n",
    "from sklearn.model_selection import train_test_split\n",
    "from sklearn.feature_extraction.text import CountVectorizer\n",
    "from sklearn.model_selection import cross_val_score, StratifiedKFold, GridSearchCV\n",
    "from sklearn.metrics import classification_report, confusion_matrix\n",
    "from sklearn.linear_model import LogisticRegression\n",
    "from sklearn.ensemble import RandomForestClassifier\n",
    "from sklearn.svm import SVC\n",
    "from sklearn.neighbors import KNeighborsClassifier\n",
    "from sklearn import model_selection, preprocessing, naive_bayes, metrics\n",
    "from sklearn import decomposition, ensemble"
   ]
  },
  {
   "cell_type": "markdown",
   "metadata": {},
   "source": [
    "# Collecte des données"
   ]
  },
  {
   "cell_type": "markdown",
   "metadata": {},
   "source": [
    "### Scrapping sur Allociné"
   ]
  },
  {
   "cell_type": "markdown",
   "metadata": {},
   "source": [
    "Tout d'abord, nous allons restreindre notre base de données aux films américains des années 2010 à 2021. Cela constiuerait une base de données de 11 822 films (avant nettoyage)"
   ]
  },
  {
   "cell_type": "markdown",
   "metadata": {},
   "source": [
    "Les données qui peuvent nous être utiles sont les suivantes : Titre original du film, identifiant du film sur Allociné (qui nous sera utile pour récupérer les critiques plus tard), la note des spectateurs et celle de la presse, le nombre de critiques presse, le nombre de critiques spectateurs et le nombre de votes pour la notes (dans une seule et même variable, qu'on spérera lors du nettoyage), la date de sortie du film, le budget et le Box Office US. \n",
    "Nous avions également commencer à scrapper le N°Visa du film, qui est unique pour chaque film, en vue d'utiliser cette donnée pour la collecte sur TMDB, mais il y avait énormément de film pour lesquels cette donnée manquait. Nous avons décider de ne pas l'utiliser."
   ]
  },
  {
   "cell_type": "markdown",
   "metadata": {},
   "source": [
    "L'idée de la fonction ci dessous est de scrapper les données dont on a besoin à partir de l'url et du nombre de page."
   ]
  },
  {
   "cell_type": "code",
   "execution_count": 28,
   "metadata": {},
   "outputs": [],
   "source": [
    "# Role : Scraping des pages de film sur le site allocine.fr\n",
    "# Entrée : url et nombre de de page\n",
    "# Sortie : un dataframe contenant toutes les données scrapées\n",
    " \n",
    "def scraping_film_allocine(base_url, nb_page):\n",
    "\n",
    "    # Liste ou on stock nos données\n",
    "    data = []\n",
    "    \n",
    "    # Variable de comptage pour voir l'évolution du scrapping, et détecter les eventuelles erreurs\n",
    "    i=0\n",
    "\n",
    "    # Boucle sur les pages\n",
    "    for page in range(1, nb_page+1): \n",
    "        url_page_ac = f\"{base_url}{page}\"\n",
    "\n",
    "        response_page_ac = requests.get(url_page_ac)\n",
    "\n",
    "        if response_page_ac.status_code == 200:\n",
    "            bs_page_ac = bs(response_page_ac.text, \"html.parser\")\n",
    "            films_page_ac = bs_page_ac.findAll(\"li\", attrs={'class': \"mdl\"})\n",
    "\n",
    "            for film_allocine in films_page_ac:\n",
    "                i+=1\n",
    "                try:\n",
    "                    \n",
    "                    # Id du film sur allo cine\n",
    "                    meta_title_link = film_allocine.find('a', class_='meta-title-link')\n",
    "\n",
    "                    if meta_title_link:\n",
    "                        href1 = meta_title_link.get('href')\n",
    "                        film_id = href1.split('=')[-1].split('.')[0]\n",
    "                    else:\n",
    "                        film_id = None\n",
    "\n",
    "\n",
    "                    # Scrapping de la page fiche info du film qu'on obtient grace à l'id trouvé ci dessus\n",
    "                    url_fiche_film = f'https://www.allocine.fr/film/fichefilm_gen_cfilm={film_id}.html'\n",
    "                    response_fiche_film = requests.get(url_fiche_film)\n",
    "                    bs_fiche_film = bs(response_fiche_film.text, \"html.parser\")\n",
    "\n",
    "                    # Titre\n",
    "                    titre_allocine = meta_title_link.text\n",
    "\n",
    "                    span_titre_original = bs_fiche_film.find('span', class_='light', string='Titre original ')\n",
    "                    titre_original = span_titre_original.find_next_sibling(string=True).strip() if span_titre_original else titre_allocine\n",
    "\n",
    "\n",
    "                    # Notes spectateurs/presse, nombre critiques presse/spectateurs\n",
    "                    bloc_notes = bs_fiche_film.findAll('span', class_='stareval-note')\n",
    "                    list_notes = [notes.get_text(strip=True) for notes in bloc_notes]\n",
    "\n",
    "                    if len(list_notes)==0:\n",
    "                        note_presse = None\n",
    "                        note_spectateur = None\n",
    "                        \n",
    "                    else:\n",
    "                        index_delimiteur = list_notes.index('--')\n",
    "                        new_liste_notes = list_notes[:index_delimiteur]\n",
    "\n",
    "                        if len(new_liste_notes)==2:\n",
    "                            note_presse = new_liste_notes[0]\n",
    "                            note_spectateur = new_liste_notes[1]\n",
    "                        \n",
    "                        elif len(new_liste_notes) > 0 and len(new_liste_notes) <= 1:\n",
    "                            note_spectateur = new_liste_notes[0]\n",
    "                            note_presse = None\n",
    "\n",
    "                    bloc_critiques = bs_fiche_film.find_all('span', class_='stareval-review')\n",
    "\n",
    "                    if len(bloc_critiques)==2:\n",
    "                        critiques_element_presse = bloc_critiques[0].text\n",
    "                        critiques_element_spec = bloc_critiques[1].text\n",
    "                    elif len(bloc_critiques) > 0 and len(bloc_critiques) <= 1:\n",
    "                        critiques_element_spec = bloc_critiques[0].text\n",
    "                        critiques_element_presse = None\n",
    "                    else:\n",
    "                        critiques_element_presse = None\n",
    "                        critiques_element_spec = None\n",
    "\n",
    "\n",
    "                    #Date, durée, budget, réalisateur\n",
    "                    date_film_element = film_allocine.find('span', class_='date')\n",
    "                    date_film = date_film_element.text if date_film_element else None\n",
    "\n",
    "                    duree_film_element = bs_fiche_film.find('span', class_='spacer')\n",
    "                    duree_film = duree_film_element.next_sibling.strip() if duree_film_element else None\n",
    "\n",
    "                    budget_element = bs_fiche_film.find('span', class_='what light', string='Budget')\n",
    "                    budget_film = budget_element.find_next('span').string if budget_element else None\n",
    "\n",
    "                    director_element = bs_fiche_film.find('div', class_='meta-body-direction')\n",
    "                    director_name = director_element.text.strip() if director_element else None\n",
    "\n",
    "\n",
    "                    data.append([titre_original, note_presse, note_spectateur, critiques_element_presse, critiques_element_spec, film_id, director_name, budget_film,\n",
    "                                date_film, duree_film])\n",
    "                    \n",
    "                    df_data = pd.DataFrame(data, columns=[\"Titre original\", \"Note presse\", \"Note spectateur\", \"Critique presse\", \"Critique spectateurs\", 'id allocine',\n",
    "                                          'Réalisateur', 'Budget', 'date', 'duree'])\n",
    "\n",
    "\n",
    "                    print(i)\n",
    "                except Exception as e:\n",
    "                    print(f\"Une erreur s'est produite pour le film {i} : {e}\")\n",
    "\n",
    "    return df_data"
   ]
  },
  {
   "cell_type": "code",
   "execution_count": null,
   "metadata": {},
   "outputs": [],
   "source": [
    "%%time\n",
    "\n",
    "# Urls qu'on veut scrapper\n",
    "base_url_2010_2020, nb_page_2010_2020 = 'https://www.allocine.fr/films/pays-5002/decennie-2010/?page=', 646\n",
    "base_url_2020, nb_page_2020 = 'https://www.allocine.fr/films/pays-5002/decennie-2020/annee-2020/?page', 66\n",
    "base_url_2021, nb_page_2021 = 'https://www.allocine.fr/films/pays-5002/decennie-2020/annee-2021/?page', 77\n",
    "\n",
    "# Application de la fonction scrapping_film_allocine\n",
    "df_data_2010_2020 = scraping_film_allocine(base_url_2010_2020, nb_page_2010_2020)\n",
    "df_data_2020 = scraping_film_allocine(base_url_2020, nb_page_2020)\n",
    "df_data_2021 = scraping_film_allocine(base_url_2021, nb_page_2021)"
   ]
  },
  {
   "cell_type": "code",
   "execution_count": null,
   "metadata": {},
   "outputs": [],
   "source": [
    "# Créer un DataFrame avec les données collectées\n",
    "dfs=[df_data_2010_2020, df_data_2020, df_data_2021]\n",
    "\n",
    "df_film_ac = pd.concat(dfs, ignore_index=True)"
   ]
  },
  {
   "cell_type": "code",
   "execution_count": null,
   "metadata": {},
   "outputs": [],
   "source": [
    "df_film_ac.to_csv('df_film_ac.csv', index=False) ### DF important"
   ]
  },
  {
   "cell_type": "markdown",
   "metadata": {},
   "source": [
    "### Nettoyage de la base obtenue sur Allociné"
   ]
  },
  {
   "cell_type": "code",
   "execution_count": 19,
   "metadata": {},
   "outputs": [],
   "source": [
    "df_film_ac= pd.read_csv(\"df_film_ac.csv\")"
   ]
  },
  {
   "cell_type": "code",
   "execution_count": 20,
   "metadata": {},
   "outputs": [
    {
     "data": {
      "text/html": [
       "<div>\n",
       "<style scoped>\n",
       "    .dataframe tbody tr th:only-of-type {\n",
       "        vertical-align: middle;\n",
       "    }\n",
       "\n",
       "    .dataframe tbody tr th {\n",
       "        vertical-align: top;\n",
       "    }\n",
       "\n",
       "    .dataframe thead th {\n",
       "        text-align: right;\n",
       "    }\n",
       "</style>\n",
       "<table border=\"1\" class=\"dataframe\">\n",
       "  <thead>\n",
       "    <tr style=\"text-align: right;\">\n",
       "      <th></th>\n",
       "      <th>Titre original</th>\n",
       "      <th>Note press</th>\n",
       "      <th>Notes spectateur</th>\n",
       "      <th>Critiques presse</th>\n",
       "      <th>Critiques spectateurs</th>\n",
       "      <th>id allocine</th>\n",
       "      <th>Box office</th>\n",
       "      <th>Budget</th>\n",
       "      <th>date</th>\n",
       "      <th>duree</th>\n",
       "    </tr>\n",
       "  </thead>\n",
       "  <tbody>\n",
       "    <tr>\n",
       "      <th>0</th>\n",
       "      <td>Shutter Island</td>\n",
       "      <td>3,8</td>\n",
       "      <td>4,4</td>\n",
       "      <td>31 critiques</td>\n",
       "      <td>80471 notes dont 4605 critiques</td>\n",
       "      <td>132039</td>\n",
       "      <td>127 770 000</td>\n",
       "      <td>80 000 000 $</td>\n",
       "      <td>24 février 2010</td>\n",
       "      <td>2h 17min</td>\n",
       "    </tr>\n",
       "    <tr>\n",
       "      <th>1</th>\n",
       "      <td>Inception</td>\n",
       "      <td>4,1</td>\n",
       "      <td>4,5</td>\n",
       "      <td>24 critiques</td>\n",
       "      <td>110095 notes dont 7212 critiques</td>\n",
       "      <td>143692</td>\n",
       "      <td>290 948 208</td>\n",
       "      <td>160 000 000 $</td>\n",
       "      <td>21 juillet 2010</td>\n",
       "      <td>2h 28min</td>\n",
       "    </tr>\n",
       "    <tr>\n",
       "      <th>2</th>\n",
       "      <td>Harry Potter and the Deathly Hallows - Part 1</td>\n",
       "      <td>3,2</td>\n",
       "      <td>4,0</td>\n",
       "      <td>20 critiques</td>\n",
       "      <td>52676 notes dont 2887 critiques</td>\n",
       "      <td>126693</td>\n",
       "      <td>291 377 000</td>\n",
       "      <td>150 000 000 $</td>\n",
       "      <td>24 novembre 2010</td>\n",
       "      <td>2h 26min</td>\n",
       "    </tr>\n",
       "    <tr>\n",
       "      <th>3</th>\n",
       "      <td>Prince of Persia: The Sands of Time</td>\n",
       "      <td>2,6</td>\n",
       "      <td>3,1</td>\n",
       "      <td>22 critiques</td>\n",
       "      <td>26730 notes dont 2133 critiques</td>\n",
       "      <td>126678</td>\n",
       "      <td>89 981 000</td>\n",
       "      <td>200 000 000 $</td>\n",
       "      <td>26 mai 2010</td>\n",
       "      <td>2h 06min</td>\n",
       "    </tr>\n",
       "    <tr>\n",
       "      <th>4</th>\n",
       "      <td>The Book of Eli</td>\n",
       "      <td>2,4</td>\n",
       "      <td>3,3</td>\n",
       "      <td>20 critiques</td>\n",
       "      <td>10503 notes dont 1144 critiques</td>\n",
       "      <td>128955</td>\n",
       "      <td>92 524 000</td>\n",
       "      <td>80 000 000 $</td>\n",
       "      <td>20 janvier 2010</td>\n",
       "      <td>1h 49min</td>\n",
       "    </tr>\n",
       "    <tr>\n",
       "      <th>...</th>\n",
       "      <td>...</td>\n",
       "      <td>...</td>\n",
       "      <td>...</td>\n",
       "      <td>...</td>\n",
       "      <td>...</td>\n",
       "      <td>...</td>\n",
       "      <td>...</td>\n",
       "      <td>...</td>\n",
       "      <td>...</td>\n",
       "      <td>...</td>\n",
       "    </tr>\n",
       "    <tr>\n",
       "      <th>11816</th>\n",
       "      <td>Amarillo</td>\n",
       "      <td>NaN</td>\n",
       "      <td>NaN</td>\n",
       "      <td>NaN</td>\n",
       "      <td>NaN</td>\n",
       "      <td>294872</td>\n",
       "      <td>NaN</td>\n",
       "      <td>-</td>\n",
       "      <td>NaN</td>\n",
       "      <td>NaN</td>\n",
       "    </tr>\n",
       "    <tr>\n",
       "      <th>11817</th>\n",
       "      <td>Chastise</td>\n",
       "      <td>NaN</td>\n",
       "      <td>NaN</td>\n",
       "      <td>NaN</td>\n",
       "      <td>NaN</td>\n",
       "      <td>295695</td>\n",
       "      <td>NaN</td>\n",
       "      <td>-</td>\n",
       "      <td>NaN</td>\n",
       "      <td>NaN</td>\n",
       "    </tr>\n",
       "    <tr>\n",
       "      <th>11818</th>\n",
       "      <td>Tapawingo</td>\n",
       "      <td>NaN</td>\n",
       "      <td>NaN</td>\n",
       "      <td>NaN</td>\n",
       "      <td>NaN</td>\n",
       "      <td>296176</td>\n",
       "      <td>NaN</td>\n",
       "      <td>-</td>\n",
       "      <td>NaN</td>\n",
       "      <td>NaN</td>\n",
       "    </tr>\n",
       "    <tr>\n",
       "      <th>11819</th>\n",
       "      <td>Mr. Birthday</td>\n",
       "      <td>NaN</td>\n",
       "      <td>NaN</td>\n",
       "      <td>NaN</td>\n",
       "      <td>NaN</td>\n",
       "      <td>298844</td>\n",
       "      <td>NaN</td>\n",
       "      <td>-</td>\n",
       "      <td>NaN</td>\n",
       "      <td>NaN</td>\n",
       "    </tr>\n",
       "    <tr>\n",
       "      <th>11820</th>\n",
       "      <td>A Kaddish for Bernie Madoff</td>\n",
       "      <td>NaN</td>\n",
       "      <td>NaN</td>\n",
       "      <td>NaN</td>\n",
       "      <td>NaN</td>\n",
       "      <td>307242</td>\n",
       "      <td>NaN</td>\n",
       "      <td>-</td>\n",
       "      <td>NaN</td>\n",
       "      <td>NaN</td>\n",
       "    </tr>\n",
       "  </tbody>\n",
       "</table>\n",
       "<p>11821 rows × 10 columns</p>\n",
       "</div>"
      ],
      "text/plain": [
       "                                      Titre original Note press  \\\n",
       "0                                     Shutter Island        3,8   \n",
       "1                                          Inception        4,1   \n",
       "2      Harry Potter and the Deathly Hallows - Part 1        3,2   \n",
       "3                Prince of Persia: The Sands of Time        2,6   \n",
       "4                                    The Book of Eli        2,4   \n",
       "...                                              ...        ...   \n",
       "11816                                       Amarillo        NaN   \n",
       "11817                                       Chastise        NaN   \n",
       "11818                                      Tapawingo        NaN   \n",
       "11819                                   Mr. Birthday        NaN   \n",
       "11820                    A Kaddish for Bernie Madoff        NaN   \n",
       "\n",
       "      Notes spectateur Critiques presse              Critiques spectateurs  \\\n",
       "0                  4,4     31 critiques    80471 notes dont 4605 critiques   \n",
       "1                  4,5     24 critiques   110095 notes dont 7212 critiques   \n",
       "2                  4,0     20 critiques    52676 notes dont 2887 critiques   \n",
       "3                  3,1     22 critiques    26730 notes dont 2133 critiques   \n",
       "4                  3,3     20 critiques    10503 notes dont 1144 critiques   \n",
       "...                ...              ...                                ...   \n",
       "11816              NaN              NaN                                NaN   \n",
       "11817              NaN              NaN                                NaN   \n",
       "11818              NaN              NaN                                NaN   \n",
       "11819              NaN              NaN                                NaN   \n",
       "11820              NaN              NaN                                NaN   \n",
       "\n",
       "       id allocine   Box office         Budget              date     duree  \n",
       "0           132039  127 770 000   80 000 000 $   24 février 2010  2h 17min  \n",
       "1           143692  290 948 208  160 000 000 $   21 juillet 2010  2h 28min  \n",
       "2           126693  291 377 000  150 000 000 $  24 novembre 2010  2h 26min  \n",
       "3           126678   89 981 000  200 000 000 $       26 mai 2010  2h 06min  \n",
       "4           128955   92 524 000   80 000 000 $   20 janvier 2010  1h 49min  \n",
       "...            ...          ...            ...               ...       ...  \n",
       "11816       294872          NaN              -               NaN       NaN  \n",
       "11817       295695          NaN              -               NaN       NaN  \n",
       "11818       296176          NaN              -               NaN       NaN  \n",
       "11819       298844          NaN              -               NaN       NaN  \n",
       "11820       307242          NaN              -               NaN       NaN  \n",
       "\n",
       "[11821 rows x 10 columns]"
      ]
     },
     "execution_count": 20,
     "metadata": {},
     "output_type": "execute_result"
    }
   ],
   "source": [
    "df_film_ac "
   ]
  },
  {
   "cell_type": "markdown",
   "metadata": {},
   "source": [
    "Comme on peut voir, la base a besoin d'être nettoyé. Nous allons extraires le nombre de critiques de la presse, le nombre de notes sepcteurs et le nombre de critiques des spectateurs. Nous allons convertir également le format de la date, et la durée du film en minute.\n",
    "\n",
    "Puis, nous allons supprimer tous les films qui n'ont pas de note spectateurs et/ou qui ont moins de 5 critiques"
   ]
  },
  {
   "cell_type": "code",
   "execution_count": 21,
   "metadata": {},
   "outputs": [
    {
     "name": "stdout",
     "output_type": "stream",
     "text": [
      "Titre original           object\n",
      "Note press               object\n",
      "Notes spectateur         object\n",
      "Critiques presse         object\n",
      "Critiques spectateurs    object\n",
      "id allocine               int64\n",
      "Box office               object\n",
      "Budget                   object\n",
      "date                     object\n",
      "duree                    object\n",
      "dtype: object\n"
     ]
    }
   ],
   "source": [
    "print(df_film_ac.dtypes)"
   ]
  },
  {
   "cell_type": "code",
   "execution_count": 22,
   "metadata": {},
   "outputs": [],
   "source": [
    "# Modifications des types \n",
    "\n",
    "df_film_ac['Box office'] = df_film_ac['Box office'].str.replace(' ', '').astype(float)\n",
    "df_film_ac['Note press'] = df_film_ac['Note press'].str.replace(',', '.').astype(float)\n",
    "df_film_ac['Notes spectateur'] = df_film_ac['Notes spectateur'].replace(\"--\", np.nan)\n",
    "df_film_ac['Notes spectateur'] = df_film_ac['Notes spectateur'].str.replace(',', '.').astype(float)"
   ]
  },
  {
   "cell_type": "code",
   "execution_count": 23,
   "metadata": {},
   "outputs": [
    {
     "name": "stdout",
     "output_type": "stream",
     "text": [
      "Titre original            object\n",
      "Note press               float64\n",
      "Notes spectateur         float64\n",
      "Critiques presse          object\n",
      "Critiques spectateurs     object\n",
      "id allocine                int64\n",
      "Box office               float64\n",
      "Budget                    object\n",
      "date                      object\n",
      "duree                     object\n",
      "dtype: object\n"
     ]
    }
   ],
   "source": [
    "print(df_film_ac.dtypes)"
   ]
  },
  {
   "cell_type": "code",
   "execution_count": 5,
   "metadata": {},
   "outputs": [],
   "source": [
    "# Role : Convertir les mois scrapés en français en anglais\n",
    "# Entrée : mois en français\n",
    "# Sortie : mois en anglais\n",
    "\n",
    "def french_to_english_month(month_french):\n",
    "    months_mapping = {\n",
    "        'janvier': 'January',\n",
    "        'février': 'February',\n",
    "        'mars': 'March',\n",
    "        'avril': 'April',\n",
    "        'mai': 'May',\n",
    "        'juin': 'June',\n",
    "        'juillet': 'July',\n",
    "        'août': 'August',\n",
    "        'septembre': 'September',\n",
    "        'octobre': 'October',\n",
    "        'novembre': 'November',\n",
    "        'décembre': 'December'\n",
    "    }\n",
    "    return months_mapping.get(month_french.lower(), month_french)\n",
    "\n",
    "\n",
    "\n",
    "# Role : Convertir une durée en heure en une durée en minute\n",
    "# Entrée : durée en heure\n",
    "# Sortie : durée en minute\n",
    "\n",
    "def convert_duration(duration_str):\n",
    "    if isinstance(duration_str, str):\n",
    "        # Supprimer les espaces et diviser la chaîne en parties\n",
    "        parts = duration_str.replace(' ', '').split('h')\n",
    "\n",
    "        # Vérifier la présence des heures et des minutes\n",
    "        if len(parts) == 2:\n",
    "            hours = int(parts[0])\n",
    "            minutes = 0 if 'min' not in parts[1] else int(parts[1].replace('min', ''))\n",
    "            \n",
    "            # Calculer la durée totale en minutes\n",
    "            total_minutes = hours * 60 + minutes\n",
    "            \n",
    "            return int(total_minutes)\n",
    "    \n",
    "    # Gérer le cas où la valeur est déjà un nombre ou ne peut pas être convertie\n",
    "    return float('nan')\n",
    "\n",
    "\n",
    "\n",
    "# Role : Extraire le nombre de critique de la presse\n",
    "# Entrée : \"21 critiques\"\n",
    "# Sortie : Nombre de critique de la presse\n",
    "\n",
    "def extract_critiques_count(critiques_str):\n",
    "    if isinstance(critiques_str, str):\n",
    "        # Utiliser isdigit() pour extraire uniquement les chiffres\n",
    "        return np.nan if not critiques_str.split()[0].isdigit() else int(critiques_str.split()[0])\n",
    "    else:\n",
    "        return np.nan\n",
    "\n",
    "\n",
    "\n",
    "# Role : Extraire le nombre de notes et le nombre de critiques (spectateurs)\n",
    "# Entrée : \"80471 notes dont 4605 critiques\"\n",
    "# Sortie : Nombre de notes spectatuers et nombre de critiques spectateurs\n",
    "\n",
    "def extract_notes_and_critiques_count(critiques_str):\n",
    "    if isinstance(critiques_str, str):\n",
    "        # Trouver les nombres dans la chaîne\n",
    "        numbers = [int(word) for word in critiques_str.split() if word.isdigit()]\n",
    "\n",
    "        # Extraire le nombre de notes et de critiques en fonction de la longueur de la liste \"numbers\"\n",
    "        if len(numbers) == 1:\n",
    "            return numbers[0], np.nan\n",
    "        elif len(numbers) == 2:\n",
    "            return numbers[0], numbers[1]\n",
    "\n",
    "    # Gérer le cas où la valeur est déjà un nombre ou ne peut pas être convertie\n",
    "    return np.nan, np.nan"
   ]
  },
  {
   "cell_type": "markdown",
   "metadata": {},
   "source": [
    "Appliquons une série de fonction au datframe, pour plusieurs convertions, normalisations et extractions de données."
   ]
  },
  {
   "cell_type": "code",
   "execution_count": 25,
   "metadata": {},
   "outputs": [],
   "source": [
    "# Remplacer les chaînes \"nan\" par des valeurs NaN\n",
    "df_film_ac['date'] = df_film_ac['date'].replace('nan', np.nan)\n",
    "\n",
    "# Appliquer la fonction pour convertir le mois en anglais\n",
    "df_film_ac['date'] = df_film_ac['date'].apply(lambda x: ' '.join([french_to_english_month(word) for word in str(x).split()]) if pd.notna(x) else np.nan)\n",
    "\n",
    "# Utiliser dateutil.parser.parse pour convertir les dates en objets datetime\n",
    "df_film_ac['date'] = df_film_ac['date'].apply(lambda x: parser.parse(x, dayfirst=True) if isinstance(x, str) else x)\n",
    "\n",
    "# Appliquer la fonction de conversion pour la durée\n",
    "df_film_ac['duree_minutes'] = df_film_ac['duree'].apply(convert_duration)\n",
    "\n",
    "# Appliquer la fonction extract_notes_and_critiques_count\n",
    "df_film_ac[['Nombre_de_notes_spectateurs', 'Nombre_de_critiques_spectateurs']] = df_film_ac['Critiques spectateurs'].apply(extract_notes_and_critiques_count).apply(pd.Series)\n",
    "\n",
    "# Appliquer la fonction extract_critiques_count\n",
    "df_film_ac['Nombre_de_critiques_presse'] = df_film_ac['Critiques presse'].apply(extract_critiques_count)"
   ]
  },
  {
   "cell_type": "code",
   "execution_count": 27,
   "metadata": {},
   "outputs": [],
   "source": [
    "# Retrait des colonnes inutiles \n",
    "colonnes_a_retirer = [\"Critiques presse\",\"Critiques spectateurs\",\"duree\",\"Budget\"]\n",
    "df_film_ac = df_film_ac.drop(colonnes_a_retirer,axis=1)"
   ]
  },
  {
   "cell_type": "code",
   "execution_count": 29,
   "metadata": {},
   "outputs": [],
   "source": [
    "# Retrait de tous les films sans critique spectateurs\n",
    "# On garde que les films avec au moins plus de 5 commentaires\n",
    "\n",
    "df_film_ac_clean = df_film_ac.dropna(subset=['Nombre_de_critiques_spectateurs'])\n",
    "df_film_ac_clean = df_film_ac_clean[df_film_ac_clean['Nombre_de_critiques_spectateurs'] >= 5]"
   ]
  },
  {
   "cell_type": "code",
   "execution_count": 30,
   "metadata": {},
   "outputs": [],
   "source": [
    "# Extraire le jour, le mois et l'année dans des colonnes distinctes\n",
    "df_film_ac_clean['mois_sortie'] = df_film_ac_clean['date'].dt.month\n",
    "df_film_ac_clean['annee_sortie'] = df_film_ac_clean['date'].dt.year"
   ]
  },
  {
   "cell_type": "code",
   "execution_count": 32,
   "metadata": {},
   "outputs": [],
   "source": [
    "df_film_ac_clean.to_csv('df_film_ac_clean.csv', index=False)"
   ]
  },
  {
   "cell_type": "markdown",
   "metadata": {},
   "source": [
    " "
   ]
  },
  {
   "cell_type": "markdown",
   "metadata": {},
   "source": [
    "### Scrapping des données sur TMDB"
   ]
  },
  {
   "cell_type": "markdown",
   "metadata": {},
   "source": [
    "Le scrapping des données sur TMDB nécessite l'utilisation de l'API du site. Pour se faire, il a fallu créer une clé :"
   ]
  },
  {
   "cell_type": "code",
   "execution_count": null,
   "metadata": {},
   "outputs": [],
   "source": [
    "key_api='d1d1413d8379729633d60e9f5cc4a730'"
   ]
  },
  {
   "cell_type": "code",
   "execution_count": null,
   "metadata": {},
   "outputs": [],
   "source": [
    "## Fonctions\n",
    "\n",
    "# Fonction pour récupérer l'id du film (à partir du titre du film issu de la base scrappé sur allociné)\n",
    "def id_recup(titre):\n",
    "    url_api=f\"https://api.themoviedb.org/3/search/movie?api_key={key_api}&query={titre}\" \n",
    "    req = requests.get(url_api)\n",
    "    carte = req.json()\n",
    "\n",
    "    ind=[]\n",
    "    for film in range(len(carte['results'])):\n",
    "        ind.append(carte['results'][film]['id'])\n",
    "    return(ind)\n",
    "\n",
    "\n",
    "# Fonction pour récuperer les infos du film à partir de l'id (prend en entrée l'id du film sur tmdb et renvoie un dataframe)\n",
    "def df_avec_id(id):\n",
    "    id_film= id\n",
    "    url_new_api = f\"https://api.themoviedb.org/3/movie/{id_film}?api_key={key_api}&language=en-US\"\n",
    "    req_new = requests.get(url_new_api)\n",
    "    wb_new = req_new.json()\n",
    "    \n",
    "    \n",
    "    #ajustement des données \n",
    "    if 'belongs_to_collection' in wb_new and wb_new['belongs_to_collection'] is not None:\n",
    "        wb_new['belongs_to_collection'] = wb_new['belongs_to_collection']['name']\n",
    "\n",
    "        \n",
    "    # Ajustement des données pour la clé 'genres'\n",
    "    if 'genres' in wb_new:\n",
    "        wb_new['genres'] = ', '.join([x['name'] for x in wb_new['genres']])\n",
    "    else:\n",
    "        wb_new['genres'] = None\n",
    "\n",
    "# Ajustement des données pour la clé 'production_companies'\n",
    "    if 'production_companies' in wb_new:\n",
    "        wb_new['production_companies'] = ', '.join([x['name'] for x in wb_new['production_companies']])\n",
    "    else:\n",
    "        wb_new['production_companies'] = None\n",
    "\n",
    "# Ajustement des données pour la clé 'production_countries'\n",
    "    if 'production_countries' in wb_new:\n",
    "        wb_new['production_countries'] = ', '.join([x['name'] for x in wb_new['production_countries']])\n",
    "    else:\n",
    "        wb_new['production_countries'] = None\n",
    "\n",
    "# Ajustement des données pour la clé 'spoken_languages'\n",
    "    if 'spoken_languages' in wb_new:\n",
    "        wb_new['spoken_languages'] = ', '.join([x['name'] for x in wb_new['spoken_languages']])\n",
    "    else:\n",
    "        wb_new['spoken_languages'] = None\n",
    "\n",
    "    \n",
    "    df=pd.DataFrame(wb_new, index=[0])\n",
    "    \n",
    "    return (df)\n",
    "\n",
    "\n",
    "def get_movie_info(movie_id_list):\n",
    "# Initialiser un DataFrame vide pour stocker les informations sur les films\n",
    "    movie_df = pd.DataFrame()\n",
    "\n",
    "    for movie_id in movie_id_list:\n",
    "        # Utiliser la deuxième fonction pour obtenir les informations détaillées du film\n",
    "        movie_info = df_avec_id(movie_id)\n",
    "\n",
    "        # Vérifier si des informations ont été trouvées\n",
    "        if movie_info is not None:\n",
    "            # Ajouter les informations du film au DataFrame\n",
    "            movie_df = pd.concat([movie_df, movie_info], ignore_index=True)\n",
    "\n",
    "    return movie_df\n",
    "\n",
    "\n",
    "def create_movie_list(movie_list):\n",
    "    all_movies_df = pd.DataFrame()\n",
    "\n",
    "    for movie_name in movie_list:\n",
    "        movie_id_list = id_recup(movie_name)\n",
    "        if movie_id_list:\n",
    "            movie_info_df = get_movie_info(movie_id_list)\n",
    "            # Ajouter les informations du film au DataFrame global\n",
    "            all_movies_df = pd.concat([all_movies_df, movie_info_df], ignore_index=True)\n",
    "\n",
    "    return all_movies_df\n",
    "\n",
    "\n",
    "\n",
    "# Fonction qui prend en entrée une liste et qui renvoie 4 sous-liste de taille identique (à une division entière près) \n",
    "def diviser_liste(liste):\n",
    "    taille = len(liste)\n",
    "    quart = taille // 4\n",
    "    partie1 = liste[:quart]\n",
    "    partie2 = liste[quart:2*quart]\n",
    "    partie3 = liste[2*quart:3*quart]\n",
    "    partie4 = liste[3*quart:]\n",
    "    return partie1, partie2, partie3, partie4"
   ]
  },
  {
   "cell_type": "markdown",
   "metadata": {},
   "source": [
    "On récupère ensuite les films de la base d'Allociné nettoyé précédemment."
   ]
  },
  {
   "cell_type": "code",
   "execution_count": 33,
   "metadata": {},
   "outputs": [
    {
     "data": {
      "text/plain": [
       "4194"
      ]
     },
     "execution_count": 33,
     "metadata": {},
     "output_type": "execute_result"
    }
   ],
   "source": [
    "df_film_ac_clean= pd.read_csv(\"df_film_ac_clean.csv\")\n",
    "liste_films_ac = df_film_ac_clean['Titre original'].tolist()\n",
    "\n",
    "len(liste_films_ac)"
   ]
  },
  {
   "cell_type": "markdown",
   "metadata": {},
   "source": [
    "On va séparer notre dataframe en 4 en vue de la récolte des données à l'aide de l'API de TMDB. En effet, on rencontrait une erreur liée aux nombres de requêtes lorsqu'on utilisait le data frame en entier (ou même si on le séparait en 2)"
   ]
  },
  {
   "cell_type": "code",
   "execution_count": 34,
   "metadata": {},
   "outputs": [
    {
     "name": "stdout",
     "output_type": "stream",
     "text": [
      "Partie 1: 1048\n",
      "Partie 2: 1048\n",
      "Partie 3: 1048\n",
      "Partie 4: 1050\n"
     ]
    }
   ],
   "source": [
    "liste_films_ac_1, liste_films_ac_2, liste_films_ac_3, liste_films_ac_4 = diviser_liste(liste_films_ac)\n",
    "\n",
    "\n",
    "# Affichage des quatres listes résultantes\n",
    "print(\"Partie 1:\", len(liste_films_ac_1))\n",
    "print(\"Partie 2:\", len(liste_films_ac_2))\n",
    "print(\"Partie 3:\", len(liste_films_ac_3))\n",
    "print(\"Partie 4:\", len(liste_films_ac_4))"
   ]
  },
  {
   "cell_type": "code",
   "execution_count": null,
   "metadata": {},
   "outputs": [],
   "source": [
    "%%time \n",
    "df_film_ac_clean_1 = create_movie_list(liste_films_ac_1)\n",
    "\n",
    "\n",
    "# CPU times: user 3min 37s, sys: 17.1 s, total: 3min 54s\n",
    "# Wall time: 21min 6s"
   ]
  },
  {
   "cell_type": "code",
   "execution_count": null,
   "metadata": {},
   "outputs": [],
   "source": [
    "%%time\n",
    "df_film_ac_clean_2 = create_movie_list(liste_films_ac_2)\n",
    "\n",
    "# CPU times: user 3min 54s, sys: 20.2 s, total: 4min 14s\n",
    "# Wall time: 21min 41s"
   ]
  },
  {
   "cell_type": "code",
   "execution_count": null,
   "metadata": {},
   "outputs": [],
   "source": [
    "%%time\n",
    "df_film_ac_clean_3 = create_movie_list(liste_films_ac_3)\n",
    "\n",
    "# CPU times: user 3min 52s, sys: 19.9 s, total: 4min 12s\n",
    "# Wall time: 20min 36s"
   ]
  },
  {
   "cell_type": "code",
   "execution_count": null,
   "metadata": {},
   "outputs": [],
   "source": [
    "%%time\n",
    "df_film_ac_clean_4 = create_movie_list(liste_films_ac_4)\n",
    "\n",
    "# CPU times: user 3min 43s, sys: 19.5 s, total: 4min 04s\n",
    "# Wall time: 20min 56s"
   ]
  },
  {
   "cell_type": "code",
   "execution_count": null,
   "metadata": {},
   "outputs": [],
   "source": [
    "# Rassembler les DataFrames en un seul DataFrame\n",
    "dataframes = [df_film_ac_clean_1, df_film_ac_clean_2, df_film_ac_clean_3, df_film_ac_clean_4]\n",
    "\n",
    "df_tmdb = pd.concat(dataframes, ignore_index=True)"
   ]
  },
  {
   "cell_type": "code",
   "execution_count": null,
   "metadata": {},
   "outputs": [],
   "source": [
    "# Sauvegarder le DataFrame tmdb en CSV\n",
    "df_tmdb.to_csv('df_tmdb.csv', index=False)\n",
    "\n",
    "# Afficher le DataFrame final\n",
    "df_tmdb.head()"
   ]
  },
  {
   "cell_type": "markdown",
   "metadata": {},
   "source": [
    "## Nettoyage de la base TMDB"
   ]
  },
  {
   "cell_type": "code",
   "execution_count": 38,
   "metadata": {},
   "outputs": [],
   "source": [
    "df_tmdb= pd.read_csv(\"df_tmdb.csv\", engine=\"python\")"
   ]
  },
  {
   "cell_type": "code",
   "execution_count": 39,
   "metadata": {},
   "outputs": [
    {
     "name": "stdout",
     "output_type": "stream",
     "text": [
      "adult : 6\n",
      "backdrop_path : 15053\n",
      "belongs_to_collection : 30493\n",
      "budget : 181\n",
      "genres : 5489\n",
      "homepage : 26420\n",
      "id : 161\n",
      "imdb_id : 7521\n",
      "original_language : 181\n",
      "original_title : 161\n",
      "overview : 1692\n",
      "popularity : 187\n",
      "poster_path : 4893\n",
      "production_companies : 11739\n",
      "production_countries : 8237\n",
      "release_date : 2024\n",
      "revenue : 213\n",
      "runtime : 213\n",
      "spoken_languages : 7419\n",
      "status : 213\n",
      "tagline : 22747\n",
      "title : 213\n",
      "video : 213\n",
      "vote_average : 213\n",
      "vote_count : 213\n",
      "success : 34373\n",
      "status_code : 34373\n",
      "status_message : 34373\n"
     ]
    }
   ],
   "source": [
    "noms_variables = df_tmdb.columns.tolist()\n",
    "\n",
    "for i in noms_variables:\n",
    "    print(i,\":\",df_tmdb[i].isnull().sum())"
   ]
  },
  {
   "cell_type": "markdown",
   "metadata": {},
   "source": [
    "On observe que les trois dernières colonnes peuvent être supprimés de la dataframe car trop de valeurs manquantes\n"
   ]
  },
  {
   "cell_type": "code",
   "execution_count": null,
   "metadata": {},
   "outputs": [],
   "source": [
    "colonnes_a_supprimer = [\"success\", \"status_code\", \"status_message\"]\n",
    "df_tmdb_clean = df_tmdb.drop(columns=colonnes_a_supprimer)"
   ]
  },
  {
   "cell_type": "code",
   "execution_count": 40,
   "metadata": {},
   "outputs": [
    {
     "data": {
      "text/plain": [
       "release_date\n",
       "2009-01-01    75\n",
       "2011-01-01    71\n",
       "2008-01-01    70\n",
       "2014-01-01    68\n",
       "2007-01-01    68\n",
       "              ..\n",
       "2021-08-21     1\n",
       "1998-06-09     1\n",
       "1950-05-19     1\n",
       "1980-03-28     1\n",
       "1983-09-16     1\n",
       "Name: count, Length: 12586, dtype: int64"
      ]
     },
     "execution_count": 40,
     "metadata": {},
     "output_type": "execute_result"
    }
   ],
   "source": [
    "# Changement format release date \n",
    "\n",
    "df_tmdb_clean['release_date'] = pd.to_datetime(df_tmdb['release_date'], errors=\"coerce\")\n",
    "df_tmdb_clean[\"release_date\"].value_counts()"
   ]
  },
  {
   "cell_type": "code",
   "execution_count": 41,
   "metadata": {},
   "outputs": [],
   "source": [
    "# Extraire le jour, le mois et l'année dans des colonnes distinctes\n",
    "df_tmdb_clean['mois_sortie'] = df_tmdb_clean['release_date'].dt.month\n",
    "df_tmdb_clean['annee_sortie'] = df_tmdb_clean['release_date'].dt.year"
   ]
  },
  {
   "cell_type": "markdown",
   "metadata": {},
   "source": [
    "### Merge de la base Allociné et de la base TMDB"
   ]
  },
  {
   "cell_type": "markdown",
   "metadata": {},
   "source": [
    "Nous allons procéder au merge des deux bases."
   ]
  },
  {
   "cell_type": "markdown",
   "metadata": {},
   "source": [
    "On commence par normalisé les titres en les mettant en minuscule, et en retirant les espace"
   ]
  },
  {
   "cell_type": "code",
   "execution_count": 36,
   "metadata": {},
   "outputs": [],
   "source": [
    "df_film_ac_clean= pd.read_csv(\"df_film_ac_clean.csv\", engine=\"python\")\n"
   ]
  },
  {
   "cell_type": "code",
   "execution_count": 42,
   "metadata": {},
   "outputs": [],
   "source": [
    "df_film_ac_clean['titre_normalise'] = df_film_ac_clean['Titre original'].str.replace(r'\\W', '', regex=True).str.lower()\n",
    "df_tmdb_clean['titre_normalise'] = df_tmdb_clean['original_title'].str.replace(r'\\W', '', regex=True).str.lower()"
   ]
  },
  {
   "cell_type": "markdown",
   "metadata": {},
   "source": [
    "On commence par prendre les elements qui se ressemblent dans les deux listes."
   ]
  },
  {
   "cell_type": "code",
   "execution_count": 43,
   "metadata": {},
   "outputs": [],
   "source": [
    "liste_titre_ac = df_film_ac_clean[\"titre_normalise\"].tolist()\n",
    "liste_titre_tmdb = df_tmdb_clean[\"titre_normalise\"].tolist()"
   ]
  },
  {
   "cell_type": "code",
   "execution_count": 46,
   "metadata": {},
   "outputs": [],
   "source": [
    "liste_ressemblance = [element for element in liste_titre_tmdb if element in liste_titre_ac]"
   ]
  },
  {
   "cell_type": "markdown",
   "metadata": {},
   "source": [
    "On remarque à ce niveau que certains films apparaissent plusieurs fois dans liste_ressemblance du fait que de nombreux films sont sortis sous le meme nom "
   ]
  },
  {
   "cell_type": "code",
   "execution_count": 47,
   "metadata": {},
   "outputs": [],
   "source": [
    "# On commence par garder dans la base df_tmdb_clean que les films qui sont dans liste_ressemblance\n",
    "df_filtre_tmdb = df_tmdb_clean[df_tmdb_clean['titre_normalise'].isin(liste_ressemblance)]\n",
    "\n",
    "\n",
    "# On trie ensuite la base par ordre alphabetique des films et decroissants des dates\n",
    "df_filtre_tmdb_trie = df_filtre_tmdb.sort_values(by=['titre_normalise', 'release_date'], ascending=[True, False])\n",
    "df_filtre_tmdb_trie = df_filtre_tmdb_trie.reset_index(drop=True)\n",
    "\n",
    "# Conservation des films sorties entre 2010 et 2021 (et valeurs manquantes aussi)\n",
    "df_filtre_tmdb_trie = df_filtre_tmdb_trie[(df_filtre_tmdb_trie['annee_sortie'] >= 2010) & (df_filtre_tmdb_trie['annee_sortie'] <= 2021) | df_filtre_tmdb_trie['annee_sortie'].isna()]\n",
    "df_filtre_tmdb_trie = df_filtre_tmdb_trie.reset_index(drop=True)\n",
    "\n",
    "# On retire tous les doublons parfaits de la base \n",
    "df_filtre_tmdb_trie = df_filtre_tmdb_trie.drop_duplicates(keep='first')\n",
    "df_filtre_tmdb_trie = df_filtre_tmdb_trie.reset_index(drop=True)\n",
    "\n",
    "df_filtre_tmdb_trie.to_csv(\"df_tmdb_tri.csv\", index=False)"
   ]
  },
  {
   "cell_type": "markdown",
   "metadata": {},
   "source": [
    "Pour merge les deux bases, nous allons utiliser le nom du réalisateur comme clé primaire. En efft, étant donné, qu'il y a plusieurs fois le même titre sur la base de TMDB, il nous a fallu trouver une autre solution."
   ]
  },
  {
   "cell_type": "code",
   "execution_count": 53,
   "metadata": {},
   "outputs": [
    {
     "data": {
      "text/plain": [
       "7312"
      ]
     },
     "execution_count": 53,
     "metadata": {},
     "output_type": "execute_result"
    }
   ],
   "source": [
    "# On recupere les id des films sur la base TMDB pour recuperer le nom des realisateur de chaque film\n",
    "liste_id = df_filtre_tmdb_trie[\"id\"].tolist()\n",
    "liste_id_entiers = [int(nombre) for nombre in liste_id]\n",
    "len(liste_id_entiers)"
   ]
  },
  {
   "cell_type": "code",
   "execution_count": null,
   "metadata": {},
   "outputs": [],
   "source": [
    "%%time\n",
    "\n",
    "def get_directors_for_movies(movie_ids, api_key):\n",
    "    directors_dict = {}\n",
    "\n",
    "    for movie_id in movie_ids:\n",
    "        # Envoyer une requête GET à l'API TMDb pour obtenir les crédits du film\n",
    "        response = requests.get(f'https://api.themoviedb.org/3/movie/{movie_id}/credits?api_key={api_key}')\n",
    "\n",
    "        # Vérifier si la requête a réussi (code 200)\n",
    "        if response.status_code == 200:\n",
    "            # Extraire le contenu JSON de la réponse\n",
    "            json_data = response.json()\n",
    "\n",
    "            # Filtrer la liste des membres de l'équipe pour ne conserver que les réalisateurs\n",
    "            directors = [member.get('name') for member in json_data.get('crew', []) if member.get('job') == 'Director']\n",
    "\n",
    "            # Ajouter l'association identifiant-réalisateur au dictionnaire\n",
    "            directors_dict[movie_id] = directors if directors else None\n",
    "        else:\n",
    "            # En cas d'échec de la requête, ajouter une valeur manquante au dictionnaire\n",
    "            directors_dict[movie_id] = None\n",
    "\n",
    "    return directors_dict"
   ]
  },
  {
   "cell_type": "code",
   "execution_count": null,
   "metadata": {},
   "outputs": [],
   "source": [
    "api_key = \"d1d1413d8379729633d60e9f5cc4a730\"\n",
    "\n",
    "# Appeler la fonction pour obtenir le dictionnaire des réalisateurs\n",
    "directors_result = get_directors_for_movies(liste_id_entiers, api_key)"
   ]
  },
  {
   "cell_type": "code",
   "execution_count": null,
   "metadata": {},
   "outputs": [],
   "source": [
    "# Ajouter une colonne 'nom_du_realisateur' en utilisant le dictionnaire\n",
    "df_filtre_tmdb_trie['nom_du_realisateur'] = df_filtre_tmdb_trie['id'].map(directors_result)\n",
    "\n",
    "# Afficher le DataFrame résultant\n",
    "df_filtre_tmdb_trie.head()\n",
    "df_filtre_tmdb_trie.to_csv(\"df_filtre_trie.csv\", index=False)"
   ]
  },
  {
   "cell_type": "markdown",
   "metadata": {},
   "source": [
    "On récupère ensuite le nom des réalisateurs sur Allociné"
   ]
  },
  {
   "cell_type": "code",
   "execution_count": null,
   "metadata": {},
   "outputs": [],
   "source": [
    "liste_identifiants = df_film_ac_clean[\"id allocine\"].tolist()\n",
    "\n",
    "resultat = get_director_names_from_urls(liste_identifiants)\n",
    "\n",
    "# Afficher le résultat\n",
    "#for identifiant, nom_realisateur in resultat.items():\n",
    "    #print(f\"Film {identifiant}: Réalisateur {nom_realisateur}\")\n",
    "\n",
    "print(len(resultat))\n",
    "print(resultat)"
   ]
  },
  {
   "cell_type": "code",
   "execution_count": null,
   "metadata": {},
   "outputs": [],
   "source": [
    "# Ajouter une colonne 'nom_du_realisateur' en utilisant le dictionnaire\n",
    "df_film_ac_clean['nom_du_realisateur'] = df_film_ac_clean['id allocine'].map(resultat)\n",
    "\n",
    "# Afficher le DataFrame résultant\n",
    "df_film_ac_clean.head()\n",
    "df_film_ac_clean.to_csv(\"df_film_ac_clean.csv\", index=False)"
   ]
  },
  {
   "cell_type": "code",
   "execution_count": null,
   "metadata": {},
   "outputs": [],
   "source": [
    "df_film_ac_clean['nom_du_realisateur'] = df_film_ac_clean['nom_du_realisateur'].str.replace('De\\n', '')"
   ]
  },
  {
   "cell_type": "code",
   "execution_count": null,
   "metadata": {},
   "outputs": [],
   "source": [
    "#ne pas mettre dans la meme cellule qu'avant\n",
    "\n",
    "df_film_ac_clean['nom_du_realisateur'] = df_film_ac_clean['nom_du_realisateur'].str.replace('\\n', '')"
   ]
  },
  {
   "cell_type": "code",
   "execution_count": null,
   "metadata": {},
   "outputs": [],
   "source": [
    "df_filtre_tmdb_trie['nom_du_realisateur'] = df_filtre_tmdb_trie['nom_du_realisateur'].apply(lambda x: x[0] if x else None)"
   ]
  },
  {
   "cell_type": "code",
   "execution_count": 55,
   "metadata": {},
   "outputs": [],
   "source": [
    "# Prend en entrée un string et renvoie le même string sans les accents\n",
    "\n",
    "def remove_accents(input_str):\n",
    "    accents = {\n",
    "        'a': '[aáàâäãå]',\n",
    "        'e': '[eéèêë]',\n",
    "        'i': '[iíìîï]',\n",
    "        'o': '[oóòôöõ]',\n",
    "        'u': '[uúùûü]',\n",
    "        'c': '[cç]',\n",
    "        'n': '[nñ]'\n",
    "    }\n",
    "    for char, pattern in accents.items():\n",
    "        input_str = re.sub(pattern, char, input_str)\n",
    "    return input_str"
   ]
  },
  {
   "cell_type": "code",
   "execution_count": null,
   "metadata": {},
   "outputs": [],
   "source": [
    "# Appliquer la fonction remove_accents à la colonne nom_du_realisateur\n",
    "\n",
    "df_filtre_tmdb_trie['nom_du_realisateur_bis'] = df_filtre_tmdb_trie['nom_du_realisateur'].apply(lambda x: remove_accents(x) if pd.notnull(x) else x)\n",
    "df_film_ac_clean['nom_du_realisateur_bis'] = df_film_ac_clean['nom_du_realisateur'].apply(lambda x: remove_accents(x) if pd.notnull(x) else x)"
   ]
  },
  {
   "cell_type": "code",
   "execution_count": null,
   "metadata": {},
   "outputs": [],
   "source": [
    "# Nnormalisation \n",
    "\n",
    "df_film_ac_clean['nom_du_realisateur_bis'] = df_film_ac_clean['nom_du_realisateur_bis'].str.replace(r'\\W', '', regex=True).str.lower()\n",
    "df_filtre_tmdb_trie['nom_du_realisateur_bis'] = df_filtre_tmdb_trie['nom_du_realisateur_bis'].str.replace(r'\\W', '', regex=True).str.lower()"
   ]
  },
  {
   "cell_type": "code",
   "execution_count": null,
   "metadata": {},
   "outputs": [],
   "source": [
    "df_film_ac_clean = df_film_ac_clean.sort_values(by=['titre_normalise', 'date'], ascending=[True, False])\n",
    "df_film_ac_clean = df_film_ac_clean.reset_index(drop=True)"
   ]
  },
  {
   "cell_type": "code",
   "execution_count": null,
   "metadata": {},
   "outputs": [],
   "source": [
    "# Conserve uniquement les correspondances\n",
    "df_merged = pd.merge(df_film_ac_clean, df_filtre_tmdb_trie, left_on=['titre_normalise', 'nom_du_realisateur_bis'], right_on=['titre_normalise', 'nom_du_realisateur_bis'])\n",
    "print(len(df_merged))\n",
    "\n",
    "df_merged.to_csv(\"df_merged.csv\", index=False)\n",
    "\n",
    "#conserve les correspondances et tout du cote df_film_avec_critiques\n",
    "#df_merged_bis= pd.merge(df_film_avec_critiques, df_filtre_trie, on=['titre_normalise', 'nom_du_realisateur_bis'], how='left')\n",
    "#df_merged_bis.to_csv(\"df_merged_bis.csv\", index=False)\n"
   ]
  },
  {
   "cell_type": "markdown",
   "metadata": {},
   "source": [
    "### Scrapping des critiques sur Allocine"
   ]
  },
  {
   "cell_type": "markdown",
   "metadata": {},
   "source": [
    "Maintenant que nous avons notre base finale, avec toutes les données, on peut faire le scrapping des critiques spectateurs sur Allociné grâce à l'id du film."
   ]
  },
  {
   "cell_type": "code",
   "execution_count": 2,
   "metadata": {},
   "outputs": [],
   "source": [
    "df_final_ac = pd.read_csv('df_merged.csv')\n",
    "df_final_ac = df_final_ac.drop_duplicates(subset='id allocine', keep='first')"
   ]
  },
  {
   "cell_type": "code",
   "execution_count": 3,
   "metadata": {},
   "outputs": [
    {
     "name": "stdout",
     "output_type": "stream",
     "text": [
      "784779\n"
     ]
    }
   ],
   "source": [
    "df_final_ac['Nombre_de_critiques_spectateurs'] = df_final_ac['Nombre_de_critiques_spectateurs'].astype(int)\n",
    "#df_final_ac = df_final_ac.sort_values(by='Nombre_de_critiques_spectateurs', ascending=False)\n",
    "\n",
    "somme_critique = df_final_ac['Nombre_de_critiques_spectateurs'].sum()\n",
    "\n",
    "liste_id = df_final_ac['id allocine'].tolist()\n",
    "nb_critique = df_final_ac['Nombre_de_critiques_spectateurs'].tolist()\n",
    "\n",
    "\n",
    "# Créez un dictionnaire à partir des couples\n",
    "couple_listes = zip(liste_id, nb_critique)\n",
    "dico_id_critique = dict(couple_listes)\n",
    "\n",
    "print(somme_critique)"
   ]
  },
  {
   "cell_type": "code",
   "execution_count": 4,
   "metadata": {},
   "outputs": [],
   "source": [
    "# Role : Découper un dictionnaire en parties égales\n",
    "# Entrée : dictionnaire et un facteur\n",
    "# Sortie : liste avec le dictionnaire découpé en ce nombre de facteur\n",
    "\n",
    "def divide_dict(dictionary, div):\n",
    "    if not isinstance(dictionary, dict):\n",
    "        raise ValueError(\"Le paramètre doit être un dictionnaire.\")\n",
    "\n",
    "    dict_items = list(dictionary.items())\n",
    "    total_items = len(dict_items)\n",
    "\n",
    "    if total_items % div != 0:\n",
    "        raise ValueError(\"Le dictionnaire ne peut pas être divisé en 8 parties égales.\")\n",
    "\n",
    "    chunk_size = total_items // div\n",
    "    divided_dicts = [dict_items[i:i + chunk_size] for i in range(0, total_items, chunk_size)]\n",
    "\n",
    "    return [dict(chunk) for chunk in divided_dicts]\n"
   ]
  },
  {
   "cell_type": "code",
   "execution_count": 5,
   "metadata": {},
   "outputs": [],
   "source": [
    "divided_dicts = divide_dict(dico_id_critique, 10)"
   ]
  },
  {
   "cell_type": "code",
   "execution_count": 6,
   "metadata": {},
   "outputs": [],
   "source": [
    "# Role : Scraping des critiques spectateurs des films\n",
    "# Entrée : id allocine du film et numéro de page\n",
    "# Sortie : Dataframe avec les données scrapées pour un film\n",
    "\n",
    "def scrape_critique(film_id, page):\n",
    "    try:\n",
    "        base_url = f\"https://www.allocine.fr/film/fichefilm-{film_id}/critiques/spectateurs/?page=\"\n",
    "        url_page_critique = f\"{base_url}{page}\"\n",
    "        response_page_critique = requests.get(url_page_critique)\n",
    "\n",
    "        if response_page_critique.status_code == 200:\n",
    "            bs_page_critique = bs(response_page_critique.text, \"html.parser\")\n",
    "            films_page_critique = bs_page_critique.findAll(\"div\", attrs={'class': \"hred review-card cf\"})\n",
    "\n",
    "            critiques_data = []\n",
    "\n",
    "            for critique in films_page_critique:\n",
    "                note_critique = critique.find('span', class_='stareval-note').text.strip()\n",
    "                date_publication = critique.find('span', class_='review-card-meta-date light').text.strip()\n",
    "                critique_text = critique.find('div', class_='content-txt review-card-content').text.strip()\n",
    "\n",
    "                critiques_data.append([film_id, note_critique, date_publication, critique_text])\n",
    "\n",
    "            return critiques_data\n",
    "    except Exception as e:\n",
    "        print(f\"An error occurred for movie {film_id}, page {page}: {e}\")\n",
    "        return []\n",
    "\n",
    "\n",
    "# Role : Scraping des critiques spectateurs de tous les films avec optimisation des requêtes\n",
    "# Entrée : dictionnaire avec en clé les id allocine des films et en valeurs, le nombre de critiques spectateurs\n",
    "# Sortie : Dataframe avec les données scrapées pour tous les films\n",
    "\n",
    "def scraping_critique(dict_id_critique):\n",
    "    data = []\n",
    "    k = 0\n",
    "\n",
    "    with ThreadPoolExecutor(max_workers=100) as executor:  \n",
    "        futures = []\n",
    "\n",
    "        for film_id, nb_critique in dict_id_critique.items():\n",
    "            i = 0\n",
    "            page = 0\n",
    "\n",
    "            while i < nb_critique:\n",
    "                futures.append(executor.submit(scrape_critique, film_id, page))\n",
    "                page += 1\n",
    "                i += 15  \n",
    "\n",
    "        for future in futures:\n",
    "            critiques_data = future.result()\n",
    "            if critiques_data:\n",
    "                data.extend(critiques_data)\n",
    "                k += len(critiques_data)\n",
    "                print(f'Total: {k} / {sum(dict_id_critique.values())}')\n",
    "\n",
    "    df_critique = pd.DataFrame(data, columns=[\"id_allocine\", \"Note de la critique\", \"Date de publication\", 'Critique'])\n",
    "    return df_critique"
   ]
  },
  {
   "cell_type": "code",
   "execution_count": 7,
   "metadata": {},
   "outputs": [],
   "source": [
    "%%time\n",
    "\n",
    "scrapping_critique_1 = scraping_critique(divided_dicts[0])\n",
    "scrapping_critique_1.to_csv('df_scrapping_critique_1.csv', index=False)\n",
    "\n",
    "# 47 / 47 critiques collected for movie 183831. Total : 54874 / 54825\n",
    "# CPU times: user 5min 44s, sys: 10 s, total: 5min 54s\n",
    "# Wall time: 34min 25s\n"
   ]
  },
  {
   "cell_type": "code",
   "execution_count": null,
   "metadata": {},
   "outputs": [],
   "source": [
    "%%time\n",
    "\n",
    "scrapping_critique_2 = scraping_critique(divided_dicts[1])\n",
    "scrapping_critique_2.to_csv('df_scrapping_critique_2.csv', index=False)\n",
    "\n",
    "# Total: 59834 / 58322\n",
    "# CPU times: user 8min 11s, sys: 21.8 s, total: 8min 33s\n",
    "# Wall time: 8min 32s\n"
   ]
  },
  {
   "cell_type": "code",
   "execution_count": null,
   "metadata": {},
   "outputs": [],
   "source": [
    "%%time\n",
    "\n",
    "scrapping_critique_3 = scraping_critique(divided_dicts[2])\n",
    "scrapping_critique_3.to_csv('df_scrapping_critique_3.csv', index=False)\n",
    "\n",
    "# Total: 71404 / 69577\n",
    "# CPU times: user 9min 41s, sys: 26.2 s, total: 10min 7s\n",
    "# Wall time: 10min 35s\n"
   ]
  },
  {
   "cell_type": "code",
   "execution_count": null,
   "metadata": {},
   "outputs": [],
   "source": [
    "%%time\n",
    "\n",
    "scrapping_critique_4 = scraping_critique(divided_dicts[3])\n",
    "scrapping_critique_4.to_csv('df_scrapping_critique_4.csv', index=False)\n",
    "\n",
    "# Total: 93462 / 91634\n",
    "# CPU times: user 13min 18s, sys: 36.4 s, total: 13min 55s\n",
    "# Wall time: 15min 35s"
   ]
  },
  {
   "cell_type": "code",
   "execution_count": null,
   "metadata": {},
   "outputs": [],
   "source": [
    "%%time\n",
    "\n",
    "scrapping_critique_5 = scraping_critique(divided_dicts[4])\n",
    "scrapping_critique_5.to_csv('df_scrapping_critique_5.csv', index=False)\n",
    "\n",
    "# Total: 80683 / 78722\n",
    "# CPU times: user 13min 25s, sys: 54 s, total: 14min 19s\n",
    "# Wall time: 12min 41s\n"
   ]
  },
  {
   "cell_type": "code",
   "execution_count": null,
   "metadata": {},
   "outputs": [],
   "source": [
    "%%time\n",
    "\n",
    "scrapping_critique_6 = scraping_critique(divided_dicts[5])\n",
    "scrapping_critique_6.to_csv('df_scrapping_critique_6.csv', index=False)\n",
    "\n",
    "# Total: 80772 / 78995\n",
    "# CPU times: user 13min 12s, sys: 56.2 s, total: 14min 9s\n",
    "# Wall time: 12min 55s\n"
   ]
  },
  {
   "cell_type": "code",
   "execution_count": null,
   "metadata": {},
   "outputs": [],
   "source": [
    "%%time\n",
    "\n",
    "scrapping_critique_7 = scraping_critique(divided_dicts[6])\n",
    "scrapping_critique_7.to_csv('df_scrapping_critique_7.csv', index=False)\n",
    "\n",
    "# Total: 93344 / 91573\n",
    "# CPU times: user 13min 1s, sys: 42.2 s, total: 13min 43s\n",
    "# Wall time: 15min 24s\n"
   ]
  },
  {
   "cell_type": "code",
   "execution_count": null,
   "metadata": {},
   "outputs": [],
   "source": [
    "%%time\n",
    "\n",
    "scrapping_critique_8 = scraping_critique(divided_dicts[7])\n",
    "scrapping_critique_8.to_csv('df_scrapping_critique_8.csv', index=False)\n",
    "\n",
    "# Total: 88212 / 86236\n",
    "# CPU times: user 12min 37s, sys: 44.6 s, total: 13min 22s\n",
    "# Wall time: 14min 20s"
   ]
  },
  {
   "cell_type": "code",
   "execution_count": null,
   "metadata": {},
   "outputs": [],
   "source": [
    "%%time\n",
    "\n",
    "scrapping_critique_9 = scraping_critique(divided_dicts[8])\n",
    "scrapping_critique_9.to_csv('df_scrapping_critique_9.csv', index=False)\n",
    "\n",
    "# Total: 84698 / 82657\n",
    "# CPU times: user 12min 13s, sys: 42.3 s, total: 12min 55s\n",
    "# Wall time: 13min 53s\n"
   ]
  },
  {
   "cell_type": "code",
   "execution_count": null,
   "metadata": {},
   "outputs": [],
   "source": [
    "%%time\n",
    "\n",
    "scrapping_critique_10 = scraping_critique(divided_dicts[9])\n",
    "scrapping_critique_10.to_csv('df_scrapping_critique_10.csv', index=False)\n",
    "\n",
    "# Total: 84698 / 82657\n",
    "# CPU times: user 12min 13s, sys: 42.3 s, total: 12min 55s\n",
    "# Wall time: 13min 53s"
   ]
  },
  {
   "cell_type": "code",
   "execution_count": 30,
   "metadata": {},
   "outputs": [],
   "source": [
    "# Rassembler les DataFrames en un seul DataFrame\n",
    "dfs = [scrapping_critique_1, scrapping_critique_2, scrapping_critique_3, scrapping_critique_4, scrapping_critique_5, scrapping_critique_6, scrapping_critique_7, scrapping_critique_8, scrapping_critique_9, scrapping_critique_10]\n",
    "\n",
    "df_critiques = pd.concat(dfs, ignore_index=True)"
   ]
  },
  {
   "cell_type": "code",
   "execution_count": null,
   "metadata": {},
   "outputs": [],
   "source": [
    "# Sauvegarder le DataFrame des critiques en CSV\n",
    "df_critiques.to_csv('df_critiques.csv', index=False)"
   ]
  },
  {
   "cell_type": "markdown",
   "metadata": {},
   "source": [
    "## Début NLP"
   ]
  },
  {
   "cell_type": "code",
   "execution_count": 6,
   "metadata": {},
   "outputs": [],
   "source": [
    "df_critiques = pd.read_csv(\"df_critiques.csv\")"
   ]
  },
  {
   "cell_type": "code",
   "execution_count": 7,
   "metadata": {},
   "outputs": [
    {
     "data": {
      "text/html": [
       "<div>\n",
       "<style scoped>\n",
       "    .dataframe tbody tr th:only-of-type {\n",
       "        vertical-align: middle;\n",
       "    }\n",
       "\n",
       "    .dataframe tbody tr th {\n",
       "        vertical-align: top;\n",
       "    }\n",
       "\n",
       "    .dataframe thead th {\n",
       "        text-align: right;\n",
       "    }\n",
       "</style>\n",
       "<table border=\"1\" class=\"dataframe\">\n",
       "  <thead>\n",
       "    <tr style=\"text-align: right;\">\n",
       "      <th></th>\n",
       "      <th>id_allocine</th>\n",
       "      <th>Note de la critique</th>\n",
       "      <th>Date de publication</th>\n",
       "      <th>Critique</th>\n",
       "    </tr>\n",
       "  </thead>\n",
       "  <tbody>\n",
       "    <tr>\n",
       "      <th>0</th>\n",
       "      <td>239331</td>\n",
       "      <td>0,5</td>\n",
       "      <td>Publiée le 5 octobre 2015</td>\n",
       "      <td>\"10.000 days\" est à la base une série créée pa...</td>\n",
       "    </tr>\n",
       "    <tr>\n",
       "      <th>1</th>\n",
       "      <td>239331</td>\n",
       "      <td>1,0</td>\n",
       "      <td>Publiée le 12 décembre 2015</td>\n",
       "      <td>Les effets spéciaux bas de gamme mettent les a...</td>\n",
       "    </tr>\n",
       "    <tr>\n",
       "      <th>2</th>\n",
       "      <td>239331</td>\n",
       "      <td>1,0</td>\n",
       "      <td>Publiée le 10 janvier 2017</td>\n",
       "      <td>10,000 somnifères. A peine ça commence qu'un g...</td>\n",
       "    </tr>\n",
       "    <tr>\n",
       "      <th>3</th>\n",
       "      <td>239331</td>\n",
       "      <td>0,5</td>\n",
       "      <td>Publiée le 24 mai 2016</td>\n",
       "      <td>\"10 000 days\" est d'une nullité abyssale. Tout...</td>\n",
       "    </tr>\n",
       "    <tr>\n",
       "      <th>4</th>\n",
       "      <td>239331</td>\n",
       "      <td>1,5</td>\n",
       "      <td>Publiée le 1 janvier 2017</td>\n",
       "      <td>Beaucoup de parlotes, pas d'action ni d'effets...</td>\n",
       "    </tr>\n",
       "    <tr>\n",
       "      <th>...</th>\n",
       "      <td>...</td>\n",
       "      <td>...</td>\n",
       "      <td>...</td>\n",
       "      <td>...</td>\n",
       "    </tr>\n",
       "    <tr>\n",
       "      <th>801584</th>\n",
       "      <td>146631</td>\n",
       "      <td>2,5</td>\n",
       "      <td>Publiée le 3 septembre 2016</td>\n",
       "      <td>Si vous aimez quand la débilité camoufle la pe...</td>\n",
       "    </tr>\n",
       "    <tr>\n",
       "      <th>801585</th>\n",
       "      <td>146631</td>\n",
       "      <td>2,0</td>\n",
       "      <td>Publiée le 17 mai 2016</td>\n",
       "      <td>La sauce ne prend malheureusement pas. \"Zoolan...</td>\n",
       "    </tr>\n",
       "    <tr>\n",
       "      <th>801586</th>\n",
       "      <td>146631</td>\n",
       "      <td>0,5</td>\n",
       "      <td>Publiée le 15 juillet 2020</td>\n",
       "      <td>la demi étoiles et pour le casting avec des ac...</td>\n",
       "    </tr>\n",
       "    <tr>\n",
       "      <th>801587</th>\n",
       "      <td>146631</td>\n",
       "      <td>2,5</td>\n",
       "      <td>Publiée le 21 mars 2016</td>\n",
       "      <td>Pas aussi mauvais...Pas très Drôle mais amusan...</td>\n",
       "    </tr>\n",
       "    <tr>\n",
       "      <th>801588</th>\n",
       "      <td>146631</td>\n",
       "      <td>5,0</td>\n",
       "      <td>Publiée le 13 mai 2016</td>\n",
       "      <td>ma fait halluciner , j'ai trouvé ça trop énorm...</td>\n",
       "    </tr>\n",
       "  </tbody>\n",
       "</table>\n",
       "<p>801589 rows × 4 columns</p>\n",
       "</div>"
      ],
      "text/plain": [
       "        id_allocine Note de la critique          Date de publication  \\\n",
       "0            239331                 0,5    Publiée le 5 octobre 2015   \n",
       "1            239331                 1,0  Publiée le 12 décembre 2015   \n",
       "2            239331                 1,0   Publiée le 10 janvier 2017   \n",
       "3            239331                 0,5       Publiée le 24 mai 2016   \n",
       "4            239331                 1,5    Publiée le 1 janvier 2017   \n",
       "...             ...                 ...                          ...   \n",
       "801584       146631                 2,5  Publiée le 3 septembre 2016   \n",
       "801585       146631                 2,0       Publiée le 17 mai 2016   \n",
       "801586       146631                 0,5   Publiée le 15 juillet 2020   \n",
       "801587       146631                 2,5      Publiée le 21 mars 2016   \n",
       "801588       146631                 5,0       Publiée le 13 mai 2016   \n",
       "\n",
       "                                                 Critique  \n",
       "0       \"10.000 days\" est à la base une série créée pa...  \n",
       "1       Les effets spéciaux bas de gamme mettent les a...  \n",
       "2       10,000 somnifères. A peine ça commence qu'un g...  \n",
       "3       \"10 000 days\" est d'une nullité abyssale. Tout...  \n",
       "4       Beaucoup de parlotes, pas d'action ni d'effets...  \n",
       "...                                                   ...  \n",
       "801584  Si vous aimez quand la débilité camoufle la pe...  \n",
       "801585  La sauce ne prend malheureusement pas. \"Zoolan...  \n",
       "801586  la demi étoiles et pour le casting avec des ac...  \n",
       "801587  Pas aussi mauvais...Pas très Drôle mais amusan...  \n",
       "801588  ma fait halluciner , j'ai trouvé ça trop énorm...  \n",
       "\n",
       "[801589 rows x 4 columns]"
      ]
     },
     "execution_count": 7,
     "metadata": {},
     "output_type": "execute_result"
    }
   ],
   "source": [
    "df_critiques"
   ]
  },
  {
   "cell_type": "markdown",
   "metadata": {},
   "source": [
    "On va commencer par convertir les notes en float et extraire la date."
   ]
  },
  {
   "cell_type": "code",
   "execution_count": 8,
   "metadata": {},
   "outputs": [],
   "source": [
    "# Convertir les notes en float\n",
    "df_critiques['Note_critique_float'] = df_critiques['Note de la critique'].str.replace(',', '.').astype(float)\n",
    "\n",
    "df_critiques['new_date1'] = df_critiques['Date de publication'].str.replace('Publiée le', '').apply(lambda x: ' '.join([french_to_english_month(word) for word in str(x).split()]) if pd.notna(x) else np.nan)\n",
    "\n",
    "\n",
    "# Utiliser dateutil.parser.parse pour convertir les dates en objets datetime\n",
    "df_critiques['new_date'] = df_critiques['new_date1'].apply(lambda x: parser.parse(x, dayfirst=True) if isinstance(x, str) else x)\n",
    "\n",
    "\n",
    "colonnes_a_supprimer = [\"new_date1\", \"Date de publication\",'Note de la critique']\n",
    "df_critiques = df_critiques.drop(columns=colonnes_a_supprimer)"
   ]
  },
  {
   "cell_type": "code",
   "execution_count": 9,
   "metadata": {},
   "outputs": [],
   "source": [
    "# Rôle de la fonction : Définir une polarité à partir des notes des commentaires\n",
    "# Entrée : note d'un commentaire\n",
    "# Sortie : Retourne une polarité suivant la note\n",
    "\n",
    "def find_polarity(note_commentaire):\n",
    "    if float(note_commentaire) <= 3:\n",
    "        return 0 # Négatif\n",
    "    else:\n",
    "        return 1 # Positif"
   ]
  },
  {
   "cell_type": "code",
   "execution_count": 10,
   "metadata": {},
   "outputs": [],
   "source": [
    "df_critiques['Polarité_réelle'] = df_critiques['Note_critique_float'].apply(find_polarity) "
   ]
  },
  {
   "cell_type": "code",
   "execution_count": 11,
   "metadata": {},
   "outputs": [],
   "source": [
    "# Rôle de la fonction : Nettoyer les critiques dans le but de faire du NLP\n",
    "# Entrée : Critique du df\n",
    "# Sortie : Renvoie la critique nettoyé\n",
    "\n",
    "\n",
    "def clean_text_french(critique):\n",
    "    # Assurez-vous que la colonne de commentaire est de type chaîne de caractères\n",
    "    critique = critique.astype(str)\n",
    "\n",
    "    # Convertir le texte en minuscules\n",
    "    critique = critique.str.lower()\n",
    "\n",
    "    # Tokenisation des mots\n",
    "    critique = critique.apply(word_tokenize, language='french')\n",
    "\n",
    "    # Supprimer la ponctuation et les caractères spéciaux\n",
    "    critique = critique.apply(lambda tokens: [word for word in tokens if word.isalnum()])\n",
    "\n",
    "    # Supprimer les mots vides\n",
    "    stop_words = set(stopwords.words('french'))\n",
    "    critique = critique.apply(lambda tokens: [word for word in tokens if word not in stop_words])\n",
    "\n",
    "    # Racinisation (stemming)\n",
    "    lemmatizer = WordNetLemmatizer()\n",
    "    critique = critique.apply(lambda tokens: [lemmatizer.lemmatize(word) for word in tokens])\n",
    "\n",
    "    # Rejoindre les tokens en une seule chaîne de texte\n",
    "    critique = critique.apply(lambda tokens: ' '.join(tokens))\n",
    "\n",
    "\n",
    "    return critique\n",
    "\n",
    "# python -m nltk.downloader all"
   ]
  },
  {
   "cell_type": "code",
   "execution_count": 87,
   "metadata": {},
   "outputs": [],
   "source": [
    "df_critiques = df_critiques[df_critiques['Critique'].astype(str).apply(lambda x: isinstance(x, str))]"
   ]
  },
  {
   "cell_type": "code",
   "execution_count": 12,
   "metadata": {},
   "outputs": [
    {
     "name": "stdout",
     "output_type": "stream",
     "text": [
      "CPU times: user 11min 2s, sys: 11.2 s, total: 11min 14s\n",
      "Wall time: 11min 14s\n"
     ]
    }
   ],
   "source": [
    "%%time\n",
    "df_critiques['Critique_nettoy'] = pd.DataFrame(clean_text_french(df_critiques['Critique']))\n",
    "\n",
    "# CPU times: user 20min, sys: 16.5 s, total: 20min 17s\n",
    "# Wall time: 20min 17s"
   ]
  },
  {
   "cell_type": "code",
   "execution_count": 13,
   "metadata": {},
   "outputs": [],
   "source": [
    "# On fait attention aux valeurs nulles\n",
    "df_critiques = df_critiques.dropna(subset=['Critique_nettoy'])"
   ]
  },
  {
   "cell_type": "code",
   "execution_count": 14,
   "metadata": {},
   "outputs": [],
   "source": [
    "def compter_mots(critique):\n",
    "    if isinstance(critique, str):\n",
    "        mots = critique.split()\n",
    "        return len(mots)\n",
    "    else:\n",
    "        # Si la valeur n'est pas une chaîne de caractères, vous pouvez choisir de traiter cela d'une manière particulière.\n",
    "        # Par exemple, vous pourriez retourner 0 ou une autre valeur appropriée.\n",
    "        return 0"
   ]
  },
  {
   "cell_type": "code",
   "execution_count": 15,
   "metadata": {},
   "outputs": [],
   "source": [
    "# Appliquer la fonction pour compter les mots à la colonne 'Critique' et créer une nouvelle colonne 'nb_mots'\n",
    "df_critiques['nb_mots'] = df_critiques['Critique'].apply(compter_mots)"
   ]
  },
  {
   "cell_type": "code",
   "execution_count": 16,
   "metadata": {},
   "outputs": [],
   "source": [
    "tb = Blobber(pos_tagger=PatternTagger(), analyzer=PatternAnalyzer())\n",
    "\n",
    "\n",
    "# Rôle de la fonction : Utilisation de text blob pour atrrtibuer une polarité (postitive ou négative) à un commentaire\n",
    "# Entrée : Commentaire\n",
    "# Sortie : Retourne une polarité du commentaire\n",
    "\n",
    "def attribuer_note(commentaire):\n",
    "    #\n",
    "    vs = tb(commentaire).sentiment[0]\n",
    "    if vs > 0:\n",
    "        return 1\n",
    "    else:\n",
    "        return 0"
   ]
  },
  {
   "cell_type": "code",
   "execution_count": 17,
   "metadata": {},
   "outputs": [
    {
     "name": "stdout",
     "output_type": "stream",
     "text": [
      "CPU times: user 4min 14s, sys: 370 ms, total: 4min 14s\n",
      "Wall time: 4min 14s\n"
     ]
    }
   ],
   "source": [
    "%%time\n",
    "\n",
    "# Appliquer la fonction pour attribuer une note à chaque commentaire\n",
    "df_critiques['Text_blob_critique_nettoyé'] = df_critiques['Critique_nettoy'].apply(attribuer_note)\n",
    "\n",
    "# CPU times: user 3min 46s, sys: 188 ms, total: 3min 46s\n",
    "# Wall time: 3min 46s"
   ]
  },
  {
   "cell_type": "code",
   "execution_count": 88,
   "metadata": {},
   "outputs": [
    {
     "data": {
      "text/html": [
       "<div>\n",
       "<style scoped>\n",
       "    .dataframe tbody tr th:only-of-type {\n",
       "        vertical-align: middle;\n",
       "    }\n",
       "\n",
       "    .dataframe tbody tr th {\n",
       "        vertical-align: top;\n",
       "    }\n",
       "\n",
       "    .dataframe thead th {\n",
       "        text-align: right;\n",
       "    }\n",
       "</style>\n",
       "<table border=\"1\" class=\"dataframe\">\n",
       "  <thead>\n",
       "    <tr style=\"text-align: right;\">\n",
       "      <th></th>\n",
       "      <th>id_allocine</th>\n",
       "      <th>Critique</th>\n",
       "      <th>Note_critique_float</th>\n",
       "      <th>new_date</th>\n",
       "      <th>Polarité_réelle</th>\n",
       "      <th>Critique_nettoy</th>\n",
       "      <th>nb_mots</th>\n",
       "      <th>Text_blob_critique_nettoyé</th>\n",
       "    </tr>\n",
       "  </thead>\n",
       "  <tbody>\n",
       "    <tr>\n",
       "      <th>0</th>\n",
       "      <td>239331</td>\n",
       "      <td>\"10.000 days\" est à la base une série créée pa...</td>\n",
       "      <td>0.5</td>\n",
       "      <td>2015-10-05</td>\n",
       "      <td>0</td>\n",
       "      <td>day base série créée eric small réalise film o...</td>\n",
       "      <td>129</td>\n",
       "      <td>0</td>\n",
       "    </tr>\n",
       "    <tr>\n",
       "      <th>1</th>\n",
       "      <td>239331</td>\n",
       "      <td>Les effets spéciaux bas de gamme mettent les a...</td>\n",
       "      <td>1.0</td>\n",
       "      <td>2015-12-12</td>\n",
       "      <td>0</td>\n",
       "      <td>effets spéciaux ba gamme mettent acteurs situa...</td>\n",
       "      <td>18</td>\n",
       "      <td>0</td>\n",
       "    </tr>\n",
       "    <tr>\n",
       "      <th>2</th>\n",
       "      <td>239331</td>\n",
       "      <td>10,000 somnifères. A peine ça commence qu'un g...</td>\n",
       "      <td>1.0</td>\n",
       "      <td>2017-01-10</td>\n",
       "      <td>0</td>\n",
       "      <td>somnifères a peine ça commence gar raconte lif...</td>\n",
       "      <td>45</td>\n",
       "      <td>0</td>\n",
       "    </tr>\n",
       "    <tr>\n",
       "      <th>3</th>\n",
       "      <td>239331</td>\n",
       "      <td>\"10 000 days\" est d'une nullité abyssale. Tout...</td>\n",
       "      <td>0.5</td>\n",
       "      <td>2016-05-24</td>\n",
       "      <td>0</td>\n",
       "      <td>10 000 day nullité abyssale tout concourt fair...</td>\n",
       "      <td>84</td>\n",
       "      <td>0</td>\n",
       "    </tr>\n",
       "    <tr>\n",
       "      <th>4</th>\n",
       "      <td>239331</td>\n",
       "      <td>Beaucoup de parlotes, pas d'action ni d'effets...</td>\n",
       "      <td>1.5</td>\n",
       "      <td>2017-01-01</td>\n",
       "      <td>0</td>\n",
       "      <td>beaucoup parlotes ni spéciaux histoire molle t...</td>\n",
       "      <td>22</td>\n",
       "      <td>0</td>\n",
       "    </tr>\n",
       "    <tr>\n",
       "      <th>...</th>\n",
       "      <td>...</td>\n",
       "      <td>...</td>\n",
       "      <td>...</td>\n",
       "      <td>...</td>\n",
       "      <td>...</td>\n",
       "      <td>...</td>\n",
       "      <td>...</td>\n",
       "      <td>...</td>\n",
       "    </tr>\n",
       "    <tr>\n",
       "      <th>801584</th>\n",
       "      <td>146631</td>\n",
       "      <td>Si vous aimez quand la débilité camoufle la pe...</td>\n",
       "      <td>2.5</td>\n",
       "      <td>2016-09-03</td>\n",
       "      <td>0</td>\n",
       "      <td>si aimez quand débilité camoufle pertinence pr...</td>\n",
       "      <td>306</td>\n",
       "      <td>1</td>\n",
       "    </tr>\n",
       "    <tr>\n",
       "      <th>801585</th>\n",
       "      <td>146631</td>\n",
       "      <td>La sauce ne prend malheureusement pas. \"Zoolan...</td>\n",
       "      <td>2.0</td>\n",
       "      <td>2016-05-17</td>\n",
       "      <td>0</td>\n",
       "      <td>sauce prend malheureusement zoolander devenu c...</td>\n",
       "      <td>72</td>\n",
       "      <td>0</td>\n",
       "    </tr>\n",
       "    <tr>\n",
       "      <th>801586</th>\n",
       "      <td>146631</td>\n",
       "      <td>la demi étoiles et pour le casting avec des ac...</td>\n",
       "      <td>0.5</td>\n",
       "      <td>2020-07-15</td>\n",
       "      <td>0</td>\n",
       "      <td>demi étoiles casting acteurs fou film a humour...</td>\n",
       "      <td>43</td>\n",
       "      <td>0</td>\n",
       "    </tr>\n",
       "    <tr>\n",
       "      <th>801587</th>\n",
       "      <td>146631</td>\n",
       "      <td>Pas aussi mauvais...Pas très Drôle mais amusan...</td>\n",
       "      <td>2.5</td>\n",
       "      <td>2016-03-21</td>\n",
       "      <td>0</td>\n",
       "      <td>aussi mauvais très drôle amusant bien filmé te...</td>\n",
       "      <td>46</td>\n",
       "      <td>1</td>\n",
       "    </tr>\n",
       "    <tr>\n",
       "      <th>801588</th>\n",
       "      <td>146631</td>\n",
       "      <td>ma fait halluciner , j'ai trouvé ça trop énorm...</td>\n",
       "      <td>5.0</td>\n",
       "      <td>2016-05-13</td>\n",
       "      <td>1</td>\n",
       "      <td>fait halluciner trouvé ça trop énorme look mod...</td>\n",
       "      <td>65</td>\n",
       "      <td>1</td>\n",
       "    </tr>\n",
       "  </tbody>\n",
       "</table>\n",
       "<p>801589 rows × 8 columns</p>\n",
       "</div>"
      ],
      "text/plain": [
       "        id_allocine                                           Critique  \\\n",
       "0            239331  \"10.000 days\" est à la base une série créée pa...   \n",
       "1            239331  Les effets spéciaux bas de gamme mettent les a...   \n",
       "2            239331  10,000 somnifères. A peine ça commence qu'un g...   \n",
       "3            239331  \"10 000 days\" est d'une nullité abyssale. Tout...   \n",
       "4            239331  Beaucoup de parlotes, pas d'action ni d'effets...   \n",
       "...             ...                                                ...   \n",
       "801584       146631  Si vous aimez quand la débilité camoufle la pe...   \n",
       "801585       146631  La sauce ne prend malheureusement pas. \"Zoolan...   \n",
       "801586       146631  la demi étoiles et pour le casting avec des ac...   \n",
       "801587       146631  Pas aussi mauvais...Pas très Drôle mais amusan...   \n",
       "801588       146631  ma fait halluciner , j'ai trouvé ça trop énorm...   \n",
       "\n",
       "        Note_critique_float   new_date  Polarité_réelle  \\\n",
       "0                       0.5 2015-10-05                0   \n",
       "1                       1.0 2015-12-12                0   \n",
       "2                       1.0 2017-01-10                0   \n",
       "3                       0.5 2016-05-24                0   \n",
       "4                       1.5 2017-01-01                0   \n",
       "...                     ...        ...              ...   \n",
       "801584                  2.5 2016-09-03                0   \n",
       "801585                  2.0 2016-05-17                0   \n",
       "801586                  0.5 2020-07-15                0   \n",
       "801587                  2.5 2016-03-21                0   \n",
       "801588                  5.0 2016-05-13                1   \n",
       "\n",
       "                                          Critique_nettoy  nb_mots  \\\n",
       "0       day base série créée eric small réalise film o...      129   \n",
       "1       effets spéciaux ba gamme mettent acteurs situa...       18   \n",
       "2       somnifères a peine ça commence gar raconte lif...       45   \n",
       "3       10 000 day nullité abyssale tout concourt fair...       84   \n",
       "4       beaucoup parlotes ni spéciaux histoire molle t...       22   \n",
       "...                                                   ...      ...   \n",
       "801584  si aimez quand débilité camoufle pertinence pr...      306   \n",
       "801585  sauce prend malheureusement zoolander devenu c...       72   \n",
       "801586  demi étoiles casting acteurs fou film a humour...       43   \n",
       "801587  aussi mauvais très drôle amusant bien filmé te...       46   \n",
       "801588  fait halluciner trouvé ça trop énorme look mod...       65   \n",
       "\n",
       "        Text_blob_critique_nettoyé  \n",
       "0                                0  \n",
       "1                                0  \n",
       "2                                0  \n",
       "3                                0  \n",
       "4                                0  \n",
       "...                            ...  \n",
       "801584                           1  \n",
       "801585                           0  \n",
       "801586                           0  \n",
       "801587                           1  \n",
       "801588                           1  \n",
       "\n",
       "[801589 rows x 8 columns]"
      ]
     },
     "execution_count": 88,
     "metadata": {},
     "output_type": "execute_result"
    }
   ],
   "source": [
    "df_critiques"
   ]
  },
  {
   "cell_type": "code",
   "execution_count": 89,
   "metadata": {},
   "outputs": [],
   "source": [
    "df_critiques.to_csv(\"df_critiques_modif.csv\", index=False)"
   ]
  },
  {
   "cell_type": "markdown",
   "metadata": {},
   "source": []
  },
  {
   "cell_type": "markdown",
   "metadata": {},
   "source": []
  },
  {
   "cell_type": "code",
   "execution_count": 6,
   "metadata": {},
   "outputs": [],
   "source": [
    "df_critiques = pd.read_csv(\"df_critiques_modif.csv\")"
   ]
  },
  {
   "cell_type": "code",
   "execution_count": 90,
   "metadata": {},
   "outputs": [],
   "source": [
    "df_critiques_mod = df_critiques.sample(n=50000, random_state=41)  # Utilisez un random_state pour la reproductibilité"
   ]
  },
  {
   "cell_type": "markdown",
   "metadata": {},
   "source": [
    "Résultat textblob"
   ]
  },
  {
   "cell_type": "code",
   "execution_count": 20,
   "metadata": {},
   "outputs": [
    {
     "name": "stdout",
     "output_type": "stream",
     "text": [
      "\n",
      "Accuracy: 0.6642606123587025\n",
      "Precision: 0.6312496895335552\n",
      "Recall: 0.9279388442010382\n",
      "F1 Score: 0.7513666174866064\n",
      "\n",
      "Classification Report:\n",
      "              precision    recall  f1-score   support\n",
      "\n",
      "           0       0.80      0.35      0.48    363364\n",
      "           1       0.63      0.93      0.75    438225\n",
      "\n",
      "    accuracy                           0.66    801589\n",
      "   macro avg       0.72      0.64      0.62    801589\n",
      "weighted avg       0.71      0.66      0.63    801589\n",
      "\n"
     ]
    },
    {
     "data": {
      "image/png": "[encoded data removed]",
      "text/plain": [
       "<Figure size 800x600 with 2 Axes>"
      ]
     },
     "metadata": {},
     "output_type": "display_data"
    }
   ],
   "source": [
    "test_labels= df_critiques['Polarité_réelle']\n",
    "predictions = df_critiques['Text_blob_critique_nettoyé']\n",
    "\n",
    "# On stock nos données dans un dictionnaire\n",
    "results = {\n",
    "    'Accuracy': metrics.accuracy_score(test_labels, predictions),\n",
    "    'Precision': metrics.precision_score(test_labels, predictions),\n",
    "    'Recall': metrics.recall_score(test_labels, predictions),\n",
    "    'F1 Score': metrics.f1_score(test_labels, predictions),\n",
    "    'Classification Report': metrics.classification_report(test_labels, predictions),\n",
    "    'Confusion Matrix': metrics.confusion_matrix(test_labels, predictions)\n",
    "}\n",
    "    \n",
    "# Print metriques\n",
    "print(\"\\nAccuracy:\", results['Accuracy'])\n",
    "print(\"Precision:\", results['Precision'])\n",
    "print(\"Recall:\", results['Recall'])\n",
    "print(\"F1 Score:\", results['F1 Score'])\n",
    "    \n",
    "# Print classification report\n",
    "print(\"\\nClassification Report:\")\n",
    "print(results['Classification Report'])\n",
    "\n",
    "\n",
    "# Display confusion matrix as a heatmap using seaborn\n",
    "cm = confusion_matrix(test_labels, predictions)\n",
    "plt.figure(figsize=(8, 6))\n",
    "sns.heatmap(cm, annot=True, fmt='d', cmap='Blues', xticklabels=['Negative', 'Positive'], yticklabels=['Negative', 'Positive'])\n",
    "plt.xlabel('Predicted Label')\n",
    "plt.ylabel('True Label')\n",
    "plt.title('Confusion Matrix')\n",
    "plt.show()\n"
   ]
  },
  {
   "cell_type": "markdown",
   "metadata": {},
   "source": [
    "Commentaire :"
   ]
  },
  {
   "cell_type": "code",
   "execution_count": 23,
   "metadata": {},
   "outputs": [
    {
     "data": {
      "text/plain": [
       "Polarité_réelle\n",
       "0    22702\n",
       "1    27298\n",
       "dtype: int64"
      ]
     },
     "execution_count": 23,
     "metadata": {},
     "output_type": "execute_result"
    }
   ],
   "source": [
    "df_critiques_mod.groupby('Polarité_réelle').size()\n"
   ]
  },
  {
   "cell_type": "code",
   "execution_count": 112,
   "metadata": {},
   "outputs": [],
   "source": [
    "# On prépare nos  jeux de test et d'entrainement pour le countvectorizer et pour le ML\n",
    "\n",
    "critique_train, critique_test, polarite_train, polarite_test = train_test_split(df_critiques_mod['Critique_nettoy'], df_critiques_mod['Polarité_réelle'], test_size=0.2, random_state=4)"
   ]
  },
  {
   "cell_type": "code",
   "execution_count": 113,
   "metadata": {},
   "outputs": [],
   "source": [
    "# CountVectorizer # Check limit colonne\n",
    "\n",
    "cv = CountVectorizer()\n",
    "cv_train_features = cv.fit_transform(critique_train)\n",
    "cv_test_features = cv.transform(critique_test)"
   ]
  },
  {
   "cell_type": "code",
   "execution_count": 115,
   "metadata": {},
   "outputs": [
    {
     "name": "stderr",
     "output_type": "stream",
     "text": [
      "Intel(R) Extension for Scikit-learn* enabled (https://github.com/intel/scikit-learn-intelex)\n"
     ]
    }
   ],
   "source": [
    "# Rôle de la fonction : Fit + résultat du modèle\n",
    "# Entrée : Modèle considéré, les 4 sets de test et d'entrainement\n",
    "# Sortie : les résultats du modèles\n",
    "from sklearnex import patch_sklearn\n",
    "patch_sklearn()\n",
    "\n",
    "def evaluate_model(model, train_features, train_labels, test_features, test_labels):\n",
    "    \n",
    "    model.fit(train_features, train_labels)\n",
    "\n",
    "    # Cross-validation \n",
    "    cv_scores = cross_val_score(model, train_features, train_labels, cv=StratifiedKFold(n_splits=5), scoring='accuracy')\n",
    "    print(\"Cross-validation Scores:\", cv_scores)\n",
    "    print(\"Mean CV Accuracy:\", np.mean(cv_scores))\n",
    "\n",
    "    # Predictions\n",
    "    predictions = model.predict(test_features)\n",
    "\n",
    "    # On stock nos données dans un dictionnaire\n",
    "    results = {\n",
    "        'Accuracy': metrics.accuracy_score(test_labels, predictions),\n",
    "        'Precision': metrics.precision_score(test_labels, predictions),\n",
    "        'Recall': metrics.recall_score(test_labels, predictions),\n",
    "        'F1 Score': metrics.f1_score(test_labels, predictions),\n",
    "        'Classification Report': metrics.classification_report(test_labels, predictions),\n",
    "        'Confusion Matrix': metrics.confusion_matrix(test_labels, predictions)\n",
    "    }\n",
    "    \n",
    "    # Print metriques\n",
    "    print(\"\\nAccuracy:\", results['Accuracy'])\n",
    "    print(\"Precision:\", results['Precision'])\n",
    "    print(\"Recall:\", results['Recall'])\n",
    "    print(\"F1 Score:\", results['F1 Score'])\n",
    "    \n",
    "    # Print classification report\n",
    "    print(\"\\nClassification Report:\")\n",
    "    print(results['Classification Report'])\n",
    "\n",
    "\n",
    "    # Display confusion matrix as a heatmap using seaborn\n",
    "    cm = confusion_matrix(test_labels, predictions)\n",
    "    plt.figure(figsize=(8, 6))\n",
    "    sns.heatmap(cm, annot=True, fmt='d', cmap='Blues', xticklabels=['Negative', 'Positive'], yticklabels=['Negative', 'Positive'])\n",
    "    plt.xlabel('Predicted Label')\n",
    "    plt.ylabel('True Label')\n",
    "    plt.title('Confusion Matrix')\n",
    "    plt.show()\n",
    "\n",
    "    return results"
   ]
  },
  {
   "cell_type": "code",
   "execution_count": 119,
   "metadata": {},
   "outputs": [
    {
     "ename": "KeyboardInterrupt",
     "evalue": "",
     "output_type": "error",
     "traceback": [
      "\u001b[0;31m---------------------------------------------------------------------------\u001b[0m",
      "\u001b[0;31mKeyboardInterrupt\u001b[0m                         Traceback (most recent call last)",
      "\u001b[1;32m/home/onyxia/work/python_ds_film/notebook_final.ipynb Cell 127\u001b[0m line \u001b[0;36m4\n\u001b[1;32m      <a href='vscode-notebook-cell://user-mastoche-352769-0.user.lab.sspcloud.fr/home/onyxia/work/python_ds_film/notebook_final.ipynb#Y242sdnNjb2RlLXJlbW90ZQ%3D%3D?line=1'>2</a>\u001b[0m param_grid \u001b[39m=\u001b[39m {\u001b[39m'\u001b[39m\u001b[39mC\u001b[39m\u001b[39m'\u001b[39m: [\u001b[39m0.5\u001b[39m, \u001b[39m0.6\u001b[39m, \u001b[39m0.7\u001b[39m, \u001b[39m0.8\u001b[39m, \u001b[39m0.9\u001b[39m]}\n\u001b[1;32m      <a href='vscode-notebook-cell://user-mastoche-352769-0.user.lab.sspcloud.fr/home/onyxia/work/python_ds_film/notebook_final.ipynb#Y242sdnNjb2RlLXJlbW90ZQ%3D%3D?line=2'>3</a>\u001b[0m grid_search \u001b[39m=\u001b[39m GridSearchCV(model_lr, param_grid, cv\u001b[39m=\u001b[39mStratifiedKFold(n_splits\u001b[39m=\u001b[39m\u001b[39m5\u001b[39m), scoring\u001b[39m=\u001b[39m\u001b[39m'\u001b[39m\u001b[39maccuracy\u001b[39m\u001b[39m'\u001b[39m)\n\u001b[0;32m----> <a href='vscode-notebook-cell://user-mastoche-352769-0.user.lab.sspcloud.fr/home/onyxia/work/python_ds_film/notebook_final.ipynb#Y242sdnNjb2RlLXJlbW90ZQ%3D%3D?line=3'>4</a>\u001b[0m grid_search\u001b[39m.\u001b[39;49mfit(cv_train_features, polarite_train)\n\u001b[1;32m      <a href='vscode-notebook-cell://user-mastoche-352769-0.user.lab.sspcloud.fr/home/onyxia/work/python_ds_film/notebook_final.ipynb#Y242sdnNjb2RlLXJlbW90ZQ%3D%3D?line=5'>6</a>\u001b[0m \u001b[39m# Print best parameters\u001b[39;00m\n\u001b[1;32m      <a href='vscode-notebook-cell://user-mastoche-352769-0.user.lab.sspcloud.fr/home/onyxia/work/python_ds_film/notebook_final.ipynb#Y242sdnNjb2RlLXJlbW90ZQ%3D%3D?line=6'>7</a>\u001b[0m \u001b[39mprint\u001b[39m(\u001b[39m\"\u001b[39m\u001b[39mBest Parameters: \u001b[39m\u001b[39m\"\u001b[39m, grid_search\u001b[39m.\u001b[39mbest_params_)\n",
      "File \u001b[0;32m~/work/.venv/lib/python3.10/site-packages/sklearn/base.py:1152\u001b[0m, in \u001b[0;36m_fit_context.<locals>.decorator.<locals>.wrapper\u001b[0;34m(estimator, *args, **kwargs)\u001b[0m\n\u001b[1;32m   1145\u001b[0m     estimator\u001b[39m.\u001b[39m_validate_params()\n\u001b[1;32m   1147\u001b[0m \u001b[39mwith\u001b[39;00m config_context(\n\u001b[1;32m   1148\u001b[0m     skip_parameter_validation\u001b[39m=\u001b[39m(\n\u001b[1;32m   1149\u001b[0m         prefer_skip_nested_validation \u001b[39mor\u001b[39;00m global_skip_validation\n\u001b[1;32m   1150\u001b[0m     )\n\u001b[1;32m   1151\u001b[0m ):\n\u001b[0;32m-> 1152\u001b[0m     \u001b[39mreturn\u001b[39;00m fit_method(estimator, \u001b[39m*\u001b[39;49margs, \u001b[39m*\u001b[39;49m\u001b[39m*\u001b[39;49mkwargs)\n",
      "File \u001b[0;32m~/work/.venv/lib/python3.10/site-packages/sklearn/model_selection/_search.py:898\u001b[0m, in \u001b[0;36mBaseSearchCV.fit\u001b[0;34m(self, X, y, groups, **fit_params)\u001b[0m\n\u001b[1;32m    892\u001b[0m     results \u001b[39m=\u001b[39m \u001b[39mself\u001b[39m\u001b[39m.\u001b[39m_format_results(\n\u001b[1;32m    893\u001b[0m         all_candidate_params, n_splits, all_out, all_more_results\n\u001b[1;32m    894\u001b[0m     )\n\u001b[1;32m    896\u001b[0m     \u001b[39mreturn\u001b[39;00m results\n\u001b[0;32m--> 898\u001b[0m \u001b[39mself\u001b[39;49m\u001b[39m.\u001b[39;49m_run_search(evaluate_candidates)\n\u001b[1;32m    900\u001b[0m \u001b[39m# multimetric is determined here because in the case of a callable\u001b[39;00m\n\u001b[1;32m    901\u001b[0m \u001b[39m# self.scoring the return type is only known after calling\u001b[39;00m\n\u001b[1;32m    902\u001b[0m first_test_score \u001b[39m=\u001b[39m all_out[\u001b[39m0\u001b[39m][\u001b[39m\"\u001b[39m\u001b[39mtest_scores\u001b[39m\u001b[39m\"\u001b[39m]\n",
      "File \u001b[0;32m~/work/.venv/lib/python3.10/site-packages/sklearn/model_selection/_search.py:1422\u001b[0m, in \u001b[0;36mGridSearchCV._run_search\u001b[0;34m(self, evaluate_candidates)\u001b[0m\n\u001b[1;32m   1420\u001b[0m \u001b[39mdef\u001b[39;00m \u001b[39m_run_search\u001b[39m(\u001b[39mself\u001b[39m, evaluate_candidates):\n\u001b[1;32m   1421\u001b[0m \u001b[39m    \u001b[39m\u001b[39m\"\"\"Search all candidates in param_grid\"\"\"\u001b[39;00m\n\u001b[0;32m-> 1422\u001b[0m     evaluate_candidates(ParameterGrid(\u001b[39mself\u001b[39;49m\u001b[39m.\u001b[39;49mparam_grid))\n",
      "File \u001b[0;32m~/work/.venv/lib/python3.10/site-packages/sklearn/model_selection/_search.py:845\u001b[0m, in \u001b[0;36mBaseSearchCV.fit.<locals>.evaluate_candidates\u001b[0;34m(candidate_params, cv, more_results)\u001b[0m\n\u001b[1;32m    837\u001b[0m \u001b[39mif\u001b[39;00m \u001b[39mself\u001b[39m\u001b[39m.\u001b[39mverbose \u001b[39m>\u001b[39m \u001b[39m0\u001b[39m:\n\u001b[1;32m    838\u001b[0m     \u001b[39mprint\u001b[39m(\n\u001b[1;32m    839\u001b[0m         \u001b[39m\"\u001b[39m\u001b[39mFitting \u001b[39m\u001b[39m{0}\u001b[39;00m\u001b[39m folds for each of \u001b[39m\u001b[39m{1}\u001b[39;00m\u001b[39m candidates,\u001b[39m\u001b[39m\"\u001b[39m\n\u001b[1;32m    840\u001b[0m         \u001b[39m\"\u001b[39m\u001b[39m totalling \u001b[39m\u001b[39m{2}\u001b[39;00m\u001b[39m fits\u001b[39m\u001b[39m\"\u001b[39m\u001b[39m.\u001b[39mformat(\n\u001b[1;32m    841\u001b[0m             n_splits, n_candidates, n_candidates \u001b[39m*\u001b[39m n_splits\n\u001b[1;32m    842\u001b[0m         )\n\u001b[1;32m    843\u001b[0m     )\n\u001b[0;32m--> 845\u001b[0m out \u001b[39m=\u001b[39m parallel(\n\u001b[1;32m    846\u001b[0m     delayed(_fit_and_score)(\n\u001b[1;32m    847\u001b[0m         clone(base_estimator),\n\u001b[1;32m    848\u001b[0m         X,\n\u001b[1;32m    849\u001b[0m         y,\n\u001b[1;32m    850\u001b[0m         train\u001b[39m=\u001b[39;49mtrain,\n\u001b[1;32m    851\u001b[0m         test\u001b[39m=\u001b[39;49mtest,\n\u001b[1;32m    852\u001b[0m         parameters\u001b[39m=\u001b[39;49mparameters,\n\u001b[1;32m    853\u001b[0m         split_progress\u001b[39m=\u001b[39;49m(split_idx, n_splits),\n\u001b[1;32m    854\u001b[0m         candidate_progress\u001b[39m=\u001b[39;49m(cand_idx, n_candidates),\n\u001b[1;32m    855\u001b[0m         \u001b[39m*\u001b[39;49m\u001b[39m*\u001b[39;49mfit_and_score_kwargs,\n\u001b[1;32m    856\u001b[0m     )\n\u001b[1;32m    857\u001b[0m     \u001b[39mfor\u001b[39;49;00m (cand_idx, parameters), (split_idx, (train, test)) \u001b[39min\u001b[39;49;00m product(\n\u001b[1;32m    858\u001b[0m         \u001b[39menumerate\u001b[39;49m(candidate_params), \u001b[39menumerate\u001b[39;49m(cv\u001b[39m.\u001b[39;49msplit(X, y, groups))\n\u001b[1;32m    859\u001b[0m     )\n\u001b[1;32m    860\u001b[0m )\n\u001b[1;32m    862\u001b[0m \u001b[39mif\u001b[39;00m \u001b[39mlen\u001b[39m(out) \u001b[39m<\u001b[39m \u001b[39m1\u001b[39m:\n\u001b[1;32m    863\u001b[0m     \u001b[39mraise\u001b[39;00m \u001b[39mValueError\u001b[39;00m(\n\u001b[1;32m    864\u001b[0m         \u001b[39m\"\u001b[39m\u001b[39mNo fits were performed. \u001b[39m\u001b[39m\"\u001b[39m\n\u001b[1;32m    865\u001b[0m         \u001b[39m\"\u001b[39m\u001b[39mWas the CV iterator empty? \u001b[39m\u001b[39m\"\u001b[39m\n\u001b[1;32m    866\u001b[0m         \u001b[39m\"\u001b[39m\u001b[39mWere there no candidates?\u001b[39m\u001b[39m\"\u001b[39m\n\u001b[1;32m    867\u001b[0m     )\n",
      "File \u001b[0;32m~/work/.venv/lib/python3.10/site-packages/sklearn/utils/parallel.py:65\u001b[0m, in \u001b[0;36mParallel.__call__\u001b[0;34m(self, iterable)\u001b[0m\n\u001b[1;32m     60\u001b[0m config \u001b[39m=\u001b[39m get_config()\n\u001b[1;32m     61\u001b[0m iterable_with_config \u001b[39m=\u001b[39m (\n\u001b[1;32m     62\u001b[0m     (_with_config(delayed_func, config), args, kwargs)\n\u001b[1;32m     63\u001b[0m     \u001b[39mfor\u001b[39;00m delayed_func, args, kwargs \u001b[39min\u001b[39;00m iterable\n\u001b[1;32m     64\u001b[0m )\n\u001b[0;32m---> 65\u001b[0m \u001b[39mreturn\u001b[39;00m \u001b[39msuper\u001b[39;49m()\u001b[39m.\u001b[39;49m\u001b[39m__call__\u001b[39;49m(iterable_with_config)\n",
      "File \u001b[0;32m~/work/.venv/lib/python3.10/site-packages/joblib/parallel.py:1863\u001b[0m, in \u001b[0;36mParallel.__call__\u001b[0;34m(self, iterable)\u001b[0m\n\u001b[1;32m   1861\u001b[0m     output \u001b[39m=\u001b[39m \u001b[39mself\u001b[39m\u001b[39m.\u001b[39m_get_sequential_output(iterable)\n\u001b[1;32m   1862\u001b[0m     \u001b[39mnext\u001b[39m(output)\n\u001b[0;32m-> 1863\u001b[0m     \u001b[39mreturn\u001b[39;00m output \u001b[39mif\u001b[39;00m \u001b[39mself\u001b[39m\u001b[39m.\u001b[39mreturn_generator \u001b[39melse\u001b[39;00m \u001b[39mlist\u001b[39;49m(output)\n\u001b[1;32m   1865\u001b[0m \u001b[39m# Let's create an ID that uniquely identifies the current call. If the\u001b[39;00m\n\u001b[1;32m   1866\u001b[0m \u001b[39m# call is interrupted early and that the same instance is immediately\u001b[39;00m\n\u001b[1;32m   1867\u001b[0m \u001b[39m# re-used, this id will be used to prevent workers that were\u001b[39;00m\n\u001b[1;32m   1868\u001b[0m \u001b[39m# concurrently finalizing a task from the previous call to run the\u001b[39;00m\n\u001b[1;32m   1869\u001b[0m \u001b[39m# callback.\u001b[39;00m\n\u001b[1;32m   1870\u001b[0m \u001b[39mwith\u001b[39;00m \u001b[39mself\u001b[39m\u001b[39m.\u001b[39m_lock:\n",
      "File \u001b[0;32m~/work/.venv/lib/python3.10/site-packages/joblib/parallel.py:1792\u001b[0m, in \u001b[0;36mParallel._get_sequential_output\u001b[0;34m(self, iterable)\u001b[0m\n\u001b[1;32m   1790\u001b[0m \u001b[39mself\u001b[39m\u001b[39m.\u001b[39mn_dispatched_batches \u001b[39m+\u001b[39m\u001b[39m=\u001b[39m \u001b[39m1\u001b[39m\n\u001b[1;32m   1791\u001b[0m \u001b[39mself\u001b[39m\u001b[39m.\u001b[39mn_dispatched_tasks \u001b[39m+\u001b[39m\u001b[39m=\u001b[39m \u001b[39m1\u001b[39m\n\u001b[0;32m-> 1792\u001b[0m res \u001b[39m=\u001b[39m func(\u001b[39m*\u001b[39;49margs, \u001b[39m*\u001b[39;49m\u001b[39m*\u001b[39;49mkwargs)\n\u001b[1;32m   1793\u001b[0m \u001b[39mself\u001b[39m\u001b[39m.\u001b[39mn_completed_tasks \u001b[39m+\u001b[39m\u001b[39m=\u001b[39m \u001b[39m1\u001b[39m\n\u001b[1;32m   1794\u001b[0m \u001b[39mself\u001b[39m\u001b[39m.\u001b[39mprint_progress()\n",
      "File \u001b[0;32m~/work/.venv/lib/python3.10/site-packages/sklearnex/utils/parallel.py:46\u001b[0m, in \u001b[0;36m_FuncWrapper.__call__\u001b[0;34m(self, *args, **kwargs)\u001b[0m\n\u001b[1;32m     44\u001b[0m     config \u001b[39m=\u001b[39m {}\n\u001b[1;32m     45\u001b[0m \u001b[39mwith\u001b[39;00m config_context(\u001b[39m*\u001b[39m\u001b[39m*\u001b[39mconfig):\n\u001b[0;32m---> 46\u001b[0m     \u001b[39mreturn\u001b[39;00m \u001b[39mself\u001b[39;49m\u001b[39m.\u001b[39;49mfunction(\u001b[39m*\u001b[39;49margs, \u001b[39m*\u001b[39;49m\u001b[39m*\u001b[39;49mkwargs)\n",
      "File \u001b[0;32m~/work/.venv/lib/python3.10/site-packages/sklearn/model_selection/_validation.py:729\u001b[0m, in \u001b[0;36m_fit_and_score\u001b[0;34m(estimator, X, y, scorer, train, test, verbose, parameters, fit_params, return_train_score, return_parameters, return_n_test_samples, return_times, return_estimator, split_progress, candidate_progress, error_score)\u001b[0m\n\u001b[1;32m    727\u001b[0m         estimator\u001b[39m.\u001b[39mfit(X_train, \u001b[39m*\u001b[39m\u001b[39m*\u001b[39mfit_params)\n\u001b[1;32m    728\u001b[0m     \u001b[39melse\u001b[39;00m:\n\u001b[0;32m--> 729\u001b[0m         estimator\u001b[39m.\u001b[39;49mfit(X_train, y_train, \u001b[39m*\u001b[39;49m\u001b[39m*\u001b[39;49mfit_params)\n\u001b[1;32m    731\u001b[0m \u001b[39mexcept\u001b[39;00m \u001b[39mException\u001b[39;00m:\n\u001b[1;32m    732\u001b[0m     \u001b[39m# Note fit time as time until error\u001b[39;00m\n\u001b[1;32m    733\u001b[0m     fit_time \u001b[39m=\u001b[39m time\u001b[39m.\u001b[39mtime() \u001b[39m-\u001b[39m start_time\n",
      "File \u001b[0;32m~/work/.venv/lib/python3.10/site-packages/sklearn/base.py:1152\u001b[0m, in \u001b[0;36m_fit_context.<locals>.decorator.<locals>.wrapper\u001b[0;34m(estimator, *args, **kwargs)\u001b[0m\n\u001b[1;32m   1145\u001b[0m     estimator\u001b[39m.\u001b[39m_validate_params()\n\u001b[1;32m   1147\u001b[0m \u001b[39mwith\u001b[39;00m config_context(\n\u001b[1;32m   1148\u001b[0m     skip_parameter_validation\u001b[39m=\u001b[39m(\n\u001b[1;32m   1149\u001b[0m         prefer_skip_nested_validation \u001b[39mor\u001b[39;00m global_skip_validation\n\u001b[1;32m   1150\u001b[0m     )\n\u001b[1;32m   1151\u001b[0m ):\n\u001b[0;32m-> 1152\u001b[0m     \u001b[39mreturn\u001b[39;00m fit_method(estimator, \u001b[39m*\u001b[39;49margs, \u001b[39m*\u001b[39;49m\u001b[39m*\u001b[39;49mkwargs)\n",
      "File \u001b[0;32m~/work/.venv/lib/python3.10/site-packages/sklearn/linear_model/_logistic.py:1303\u001b[0m, in \u001b[0;36mLogisticRegression.fit\u001b[0;34m(self, X, y, sample_weight)\u001b[0m\n\u001b[1;32m   1300\u001b[0m \u001b[39melse\u001b[39;00m:\n\u001b[1;32m   1301\u001b[0m     n_threads \u001b[39m=\u001b[39m \u001b[39m1\u001b[39m\n\u001b[0;32m-> 1303\u001b[0m fold_coefs_ \u001b[39m=\u001b[39m Parallel(n_jobs\u001b[39m=\u001b[39;49m\u001b[39mself\u001b[39;49m\u001b[39m.\u001b[39;49mn_jobs, verbose\u001b[39m=\u001b[39;49m\u001b[39mself\u001b[39;49m\u001b[39m.\u001b[39;49mverbose, prefer\u001b[39m=\u001b[39;49mprefer)(\n\u001b[1;32m   1304\u001b[0m     path_func(\n\u001b[1;32m   1305\u001b[0m         X,\n\u001b[1;32m   1306\u001b[0m         y,\n\u001b[1;32m   1307\u001b[0m         pos_class\u001b[39m=\u001b[39;49mclass_,\n\u001b[1;32m   1308\u001b[0m         Cs\u001b[39m=\u001b[39;49m[C_],\n\u001b[1;32m   1309\u001b[0m         l1_ratio\u001b[39m=\u001b[39;49m\u001b[39mself\u001b[39;49m\u001b[39m.\u001b[39;49ml1_ratio,\n\u001b[1;32m   1310\u001b[0m         fit_intercept\u001b[39m=\u001b[39;49m\u001b[39mself\u001b[39;49m\u001b[39m.\u001b[39;49mfit_intercept,\n\u001b[1;32m   1311\u001b[0m         tol\u001b[39m=\u001b[39;49m\u001b[39mself\u001b[39;49m\u001b[39m.\u001b[39;49mtol,\n\u001b[1;32m   1312\u001b[0m         verbose\u001b[39m=\u001b[39;49m\u001b[39mself\u001b[39;49m\u001b[39m.\u001b[39;49mverbose,\n\u001b[1;32m   1313\u001b[0m         solver\u001b[39m=\u001b[39;49msolver,\n\u001b[1;32m   1314\u001b[0m         multi_class\u001b[39m=\u001b[39;49mmulti_class,\n\u001b[1;32m   1315\u001b[0m         max_iter\u001b[39m=\u001b[39;49m\u001b[39mself\u001b[39;49m\u001b[39m.\u001b[39;49mmax_iter,\n\u001b[1;32m   1316\u001b[0m         class_weight\u001b[39m=\u001b[39;49m\u001b[39mself\u001b[39;49m\u001b[39m.\u001b[39;49mclass_weight,\n\u001b[1;32m   1317\u001b[0m         check_input\u001b[39m=\u001b[39;49m\u001b[39mFalse\u001b[39;49;00m,\n\u001b[1;32m   1318\u001b[0m         random_state\u001b[39m=\u001b[39;49m\u001b[39mself\u001b[39;49m\u001b[39m.\u001b[39;49mrandom_state,\n\u001b[1;32m   1319\u001b[0m         coef\u001b[39m=\u001b[39;49mwarm_start_coef_,\n\u001b[1;32m   1320\u001b[0m         penalty\u001b[39m=\u001b[39;49mpenalty,\n\u001b[1;32m   1321\u001b[0m         max_squared_sum\u001b[39m=\u001b[39;49mmax_squared_sum,\n\u001b[1;32m   1322\u001b[0m         sample_weight\u001b[39m=\u001b[39;49msample_weight,\n\u001b[1;32m   1323\u001b[0m         n_threads\u001b[39m=\u001b[39;49mn_threads,\n\u001b[1;32m   1324\u001b[0m     )\n\u001b[1;32m   1325\u001b[0m     \u001b[39mfor\u001b[39;49;00m class_, warm_start_coef_ \u001b[39min\u001b[39;49;00m \u001b[39mzip\u001b[39;49m(classes_, warm_start_coef)\n\u001b[1;32m   1326\u001b[0m )\n\u001b[1;32m   1328\u001b[0m fold_coefs_, _, n_iter_ \u001b[39m=\u001b[39m \u001b[39mzip\u001b[39m(\u001b[39m*\u001b[39mfold_coefs_)\n\u001b[1;32m   1329\u001b[0m \u001b[39mself\u001b[39m\u001b[39m.\u001b[39mn_iter_ \u001b[39m=\u001b[39m np\u001b[39m.\u001b[39masarray(n_iter_, dtype\u001b[39m=\u001b[39mnp\u001b[39m.\u001b[39mint32)[:, \u001b[39m0\u001b[39m]\n",
      "File \u001b[0;32m~/work/.venv/lib/python3.10/site-packages/sklearn/utils/parallel.py:65\u001b[0m, in \u001b[0;36mParallel.__call__\u001b[0;34m(self, iterable)\u001b[0m\n\u001b[1;32m     60\u001b[0m config \u001b[39m=\u001b[39m get_config()\n\u001b[1;32m     61\u001b[0m iterable_with_config \u001b[39m=\u001b[39m (\n\u001b[1;32m     62\u001b[0m     (_with_config(delayed_func, config), args, kwargs)\n\u001b[1;32m     63\u001b[0m     \u001b[39mfor\u001b[39;00m delayed_func, args, kwargs \u001b[39min\u001b[39;00m iterable\n\u001b[1;32m     64\u001b[0m )\n\u001b[0;32m---> 65\u001b[0m \u001b[39mreturn\u001b[39;00m \u001b[39msuper\u001b[39;49m()\u001b[39m.\u001b[39;49m\u001b[39m__call__\u001b[39;49m(iterable_with_config)\n",
      "File \u001b[0;32m~/work/.venv/lib/python3.10/site-packages/joblib/parallel.py:1863\u001b[0m, in \u001b[0;36mParallel.__call__\u001b[0;34m(self, iterable)\u001b[0m\n\u001b[1;32m   1861\u001b[0m     output \u001b[39m=\u001b[39m \u001b[39mself\u001b[39m\u001b[39m.\u001b[39m_get_sequential_output(iterable)\n\u001b[1;32m   1862\u001b[0m     \u001b[39mnext\u001b[39m(output)\n\u001b[0;32m-> 1863\u001b[0m     \u001b[39mreturn\u001b[39;00m output \u001b[39mif\u001b[39;00m \u001b[39mself\u001b[39m\u001b[39m.\u001b[39mreturn_generator \u001b[39melse\u001b[39;00m \u001b[39mlist\u001b[39;49m(output)\n\u001b[1;32m   1865\u001b[0m \u001b[39m# Let's create an ID that uniquely identifies the current call. If the\u001b[39;00m\n\u001b[1;32m   1866\u001b[0m \u001b[39m# call is interrupted early and that the same instance is immediately\u001b[39;00m\n\u001b[1;32m   1867\u001b[0m \u001b[39m# re-used, this id will be used to prevent workers that were\u001b[39;00m\n\u001b[1;32m   1868\u001b[0m \u001b[39m# concurrently finalizing a task from the previous call to run the\u001b[39;00m\n\u001b[1;32m   1869\u001b[0m \u001b[39m# callback.\u001b[39;00m\n\u001b[1;32m   1870\u001b[0m \u001b[39mwith\u001b[39;00m \u001b[39mself\u001b[39m\u001b[39m.\u001b[39m_lock:\n",
      "File \u001b[0;32m~/work/.venv/lib/python3.10/site-packages/joblib/parallel.py:1792\u001b[0m, in \u001b[0;36mParallel._get_sequential_output\u001b[0;34m(self, iterable)\u001b[0m\n\u001b[1;32m   1790\u001b[0m \u001b[39mself\u001b[39m\u001b[39m.\u001b[39mn_dispatched_batches \u001b[39m+\u001b[39m\u001b[39m=\u001b[39m \u001b[39m1\u001b[39m\n\u001b[1;32m   1791\u001b[0m \u001b[39mself\u001b[39m\u001b[39m.\u001b[39mn_dispatched_tasks \u001b[39m+\u001b[39m\u001b[39m=\u001b[39m \u001b[39m1\u001b[39m\n\u001b[0;32m-> 1792\u001b[0m res \u001b[39m=\u001b[39m func(\u001b[39m*\u001b[39;49margs, \u001b[39m*\u001b[39;49m\u001b[39m*\u001b[39;49mkwargs)\n\u001b[1;32m   1793\u001b[0m \u001b[39mself\u001b[39m\u001b[39m.\u001b[39mn_completed_tasks \u001b[39m+\u001b[39m\u001b[39m=\u001b[39m \u001b[39m1\u001b[39m\n\u001b[1;32m   1794\u001b[0m \u001b[39mself\u001b[39m\u001b[39m.\u001b[39mprint_progress()\n",
      "File \u001b[0;32m~/work/.venv/lib/python3.10/site-packages/sklearnex/utils/parallel.py:46\u001b[0m, in \u001b[0;36m_FuncWrapper.__call__\u001b[0;34m(self, *args, **kwargs)\u001b[0m\n\u001b[1;32m     44\u001b[0m     config \u001b[39m=\u001b[39m {}\n\u001b[1;32m     45\u001b[0m \u001b[39mwith\u001b[39;00m config_context(\u001b[39m*\u001b[39m\u001b[39m*\u001b[39mconfig):\n\u001b[0;32m---> 46\u001b[0m     \u001b[39mreturn\u001b[39;00m \u001b[39mself\u001b[39;49m\u001b[39m.\u001b[39;49mfunction(\u001b[39m*\u001b[39;49margs, \u001b[39m*\u001b[39;49m\u001b[39m*\u001b[39;49mkwargs)\n",
      "File \u001b[0;32m~/work/.venv/lib/python3.10/site-packages/daal4py/sklearn/_device_offload.py:96\u001b[0m, in \u001b[0;36msupport_usm_ndarray.<locals>.decorator.<locals>.wrapper_with_self\u001b[0;34m(self, *args, **kwargs)\u001b[0m\n\u001b[1;32m     94\u001b[0m \u001b[39m@wraps\u001b[39m(func)\n\u001b[1;32m     95\u001b[0m \u001b[39mdef\u001b[39;00m \u001b[39mwrapper_with_self\u001b[39m(\u001b[39mself\u001b[39m, \u001b[39m*\u001b[39margs, \u001b[39m*\u001b[39m\u001b[39m*\u001b[39mkwargs):\n\u001b[0;32m---> 96\u001b[0m     \u001b[39mreturn\u001b[39;00m wrapper_impl(\u001b[39mself\u001b[39;49m, \u001b[39m*\u001b[39;49margs, \u001b[39m*\u001b[39;49m\u001b[39m*\u001b[39;49mkwargs)\n",
      "File \u001b[0;32m~/work/.venv/lib/python3.10/site-packages/daal4py/sklearn/_device_offload.py:80\u001b[0m, in \u001b[0;36msupport_usm_ndarray.<locals>.decorator.<locals>.wrapper_impl\u001b[0;34m(obj, *args, **kwargs)\u001b[0m\n\u001b[1;32m     78\u001b[0m usm_iface \u001b[39m=\u001b[39m _extract_usm_iface(\u001b[39m*\u001b[39margs, \u001b[39m*\u001b[39m\u001b[39m*\u001b[39mkwargs)\n\u001b[1;32m     79\u001b[0m q, hostargs, hostkwargs \u001b[39m=\u001b[39m _get_host_inputs(\u001b[39m*\u001b[39margs, \u001b[39m*\u001b[39m\u001b[39m*\u001b[39mkwargs)\n\u001b[0;32m---> 80\u001b[0m result \u001b[39m=\u001b[39m _run_on_device(func, q, obj, \u001b[39m*\u001b[39;49mhostargs, \u001b[39m*\u001b[39;49m\u001b[39m*\u001b[39;49mhostkwargs)\n\u001b[1;32m     81\u001b[0m \u001b[39mif\u001b[39;00m usm_iface \u001b[39mis\u001b[39;00m \u001b[39mnot\u001b[39;00m \u001b[39mNone\u001b[39;00m \u001b[39mand\u001b[39;00m \u001b[39mhasattr\u001b[39m(result, \u001b[39m\"\u001b[39m\u001b[39m__array_interface__\u001b[39m\u001b[39m\"\u001b[39m):\n\u001b[1;32m     82\u001b[0m     \u001b[39mreturn\u001b[39;00m _copy_to_usm(q, result)\n",
      "File \u001b[0;32m~/work/.venv/lib/python3.10/site-packages/daal4py/sklearn/_device_offload.py:71\u001b[0m, in \u001b[0;36m_run_on_device\u001b[0;34m(func, queue, obj, *args, **kwargs)\u001b[0m\n\u001b[1;32m     66\u001b[0m         \u001b[39mwith\u001b[39;00m sycl_context(\n\u001b[1;32m     67\u001b[0m             \u001b[39m\"\u001b[39m\u001b[39mgpu\u001b[39m\u001b[39m\"\u001b[39m \u001b[39mif\u001b[39;00m queue\u001b[39m.\u001b[39msycl_device\u001b[39m.\u001b[39mis_gpu \u001b[39melse\u001b[39;00m \u001b[39m\"\u001b[39m\u001b[39mcpu\u001b[39m\u001b[39m\"\u001b[39m,\n\u001b[1;32m     68\u001b[0m             host_offload_on_fail\u001b[39m=\u001b[39mhost_offload,\n\u001b[1;32m     69\u001b[0m         ):\n\u001b[1;32m     70\u001b[0m             \u001b[39mreturn\u001b[39;00m dispatch_by_obj(obj, func, \u001b[39m*\u001b[39margs, \u001b[39m*\u001b[39m\u001b[39m*\u001b[39mkwargs)\n\u001b[0;32m---> 71\u001b[0m \u001b[39mreturn\u001b[39;00m dispatch_by_obj(obj, func, \u001b[39m*\u001b[39;49margs, \u001b[39m*\u001b[39;49m\u001b[39m*\u001b[39;49mkwargs)\n",
      "File \u001b[0;32m~/work/.venv/lib/python3.10/site-packages/daal4py/sklearn/_device_offload.py:57\u001b[0m, in \u001b[0;36m_run_on_device.<locals>.dispatch_by_obj\u001b[0;34m(obj, func, *args, **kwargs)\u001b[0m\n\u001b[1;32m     55\u001b[0m \u001b[39mdef\u001b[39;00m \u001b[39mdispatch_by_obj\u001b[39m(obj, func, \u001b[39m*\u001b[39margs, \u001b[39m*\u001b[39m\u001b[39m*\u001b[39mkwargs):\n\u001b[1;32m     56\u001b[0m     \u001b[39mif\u001b[39;00m obj \u001b[39mis\u001b[39;00m \u001b[39mnot\u001b[39;00m \u001b[39mNone\u001b[39;00m:\n\u001b[0;32m---> 57\u001b[0m         \u001b[39mreturn\u001b[39;00m func(obj, \u001b[39m*\u001b[39;49margs, \u001b[39m*\u001b[39;49m\u001b[39m*\u001b[39;49mkwargs)\n\u001b[1;32m     58\u001b[0m     \u001b[39mreturn\u001b[39;00m func(\u001b[39m*\u001b[39margs, \u001b[39m*\u001b[39m\u001b[39m*\u001b[39mkwargs)\n",
      "File \u001b[0;32m~/work/.venv/lib/python3.10/site-packages/daal4py/sklearn/linear_model/logistic_path.py:901\u001b[0m, in \u001b[0;36mlogistic_regression_path\u001b[0;34m(X, y, pos_class, Cs, fit_intercept, max_iter, tol, verbose, solver, coef, class_weight, dual, penalty, intercept_scaling, multi_class, random_state, check_input, max_squared_sum, sample_weight, l1_ratio, n_threads)\u001b[0m\n\u001b[1;32m    876\u001b[0m \u001b[39m@support_usm_ndarray\u001b[39m()\n\u001b[1;32m    877\u001b[0m \u001b[39mdef\u001b[39;00m \u001b[39mlogistic_regression_path\u001b[39m(\n\u001b[1;32m    878\u001b[0m     X,\n\u001b[0;32m   (...)\u001b[0m\n\u001b[1;32m    898\u001b[0m     n_threads\u001b[39m=\u001b[39m\u001b[39m1\u001b[39m,\n\u001b[1;32m    899\u001b[0m ):\n\u001b[1;32m    900\u001b[0m     \u001b[39mif\u001b[39;00m sklearn_check_version(\u001b[39m\"\u001b[39m\u001b[39m1.1\u001b[39m\u001b[39m\"\u001b[39m):\n\u001b[0;32m--> 901\u001b[0m         \u001b[39mreturn\u001b[39;00m __logistic_regression_path(\n\u001b[1;32m    902\u001b[0m             X,\n\u001b[1;32m    903\u001b[0m             y,\n\u001b[1;32m    904\u001b[0m             pos_class\u001b[39m=\u001b[39;49mpos_class,\n\u001b[1;32m    905\u001b[0m             Cs\u001b[39m=\u001b[39;49mCs,\n\u001b[1;32m    906\u001b[0m             fit_intercept\u001b[39m=\u001b[39;49mfit_intercept,\n\u001b[1;32m    907\u001b[0m             max_iter\u001b[39m=\u001b[39;49mmax_iter,\n\u001b[1;32m    908\u001b[0m             tol\u001b[39m=\u001b[39;49mtol,\n\u001b[1;32m    909\u001b[0m             verbose\u001b[39m=\u001b[39;49mverbose,\n\u001b[1;32m    910\u001b[0m             solver\u001b[39m=\u001b[39;49msolver,\n\u001b[1;32m    911\u001b[0m             coef\u001b[39m=\u001b[39;49mcoef,\n\u001b[1;32m    912\u001b[0m             class_weight\u001b[39m=\u001b[39;49mclass_weight,\n\u001b[1;32m    913\u001b[0m             dual\u001b[39m=\u001b[39;49mdual,\n\u001b[1;32m    914\u001b[0m             penalty\u001b[39m=\u001b[39;49mpenalty,\n\u001b[1;32m    915\u001b[0m             intercept_scaling\u001b[39m=\u001b[39;49mintercept_scaling,\n\u001b[1;32m    916\u001b[0m             multi_class\u001b[39m=\u001b[39;49mmulti_class,\n\u001b[1;32m    917\u001b[0m             random_state\u001b[39m=\u001b[39;49mrandom_state,\n\u001b[1;32m    918\u001b[0m             check_input\u001b[39m=\u001b[39;49mcheck_input,\n\u001b[1;32m    919\u001b[0m             max_squared_sum\u001b[39m=\u001b[39;49mmax_squared_sum,\n\u001b[1;32m    920\u001b[0m             sample_weight\u001b[39m=\u001b[39;49msample_weight,\n\u001b[1;32m    921\u001b[0m             l1_ratio\u001b[39m=\u001b[39;49ml1_ratio,\n\u001b[1;32m    922\u001b[0m             n_threads\u001b[39m=\u001b[39;49mn_threads,\n\u001b[1;32m    923\u001b[0m         )\n\u001b[1;32m    924\u001b[0m     \u001b[39mreturn\u001b[39;00m __logistic_regression_path(\n\u001b[1;32m    925\u001b[0m         X,\n\u001b[1;32m    926\u001b[0m         y,\n\u001b[0;32m   (...)\u001b[0m\n\u001b[1;32m    944\u001b[0m         l1_ratio\u001b[39m=\u001b[39ml1_ratio,\n\u001b[1;32m    945\u001b[0m     )\n",
      "File \u001b[0;32m~/work/.venv/lib/python3.10/site-packages/daal4py/sklearn/linear_model/logistic_path.py:615\u001b[0m, in \u001b[0;36m__logistic_regression_path\u001b[0;34m(X, y, pos_class, Cs, fit_intercept, max_iter, tol, verbose, solver, coef, class_weight, dual, penalty, intercept_scaling, multi_class, random_state, check_input, max_squared_sum, sample_weight, l1_ratio, n_threads)\u001b[0m\n\u001b[1;32m    610\u001b[0m         extra_args \u001b[39m=\u001b[39m (X, target, \u001b[39m1.0\u001b[39m \u001b[39m/\u001b[39m C, sample_weight)\n\u001b[1;32m    612\u001b[0m iprint \u001b[39m=\u001b[39m [\u001b[39m-\u001b[39m\u001b[39m1\u001b[39m, \u001b[39m50\u001b[39m, \u001b[39m1\u001b[39m, \u001b[39m100\u001b[39m, \u001b[39m101\u001b[39m][\n\u001b[1;32m    613\u001b[0m     np\u001b[39m.\u001b[39msearchsorted(np\u001b[39m.\u001b[39marray([\u001b[39m0\u001b[39m, \u001b[39m1\u001b[39m, \u001b[39m2\u001b[39m, \u001b[39m3\u001b[39m]), verbose)\n\u001b[1;32m    614\u001b[0m ]\n\u001b[0;32m--> 615\u001b[0m opt_res \u001b[39m=\u001b[39m optimize\u001b[39m.\u001b[39;49mminimize(\n\u001b[1;32m    616\u001b[0m     func,\n\u001b[1;32m    617\u001b[0m     w0,\n\u001b[1;32m    618\u001b[0m     method\u001b[39m=\u001b[39;49m\u001b[39m\"\u001b[39;49m\u001b[39mL-BFGS-B\u001b[39;49m\u001b[39m\"\u001b[39;49m,\n\u001b[1;32m    619\u001b[0m     jac\u001b[39m=\u001b[39;49m\u001b[39mTrue\u001b[39;49;00m,\n\u001b[1;32m    620\u001b[0m     args\u001b[39m=\u001b[39;49mextra_args,\n\u001b[1;32m    621\u001b[0m     options\u001b[39m=\u001b[39;49m{\u001b[39m\"\u001b[39;49m\u001b[39miprint\u001b[39;49m\u001b[39m\"\u001b[39;49m: iprint, \u001b[39m\"\u001b[39;49m\u001b[39mgtol\u001b[39;49m\u001b[39m\"\u001b[39;49m: tol, \u001b[39m\"\u001b[39;49m\u001b[39mmaxiter\u001b[39;49m\u001b[39m\"\u001b[39;49m: max_iter},\n\u001b[1;32m    622\u001b[0m )\n\u001b[1;32m    623\u001b[0m n_iter_i \u001b[39m=\u001b[39m _check_optimize_result(\n\u001b[1;32m    624\u001b[0m     solver,\n\u001b[1;32m    625\u001b[0m     opt_res,\n\u001b[1;32m    626\u001b[0m     max_iter,\n\u001b[1;32m    627\u001b[0m     extra_warning_msg\u001b[39m=\u001b[39m_LOGISTIC_SOLVER_CONVERGENCE_MSG,\n\u001b[1;32m    628\u001b[0m )\n\u001b[1;32m    629\u001b[0m w0, loss \u001b[39m=\u001b[39m opt_res\u001b[39m.\u001b[39mx, opt_res\u001b[39m.\u001b[39mfun\n",
      "File \u001b[0;32m~/work/.venv/lib/python3.10/site-packages/scipy/optimize/_minimize.py:710\u001b[0m, in \u001b[0;36mminimize\u001b[0;34m(fun, x0, args, method, jac, hess, hessp, bounds, constraints, tol, callback, options)\u001b[0m\n\u001b[1;32m    707\u001b[0m     res \u001b[39m=\u001b[39m _minimize_newtoncg(fun, x0, args, jac, hess, hessp, callback,\n\u001b[1;32m    708\u001b[0m                              \u001b[39m*\u001b[39m\u001b[39m*\u001b[39moptions)\n\u001b[1;32m    709\u001b[0m \u001b[39melif\u001b[39;00m meth \u001b[39m==\u001b[39m \u001b[39m'\u001b[39m\u001b[39ml-bfgs-b\u001b[39m\u001b[39m'\u001b[39m:\n\u001b[0;32m--> 710\u001b[0m     res \u001b[39m=\u001b[39m _minimize_lbfgsb(fun, x0, args, jac, bounds,\n\u001b[1;32m    711\u001b[0m                            callback\u001b[39m=\u001b[39;49mcallback, \u001b[39m*\u001b[39;49m\u001b[39m*\u001b[39;49moptions)\n\u001b[1;32m    712\u001b[0m \u001b[39melif\u001b[39;00m meth \u001b[39m==\u001b[39m \u001b[39m'\u001b[39m\u001b[39mtnc\u001b[39m\u001b[39m'\u001b[39m:\n\u001b[1;32m    713\u001b[0m     res \u001b[39m=\u001b[39m _minimize_tnc(fun, x0, args, jac, bounds, callback\u001b[39m=\u001b[39mcallback,\n\u001b[1;32m    714\u001b[0m                         \u001b[39m*\u001b[39m\u001b[39m*\u001b[39moptions)\n",
      "File \u001b[0;32m~/work/.venv/lib/python3.10/site-packages/scipy/optimize/_lbfgsb_py.py:365\u001b[0m, in \u001b[0;36m_minimize_lbfgsb\u001b[0;34m(fun, x0, args, jac, bounds, disp, maxcor, ftol, gtol, eps, maxfun, maxiter, iprint, callback, maxls, finite_diff_rel_step, **unknown_options)\u001b[0m\n\u001b[1;32m    359\u001b[0m task_str \u001b[39m=\u001b[39m task\u001b[39m.\u001b[39mtobytes()\n\u001b[1;32m    360\u001b[0m \u001b[39mif\u001b[39;00m task_str\u001b[39m.\u001b[39mstartswith(\u001b[39mb\u001b[39m\u001b[39m'\u001b[39m\u001b[39mFG\u001b[39m\u001b[39m'\u001b[39m):\n\u001b[1;32m    361\u001b[0m     \u001b[39m# The minimization routine wants f and g at the current x.\u001b[39;00m\n\u001b[1;32m    362\u001b[0m     \u001b[39m# Note that interruptions due to maxfun are postponed\u001b[39;00m\n\u001b[1;32m    363\u001b[0m     \u001b[39m# until the completion of the current minimization iteration.\u001b[39;00m\n\u001b[1;32m    364\u001b[0m     \u001b[39m# Overwrite f and g:\u001b[39;00m\n\u001b[0;32m--> 365\u001b[0m     f, g \u001b[39m=\u001b[39m func_and_grad(x)\n\u001b[1;32m    366\u001b[0m \u001b[39melif\u001b[39;00m task_str\u001b[39m.\u001b[39mstartswith(\u001b[39mb\u001b[39m\u001b[39m'\u001b[39m\u001b[39mNEW_X\u001b[39m\u001b[39m'\u001b[39m):\n\u001b[1;32m    367\u001b[0m     \u001b[39m# new iteration\u001b[39;00m\n\u001b[1;32m    368\u001b[0m     n_iterations \u001b[39m+\u001b[39m\u001b[39m=\u001b[39m \u001b[39m1\u001b[39m\n",
      "File \u001b[0;32m~/work/.venv/lib/python3.10/site-packages/scipy/optimize/_differentiable_functions.py:285\u001b[0m, in \u001b[0;36mScalarFunction.fun_and_grad\u001b[0;34m(self, x)\u001b[0m\n\u001b[1;32m    283\u001b[0m \u001b[39mif\u001b[39;00m \u001b[39mnot\u001b[39;00m np\u001b[39m.\u001b[39marray_equal(x, \u001b[39mself\u001b[39m\u001b[39m.\u001b[39mx):\n\u001b[1;32m    284\u001b[0m     \u001b[39mself\u001b[39m\u001b[39m.\u001b[39m_update_x_impl(x)\n\u001b[0;32m--> 285\u001b[0m \u001b[39mself\u001b[39;49m\u001b[39m.\u001b[39;49m_update_fun()\n\u001b[1;32m    286\u001b[0m \u001b[39mself\u001b[39m\u001b[39m.\u001b[39m_update_grad()\n\u001b[1;32m    287\u001b[0m \u001b[39mreturn\u001b[39;00m \u001b[39mself\u001b[39m\u001b[39m.\u001b[39mf, \u001b[39mself\u001b[39m\u001b[39m.\u001b[39mg\n",
      "File \u001b[0;32m~/work/.venv/lib/python3.10/site-packages/scipy/optimize/_differentiable_functions.py:251\u001b[0m, in \u001b[0;36mScalarFunction._update_fun\u001b[0;34m(self)\u001b[0m\n\u001b[1;32m    249\u001b[0m \u001b[39mdef\u001b[39;00m \u001b[39m_update_fun\u001b[39m(\u001b[39mself\u001b[39m):\n\u001b[1;32m    250\u001b[0m     \u001b[39mif\u001b[39;00m \u001b[39mnot\u001b[39;00m \u001b[39mself\u001b[39m\u001b[39m.\u001b[39mf_updated:\n\u001b[0;32m--> 251\u001b[0m         \u001b[39mself\u001b[39;49m\u001b[39m.\u001b[39;49m_update_fun_impl()\n\u001b[1;32m    252\u001b[0m         \u001b[39mself\u001b[39m\u001b[39m.\u001b[39mf_updated \u001b[39m=\u001b[39m \u001b[39mTrue\u001b[39;00m\n",
      "File \u001b[0;32m~/work/.venv/lib/python3.10/site-packages/scipy/optimize/_differentiable_functions.py:155\u001b[0m, in \u001b[0;36mScalarFunction.__init__.<locals>.update_fun\u001b[0;34m()\u001b[0m\n\u001b[1;32m    154\u001b[0m \u001b[39mdef\u001b[39;00m \u001b[39mupdate_fun\u001b[39m():\n\u001b[0;32m--> 155\u001b[0m     \u001b[39mself\u001b[39m\u001b[39m.\u001b[39mf \u001b[39m=\u001b[39m fun_wrapped(\u001b[39mself\u001b[39;49m\u001b[39m.\u001b[39;49mx)\n",
      "File \u001b[0;32m~/work/.venv/lib/python3.10/site-packages/scipy/optimize/_differentiable_functions.py:137\u001b[0m, in \u001b[0;36mScalarFunction.__init__.<locals>.fun_wrapped\u001b[0;34m(x)\u001b[0m\n\u001b[1;32m    133\u001b[0m \u001b[39mself\u001b[39m\u001b[39m.\u001b[39mnfev \u001b[39m+\u001b[39m\u001b[39m=\u001b[39m \u001b[39m1\u001b[39m\n\u001b[1;32m    134\u001b[0m \u001b[39m# Send a copy because the user may overwrite it.\u001b[39;00m\n\u001b[1;32m    135\u001b[0m \u001b[39m# Overwriting results in undefined behaviour because\u001b[39;00m\n\u001b[1;32m    136\u001b[0m \u001b[39m# fun(self.x) will change self.x, with the two no longer linked.\u001b[39;00m\n\u001b[0;32m--> 137\u001b[0m fx \u001b[39m=\u001b[39m fun(np\u001b[39m.\u001b[39;49mcopy(x), \u001b[39m*\u001b[39;49margs)\n\u001b[1;32m    138\u001b[0m \u001b[39m# Make sure the function returns a true scalar\u001b[39;00m\n\u001b[1;32m    139\u001b[0m \u001b[39mif\u001b[39;00m \u001b[39mnot\u001b[39;00m np\u001b[39m.\u001b[39misscalar(fx):\n",
      "File \u001b[0;32m~/work/.venv/lib/python3.10/site-packages/scipy/optimize/_optimize.py:77\u001b[0m, in \u001b[0;36mMemoizeJac.__call__\u001b[0;34m(self, x, *args)\u001b[0m\n\u001b[1;32m     75\u001b[0m \u001b[39mdef\u001b[39;00m \u001b[39m__call__\u001b[39m(\u001b[39mself\u001b[39m, x, \u001b[39m*\u001b[39margs):\n\u001b[1;32m     76\u001b[0m \u001b[39m    \u001b[39m\u001b[39m\"\"\" returns the function value \"\"\"\u001b[39;00m\n\u001b[0;32m---> 77\u001b[0m     \u001b[39mself\u001b[39;49m\u001b[39m.\u001b[39;49m_compute_if_needed(x, \u001b[39m*\u001b[39;49margs)\n\u001b[1;32m     78\u001b[0m     \u001b[39mreturn\u001b[39;00m \u001b[39mself\u001b[39m\u001b[39m.\u001b[39m_value\n",
      "File \u001b[0;32m~/work/.venv/lib/python3.10/site-packages/scipy/optimize/_optimize.py:71\u001b[0m, in \u001b[0;36mMemoizeJac._compute_if_needed\u001b[0;34m(self, x, *args)\u001b[0m\n\u001b[1;32m     69\u001b[0m \u001b[39mif\u001b[39;00m \u001b[39mnot\u001b[39;00m np\u001b[39m.\u001b[39mall(x \u001b[39m==\u001b[39m \u001b[39mself\u001b[39m\u001b[39m.\u001b[39mx) \u001b[39mor\u001b[39;00m \u001b[39mself\u001b[39m\u001b[39m.\u001b[39m_value \u001b[39mis\u001b[39;00m \u001b[39mNone\u001b[39;00m \u001b[39mor\u001b[39;00m \u001b[39mself\u001b[39m\u001b[39m.\u001b[39mjac \u001b[39mis\u001b[39;00m \u001b[39mNone\u001b[39;00m:\n\u001b[1;32m     70\u001b[0m     \u001b[39mself\u001b[39m\u001b[39m.\u001b[39mx \u001b[39m=\u001b[39m np\u001b[39m.\u001b[39masarray(x)\u001b[39m.\u001b[39mcopy()\n\u001b[0;32m---> 71\u001b[0m     fg \u001b[39m=\u001b[39m \u001b[39mself\u001b[39;49m\u001b[39m.\u001b[39;49mfun(x, \u001b[39m*\u001b[39;49margs)\n\u001b[1;32m     72\u001b[0m     \u001b[39mself\u001b[39m\u001b[39m.\u001b[39mjac \u001b[39m=\u001b[39m fg[\u001b[39m1\u001b[39m]\n\u001b[1;32m     73\u001b[0m     \u001b[39mself\u001b[39m\u001b[39m.\u001b[39m_value \u001b[39m=\u001b[39m fg[\u001b[39m0\u001b[39m]\n",
      "File \u001b[0;32m~/work/.venv/lib/python3.10/site-packages/sklearn/linear_model/_linear_loss.py:290\u001b[0m, in \u001b[0;36mLinearModelLoss.loss_gradient\u001b[0;34m(self, coef, X, y, sample_weight, l2_reg_strength, n_threads, raw_prediction)\u001b[0m\n\u001b[1;32m    288\u001b[0m \u001b[39mif\u001b[39;00m \u001b[39mnot\u001b[39;00m \u001b[39mself\u001b[39m\u001b[39m.\u001b[39mbase_loss\u001b[39m.\u001b[39mis_multiclass:\n\u001b[1;32m    289\u001b[0m     grad \u001b[39m=\u001b[39m np\u001b[39m.\u001b[39mempty_like(coef, dtype\u001b[39m=\u001b[39mweights\u001b[39m.\u001b[39mdtype)\n\u001b[0;32m--> 290\u001b[0m     grad[:n_features] \u001b[39m=\u001b[39m X\u001b[39m.\u001b[39;49mT \u001b[39m@\u001b[39;49m grad_pointwise \u001b[39m+\u001b[39m l2_reg_strength \u001b[39m*\u001b[39m weights\n\u001b[1;32m    291\u001b[0m     \u001b[39mif\u001b[39;00m \u001b[39mself\u001b[39m\u001b[39m.\u001b[39mfit_intercept:\n\u001b[1;32m    292\u001b[0m         grad[\u001b[39m-\u001b[39m\u001b[39m1\u001b[39m] \u001b[39m=\u001b[39m grad_pointwise\u001b[39m.\u001b[39msum()\n",
      "File \u001b[0;32m~/work/.venv/lib/python3.10/site-packages/scipy/sparse/_base.py:624\u001b[0m, in \u001b[0;36m_spbase.__matmul__\u001b[0;34m(self, other)\u001b[0m\n\u001b[1;32m    621\u001b[0m \u001b[39mif\u001b[39;00m isscalarlike(other):\n\u001b[1;32m    622\u001b[0m     \u001b[39mraise\u001b[39;00m \u001b[39mValueError\u001b[39;00m(\u001b[39m\"\u001b[39m\u001b[39mScalar operands are not allowed, \u001b[39m\u001b[39m\"\u001b[39m\n\u001b[1;32m    623\u001b[0m                      \u001b[39m\"\u001b[39m\u001b[39muse \u001b[39m\u001b[39m'\u001b[39m\u001b[39m*\u001b[39m\u001b[39m'\u001b[39m\u001b[39m instead\u001b[39m\u001b[39m\"\u001b[39m)\n\u001b[0;32m--> 624\u001b[0m \u001b[39mreturn\u001b[39;00m \u001b[39mself\u001b[39;49m\u001b[39m.\u001b[39;49m_mul_dispatch(other)\n",
      "File \u001b[0;32m~/work/.venv/lib/python3.10/site-packages/scipy/sparse/_base.py:522\u001b[0m, in \u001b[0;36m_spbase._mul_dispatch\u001b[0;34m(self, other)\u001b[0m\n\u001b[1;32m    519\u001b[0m \u001b[39mif\u001b[39;00m other\u001b[39m.\u001b[39m\u001b[39m__class__\u001b[39m \u001b[39mis\u001b[39;00m np\u001b[39m.\u001b[39mndarray:\n\u001b[1;32m    520\u001b[0m     \u001b[39m# Fast path for the most common case\u001b[39;00m\n\u001b[1;32m    521\u001b[0m     \u001b[39mif\u001b[39;00m other\u001b[39m.\u001b[39mshape \u001b[39m==\u001b[39m (N,):\n\u001b[0;32m--> 522\u001b[0m         \u001b[39mreturn\u001b[39;00m \u001b[39mself\u001b[39;49m\u001b[39m.\u001b[39;49m_mul_vector(other)\n\u001b[1;32m    523\u001b[0m     \u001b[39melif\u001b[39;00m other\u001b[39m.\u001b[39mshape \u001b[39m==\u001b[39m (N, \u001b[39m1\u001b[39m):\n\u001b[1;32m    524\u001b[0m         \u001b[39mreturn\u001b[39;00m \u001b[39mself\u001b[39m\u001b[39m.\u001b[39m_mul_vector(other\u001b[39m.\u001b[39mravel())\u001b[39m.\u001b[39mreshape(M, \u001b[39m1\u001b[39m)\n",
      "File \u001b[0;32m~/work/.venv/lib/python3.10/site-packages/scipy/sparse/_compressed.py:488\u001b[0m, in \u001b[0;36m_cs_matrix._mul_vector\u001b[0;34m(self, other)\u001b[0m\n\u001b[1;32m    486\u001b[0m \u001b[39m# csr_matvec or csc_matvec\u001b[39;00m\n\u001b[1;32m    487\u001b[0m fn \u001b[39m=\u001b[39m \u001b[39mgetattr\u001b[39m(_sparsetools, \u001b[39mself\u001b[39m\u001b[39m.\u001b[39mformat \u001b[39m+\u001b[39m \u001b[39m'\u001b[39m\u001b[39m_matvec\u001b[39m\u001b[39m'\u001b[39m)\n\u001b[0;32m--> 488\u001b[0m fn(M, N, \u001b[39mself\u001b[39;49m\u001b[39m.\u001b[39;49mindptr, \u001b[39mself\u001b[39;49m\u001b[39m.\u001b[39;49mindices, \u001b[39mself\u001b[39;49m\u001b[39m.\u001b[39;49mdata, other, result)\n\u001b[1;32m    490\u001b[0m \u001b[39mreturn\u001b[39;00m result\n",
      "\u001b[0;31mKeyboardInterrupt\u001b[0m: "
     ]
    }
   ],
   "source": [
    "\n",
    "# Hyperparameter tuning using GridSearchCV\n",
    "param_grid = {'C': [0.5, 0.6, 0.7, 0.8, 0.9]}\n",
    "grid_search = GridSearchCV(model_lr, param_grid, cv=StratifiedKFold(n_splits=5), scoring='accuracy')\n",
    "grid_search.fit(cv_train_features, polarite_train)\n",
    "\n",
    "# Print best parameters\n",
    "print(\"Best Parameters: \", grid_search.best_params_)\n",
    "\n",
    "best_model = grid_search.best_estimator_"
   ]
  },
  {
   "cell_type": "code",
   "execution_count": null,
   "metadata": {},
   "outputs": [
    {
     "ename": "KeyboardInterrupt",
     "evalue": "",
     "output_type": "error",
     "traceback": [
      "\u001b[0;31m---------------------------------------------------------------------------\u001b[0m",
      "\u001b[0;31mKeyboardInterrupt\u001b[0m                         Traceback (most recent call last)",
      "File \u001b[0;32m<timed exec>:2\u001b[0m\n",
      "\u001b[1;32m/home/onyxia/work/python_ds_film/notebook_final.ipynb Cell 128\u001b[0m line \u001b[0;36m9\n\u001b[1;32m      <a href='vscode-notebook-cell://user-mastoche-352769-0.user.lab.sspcloud.fr/home/onyxia/work/python_ds_film/notebook_final.ipynb#Y243sdnNjb2RlLXJlbW90ZQ%3D%3D?line=6'>7</a>\u001b[0m \u001b[39mdef\u001b[39;00m \u001b[39mevaluate_model\u001b[39m(model, train_features, train_labels, test_features, test_labels):\n\u001b[0;32m----> <a href='vscode-notebook-cell://user-mastoche-352769-0.user.lab.sspcloud.fr/home/onyxia/work/python_ds_film/notebook_final.ipynb#Y243sdnNjb2RlLXJlbW90ZQ%3D%3D?line=8'>9</a>\u001b[0m     model\u001b[39m.\u001b[39;49mfit(train_features, train_labels)\n\u001b[1;32m     <a href='vscode-notebook-cell://user-mastoche-352769-0.user.lab.sspcloud.fr/home/onyxia/work/python_ds_film/notebook_final.ipynb#Y243sdnNjb2RlLXJlbW90ZQ%3D%3D?line=10'>11</a>\u001b[0m     \u001b[39m# Cross-validation \u001b[39;00m\n\u001b[1;32m     <a href='vscode-notebook-cell://user-mastoche-352769-0.user.lab.sspcloud.fr/home/onyxia/work/python_ds_film/notebook_final.ipynb#Y243sdnNjb2RlLXJlbW90ZQ%3D%3D?line=11'>12</a>\u001b[0m     cv_scores \u001b[39m=\u001b[39m cross_val_score(model, train_features, train_labels, cv\u001b[39m=\u001b[39mStratifiedKFold(n_splits\u001b[39m=\u001b[39m\u001b[39m5\u001b[39m), scoring\u001b[39m=\u001b[39m\u001b[39m'\u001b[39m\u001b[39maccuracy\u001b[39m\u001b[39m'\u001b[39m)\n",
      "File \u001b[0;32m~/work/.venv/lib/python3.10/site-packages/sklearn/base.py:1152\u001b[0m, in \u001b[0;36m_fit_context.<locals>.decorator.<locals>.wrapper\u001b[0;34m(estimator, *args, **kwargs)\u001b[0m\n\u001b[1;32m   1145\u001b[0m     estimator\u001b[39m.\u001b[39m_validate_params()\n\u001b[1;32m   1147\u001b[0m \u001b[39mwith\u001b[39;00m config_context(\n\u001b[1;32m   1148\u001b[0m     skip_parameter_validation\u001b[39m=\u001b[39m(\n\u001b[1;32m   1149\u001b[0m         prefer_skip_nested_validation \u001b[39mor\u001b[39;00m global_skip_validation\n\u001b[1;32m   1150\u001b[0m     )\n\u001b[1;32m   1151\u001b[0m ):\n\u001b[0;32m-> 1152\u001b[0m     \u001b[39mreturn\u001b[39;00m fit_method(estimator, \u001b[39m*\u001b[39;49margs, \u001b[39m*\u001b[39;49m\u001b[39m*\u001b[39;49mkwargs)\n",
      "File \u001b[0;32m~/work/.venv/lib/python3.10/site-packages/sklearn/linear_model/_logistic.py:1303\u001b[0m, in \u001b[0;36mLogisticRegression.fit\u001b[0;34m(self, X, y, sample_weight)\u001b[0m\n\u001b[1;32m   1300\u001b[0m \u001b[39melse\u001b[39;00m:\n\u001b[1;32m   1301\u001b[0m     n_threads \u001b[39m=\u001b[39m \u001b[39m1\u001b[39m\n\u001b[0;32m-> 1303\u001b[0m fold_coefs_ \u001b[39m=\u001b[39m Parallel(n_jobs\u001b[39m=\u001b[39;49m\u001b[39mself\u001b[39;49m\u001b[39m.\u001b[39;49mn_jobs, verbose\u001b[39m=\u001b[39;49m\u001b[39mself\u001b[39;49m\u001b[39m.\u001b[39;49mverbose, prefer\u001b[39m=\u001b[39;49mprefer)(\n\u001b[1;32m   1304\u001b[0m     path_func(\n\u001b[1;32m   1305\u001b[0m         X,\n\u001b[1;32m   1306\u001b[0m         y,\n\u001b[1;32m   1307\u001b[0m         pos_class\u001b[39m=\u001b[39;49mclass_,\n\u001b[1;32m   1308\u001b[0m         Cs\u001b[39m=\u001b[39;49m[C_],\n\u001b[1;32m   1309\u001b[0m         l1_ratio\u001b[39m=\u001b[39;49m\u001b[39mself\u001b[39;49m\u001b[39m.\u001b[39;49ml1_ratio,\n\u001b[1;32m   1310\u001b[0m         fit_intercept\u001b[39m=\u001b[39;49m\u001b[39mself\u001b[39;49m\u001b[39m.\u001b[39;49mfit_intercept,\n\u001b[1;32m   1311\u001b[0m         tol\u001b[39m=\u001b[39;49m\u001b[39mself\u001b[39;49m\u001b[39m.\u001b[39;49mtol,\n\u001b[1;32m   1312\u001b[0m         verbose\u001b[39m=\u001b[39;49m\u001b[39mself\u001b[39;49m\u001b[39m.\u001b[39;49mverbose,\n\u001b[1;32m   1313\u001b[0m         solver\u001b[39m=\u001b[39;49msolver,\n\u001b[1;32m   1314\u001b[0m         multi_class\u001b[39m=\u001b[39;49mmulti_class,\n\u001b[1;32m   1315\u001b[0m         max_iter\u001b[39m=\u001b[39;49m\u001b[39mself\u001b[39;49m\u001b[39m.\u001b[39;49mmax_iter,\n\u001b[1;32m   1316\u001b[0m         class_weight\u001b[39m=\u001b[39;49m\u001b[39mself\u001b[39;49m\u001b[39m.\u001b[39;49mclass_weight,\n\u001b[1;32m   1317\u001b[0m         check_input\u001b[39m=\u001b[39;49m\u001b[39mFalse\u001b[39;49;00m,\n\u001b[1;32m   1318\u001b[0m         random_state\u001b[39m=\u001b[39;49m\u001b[39mself\u001b[39;49m\u001b[39m.\u001b[39;49mrandom_state,\n\u001b[1;32m   1319\u001b[0m         coef\u001b[39m=\u001b[39;49mwarm_start_coef_,\n\u001b[1;32m   1320\u001b[0m         penalty\u001b[39m=\u001b[39;49mpenalty,\n\u001b[1;32m   1321\u001b[0m         max_squared_sum\u001b[39m=\u001b[39;49mmax_squared_sum,\n\u001b[1;32m   1322\u001b[0m         sample_weight\u001b[39m=\u001b[39;49msample_weight,\n\u001b[1;32m   1323\u001b[0m         n_threads\u001b[39m=\u001b[39;49mn_threads,\n\u001b[1;32m   1324\u001b[0m     )\n\u001b[1;32m   1325\u001b[0m     \u001b[39mfor\u001b[39;49;00m class_, warm_start_coef_ \u001b[39min\u001b[39;49;00m \u001b[39mzip\u001b[39;49m(classes_, warm_start_coef)\n\u001b[1;32m   1326\u001b[0m )\n\u001b[1;32m   1328\u001b[0m fold_coefs_, _, n_iter_ \u001b[39m=\u001b[39m \u001b[39mzip\u001b[39m(\u001b[39m*\u001b[39mfold_coefs_)\n\u001b[1;32m   1329\u001b[0m \u001b[39mself\u001b[39m\u001b[39m.\u001b[39mn_iter_ \u001b[39m=\u001b[39m np\u001b[39m.\u001b[39masarray(n_iter_, dtype\u001b[39m=\u001b[39mnp\u001b[39m.\u001b[39mint32)[:, \u001b[39m0\u001b[39m]\n",
      "File \u001b[0;32m~/work/.venv/lib/python3.10/site-packages/sklearn/utils/parallel.py:65\u001b[0m, in \u001b[0;36mParallel.__call__\u001b[0;34m(self, iterable)\u001b[0m\n\u001b[1;32m     60\u001b[0m config \u001b[39m=\u001b[39m get_config()\n\u001b[1;32m     61\u001b[0m iterable_with_config \u001b[39m=\u001b[39m (\n\u001b[1;32m     62\u001b[0m     (_with_config(delayed_func, config), args, kwargs)\n\u001b[1;32m     63\u001b[0m     \u001b[39mfor\u001b[39;00m delayed_func, args, kwargs \u001b[39min\u001b[39;00m iterable\n\u001b[1;32m     64\u001b[0m )\n\u001b[0;32m---> 65\u001b[0m \u001b[39mreturn\u001b[39;00m \u001b[39msuper\u001b[39;49m()\u001b[39m.\u001b[39;49m\u001b[39m__call__\u001b[39;49m(iterable_with_config)\n",
      "File \u001b[0;32m~/work/.venv/lib/python3.10/site-packages/joblib/parallel.py:1863\u001b[0m, in \u001b[0;36mParallel.__call__\u001b[0;34m(self, iterable)\u001b[0m\n\u001b[1;32m   1861\u001b[0m     output \u001b[39m=\u001b[39m \u001b[39mself\u001b[39m\u001b[39m.\u001b[39m_get_sequential_output(iterable)\n\u001b[1;32m   1862\u001b[0m     \u001b[39mnext\u001b[39m(output)\n\u001b[0;32m-> 1863\u001b[0m     \u001b[39mreturn\u001b[39;00m output \u001b[39mif\u001b[39;00m \u001b[39mself\u001b[39m\u001b[39m.\u001b[39mreturn_generator \u001b[39melse\u001b[39;00m \u001b[39mlist\u001b[39;49m(output)\n\u001b[1;32m   1865\u001b[0m \u001b[39m# Let's create an ID that uniquely identifies the current call. If the\u001b[39;00m\n\u001b[1;32m   1866\u001b[0m \u001b[39m# call is interrupted early and that the same instance is immediately\u001b[39;00m\n\u001b[1;32m   1867\u001b[0m \u001b[39m# re-used, this id will be used to prevent workers that were\u001b[39;00m\n\u001b[1;32m   1868\u001b[0m \u001b[39m# concurrently finalizing a task from the previous call to run the\u001b[39;00m\n\u001b[1;32m   1869\u001b[0m \u001b[39m# callback.\u001b[39;00m\n\u001b[1;32m   1870\u001b[0m \u001b[39mwith\u001b[39;00m \u001b[39mself\u001b[39m\u001b[39m.\u001b[39m_lock:\n",
      "File \u001b[0;32m~/work/.venv/lib/python3.10/site-packages/joblib/parallel.py:1792\u001b[0m, in \u001b[0;36mParallel._get_sequential_output\u001b[0;34m(self, iterable)\u001b[0m\n\u001b[1;32m   1790\u001b[0m \u001b[39mself\u001b[39m\u001b[39m.\u001b[39mn_dispatched_batches \u001b[39m+\u001b[39m\u001b[39m=\u001b[39m \u001b[39m1\u001b[39m\n\u001b[1;32m   1791\u001b[0m \u001b[39mself\u001b[39m\u001b[39m.\u001b[39mn_dispatched_tasks \u001b[39m+\u001b[39m\u001b[39m=\u001b[39m \u001b[39m1\u001b[39m\n\u001b[0;32m-> 1792\u001b[0m res \u001b[39m=\u001b[39m func(\u001b[39m*\u001b[39;49margs, \u001b[39m*\u001b[39;49m\u001b[39m*\u001b[39;49mkwargs)\n\u001b[1;32m   1793\u001b[0m \u001b[39mself\u001b[39m\u001b[39m.\u001b[39mn_completed_tasks \u001b[39m+\u001b[39m\u001b[39m=\u001b[39m \u001b[39m1\u001b[39m\n\u001b[1;32m   1794\u001b[0m \u001b[39mself\u001b[39m\u001b[39m.\u001b[39mprint_progress()\n",
      "File \u001b[0;32m~/work/.venv/lib/python3.10/site-packages/sklearnex/utils/parallel.py:46\u001b[0m, in \u001b[0;36m_FuncWrapper.__call__\u001b[0;34m(self, *args, **kwargs)\u001b[0m\n\u001b[1;32m     44\u001b[0m     config \u001b[39m=\u001b[39m {}\n\u001b[1;32m     45\u001b[0m \u001b[39mwith\u001b[39;00m config_context(\u001b[39m*\u001b[39m\u001b[39m*\u001b[39mconfig):\n\u001b[0;32m---> 46\u001b[0m     \u001b[39mreturn\u001b[39;00m \u001b[39mself\u001b[39;49m\u001b[39m.\u001b[39;49mfunction(\u001b[39m*\u001b[39;49margs, \u001b[39m*\u001b[39;49m\u001b[39m*\u001b[39;49mkwargs)\n",
      "File \u001b[0;32m~/work/.venv/lib/python3.10/site-packages/daal4py/sklearn/_device_offload.py:96\u001b[0m, in \u001b[0;36msupport_usm_ndarray.<locals>.decorator.<locals>.wrapper_with_self\u001b[0;34m(self, *args, **kwargs)\u001b[0m\n\u001b[1;32m     94\u001b[0m \u001b[39m@wraps\u001b[39m(func)\n\u001b[1;32m     95\u001b[0m \u001b[39mdef\u001b[39;00m \u001b[39mwrapper_with_self\u001b[39m(\u001b[39mself\u001b[39m, \u001b[39m*\u001b[39margs, \u001b[39m*\u001b[39m\u001b[39m*\u001b[39mkwargs):\n\u001b[0;32m---> 96\u001b[0m     \u001b[39mreturn\u001b[39;00m wrapper_impl(\u001b[39mself\u001b[39;49m, \u001b[39m*\u001b[39;49margs, \u001b[39m*\u001b[39;49m\u001b[39m*\u001b[39;49mkwargs)\n",
      "File \u001b[0;32m~/work/.venv/lib/python3.10/site-packages/daal4py/sklearn/_device_offload.py:80\u001b[0m, in \u001b[0;36msupport_usm_ndarray.<locals>.decorator.<locals>.wrapper_impl\u001b[0;34m(obj, *args, **kwargs)\u001b[0m\n\u001b[1;32m     78\u001b[0m usm_iface \u001b[39m=\u001b[39m _extract_usm_iface(\u001b[39m*\u001b[39margs, \u001b[39m*\u001b[39m\u001b[39m*\u001b[39mkwargs)\n\u001b[1;32m     79\u001b[0m q, hostargs, hostkwargs \u001b[39m=\u001b[39m _get_host_inputs(\u001b[39m*\u001b[39margs, \u001b[39m*\u001b[39m\u001b[39m*\u001b[39mkwargs)\n\u001b[0;32m---> 80\u001b[0m result \u001b[39m=\u001b[39m _run_on_device(func, q, obj, \u001b[39m*\u001b[39;49mhostargs, \u001b[39m*\u001b[39;49m\u001b[39m*\u001b[39;49mhostkwargs)\n\u001b[1;32m     81\u001b[0m \u001b[39mif\u001b[39;00m usm_iface \u001b[39mis\u001b[39;00m \u001b[39mnot\u001b[39;00m \u001b[39mNone\u001b[39;00m \u001b[39mand\u001b[39;00m \u001b[39mhasattr\u001b[39m(result, \u001b[39m\"\u001b[39m\u001b[39m__array_interface__\u001b[39m\u001b[39m\"\u001b[39m):\n\u001b[1;32m     82\u001b[0m     \u001b[39mreturn\u001b[39;00m _copy_to_usm(q, result)\n",
      "File \u001b[0;32m~/work/.venv/lib/python3.10/site-packages/daal4py/sklearn/_device_offload.py:71\u001b[0m, in \u001b[0;36m_run_on_device\u001b[0;34m(func, queue, obj, *args, **kwargs)\u001b[0m\n\u001b[1;32m     66\u001b[0m         \u001b[39mwith\u001b[39;00m sycl_context(\n\u001b[1;32m     67\u001b[0m             \u001b[39m\"\u001b[39m\u001b[39mgpu\u001b[39m\u001b[39m\"\u001b[39m \u001b[39mif\u001b[39;00m queue\u001b[39m.\u001b[39msycl_device\u001b[39m.\u001b[39mis_gpu \u001b[39melse\u001b[39;00m \u001b[39m\"\u001b[39m\u001b[39mcpu\u001b[39m\u001b[39m\"\u001b[39m,\n\u001b[1;32m     68\u001b[0m             host_offload_on_fail\u001b[39m=\u001b[39mhost_offload,\n\u001b[1;32m     69\u001b[0m         ):\n\u001b[1;32m     70\u001b[0m             \u001b[39mreturn\u001b[39;00m dispatch_by_obj(obj, func, \u001b[39m*\u001b[39margs, \u001b[39m*\u001b[39m\u001b[39m*\u001b[39mkwargs)\n\u001b[0;32m---> 71\u001b[0m \u001b[39mreturn\u001b[39;00m dispatch_by_obj(obj, func, \u001b[39m*\u001b[39;49margs, \u001b[39m*\u001b[39;49m\u001b[39m*\u001b[39;49mkwargs)\n",
      "File \u001b[0;32m~/work/.venv/lib/python3.10/site-packages/daal4py/sklearn/_device_offload.py:57\u001b[0m, in \u001b[0;36m_run_on_device.<locals>.dispatch_by_obj\u001b[0;34m(obj, func, *args, **kwargs)\u001b[0m\n\u001b[1;32m     55\u001b[0m \u001b[39mdef\u001b[39;00m \u001b[39mdispatch_by_obj\u001b[39m(obj, func, \u001b[39m*\u001b[39margs, \u001b[39m*\u001b[39m\u001b[39m*\u001b[39mkwargs):\n\u001b[1;32m     56\u001b[0m     \u001b[39mif\u001b[39;00m obj \u001b[39mis\u001b[39;00m \u001b[39mnot\u001b[39;00m \u001b[39mNone\u001b[39;00m:\n\u001b[0;32m---> 57\u001b[0m         \u001b[39mreturn\u001b[39;00m func(obj, \u001b[39m*\u001b[39;49margs, \u001b[39m*\u001b[39;49m\u001b[39m*\u001b[39;49mkwargs)\n\u001b[1;32m     58\u001b[0m     \u001b[39mreturn\u001b[39;00m func(\u001b[39m*\u001b[39margs, \u001b[39m*\u001b[39m\u001b[39m*\u001b[39mkwargs)\n",
      "File \u001b[0;32m~/work/.venv/lib/python3.10/site-packages/daal4py/sklearn/linear_model/logistic_path.py:901\u001b[0m, in \u001b[0;36mlogistic_regression_path\u001b[0;34m(X, y, pos_class, Cs, fit_intercept, max_iter, tol, verbose, solver, coef, class_weight, dual, penalty, intercept_scaling, multi_class, random_state, check_input, max_squared_sum, sample_weight, l1_ratio, n_threads)\u001b[0m\n\u001b[1;32m    876\u001b[0m \u001b[39m@support_usm_ndarray\u001b[39m()\n\u001b[1;32m    877\u001b[0m \u001b[39mdef\u001b[39;00m \u001b[39mlogistic_regression_path\u001b[39m(\n\u001b[1;32m    878\u001b[0m     X,\n\u001b[0;32m   (...)\u001b[0m\n\u001b[1;32m    898\u001b[0m     n_threads\u001b[39m=\u001b[39m\u001b[39m1\u001b[39m,\n\u001b[1;32m    899\u001b[0m ):\n\u001b[1;32m    900\u001b[0m     \u001b[39mif\u001b[39;00m sklearn_check_version(\u001b[39m\"\u001b[39m\u001b[39m1.1\u001b[39m\u001b[39m\"\u001b[39m):\n\u001b[0;32m--> 901\u001b[0m         \u001b[39mreturn\u001b[39;00m __logistic_regression_path(\n\u001b[1;32m    902\u001b[0m             X,\n\u001b[1;32m    903\u001b[0m             y,\n\u001b[1;32m    904\u001b[0m             pos_class\u001b[39m=\u001b[39;49mpos_class,\n\u001b[1;32m    905\u001b[0m             Cs\u001b[39m=\u001b[39;49mCs,\n\u001b[1;32m    906\u001b[0m             fit_intercept\u001b[39m=\u001b[39;49mfit_intercept,\n\u001b[1;32m    907\u001b[0m             max_iter\u001b[39m=\u001b[39;49mmax_iter,\n\u001b[1;32m    908\u001b[0m             tol\u001b[39m=\u001b[39;49mtol,\n\u001b[1;32m    909\u001b[0m             verbose\u001b[39m=\u001b[39;49mverbose,\n\u001b[1;32m    910\u001b[0m             solver\u001b[39m=\u001b[39;49msolver,\n\u001b[1;32m    911\u001b[0m             coef\u001b[39m=\u001b[39;49mcoef,\n\u001b[1;32m    912\u001b[0m             class_weight\u001b[39m=\u001b[39;49mclass_weight,\n\u001b[1;32m    913\u001b[0m             dual\u001b[39m=\u001b[39;49mdual,\n\u001b[1;32m    914\u001b[0m             penalty\u001b[39m=\u001b[39;49mpenalty,\n\u001b[1;32m    915\u001b[0m             intercept_scaling\u001b[39m=\u001b[39;49mintercept_scaling,\n\u001b[1;32m    916\u001b[0m             multi_class\u001b[39m=\u001b[39;49mmulti_class,\n\u001b[1;32m    917\u001b[0m             random_state\u001b[39m=\u001b[39;49mrandom_state,\n\u001b[1;32m    918\u001b[0m             check_input\u001b[39m=\u001b[39;49mcheck_input,\n\u001b[1;32m    919\u001b[0m             max_squared_sum\u001b[39m=\u001b[39;49mmax_squared_sum,\n\u001b[1;32m    920\u001b[0m             sample_weight\u001b[39m=\u001b[39;49msample_weight,\n\u001b[1;32m    921\u001b[0m             l1_ratio\u001b[39m=\u001b[39;49ml1_ratio,\n\u001b[1;32m    922\u001b[0m             n_threads\u001b[39m=\u001b[39;49mn_threads,\n\u001b[1;32m    923\u001b[0m         )\n\u001b[1;32m    924\u001b[0m     \u001b[39mreturn\u001b[39;00m __logistic_regression_path(\n\u001b[1;32m    925\u001b[0m         X,\n\u001b[1;32m    926\u001b[0m         y,\n\u001b[0;32m   (...)\u001b[0m\n\u001b[1;32m    944\u001b[0m         l1_ratio\u001b[39m=\u001b[39ml1_ratio,\n\u001b[1;32m    945\u001b[0m     )\n",
      "File \u001b[0;32m~/work/.venv/lib/python3.10/site-packages/daal4py/sklearn/linear_model/logistic_path.py:615\u001b[0m, in \u001b[0;36m__logistic_regression_path\u001b[0;34m(X, y, pos_class, Cs, fit_intercept, max_iter, tol, verbose, solver, coef, class_weight, dual, penalty, intercept_scaling, multi_class, random_state, check_input, max_squared_sum, sample_weight, l1_ratio, n_threads)\u001b[0m\n\u001b[1;32m    610\u001b[0m         extra_args \u001b[39m=\u001b[39m (X, target, \u001b[39m1.0\u001b[39m \u001b[39m/\u001b[39m C, sample_weight)\n\u001b[1;32m    612\u001b[0m iprint \u001b[39m=\u001b[39m [\u001b[39m-\u001b[39m\u001b[39m1\u001b[39m, \u001b[39m50\u001b[39m, \u001b[39m1\u001b[39m, \u001b[39m100\u001b[39m, \u001b[39m101\u001b[39m][\n\u001b[1;32m    613\u001b[0m     np\u001b[39m.\u001b[39msearchsorted(np\u001b[39m.\u001b[39marray([\u001b[39m0\u001b[39m, \u001b[39m1\u001b[39m, \u001b[39m2\u001b[39m, \u001b[39m3\u001b[39m]), verbose)\n\u001b[1;32m    614\u001b[0m ]\n\u001b[0;32m--> 615\u001b[0m opt_res \u001b[39m=\u001b[39m optimize\u001b[39m.\u001b[39;49mminimize(\n\u001b[1;32m    616\u001b[0m     func,\n\u001b[1;32m    617\u001b[0m     w0,\n\u001b[1;32m    618\u001b[0m     method\u001b[39m=\u001b[39;49m\u001b[39m\"\u001b[39;49m\u001b[39mL-BFGS-B\u001b[39;49m\u001b[39m\"\u001b[39;49m,\n\u001b[1;32m    619\u001b[0m     jac\u001b[39m=\u001b[39;49m\u001b[39mTrue\u001b[39;49;00m,\n\u001b[1;32m    620\u001b[0m     args\u001b[39m=\u001b[39;49mextra_args,\n\u001b[1;32m    621\u001b[0m     options\u001b[39m=\u001b[39;49m{\u001b[39m\"\u001b[39;49m\u001b[39miprint\u001b[39;49m\u001b[39m\"\u001b[39;49m: iprint, \u001b[39m\"\u001b[39;49m\u001b[39mgtol\u001b[39;49m\u001b[39m\"\u001b[39;49m: tol, \u001b[39m\"\u001b[39;49m\u001b[39mmaxiter\u001b[39;49m\u001b[39m\"\u001b[39;49m: max_iter},\n\u001b[1;32m    622\u001b[0m )\n\u001b[1;32m    623\u001b[0m n_iter_i \u001b[39m=\u001b[39m _check_optimize_result(\n\u001b[1;32m    624\u001b[0m     solver,\n\u001b[1;32m    625\u001b[0m     opt_res,\n\u001b[1;32m    626\u001b[0m     max_iter,\n\u001b[1;32m    627\u001b[0m     extra_warning_msg\u001b[39m=\u001b[39m_LOGISTIC_SOLVER_CONVERGENCE_MSG,\n\u001b[1;32m    628\u001b[0m )\n\u001b[1;32m    629\u001b[0m w0, loss \u001b[39m=\u001b[39m opt_res\u001b[39m.\u001b[39mx, opt_res\u001b[39m.\u001b[39mfun\n",
      "File \u001b[0;32m~/work/.venv/lib/python3.10/site-packages/scipy/optimize/_minimize.py:710\u001b[0m, in \u001b[0;36mminimize\u001b[0;34m(fun, x0, args, method, jac, hess, hessp, bounds, constraints, tol, callback, options)\u001b[0m\n\u001b[1;32m    707\u001b[0m     res \u001b[39m=\u001b[39m _minimize_newtoncg(fun, x0, args, jac, hess, hessp, callback,\n\u001b[1;32m    708\u001b[0m                              \u001b[39m*\u001b[39m\u001b[39m*\u001b[39moptions)\n\u001b[1;32m    709\u001b[0m \u001b[39melif\u001b[39;00m meth \u001b[39m==\u001b[39m \u001b[39m'\u001b[39m\u001b[39ml-bfgs-b\u001b[39m\u001b[39m'\u001b[39m:\n\u001b[0;32m--> 710\u001b[0m     res \u001b[39m=\u001b[39m _minimize_lbfgsb(fun, x0, args, jac, bounds,\n\u001b[1;32m    711\u001b[0m                            callback\u001b[39m=\u001b[39;49mcallback, \u001b[39m*\u001b[39;49m\u001b[39m*\u001b[39;49moptions)\n\u001b[1;32m    712\u001b[0m \u001b[39melif\u001b[39;00m meth \u001b[39m==\u001b[39m \u001b[39m'\u001b[39m\u001b[39mtnc\u001b[39m\u001b[39m'\u001b[39m:\n\u001b[1;32m    713\u001b[0m     res \u001b[39m=\u001b[39m _minimize_tnc(fun, x0, args, jac, bounds, callback\u001b[39m=\u001b[39mcallback,\n\u001b[1;32m    714\u001b[0m                         \u001b[39m*\u001b[39m\u001b[39m*\u001b[39moptions)\n",
      "File \u001b[0;32m~/work/.venv/lib/python3.10/site-packages/scipy/optimize/_lbfgsb_py.py:365\u001b[0m, in \u001b[0;36m_minimize_lbfgsb\u001b[0;34m(fun, x0, args, jac, bounds, disp, maxcor, ftol, gtol, eps, maxfun, maxiter, iprint, callback, maxls, finite_diff_rel_step, **unknown_options)\u001b[0m\n\u001b[1;32m    359\u001b[0m task_str \u001b[39m=\u001b[39m task\u001b[39m.\u001b[39mtobytes()\n\u001b[1;32m    360\u001b[0m \u001b[39mif\u001b[39;00m task_str\u001b[39m.\u001b[39mstartswith(\u001b[39mb\u001b[39m\u001b[39m'\u001b[39m\u001b[39mFG\u001b[39m\u001b[39m'\u001b[39m):\n\u001b[1;32m    361\u001b[0m     \u001b[39m# The minimization routine wants f and g at the current x.\u001b[39;00m\n\u001b[1;32m    362\u001b[0m     \u001b[39m# Note that interruptions due to maxfun are postponed\u001b[39;00m\n\u001b[1;32m    363\u001b[0m     \u001b[39m# until the completion of the current minimization iteration.\u001b[39;00m\n\u001b[1;32m    364\u001b[0m     \u001b[39m# Overwrite f and g:\u001b[39;00m\n\u001b[0;32m--> 365\u001b[0m     f, g \u001b[39m=\u001b[39m func_and_grad(x)\n\u001b[1;32m    366\u001b[0m \u001b[39melif\u001b[39;00m task_str\u001b[39m.\u001b[39mstartswith(\u001b[39mb\u001b[39m\u001b[39m'\u001b[39m\u001b[39mNEW_X\u001b[39m\u001b[39m'\u001b[39m):\n\u001b[1;32m    367\u001b[0m     \u001b[39m# new iteration\u001b[39;00m\n\u001b[1;32m    368\u001b[0m     n_iterations \u001b[39m+\u001b[39m\u001b[39m=\u001b[39m \u001b[39m1\u001b[39m\n",
      "File \u001b[0;32m~/work/.venv/lib/python3.10/site-packages/scipy/optimize/_differentiable_functions.py:285\u001b[0m, in \u001b[0;36mScalarFunction.fun_and_grad\u001b[0;34m(self, x)\u001b[0m\n\u001b[1;32m    283\u001b[0m \u001b[39mif\u001b[39;00m \u001b[39mnot\u001b[39;00m np\u001b[39m.\u001b[39marray_equal(x, \u001b[39mself\u001b[39m\u001b[39m.\u001b[39mx):\n\u001b[1;32m    284\u001b[0m     \u001b[39mself\u001b[39m\u001b[39m.\u001b[39m_update_x_impl(x)\n\u001b[0;32m--> 285\u001b[0m \u001b[39mself\u001b[39;49m\u001b[39m.\u001b[39;49m_update_fun()\n\u001b[1;32m    286\u001b[0m \u001b[39mself\u001b[39m\u001b[39m.\u001b[39m_update_grad()\n\u001b[1;32m    287\u001b[0m \u001b[39mreturn\u001b[39;00m \u001b[39mself\u001b[39m\u001b[39m.\u001b[39mf, \u001b[39mself\u001b[39m\u001b[39m.\u001b[39mg\n",
      "File \u001b[0;32m~/work/.venv/lib/python3.10/site-packages/scipy/optimize/_differentiable_functions.py:251\u001b[0m, in \u001b[0;36mScalarFunction._update_fun\u001b[0;34m(self)\u001b[0m\n\u001b[1;32m    249\u001b[0m \u001b[39mdef\u001b[39;00m \u001b[39m_update_fun\u001b[39m(\u001b[39mself\u001b[39m):\n\u001b[1;32m    250\u001b[0m     \u001b[39mif\u001b[39;00m \u001b[39mnot\u001b[39;00m \u001b[39mself\u001b[39m\u001b[39m.\u001b[39mf_updated:\n\u001b[0;32m--> 251\u001b[0m         \u001b[39mself\u001b[39;49m\u001b[39m.\u001b[39;49m_update_fun_impl()\n\u001b[1;32m    252\u001b[0m         \u001b[39mself\u001b[39m\u001b[39m.\u001b[39mf_updated \u001b[39m=\u001b[39m \u001b[39mTrue\u001b[39;00m\n",
      "File \u001b[0;32m~/work/.venv/lib/python3.10/site-packages/scipy/optimize/_differentiable_functions.py:155\u001b[0m, in \u001b[0;36mScalarFunction.__init__.<locals>.update_fun\u001b[0;34m()\u001b[0m\n\u001b[1;32m    154\u001b[0m \u001b[39mdef\u001b[39;00m \u001b[39mupdate_fun\u001b[39m():\n\u001b[0;32m--> 155\u001b[0m     \u001b[39mself\u001b[39m\u001b[39m.\u001b[39mf \u001b[39m=\u001b[39m fun_wrapped(\u001b[39mself\u001b[39;49m\u001b[39m.\u001b[39;49mx)\n",
      "File \u001b[0;32m~/work/.venv/lib/python3.10/site-packages/scipy/optimize/_differentiable_functions.py:137\u001b[0m, in \u001b[0;36mScalarFunction.__init__.<locals>.fun_wrapped\u001b[0;34m(x)\u001b[0m\n\u001b[1;32m    133\u001b[0m \u001b[39mself\u001b[39m\u001b[39m.\u001b[39mnfev \u001b[39m+\u001b[39m\u001b[39m=\u001b[39m \u001b[39m1\u001b[39m\n\u001b[1;32m    134\u001b[0m \u001b[39m# Send a copy because the user may overwrite it.\u001b[39;00m\n\u001b[1;32m    135\u001b[0m \u001b[39m# Overwriting results in undefined behaviour because\u001b[39;00m\n\u001b[1;32m    136\u001b[0m \u001b[39m# fun(self.x) will change self.x, with the two no longer linked.\u001b[39;00m\n\u001b[0;32m--> 137\u001b[0m fx \u001b[39m=\u001b[39m fun(np\u001b[39m.\u001b[39;49mcopy(x), \u001b[39m*\u001b[39;49margs)\n\u001b[1;32m    138\u001b[0m \u001b[39m# Make sure the function returns a true scalar\u001b[39;00m\n\u001b[1;32m    139\u001b[0m \u001b[39mif\u001b[39;00m \u001b[39mnot\u001b[39;00m np\u001b[39m.\u001b[39misscalar(fx):\n",
      "File \u001b[0;32m~/work/.venv/lib/python3.10/site-packages/scipy/optimize/_optimize.py:77\u001b[0m, in \u001b[0;36mMemoizeJac.__call__\u001b[0;34m(self, x, *args)\u001b[0m\n\u001b[1;32m     75\u001b[0m \u001b[39mdef\u001b[39;00m \u001b[39m__call__\u001b[39m(\u001b[39mself\u001b[39m, x, \u001b[39m*\u001b[39margs):\n\u001b[1;32m     76\u001b[0m \u001b[39m    \u001b[39m\u001b[39m\"\"\" returns the function value \"\"\"\u001b[39;00m\n\u001b[0;32m---> 77\u001b[0m     \u001b[39mself\u001b[39;49m\u001b[39m.\u001b[39;49m_compute_if_needed(x, \u001b[39m*\u001b[39;49margs)\n\u001b[1;32m     78\u001b[0m     \u001b[39mreturn\u001b[39;00m \u001b[39mself\u001b[39m\u001b[39m.\u001b[39m_value\n",
      "File \u001b[0;32m~/work/.venv/lib/python3.10/site-packages/scipy/optimize/_optimize.py:71\u001b[0m, in \u001b[0;36mMemoizeJac._compute_if_needed\u001b[0;34m(self, x, *args)\u001b[0m\n\u001b[1;32m     69\u001b[0m \u001b[39mif\u001b[39;00m \u001b[39mnot\u001b[39;00m np\u001b[39m.\u001b[39mall(x \u001b[39m==\u001b[39m \u001b[39mself\u001b[39m\u001b[39m.\u001b[39mx) \u001b[39mor\u001b[39;00m \u001b[39mself\u001b[39m\u001b[39m.\u001b[39m_value \u001b[39mis\u001b[39;00m \u001b[39mNone\u001b[39;00m \u001b[39mor\u001b[39;00m \u001b[39mself\u001b[39m\u001b[39m.\u001b[39mjac \u001b[39mis\u001b[39;00m \u001b[39mNone\u001b[39;00m:\n\u001b[1;32m     70\u001b[0m     \u001b[39mself\u001b[39m\u001b[39m.\u001b[39mx \u001b[39m=\u001b[39m np\u001b[39m.\u001b[39masarray(x)\u001b[39m.\u001b[39mcopy()\n\u001b[0;32m---> 71\u001b[0m     fg \u001b[39m=\u001b[39m \u001b[39mself\u001b[39;49m\u001b[39m.\u001b[39;49mfun(x, \u001b[39m*\u001b[39;49margs)\n\u001b[1;32m     72\u001b[0m     \u001b[39mself\u001b[39m\u001b[39m.\u001b[39mjac \u001b[39m=\u001b[39m fg[\u001b[39m1\u001b[39m]\n\u001b[1;32m     73\u001b[0m     \u001b[39mself\u001b[39m\u001b[39m.\u001b[39m_value \u001b[39m=\u001b[39m fg[\u001b[39m0\u001b[39m]\n",
      "File \u001b[0;32m~/work/.venv/lib/python3.10/site-packages/sklearn/linear_model/_linear_loss.py:286\u001b[0m, in \u001b[0;36mLinearModelLoss.loss_gradient\u001b[0;34m(self, coef, X, y, sample_weight, l2_reg_strength, n_threads, raw_prediction)\u001b[0m\n\u001b[1;32m    279\u001b[0m loss, grad_pointwise \u001b[39m=\u001b[39m \u001b[39mself\u001b[39m\u001b[39m.\u001b[39mbase_loss\u001b[39m.\u001b[39mloss_gradient(\n\u001b[1;32m    280\u001b[0m     y_true\u001b[39m=\u001b[39my,\n\u001b[1;32m    281\u001b[0m     raw_prediction\u001b[39m=\u001b[39mraw_prediction,\n\u001b[1;32m    282\u001b[0m     sample_weight\u001b[39m=\u001b[39msample_weight,\n\u001b[1;32m    283\u001b[0m     n_threads\u001b[39m=\u001b[39mn_threads,\n\u001b[1;32m    284\u001b[0m )\n\u001b[1;32m    285\u001b[0m loss \u001b[39m=\u001b[39m loss\u001b[39m.\u001b[39msum()\n\u001b[0;32m--> 286\u001b[0m loss \u001b[39m+\u001b[39m\u001b[39m=\u001b[39m \u001b[39mself\u001b[39;49m\u001b[39m.\u001b[39;49ml2_penalty(weights, l2_reg_strength)\n\u001b[1;32m    288\u001b[0m \u001b[39mif\u001b[39;00m \u001b[39mnot\u001b[39;00m \u001b[39mself\u001b[39m\u001b[39m.\u001b[39mbase_loss\u001b[39m.\u001b[39mis_multiclass:\n\u001b[1;32m    289\u001b[0m     grad \u001b[39m=\u001b[39m np\u001b[39m.\u001b[39mempty_like(coef, dtype\u001b[39m=\u001b[39mweights\u001b[39m.\u001b[39mdtype)\n",
      "\u001b[0;31mKeyboardInterrupt\u001b[0m: "
     ]
    }
   ],
   "source": [
    "%%time\n",
    "model_lr = LogisticRegression(C=0.7, max_iter=100000)\n",
    "logistic_regression_results = evaluate_model(model_lr, cv_train_features, polarite_train, cv_test_features, polarite_test)"
   ]
  },
  {
   "cell_type": "code",
   "execution_count": null,
   "metadata": {},
   "outputs": [
    {
     "name": "stdout",
     "output_type": "stream",
     "text": [
      "Cross-validation Scores: [0.795   0.77625 0.7775  0.7625  0.7775 ]\n",
      "Mean CV Accuracy: 0.7777499999999999\n",
      "\n",
      "Accuracy: 0.799\n",
      "Precision: 0.7926972909305064\n",
      "Recall: 0.9641833810888252\n",
      "F1 Score: 0.870071105365223\n",
      "\n",
      "Classification Report:\n",
      "              precision    recall  f1-score   support\n",
      "\n",
      "           0       0.83      0.42      0.56       302\n",
      "           1       0.79      0.96      0.87       698\n",
      "\n",
      "    accuracy                           0.80      1000\n",
      "   macro avg       0.81      0.69      0.71      1000\n",
      "weighted avg       0.81      0.80      0.78      1000\n",
      "\n"
     ]
    },
    {
     "data": {
      "image/png": "[encoded data removed]",
      "text/plain": [
       "<Figure size 800x600 with 2 Axes>"
      ]
     },
     "metadata": {},
     "output_type": "display_data"
    },
    {
     "name": "stdout",
     "output_type": "stream",
     "text": [
      "CPU times: user 28.6 s, sys: 0 ns, total: 28.6 s\n",
      "Wall time: 28.4 s\n"
     ]
    }
   ],
   "source": [
    "%%time\n",
    "# Example with Random Forest\n",
    "random_forest = RandomForestClassifier(n_estimators=100, random_state=42)\n",
    "random_forest_results = evaluate_model(random_forest, cv_train_features, polarite_train, cv_test_features, polarite_test)"
   ]
  },
  {
   "cell_type": "code",
   "execution_count": null,
   "metadata": {},
   "outputs": [
    {
     "name": "stdout",
     "output_type": "stream",
     "text": [
      "Cross-validation Scores: [0.77875 0.7875  0.75875 0.79    0.78125]\n",
      "Mean CV Accuracy: 0.77925\n",
      "\n",
      "Accuracy: 0.77\n",
      "Precision: 0.8371757925072046\n",
      "Recall: 0.832378223495702\n",
      "F1 Score: 0.8347701149425287\n",
      "\n",
      "Classification Report:\n",
      "              precision    recall  f1-score   support\n",
      "\n",
      "           0       0.62      0.63      0.62       302\n",
      "           1       0.84      0.83      0.83       698\n",
      "\n",
      "    accuracy                           0.77      1000\n",
      "   macro avg       0.73      0.73      0.73      1000\n",
      "weighted avg       0.77      0.77      0.77      1000\n",
      "\n"
     ]
    },
    {
     "data": {
      "image/png": "[encoded data removed]",
      "text/plain": [
       "<Figure size 800x600 with 2 Axes>"
      ]
     },
     "metadata": {},
     "output_type": "display_data"
    },
    {
     "name": "stdout",
     "output_type": "stream",
     "text": [
      "CPU times: user 17.4 s, sys: 0 ns, total: 17.4 s\n",
      "Wall time: 17.2 s\n"
     ]
    }
   ],
   "source": [
    "%%time\n",
    "# Example with Support Vector Machine\n",
    "svm = SVC(kernel='linear', C=1)\n",
    "svm_results = evaluate_model(svm, cv_train_features, polarite_train, cv_test_features, polarite_test)"
   ]
  },
  {
   "cell_type": "code",
   "execution_count": null,
   "metadata": {},
   "outputs": [
    {
     "name": "stdout",
     "output_type": "stream",
     "text": [
      "Cross-validation Scores: [0.620375 0.617875 0.609625 0.610625 0.6175  ]\n",
      "Mean CV Accuracy: 0.6152\n",
      "\n",
      "Accuracy: 0.6093\n",
      "Precision: 0.6039479210415791\n",
      "Recall: 0.8000741839762612\n",
      "F1 Score: 0.688312724371759\n",
      "\n",
      "Classification Report:\n",
      "              precision    recall  f1-score   support\n",
      "\n",
      "           0       0.62      0.39      0.48      4608\n",
      "           1       0.60      0.80      0.69      5392\n",
      "\n",
      "    accuracy                           0.61     10000\n",
      "   macro avg       0.61      0.59      0.58     10000\n",
      "weighted avg       0.61      0.61      0.59     10000\n",
      "\n"
     ]
    },
    {
     "data": {
      "image/png": "[encoded data removed]",
      "text/plain": [
       "<Figure size 800x600 with 2 Axes>"
      ]
     },
     "metadata": {},
     "output_type": "display_data"
    },
    {
     "name": "stdout",
     "output_type": "stream",
     "text": [
      "CPU times: user 1min 6s, sys: 15.2 s, total: 1min 21s\n",
      "Wall time: 1min 16s\n"
     ]
    }
   ],
   "source": [
    "%%time\n",
    "# Example with K-Nearest Neighbors\n",
    "knn = KNeighborsClassifier(n_neighbors=5)\n",
    "knn_results = evaluate_model(knn, cv_train_features, polarite_train, cv_test_features, polarite_test)"
   ]
  },
  {
   "cell_type": "code",
   "execution_count": 117,
   "metadata": {},
   "outputs": [
    {
     "name": "stdout",
     "output_type": "stream",
     "text": [
      "Cross-validation Scores: [0.8225   0.8265   0.819375 0.81875  0.828125]\n",
      "Mean CV Accuracy: 0.82305\n",
      "\n",
      "Accuracy: 0.8263\n",
      "Precision: 0.823560027758501\n",
      "Recall: 0.8683007133711359\n",
      "F1 Score: 0.845338794408334\n",
      "\n",
      "Classification Report:\n",
      "              precision    recall  f1-score   support\n",
      "\n",
      "           0       0.83      0.78      0.80      4533\n",
      "           1       0.82      0.87      0.85      5467\n",
      "\n",
      "    accuracy                           0.83     10000\n",
      "   macro avg       0.83      0.82      0.82     10000\n",
      "weighted avg       0.83      0.83      0.83     10000\n",
      "\n"
     ]
    },
    {
     "data": {
      "image/png": "[encoded data removed]",
      "text/plain": [
       "<Figure size 800x600 with 2 Axes>"
      ]
     },
     "metadata": {},
     "output_type": "display_data"
    },
    {
     "name": "stdout",
     "output_type": "stream",
     "text": [
      "CPU times: user 422 ms, sys: 222 ms, total: 644 ms\n",
      "Wall time: 394 ms\n"
     ]
    }
   ],
   "source": [
    "%%time\n",
    "# Naive Bayes on Count Vectors\n",
    "\n",
    "model_MultinomialNB= naive_bayes.MultinomialNB()\n",
    "MultinomialNB_results = evaluate_model(model_MultinomialNB, cv_train_features, polarite_train, cv_test_features, polarite_test)"
   ]
  },
  {
   "cell_type": "markdown",
   "metadata": {},
   "source": [
    "## CamemBERT    "
   ]
  },
  {
   "cell_type": "code",
   "execution_count": 27,
   "metadata": {},
   "outputs": [
    {
     "name": "stderr",
     "output_type": "stream",
     "text": [
      "/home/onyxia/work/.venv/lib/python3.10/site-packages/tqdm/auto.py:21: TqdmWarning: IProgress not found. Please update jupyter and ipywidgets. See https://ipywidgets.readthedocs.io/en/stable/user_install.html\n",
      "  from .autonotebook import tqdm as notebook_tqdm\n"
     ]
    }
   ],
   "source": [
    "from torch.utils.data import TensorDataset, random_split, DataLoader, RandomSampler, SequentialSampler\n",
    "from transformers import CamembertForSequenceClassification, CamembertTokenizer, AdamW, get_linear_schedule_with_warmup"
   ]
  },
  {
   "cell_type": "code",
   "execution_count": 28,
   "metadata": {},
   "outputs": [
    {
     "data": {
      "text/html": [
       "<div>\n",
       "<style scoped>\n",
       "    .dataframe tbody tr th:only-of-type {\n",
       "        vertical-align: middle;\n",
       "    }\n",
       "\n",
       "    .dataframe tbody tr th {\n",
       "        vertical-align: top;\n",
       "    }\n",
       "\n",
       "    .dataframe thead th {\n",
       "        text-align: right;\n",
       "    }\n",
       "</style>\n",
       "<table border=\"1\" class=\"dataframe\">\n",
       "  <thead>\n",
       "    <tr style=\"text-align: right;\">\n",
       "      <th></th>\n",
       "      <th>id_allocine</th>\n",
       "      <th>Critique</th>\n",
       "      <th>Note_critique_float</th>\n",
       "      <th>new_date</th>\n",
       "      <th>Polarité_réelle</th>\n",
       "      <th>Critique_nettoy</th>\n",
       "      <th>nb_mots</th>\n",
       "      <th>Text_blob_critique_nettoyé</th>\n",
       "    </tr>\n",
       "  </thead>\n",
       "  <tbody>\n",
       "    <tr>\n",
       "      <th>666304</th>\n",
       "      <td>207874</td>\n",
       "      <td>entre un tarantino et un bon western de sergio...</td>\n",
       "      <td>4.5</td>\n",
       "      <td>2016-10-06</td>\n",
       "      <td>1</td>\n",
       "      <td>entre tarantino bon western sergio leone vraim...</td>\n",
       "      <td>28</td>\n",
       "      <td>1</td>\n",
       "    </tr>\n",
       "    <tr>\n",
       "      <th>220196</th>\n",
       "      <td>126693</td>\n",
       "      <td>Il y avait une petite série sympa de quatre fi...</td>\n",
       "      <td>1.0</td>\n",
       "      <td>2011-03-30</td>\n",
       "      <td>0</td>\n",
       "      <td>petite série sympa quatre film univers assez o...</td>\n",
       "      <td>122</td>\n",
       "      <td>1</td>\n",
       "    </tr>\n",
       "    <tr>\n",
       "      <th>498396</th>\n",
       "      <td>145646</td>\n",
       "      <td>\"pas Mal\" c'est exactement ce que je me suis d...</td>\n",
       "      <td>3.0</td>\n",
       "      <td>2014-02-26</td>\n",
       "      <td>0</td>\n",
       "      <td>mal exactement dit fois film terminé pourquoi ...</td>\n",
       "      <td>223</td>\n",
       "      <td>1</td>\n",
       "    </tr>\n",
       "    <tr>\n",
       "      <th>271323</th>\n",
       "      <td>136190</td>\n",
       "      <td>Bon film, convaincant dans l'ensemble mais des...</td>\n",
       "      <td>4.0</td>\n",
       "      <td>2010-05-16</td>\n",
       "      <td>1</td>\n",
       "      <td>bon film convaincant éléments assez exploité c...</td>\n",
       "      <td>179</td>\n",
       "      <td>1</td>\n",
       "    </tr>\n",
       "    <tr>\n",
       "      <th>780139</th>\n",
       "      <td>225953</td>\n",
       "      <td>Nous étions 4 dans la salle. Un peu surpris ma...</td>\n",
       "      <td>4.5</td>\n",
       "      <td>2015-01-06</td>\n",
       "      <td>1</td>\n",
       "      <td>4 salle peu surpris bon genre film où monde af...</td>\n",
       "      <td>384</td>\n",
       "      <td>1</td>\n",
       "    </tr>\n",
       "    <tr>\n",
       "      <th>...</th>\n",
       "      <td>...</td>\n",
       "      <td>...</td>\n",
       "      <td>...</td>\n",
       "      <td>...</td>\n",
       "      <td>...</td>\n",
       "      <td>...</td>\n",
       "      <td>...</td>\n",
       "      <td>...</td>\n",
       "    </tr>\n",
       "    <tr>\n",
       "      <th>9871</th>\n",
       "      <td>178184</td>\n",
       "      <td>Une sorte de copie en moins bien de la recette...</td>\n",
       "      <td>2.5</td>\n",
       "      <td>2012-01-21</td>\n",
       "      <td>0</td>\n",
       "      <td>sorte copie moins bien recette mémoire mort peau</td>\n",
       "      <td>17</td>\n",
       "      <td>0</td>\n",
       "    </tr>\n",
       "    <tr>\n",
       "      <th>679410</th>\n",
       "      <td>197690</td>\n",
       "      <td>Un jeune homme rencontre la maîtresse de son p...</td>\n",
       "      <td>1.0</td>\n",
       "      <td>2018-09-10</td>\n",
       "      <td>0</td>\n",
       "      <td>jeune homme rencontre maîtresse père fait maît...</td>\n",
       "      <td>96</td>\n",
       "      <td>1</td>\n",
       "    </tr>\n",
       "    <tr>\n",
       "      <th>550645</th>\n",
       "      <td>146552</td>\n",
       "      <td>Les femmes sont meilleures bla bla bla, les ho...</td>\n",
       "      <td>3.0</td>\n",
       "      <td>2023-10-31</td>\n",
       "      <td>0</td>\n",
       "      <td>femmes meilleures bla bla bla hommes apportent...</td>\n",
       "      <td>162</td>\n",
       "      <td>1</td>\n",
       "    </tr>\n",
       "    <tr>\n",
       "      <th>791795</th>\n",
       "      <td>225717</td>\n",
       "      <td>Un film qui a des allures de série B qui se pr...</td>\n",
       "      <td>1.5</td>\n",
       "      <td>2016-06-28</td>\n",
       "      <td>0</td>\n",
       "      <td>film a allure série b prend terriblement série...</td>\n",
       "      <td>89</td>\n",
       "      <td>0</td>\n",
       "    </tr>\n",
       "    <tr>\n",
       "      <th>649021</th>\n",
       "      <td>138724</td>\n",
       "      <td>The Incredible Burt Wonderstone est une bonne ...</td>\n",
       "      <td>3.5</td>\n",
       "      <td>2013-06-09</td>\n",
       "      <td>1</td>\n",
       "      <td>the incredible burt wonderstone bonne petite c...</td>\n",
       "      <td>121</td>\n",
       "      <td>1</td>\n",
       "    </tr>\n",
       "  </tbody>\n",
       "</table>\n",
       "<p>50000 rows × 8 columns</p>\n",
       "</div>"
      ],
      "text/plain": [
       "        id_allocine                                           Critique  \\\n",
       "666304       207874  entre un tarantino et un bon western de sergio...   \n",
       "220196       126693  Il y avait une petite série sympa de quatre fi...   \n",
       "498396       145646  \"pas Mal\" c'est exactement ce que je me suis d...   \n",
       "271323       136190  Bon film, convaincant dans l'ensemble mais des...   \n",
       "780139       225953  Nous étions 4 dans la salle. Un peu surpris ma...   \n",
       "...             ...                                                ...   \n",
       "9871         178184  Une sorte de copie en moins bien de la recette...   \n",
       "679410       197690  Un jeune homme rencontre la maîtresse de son p...   \n",
       "550645       146552  Les femmes sont meilleures bla bla bla, les ho...   \n",
       "791795       225717  Un film qui a des allures de série B qui se pr...   \n",
       "649021       138724  The Incredible Burt Wonderstone est une bonne ...   \n",
       "\n",
       "        Note_critique_float   new_date  Polarité_réelle  \\\n",
       "666304                  4.5 2016-10-06                1   \n",
       "220196                  1.0 2011-03-30                0   \n",
       "498396                  3.0 2014-02-26                0   \n",
       "271323                  4.0 2010-05-16                1   \n",
       "780139                  4.5 2015-01-06                1   \n",
       "...                     ...        ...              ...   \n",
       "9871                    2.5 2012-01-21                0   \n",
       "679410                  1.0 2018-09-10                0   \n",
       "550645                  3.0 2023-10-31                0   \n",
       "791795                  1.5 2016-06-28                0   \n",
       "649021                  3.5 2013-06-09                1   \n",
       "\n",
       "                                          Critique_nettoy  nb_mots  \\\n",
       "666304  entre tarantino bon western sergio leone vraim...       28   \n",
       "220196  petite série sympa quatre film univers assez o...      122   \n",
       "498396  mal exactement dit fois film terminé pourquoi ...      223   \n",
       "271323  bon film convaincant éléments assez exploité c...      179   \n",
       "780139  4 salle peu surpris bon genre film où monde af...      384   \n",
       "...                                                   ...      ...   \n",
       "9871     sorte copie moins bien recette mémoire mort peau       17   \n",
       "679410  jeune homme rencontre maîtresse père fait maît...       96   \n",
       "550645  femmes meilleures bla bla bla hommes apportent...      162   \n",
       "791795  film a allure série b prend terriblement série...       89   \n",
       "649021  the incredible burt wonderstone bonne petite c...      121   \n",
       "\n",
       "        Text_blob_critique_nettoyé  \n",
       "666304                           1  \n",
       "220196                           1  \n",
       "498396                           1  \n",
       "271323                           1  \n",
       "780139                           1  \n",
       "...                            ...  \n",
       "9871                             0  \n",
       "679410                           1  \n",
       "550645                           1  \n",
       "791795                           0  \n",
       "649021                           1  \n",
       "\n",
       "[50000 rows x 8 columns]"
      ]
     },
     "execution_count": 28,
     "metadata": {},
     "output_type": "execute_result"
    }
   ],
   "source": [
    "df_critiques_mod"
   ]
  },
  {
   "cell_type": "code",
   "execution_count": 101,
   "metadata": {},
   "outputs": [],
   "source": [
    "df_critiques_mod_ = df_critiques.sample(n=10000, random_state=41)  # Utilisez un random_state pour la reproductibilité\n"
   ]
  },
  {
   "cell_type": "code",
   "execution_count": 102,
   "metadata": {},
   "outputs": [],
   "source": [
    "df_critiques_mod__ = df_critiques_mod_[df_critiques_mod_['nb_mots'] <= 340]"
   ]
  },
  {
   "cell_type": "code",
   "execution_count": 103,
   "metadata": {},
   "outputs": [
    {
     "data": {
      "text/html": [
       "<div>\n",
       "<style scoped>\n",
       "    .dataframe tbody tr th:only-of-type {\n",
       "        vertical-align: middle;\n",
       "    }\n",
       "\n",
       "    .dataframe tbody tr th {\n",
       "        vertical-align: top;\n",
       "    }\n",
       "\n",
       "    .dataframe thead th {\n",
       "        text-align: right;\n",
       "    }\n",
       "</style>\n",
       "<table border=\"1\" class=\"dataframe\">\n",
       "  <thead>\n",
       "    <tr style=\"text-align: right;\">\n",
       "      <th></th>\n",
       "      <th>id_allocine</th>\n",
       "      <th>Critique</th>\n",
       "      <th>Note_critique_float</th>\n",
       "      <th>new_date</th>\n",
       "      <th>Polarité_réelle</th>\n",
       "      <th>Critique_nettoy</th>\n",
       "      <th>nb_mots</th>\n",
       "      <th>Text_blob_critique_nettoyé</th>\n",
       "    </tr>\n",
       "  </thead>\n",
       "  <tbody>\n",
       "    <tr>\n",
       "      <th>394633</th>\n",
       "      <td>27405</td>\n",
       "      <td>La forme est superbe et chaotique, le fond est...</td>\n",
       "      <td>5.0</td>\n",
       "      <td>2013-04-15</td>\n",
       "      <td>1</td>\n",
       "      <td>forme superbe chaotique fond terriblement effr...</td>\n",
       "      <td>162</td>\n",
       "      <td>1</td>\n",
       "    </tr>\n",
       "    <tr>\n",
       "      <th>369760</th>\n",
       "      <td>242054</td>\n",
       "      <td>Un très bon film. On salue toute l'équipe, du ...</td>\n",
       "      <td>4.0</td>\n",
       "      <td>2017-03-13</td>\n",
       "      <td>1</td>\n",
       "      <td>très bon film salue toute script lumières moon...</td>\n",
       "      <td>27</td>\n",
       "      <td>1</td>\n",
       "    </tr>\n",
       "    <tr>\n",
       "      <th>713482</th>\n",
       "      <td>182749</td>\n",
       "      <td>Toujours aussi bidon(le film pas le livre) mai...</td>\n",
       "      <td>2.0</td>\n",
       "      <td>2013-04-09</td>\n",
       "      <td>0</td>\n",
       "      <td>toujours aussi bidon film livre meilleurs saga...</td>\n",
       "      <td>19</td>\n",
       "      <td>1</td>\n",
       "    </tr>\n",
       "    <tr>\n",
       "      <th>214700</th>\n",
       "      <td>196604</td>\n",
       "      <td>Wahou !!!!! quel film !!! enorme les musique s...</td>\n",
       "      <td>4.5</td>\n",
       "      <td>2014-10-06</td>\n",
       "      <td>1</td>\n",
       "      <td>wahou quel film enorme musique bien personnage...</td>\n",
       "      <td>31</td>\n",
       "      <td>1</td>\n",
       "    </tr>\n",
       "    <tr>\n",
       "      <th>664213</th>\n",
       "      <td>135256</td>\n",
       "      <td>Affligeant, pathétique, inutile... Les mots me...</td>\n",
       "      <td>0.5</td>\n",
       "      <td>2014-01-19</td>\n",
       "      <td>0</td>\n",
       "      <td>affligeant pathétique inutile mot gentils amér...</td>\n",
       "      <td>75</td>\n",
       "      <td>0</td>\n",
       "    </tr>\n",
       "    <tr>\n",
       "      <th>...</th>\n",
       "      <td>...</td>\n",
       "      <td>...</td>\n",
       "      <td>...</td>\n",
       "      <td>...</td>\n",
       "      <td>...</td>\n",
       "      <td>...</td>\n",
       "      <td>...</td>\n",
       "      <td>...</td>\n",
       "    </tr>\n",
       "    <tr>\n",
       "      <th>465623</th>\n",
       "      <td>195370</td>\n",
       "      <td>Enfin un vrai film sur la F1 !!! Ron Howard li...</td>\n",
       "      <td>4.5</td>\n",
       "      <td>2013-10-02</td>\n",
       "      <td>1</td>\n",
       "      <td>enfin vrai film f1 ron howard livre film coupe...</td>\n",
       "      <td>121</td>\n",
       "      <td>1</td>\n",
       "    </tr>\n",
       "    <tr>\n",
       "      <th>580431</th>\n",
       "      <td>266811</td>\n",
       "      <td>Si le thème est assez classique, la façon dont...</td>\n",
       "      <td>3.0</td>\n",
       "      <td>2018-11-27</td>\n",
       "      <td>0</td>\n",
       "      <td>si thème assez classique façon dont abordé ass...</td>\n",
       "      <td>57</td>\n",
       "      <td>1</td>\n",
       "    </tr>\n",
       "    <tr>\n",
       "      <th>446250</th>\n",
       "      <td>262468</td>\n",
       "      <td>J'avais hâte de regarder le film, malheureusem...</td>\n",
       "      <td>2.5</td>\n",
       "      <td>2021-11-12</td>\n",
       "      <td>0</td>\n",
       "      <td>hâte regarder film malheureusement déçu scénar...</td>\n",
       "      <td>18</td>\n",
       "      <td>0</td>\n",
       "    </tr>\n",
       "    <tr>\n",
       "      <th>446331</th>\n",
       "      <td>170918</td>\n",
       "      <td>inutile! dégueulasse de A a Z. les parents qui...</td>\n",
       "      <td>0.5</td>\n",
       "      <td>2011-08-15</td>\n",
       "      <td>0</td>\n",
       "      <td>inutile dégueulasse a a parent perdent fille r...</td>\n",
       "      <td>101</td>\n",
       "      <td>0</td>\n",
       "    </tr>\n",
       "    <tr>\n",
       "      <th>410115</th>\n",
       "      <td>227902</td>\n",
       "      <td>L'ensemble est bon mais si je dois dire que la...</td>\n",
       "      <td>3.0</td>\n",
       "      <td>2015-08-30</td>\n",
       "      <td>0</td>\n",
       "      <td>bon si doi dire fin a quelque peu déçue début ...</td>\n",
       "      <td>32</td>\n",
       "      <td>1</td>\n",
       "    </tr>\n",
       "  </tbody>\n",
       "</table>\n",
       "<p>9495 rows × 8 columns</p>\n",
       "</div>"
      ],
      "text/plain": [
       "        id_allocine                                           Critique  \\\n",
       "394633        27405  La forme est superbe et chaotique, le fond est...   \n",
       "369760       242054  Un très bon film. On salue toute l'équipe, du ...   \n",
       "713482       182749  Toujours aussi bidon(le film pas le livre) mai...   \n",
       "214700       196604  Wahou !!!!! quel film !!! enorme les musique s...   \n",
       "664213       135256  Affligeant, pathétique, inutile... Les mots me...   \n",
       "...             ...                                                ...   \n",
       "465623       195370  Enfin un vrai film sur la F1 !!! Ron Howard li...   \n",
       "580431       266811  Si le thème est assez classique, la façon dont...   \n",
       "446250       262468  J'avais hâte de regarder le film, malheureusem...   \n",
       "446331       170918  inutile! dégueulasse de A a Z. les parents qui...   \n",
       "410115       227902  L'ensemble est bon mais si je dois dire que la...   \n",
       "\n",
       "        Note_critique_float   new_date  Polarité_réelle  \\\n",
       "394633                  5.0 2013-04-15                1   \n",
       "369760                  4.0 2017-03-13                1   \n",
       "713482                  2.0 2013-04-09                0   \n",
       "214700                  4.5 2014-10-06                1   \n",
       "664213                  0.5 2014-01-19                0   \n",
       "...                     ...        ...              ...   \n",
       "465623                  4.5 2013-10-02                1   \n",
       "580431                  3.0 2018-11-27                0   \n",
       "446250                  2.5 2021-11-12                0   \n",
       "446331                  0.5 2011-08-15                0   \n",
       "410115                  3.0 2015-08-30                0   \n",
       "\n",
       "                                          Critique_nettoy  nb_mots  \\\n",
       "394633  forme superbe chaotique fond terriblement effr...      162   \n",
       "369760  très bon film salue toute script lumières moon...       27   \n",
       "713482  toujours aussi bidon film livre meilleurs saga...       19   \n",
       "214700  wahou quel film enorme musique bien personnage...       31   \n",
       "664213  affligeant pathétique inutile mot gentils amér...       75   \n",
       "...                                                   ...      ...   \n",
       "465623  enfin vrai film f1 ron howard livre film coupe...      121   \n",
       "580431  si thème assez classique façon dont abordé ass...       57   \n",
       "446250  hâte regarder film malheureusement déçu scénar...       18   \n",
       "446331  inutile dégueulasse a a parent perdent fille r...      101   \n",
       "410115  bon si doi dire fin a quelque peu déçue début ...       32   \n",
       "\n",
       "        Text_blob_critique_nettoyé  \n",
       "394633                           1  \n",
       "369760                           1  \n",
       "713482                           1  \n",
       "214700                           1  \n",
       "664213                           0  \n",
       "...                            ...  \n",
       "465623                           1  \n",
       "580431                           1  \n",
       "446250                           0  \n",
       "446331                           0  \n",
       "410115                           1  \n",
       "\n",
       "[9495 rows x 8 columns]"
      ]
     },
     "execution_count": 103,
     "metadata": {},
     "output_type": "execute_result"
    }
   ],
   "source": [
    "df_critiques_mod__"
   ]
  },
  {
   "cell_type": "code",
   "execution_count": 104,
   "metadata": {},
   "outputs": [
    {
     "name": "stdout",
     "output_type": "stream",
     "text": [
      "9495\n",
      "9495\n"
     ]
    }
   ],
   "source": [
    "critique = df_critiques_mod__['Critique'].values.tolist()\n",
    "polarite = df_critiques_mod__['Polarité_réelle'].values.tolist()\n",
    "\n",
    "print(len(critique))\n",
    "print(len(polarite))\n"
   ]
  },
  {
   "cell_type": "code",
   "execution_count": 105,
   "metadata": {},
   "outputs": [
    {
     "name": "stderr",
     "output_type": "stream",
     "text": [
      "Special tokens have been added in the vocabulary, make sure the associated word embeddings are fine-tuned or trained.\n",
      "Some weights of CamembertForSequenceClassification were not initialized from the model checkpoint at camembert-base and are newly initialized: ['classifier.out_proj.weight', 'classifier.out_proj.bias', 'classifier.dense.bias', 'classifier.dense.weight']\n",
      "You should probably TRAIN this model on a down-stream task to be able to use it for predictions and inference.\n"
     ]
    },
    {
     "name": "stdout",
     "output_type": "stream",
     "text": [
      "7596\n",
      "7596\n",
      "1899\n",
      "1899\n"
     ]
    }
   ],
   "source": [
    "# Séparer les données en ensembles d'entraînement et de test\n",
    "split_border = int(len(polarite)*0.8)\n",
    "critique_train, critique_test = critique[:split_border], critique[split_border:]\n",
    "polarite_train, polarite_test = polarite[:split_border], polarite[split_border:]\n",
    "\n",
    "# Charger le modèle Camembert pré-entraîné et le tokenizer\n",
    "model_name = \"camembert-base\"\n",
    "tokenizer = CamembertTokenizer.from_pretrained(model_name)\n",
    "model = CamembertForSequenceClassification.from_pretrained(model_name)\n",
    "\n",
    "print(len(critique_train))\n",
    "print(len(polarite_train))\n",
    "\n",
    "print(len(critique_test))\n",
    "print(len(polarite_test))\n"
   ]
  },
  {
   "cell_type": "code",
   "execution_count": 74,
   "metadata": {},
   "outputs": [],
   "source": [
    "import torch\n",
    "from transformers import CamembertTokenizer, CamembertForSequenceClassification\n",
    "from sklearn.model_selection import train_test_split\n",
    "from sklearn.metrics import accuracy_score\n",
    "from torch.utils.data import DataLoader, TensorDataset\n",
    "from sklearn.preprocessing import LabelEncoder, OneHotEncoder\n",
    "\n",
    "\n",
    "# Prétraiter les données\n",
    "def preprocess_data(critique, polarite, tokenizer):\n",
    "    encoded = tokenizer.batch_encode_plus(\n",
    "        critique,\n",
    "        add_special_tokens=False,\n",
    "        pad_to_max_length=True,\n",
    "        return_attention_mask=True,\n",
    "        return_tensors='pt')\n",
    "\n",
    "    polarite_ = torch.tensor(polarite)\n",
    "\n",
    "    return encoded['input_ids'], encoded['attention_mask'], polarite_\n",
    "    #torch.tensor(polarite_onehot, dtype=torch.float32)\n"
   ]
  },
  {
   "cell_type": "code",
   "execution_count": 106,
   "metadata": {},
   "outputs": [
    {
     "name": "stderr",
     "output_type": "stream",
     "text": [
      "/home/onyxia/work/.venv/lib/python3.10/site-packages/transformers/tokenization_utils_base.py:2618: FutureWarning: The `pad_to_max_length` argument is deprecated and will be removed in a future version, use `padding=True` or `padding='longest'` to pad to the longest sequence in the batch, or use `padding='max_length'` to pad to a max length. In this case, you can give a specific length with `max_length` (e.g. `max_length=45`) or leave max_length to None to pad to the maximal input size of the model (e.g. 512 for Bert).\n",
      "  warnings.warn(\n"
     ]
    },
    {
     "name": "stdout",
     "output_type": "stream",
     "text": [
      "torch.Size([7596, 503])\n",
      "torch.Size([7596, 503])\n",
      "torch.Size([7596])\n",
      "torch.Size([1899, 493])\n",
      "torch.Size([1899, 493])\n",
      "torch.Size([1899])\n"
     ]
    }
   ],
   "source": [
    "input_ids, attention_mask, polarite = preprocess_data(critique_train, polarite_train, tokenizer)\n",
    "print(input_ids.shape)\n",
    "print(attention_mask.shape)\n",
    "print(polarite.shape)\n",
    "train_dataset = TensorDataset(input_ids, attention_mask, polarite)\n",
    "\n",
    "\n",
    "input_ids, attention_mask, polarite = preprocess_data(critique_test, polarite_test, tokenizer)\n",
    "print(input_ids.shape)\n",
    "print(attention_mask.shape)\n",
    "print(polarite.shape)\n",
    "test_dataset = TensorDataset(input_ids, attention_mask, polarite)\n"
   ]
  },
  {
   "cell_type": "code",
   "execution_count": 107,
   "metadata": {},
   "outputs": [],
   "source": [
    "# Déplacez le modèle sur le GPU s'il est disponible\n",
    "device = torch.device(\"cuda\" if torch.cuda.is_available() else \"cpu\")\n",
    "model = model.to(device)\n",
    "\n",
    "# Déplacez les données d'entraînement sur le GPU\n",
    "input_ids_train, attention_mask_train, polarite_train = input_ids.to(device), attention_mask.to(device), polarite.to(device)\n",
    "train_dataset = TensorDataset(input_ids_train, attention_mask_train, polarite_train)\n",
    "\n",
    "# Déplacez les données de test sur le GPU\n",
    "input_ids_test, attention_mask_test, polarite_test = input_ids.to(device), attention_mask.to(device), polarite.to(device)\n",
    "test_dataset = TensorDataset(input_ids_test, attention_mask_test, polarite_test)\n",
    "\n",
    "\n",
    "# Define data loaders\n",
    "batch_size = 16\n",
    "train_loader = DataLoader(train_dataset, sampler=RandomSampler(train_dataset), batch_size=batch_size)\n",
    "test_loader = DataLoader(test_dataset, sampler=SequentialSampler(test_dataset), batch_size=batch_size)\n",
    "\n",
    "# Define training parameters\n",
    "epochs = 20\n",
    "optimizer = torch.optim.AdamW(model.parameters(), lr=2e-5)\n"
   ]
  },
  {
   "cell_type": "code",
   "execution_count": 108,
   "metadata": {},
   "outputs": [],
   "source": [
    "# Train the model\n",
    "model.train()\n",
    "for epoch in range(epochs):\n",
    "    for batch in train_loader:\n",
    "        input_ids, attention_mask, labels = batch\n",
    "        input_ids, attention_mask, labels = input_ids.to(device), attention_mask.to(device), labels.to(device)\n",
    "        optimizer.zero_grad()\n",
    "        outputs = model(input_ids, attention_mask=attention_mask, labels=labels.unsqueeze(1))\n",
    "        loss = outputs.loss\n",
    "        loss.backward()\n",
    "        optimizer.step()"
   ]
  },
  {
   "cell_type": "code",
   "execution_count": 109,
   "metadata": {},
   "outputs": [
    {
     "name": "stdout",
     "output_type": "stream",
     "text": [
      "Accuracy: 1.00\n"
     ]
    }
   ],
   "source": [
    "# Evaluate the model on the test set\n",
    "model.eval()\n",
    "predictions = []\n",
    "true_labels = []\n",
    "\n",
    "with torch.no_grad():\n",
    "    for batch in test_loader:\n",
    "        input_ids, attention_mask, labels = batch\n",
    "        input_ids, attention_mask, labels = input_ids.to(device), attention_mask.to(device), labels.to(device)\n",
    "        outputs = model(input_ids, attention_mask=attention_mask)\n",
    "        logits = outputs.logits\n",
    "        predictions.extend(logits.argmax(dim=1).tolist())\n",
    "        true_labels.extend(labels.squeeze().tolist())\n",
    "\n",
    "# Calculate accuracy\n",
    "accuracy = accuracy_score(true_labels, predictions)\n",
    "print(f'Accuracy: {accuracy:.2f}')"
   ]
  }
 ],
 "metadata": {
  "kernelspec": {
   "display_name": "Python 3 (ipykernel)",
   "language": "python",
   "name": "python3"
  },
  "language_info": {
   "codemirror_mode": {
    "name": "ipython",
    "version": 3
   },
   "file_extension": ".py",
   "mimetype": "text/x-python",
   "name": "python",
   "nbconvert_exporter": "python",
   "pygments_lexer": "ipython3",
   "version": "3.10.13"
  }
 },
 "nbformat": 4,
 "nbformat_minor": 4
}
