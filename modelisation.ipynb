{
 "cells": [
  {
   "cell_type": "markdown",
   "metadata": {},
   "source": [
    "Dans ce notebook, il s'agira de faire la partie modélisation du projet. Après un nettoyage de la base des critiques en utilisant des techniques de NLP, nous allons réliaser des modèles permettant de prédire la positivité ou négativité de la critique. Ensuite, nous comparerons les résultats obtenus à un modèle pré entrainé sur des textes en français, issue de BERT, qu'on aura au préalable fit sur nos données. Cette partie sera plutot lié au deep learning."
   ]
  },
  {
   "cell_type": "markdown",
   "metadata": {},
   "source": [
    "### Imports nécessaires"
   ]
  },
  {
   "cell_type": "code",
   "execution_count": 1,
   "metadata": {},
   "outputs": [],
   "source": [
    "# Classique python\n",
    "import pandas as pd\n",
    "import numpy as np\n",
    "from random import randint\n",
    "import matplotlib.pyplot as plt\n",
    "import seaborn as sns\n",
    "from datetime import datetime, timedelta\n",
    "from dateutil import parser "
   ]
  },
  {
   "cell_type": "code",
   "execution_count": 59,
   "metadata": {},
   "outputs": [],
   "source": [
    "# ML\n",
    "\n",
    "from sklearn.feature_extraction.text import CountVectorizer\n",
    "from sklearn.model_selection import cross_val_score, StratifiedKFold, GridSearchCV, train_test_split\n",
    "from sklearn import metrics\n",
    "from sklearn.linear_model import LogisticRegression\n",
    "from sklearn.ensemble import RandomForestClassifier\n",
    "from sklearnex import patch_sklearn"
   ]
  },
  {
   "cell_type": "code",
   "execution_count": 5,
   "metadata": {},
   "outputs": [
    {
     "name": "stderr",
     "output_type": "stream",
     "text": [
      "/home/onyxia/work/.venv/lib/python3.10/site-packages/tqdm/auto.py:21: TqdmWarning: IProgress not found. Please update jupyter and ipywidgets. See https://ipywidgets.readthedocs.io/en/stable/user_install.html\n",
      "  from .autonotebook import tqdm as notebook_tqdm\n"
     ]
    }
   ],
   "source": [
    "# CamemBERT\n",
    "import torch\n",
    "from transformers import CamembertForSequenceClassification, CamembertTokenizer, AdamW, get_linear_schedule_with_warmup\n",
    "from torch.utils.data import TensorDataset, random_split, DataLoader, RandomSampler, SequentialSampler\n",
    "\n",
    "import torch.nn as nn\n",
    "from torch.nn.parallel import DataParallel\n",
    "\n",
    "from tqdm import tqdm\n",
    "import time"
   ]
  },
  {
   "cell_type": "code",
   "execution_count": 6,
   "metadata": {},
   "outputs": [],
   "source": [
    "def french_to_english_month(month_french):\n",
    "    months_mapping = {\n",
    "        'janvier': 'January',\n",
    "        'février': 'February',\n",
    "        'mars': 'March',\n",
    "        'avril': 'April',\n",
    "        'mai': 'May',\n",
    "        'juin': 'June',\n",
    "        'juillet': 'July',\n",
    "        'août': 'August',\n",
    "        'septembre': 'September',\n",
    "        'octobre': 'October',\n",
    "        'novembre': 'November',\n",
    "        'décembre': 'December'\n",
    "    }\n",
    "    return months_mapping.get(month_french.lower(), month_french)\n"
   ]
  },
  {
   "cell_type": "markdown",
   "metadata": {},
   "source": [
    "### Machine Learning"
   ]
  },
  {
   "cell_type": "code",
   "execution_count": 11,
   "metadata": {},
   "outputs": [],
   "source": [
    "df_critiques = pd.read_csv(\"df_critiques_modif.csv\")"
   ]
  },
  {
   "cell_type": "code",
   "execution_count": 7,
   "metadata": {},
   "outputs": [],
   "source": [
    "df_critiques_mod = df_critiques.sample(n=100000, random_state=11)  # Utilisez un random_state pour la reproductibilité"
   ]
  },
  {
   "cell_type": "code",
   "execution_count": 8,
   "metadata": {},
   "outputs": [
    {
     "data": {
      "text/plain": [
       "Polarité_réelle\n",
       "0    44800\n",
       "1    55200\n",
       "dtype: int64"
      ]
     },
     "execution_count": 8,
     "metadata": {},
     "output_type": "execute_result"
    }
   ],
   "source": [
    "df_critiques_mod.groupby('Polarité_réelle').size()"
   ]
  },
  {
   "cell_type": "markdown",
   "metadata": {},
   "source": [
    "On aurait pu mieux gerer la proportion (essayer d'avoir dun 50/50) pour des résultats plus fiables. Mais tel qu'il en ait, c'est acceptable.\n"
   ]
  },
  {
   "cell_type": "code",
   "execution_count": 10,
   "metadata": {},
   "outputs": [],
   "source": [
    "# On prépare nos  jeux de test et d'entrainement pour le countvectorizer et pour le ML\n",
    "\n",
    "critique_train, critique_test, polarite_train, polarite_test = train_test_split(df_critiques_mod['Critique_nettoye'], df_critiques_mod['Polarité_réelle'], test_size=0.3, random_state=4) "
   ]
  },
  {
   "cell_type": "code",
   "execution_count": 65,
   "metadata": {},
   "outputs": [],
   "source": [
    "# CountVectorizer \n",
    "\n",
    "cv = CountVectorizer()\n",
    "cv_train_features = cv.fit_transform(critique_train)\n",
    "cv_test_features = cv.transform(critique_test)"
   ]
  },
  {
   "cell_type": "code",
   "execution_count": 55,
   "metadata": {},
   "outputs": [
    {
     "name": "stderr",
     "output_type": "stream",
     "text": [
      "Intel(R) Extension for Scikit-learn* enabled (https://github.com/intel/scikit-learn-intelex)\n"
     ]
    }
   ],
   "source": [
    "patch_sklearn()\n",
    "\n",
    "\n",
    "# Rôle de la fonction : Fit et prédicitons\n",
    "# Entrée : Modèle considéré, les deux jeux d'entrainement et le jeu des critiques-test \n",
    "# Sortie : predictions du modèle\n",
    "def fitting_predictions(model, train_features, train_labels, test_features):\n",
    "    model.fit(train_features, train_labels)\n",
    "    predictions = model.predict(test_features)\n",
    "    return predictions\n",
    "\n",
    "\n",
    "# Rôle de la fonction : Renvoie les résultats du modèle\n",
    "# Entrée : Jeu de test et prédictions\n",
    "# Sortie : les résultats du modèles\n",
    "\n",
    "def print_metrics(test_labels, predictions):\n",
    "    # On stock nos données dans un dictionnaire\n",
    "    results = {\n",
    "        'Accuracy': metrics.accuracy_score(test_labels, predictions),\n",
    "        'Precision': metrics.precision_score(test_labels, predictions),\n",
    "        'Recall': metrics.recall_score(test_labels, predictions),\n",
    "        'F1 Score': metrics.f1_score(test_labels, predictions),\n",
    "        'Classification Report': metrics.classification_report(test_labels, predictions),\n",
    "        'Confusion Matrix': metrics.confusion_matrix(test_labels, predictions)\n",
    "    }\n",
    "    \n",
    "    # Print metriques\n",
    "    print(\"\\nAccuracy:\", results['Accuracy'])\n",
    "    print(\"Precision:\", results['Precision'])\n",
    "    print(\"Recall:\", results['Recall'])\n",
    "    print(\"F1 Score:\", results['F1 Score'])\n",
    "    \n",
    "    # Print classification report\n",
    "    print(\"\\nClassification Report:\")\n",
    "    print(results['Classification Report'])\n",
    "\n",
    "    # Display confusion matrix as a heatmap using seaborn\n",
    "    cm = confusion_matrix(test_labels, predictions)\n",
    "    plt.figure(figsize=(8, 6))\n",
    "    sns.heatmap(cm, annot=True, fmt='d', cmap='Blues', xticklabels=['Negative', 'Positive'], yticklabels=['Negative', 'Positive'])\n",
    "    plt.xlabel('Predicted Label')\n",
    "    plt.ylabel('True Label')\n",
    "    plt.title('Confusion Matrix')\n",
    "    plt.show()\n",
    "    return results\n",
    "\n",
    "\n",
    "# Rôle de la fonction : Fit + résultat du modèle\n",
    "# Entrée : modèle et les 4 jeux de données\n",
    "# Sortie : les résultats du modèles\n",
    "def evaluate_model_final(model, train_features, train_labels, test_features, test_labels):\n",
    "    \n",
    "    predictions = fitting_predictions(model, train_features, train_labels, test_features)\n",
    "\n",
    "    # Cross-validation \n",
    "    cv_scores = cross_val_score(model, train_features, train_labels, cv=StratifiedKFold(n_splits=5), scoring='accuracy')\n",
    "    print(\"Cross-validation Scores:\", cv_scores)\n",
    "    print(\"Mean CV Accuracy:\", np.mean(cv_scores))\n",
    "\n",
    "    print_metrics(test_labels, predictions)\n",
    "\n",
    "    return 1"
   ]
  },
  {
   "cell_type": "markdown",
   "metadata": {},
   "source": [
    "#### Résultats Text Blob"
   ]
  },
  {
   "cell_type": "markdown",
   "metadata": {},
   "source": [
    "On va utiliser la fonction print_metrics() afin de regarder la fiabilité des prédictions faites avec textblob."
   ]
  },
  {
   "cell_type": "code",
   "execution_count": 52,
   "metadata": {},
   "outputs": [
    {
     "name": "stdout",
     "output_type": "stream",
     "text": [
      "\n",
      "Accuracy: 0.6718426501035196\n",
      "Precision: 0.6397220833890621\n",
      "Recall: 0.9263309183852891\n",
      "F1 Score: 0.7567998584284518\n",
      "\n",
      "Classification Report:\n",
      "              precision    recall  f1-score   support\n",
      "\n",
      "           0       0.80      0.36      0.50    319525\n",
      "           1       0.64      0.93      0.76    392417\n",
      "\n",
      "    accuracy                           0.67    711942\n",
      "   macro avg       0.72      0.64      0.63    711942\n",
      "weighted avg       0.71      0.67      0.64    711942\n",
      "\n"
     ]
    },
    {
     "data": {
      "image/png": "[encoded data removed]",
      "text/plain": [
       "<Figure size 800x600 with 2 Axes>"
      ]
     },
     "metadata": {},
     "output_type": "display_data"
    },
    {
     "data": {
      "text/plain": [
       "{'Accuracy': 0.6718426501035196,\n",
       " 'Precision': 0.6397220833890621,\n",
       " 'Recall': 0.9263309183852891,\n",
       " 'F1 Score': 0.7567998584284518,\n",
       " 'Classification Report': '              precision    recall  f1-score   support\\n\\n           0       0.80      0.36      0.50    319525\\n           1       0.64      0.93      0.76    392417\\n\\n    accuracy                           0.67    711942\\n   macro avg       0.72      0.64      0.63    711942\\nweighted avg       0.71      0.67      0.64    711942\\n',\n",
       " 'Confusion Matrix': array([[114805, 204720],\n",
       "        [ 28909, 363508]])}"
      ]
     },
     "execution_count": 52,
     "metadata": {},
     "output_type": "execute_result"
    }
   ],
   "source": [
    "test_labels= df_critiques['Polarité_réelle']\n",
    "predictions = df_critiques['Text_blob_critique_nettoyé']\n",
    "\n",
    "print_metrics(test_labels, predictions)"
   ]
  },
  {
   "cell_type": "markdown",
   "metadata": {},
   "source": [
    "Les performances du modèle de classification sont évaluées avec une précision globale de 67.18%. Le modèle présente une précision de 63.97%, indiquant sa capacité à correctement classifier les exemples positifs, tandis que le recall est élevé à 92.63%, indiquant la capacité du modèle à identifier la majorité des exemples positifs. Le F1 score, une mesure équilibrée entre précision et recall, est de 75.68%. En examinant la matrice de confusion, on observe que le modèle a bien performé sur les exemples négatifs (classe 0), mais a eu des difficultés avec les exemples positifs (classe 1), où il a eu plus de faux négatifs que de faux positifs.\n",
    "L’idée ensuite et d’appliquer des modèles de ML en vue d’améliorer les résultats. "
   ]
  },
  {
   "cell_type": "markdown",
   "metadata": {},
   "source": [
    "### Modèles ML"
   ]
  },
  {
   "cell_type": "code",
   "execution_count": 67,
   "metadata": {},
   "outputs": [
    {
     "name": "stdout",
     "output_type": "stream",
     "text": [
      "Cross-validation Scores: [0.82442857 0.82928571 0.82935714 0.82078571 0.82578571]\n",
      "Mean CV Accuracy: 0.8259285714285716\n",
      "\n",
      "Accuracy: 0.8263666666666667\n",
      "Precision: 0.8284367909709698\n",
      "Recall: 0.863030303030303\n",
      "F1 Score: 0.8453797975600345\n",
      "\n",
      "Classification Report:\n",
      "              precision    recall  f1-score   support\n",
      "\n",
      "           0       0.82      0.78      0.80     13500\n",
      "           1       0.83      0.86      0.85     16500\n",
      "\n",
      "    accuracy                           0.83     30000\n",
      "   macro avg       0.83      0.82      0.82     30000\n",
      "weighted avg       0.83      0.83      0.83     30000\n",
      "\n"
     ]
    },
    {
     "data": {
      "image/png": "[encoded data removed]",
      "text/plain": [
       "<Figure size 800x600 with 2 Axes>"
      ]
     },
     "metadata": {},
     "output_type": "display_data"
    },
    {
     "name": "stdout",
     "output_type": "stream",
     "text": [
      "CPU times: user 21min 11s, sys: 1h 51min 36s, total: 2h 12min 48s\n",
      "Wall time: 3min 21s\n"
     ]
    }
   ],
   "source": [
    "%%time\n",
    "# Logistic Regression\n",
    "model_lr = LogisticRegression(C=0.5, max_iter=100000)\n",
    "\n",
    "# CPU times: user 27min 11s, sys: 2h 21min 46s, total: 2h 48min 58s\n",
    "# Wall time: 4min 15s"
   ]
  },
  {
   "cell_type": "code",
   "execution_count": null,
   "metadata": {},
   "outputs": [],
   "source": [
    "logistic_regression_results = evaluate_model_final(model_lr, cv_train_features, polarite_train, cv_test_features, polarite_test)\n"
   ]
  },
  {
   "cell_type": "markdown",
   "metadata": {},
   "source": [
    "Les résultats de la validation croisée montrent une performance cohérente du modèle, avec des scores d'accuracy variant entre 82.07% et 82.94%, et une accuracy moyenne de 82.59%. Lors de l'évaluation sur un ensemble de test distinct, le modèle a obtenu une accuracy de 82.64%. La précision globale du modèle est de 82.84%, indiquant sa capacité à classifier correctement les exemples, avec une précision de 82.84%, un recall de 86.30%, et un F1 score de 84.54%. La matrice de confusion révèle que le modèle a une meilleure performance pour la classe 1."
   ]
  },
  {
   "cell_type": "code",
   "execution_count": 68,
   "metadata": {},
   "outputs": [
    {
     "name": "stdout",
     "output_type": "stream",
     "text": [
      "Cross-validation Scores: [0.80971429 0.8125     0.81592857 0.80964286 0.80914286]\n",
      "Mean CV Accuracy: 0.8113857142857143\n",
      "\n",
      "Accuracy: 0.8113\n",
      "Precision: 0.8126334006345544\n",
      "Recall: 0.8537575757575757\n",
      "F1 Score: 0.8326880449238953\n",
      "\n",
      "Classification Report:\n",
      "              precision    recall  f1-score   support\n",
      "\n",
      "           0       0.81      0.76      0.78     13500\n",
      "           1       0.81      0.85      0.83     16500\n",
      "\n",
      "    accuracy                           0.81     30000\n",
      "   macro avg       0.81      0.81      0.81     30000\n",
      "weighted avg       0.81      0.81      0.81     30000\n",
      "\n"
     ]
    },
    {
     "data": {
      "image/png": "[encoded data removed]",
      "text/plain": [
       "<Figure size 800x600 with 2 Axes>"
      ]
     },
     "metadata": {},
     "output_type": "display_data"
    },
    {
     "name": "stdout",
     "output_type": "stream",
     "text": [
      "CPU times: user 29min 36s, sys: 0 ns, total: 29min 36s\n",
      "Wall time: 29min 34s\n"
     ]
    }
   ],
   "source": [
    "%%time\n",
    "# Example with Random Forest\n",
    "random_forest = RandomForestClassifier(n_estimators=100, random_state=42)\n",
    "random_forest_results = evaluate_model_final(random_forest, cv_train_features, polarite_train, cv_test_features, polarite_test)"
   ]
  },
  {
   "cell_type": "markdown",
   "metadata": {},
   "source": [
    "## CamemBERT"
   ]
  },
  {
   "cell_type": "code",
   "execution_count": 21,
   "metadata": {},
   "outputs": [],
   "source": [
    "# Prétraiter les données\n",
    "def preprocess_data(critique, polarite, tokenizer):\n",
    "    encoded = tokenizer.batch_encode_plus(\n",
    "        critique,\n",
    "        add_special_tokens=False,\n",
    "        padding=True,\n",
    "        return_attention_mask=True,\n",
    "        truncation=True,\n",
    "        return_tensors='pt'\n",
    "    )\n",
    "\n",
    "    polarite_ = torch.tensor(polarite)\n",
    "\n",
    "    return encoded['input_ids'], encoded['attention_mask'], polarite_\n",
    "\n",
    "\n",
    "# Création du dataloader à partir de df et du tolenizer\n",
    "def data_loader(df, tokenizer):\n",
    "    critique = df['Critique'].values.tolist()\n",
    "    polarite = df['Polarité_réelle'].values.tolist()\n",
    "\n",
    "    input_ids_all, attention_mask_all, polarite_all = preprocess_data(critique, polarite, tokenizer)\n",
    "    input_ids_all_, attention_mask_all_, polarite_all_ = input_ids_all.to('cuda'), attention_mask_all.to('cuda'), polarite_all.to('cuda')\n",
    "    dataset = TensorDataset(input_ids_all_ , attention_mask_all_, polarite_all_)\n",
    "\n",
    "    # Define data loaders\n",
    "    batch_size=16\n",
    "    loader = DataLoader(dataset, sampler=RandomSampler(dataset), batch_size=batch_size)\n",
    "    return loader\n",
    "\n",
    "\n",
    "# Evaluate du model sur le test set (puis dans une autre mesure sur notre base en général)\n",
    "def modele_eval_bert(loader, model):\n",
    "    model.to('cuda')\n",
    "    loader\n",
    "    model.eval()\n",
    "    predictions = []\n",
    "    true_labels = []\n",
    "\n",
    "    with torch.no_grad():\n",
    "        for batch in loader:\n",
    "            input_ids, attention_mask, labels = batch\n",
    "            input_ids, attention_mask, labels = input_ids.to('cuda'), attention_mask.to('cuda'), labels.to('cuda')\n",
    "            outputs = model(input_ids, attention_mask=attention_mask)\n",
    "            logits = outputs.logits\n",
    "            predictions.extend(logits.argmax(dim=1).tolist())\n",
    "            true_labels.extend(labels.squeeze().tolist())\n",
    "    return predictions, true_labels\n"
   ]
  },
  {
   "cell_type": "code",
   "execution_count": null,
   "metadata": {},
   "outputs": [],
   "source": [
    "critique = df_critiques_mod['Critique'].values.tolist()\n",
    "polarite = df_critiques_mod['Polarité_réelle'].values.tolist()"
   ]
  },
  {
   "cell_type": "code",
   "execution_count": 13,
   "metadata": {},
   "outputs": [
    {
     "name": "stderr",
     "output_type": "stream",
     "text": [
      "Special tokens have been added in the vocabulary, make sure the associated word embeddings are fine-tuned or trained.\n",
      "Some weights of CamembertForSequenceClassification were not initialized from the model checkpoint at camembert-base and are newly initialized: ['classifier.out_proj.bias', 'classifier.dense.weight', 'classifier.dense.bias', 'classifier.out_proj.weight']\n",
      "You should probably TRAIN this model on a down-stream task to be able to use it for predictions and inference.\n"
     ]
    }
   ],
   "source": [
    "# Charger le modèle Camembert pré-entraîné et le tokenizer\n",
    "model_name = \"camembert-base\"\n",
    "tokenizer = CamembertTokenizer.from_pretrained(model_name)\n",
    "model = CamembertForSequenceClassification.from_pretrained(model_name)"
   ]
  },
  {
   "cell_type": "code",
   "execution_count": 147,
   "metadata": {},
   "outputs": [],
   "source": [
    "# Séparer les données en ensembles d'entraînement et de test\n",
    "critique_train, critique_test, polarite_train, polarite_test = train_test_split(critique, polarite, test_size=0.3, random_state=4)"
   ]
  },
  {
   "cell_type": "code",
   "execution_count": null,
   "metadata": {},
   "outputs": [],
   "source": [
    "input_ids_train, attention_mask_train, polarite_train = preprocess_data(critique_train, polarite_train, tokenizer)\n",
    "input_ids_test, attention_mask_test, polarite_test = preprocess_data(critique_test, polarite_test, tokenizer)"
   ]
  },
  {
   "cell_type": "code",
   "execution_count": 17,
   "metadata": {},
   "outputs": [
    {
     "name": "stdout",
     "output_type": "stream",
     "text": [
      "Using 2 GPUs.\n"
     ]
    }
   ],
   "source": [
    "# Déplacez le modèle sur le GPU s'il est disponible\n",
    "device = torch.device(\"cuda\" if torch.cuda.is_available() else \"cpu\")\n",
    "model = model.to(device)\n",
    "\n",
    "# Assurez-vous que votre modèle est défini sur le CPU avant de le passer à DataParallel\n",
    "if torch.cuda.device_count() > 1:\n",
    "    print(f\"Using {torch.cuda.device_count()} GPUs.\")\n",
    "    model = nn.DataParallel(model)\n",
    "\n",
    "\n",
    "# Déplacez les données d'entraînement sur le GPU\n",
    "input_ids_train_, attention_mask_train_, polarite_train_ = input_ids_train.to(device), attention_mask_train.to(device), polarite_train.to(device)\n",
    "train_dataset = TensorDataset(input_ids_train_, attention_mask_train_, polarite_train_)\n",
    "\n",
    "# Déplacez les données de test sur le GPU\n",
    "input_ids_test_, attention_mask_test_, polarite_test_ = input_ids_test.to(device), attention_mask_test.to(device), polarite_test.to(device)\n",
    "test_dataset = TensorDataset(input_ids_test_ , attention_mask_test_, polarite_test_)\n",
    "\n",
    "# Def des data loaders\n",
    "batch_size = 16\n",
    "train_loader = DataLoader(train_dataset, sampler=RandomSampler(train_dataset), batch_size=batch_size)\n",
    "test_loader = DataLoader(test_dataset, sampler=SequentialSampler(test_dataset), batch_size=batch_size)\n",
    "\n",
    "# Def des hyperparamètres\n",
    "epochs = 6\n",
    "optimizer = torch.optim.AdamW(model.parameters(), lr=2e-5)\n"
   ]
  },
  {
   "cell_type": "code",
   "execution_count": 18,
   "metadata": {},
   "outputs": [
    {
     "name": "stderr",
     "output_type": "stream",
     "text": [
      "Epoch 1/6:   0%|          | 0/4375 [00:00<?, ?batch/s]2023-12-28 23:28:55.396237: I tensorflow/core/util/port.cc:113] oneDNN custom operations are on. You may see slightly different numerical results due to floating-point round-off errors from different computation orders. To turn them off, set the environment variable `TF_ENABLE_ONEDNN_OPTS=0`.\n",
      "2023-12-28 23:28:55.469811: E external/local_xla/xla/stream_executor/cuda/cuda_dnn.cc:9261] Unable to register cuDNN factory: Attempting to register factory for plugin cuDNN when one has already been registered\n",
      "2023-12-28 23:28:55.469857: E external/local_xla/xla/stream_executor/cuda/cuda_fft.cc:607] Unable to register cuFFT factory: Attempting to register factory for plugin cuFFT when one has already been registered\n",
      "2023-12-28 23:28:55.471324: E external/local_xla/xla/stream_executor/cuda/cuda_blas.cc:1515] Unable to register cuBLAS factory: Attempting to register factory for plugin cuBLAS when one has already been registered\n",
      "2023-12-28 23:28:55.481834: I tensorflow/core/platform/cpu_feature_guard.cc:182] This TensorFlow binary is optimized to use available CPU instructions in performance-critical operations.\n",
      "To enable the following instructions: AVX2 AVX512F AVX512_VNNI FMA, in other operations, rebuild TensorFlow with the appropriate compiler flags.\n",
      "2023-12-28 23:28:56.642780: W tensorflow/compiler/tf2tensorrt/utils/py_utils.cc:38] TF-TRT Warning: Could not find TensorRT\n",
      "/home/onyxia/work/.venv/lib/python3.10/site-packages/torch/nn/parallel/_functions.py:68: UserWarning: Was asked to gather along dimension 0, but all input tensors were scalars; will instead unsqueeze and return a vector.\n",
      "  warnings.warn('Was asked to gather along dimension 0, but all '\n",
      "Epoch 1/6: 100%|██████████| 4375/4375 [1:41:51<00:00,  1.40s/batch, loss=0.208, avg_loss=0.285] \n"
     ]
    },
    {
     "name": "stdout",
     "output_type": "stream",
     "text": [
      "Epoch [1/6], Average Training Loss: 0.2852\n"
     ]
    },
    {
     "name": "stderr",
     "output_type": "stream",
     "text": [
      "Epoch 2/6: 100%|██████████| 4375/4375 [1:41:47<00:00,  1.40s/batch, loss=0.284, avg_loss=0.223]  \n"
     ]
    },
    {
     "name": "stdout",
     "output_type": "stream",
     "text": [
      "Epoch [2/6], Average Training Loss: 0.2227\n"
     ]
    },
    {
     "name": "stderr",
     "output_type": "stream",
     "text": [
      "Epoch 3/6: 100%|██████████| 4375/4375 [1:41:46<00:00,  1.40s/batch, loss=0.351, avg_loss=0.17]   \n"
     ]
    },
    {
     "name": "stdout",
     "output_type": "stream",
     "text": [
      "Epoch [3/6], Average Training Loss: 0.1702\n"
     ]
    },
    {
     "name": "stderr",
     "output_type": "stream",
     "text": [
      "Epoch 4/6: 100%|██████████| 4375/4375 [1:41:48<00:00,  1.40s/batch, loss=0.0962, avg_loss=0.121] \n"
     ]
    },
    {
     "name": "stdout",
     "output_type": "stream",
     "text": [
      "Epoch [4/6], Average Training Loss: 0.1207\n"
     ]
    },
    {
     "name": "stderr",
     "output_type": "stream",
     "text": [
      "Epoch 5/6: 100%|██████████| 4375/4375 [1:41:47<00:00,  1.40s/batch, loss=0.0165, avg_loss=0.0868] \n"
     ]
    },
    {
     "name": "stdout",
     "output_type": "stream",
     "text": [
      "Epoch [5/6], Average Training Loss: 0.0868\n"
     ]
    },
    {
     "name": "stderr",
     "output_type": "stream",
     "text": [
      "Epoch 6/6: 100%|██████████| 4375/4375 [1:41:46<00:00,  1.40s/batch, loss=0.00792, avg_loss=0.062] "
     ]
    },
    {
     "name": "stdout",
     "output_type": "stream",
     "text": [
      "Epoch [6/6], Average Training Loss: 0.0620\n"
     ]
    },
    {
     "name": "stderr",
     "output_type": "stream",
     "text": [
      "\n"
     ]
    }
   ],
   "source": [
    "model.train()\n",
    "for epoch in range(epochs):\n",
    "    total_loss = 0.0\n",
    "    num_batches = len(train_loader)\n",
    "\n",
    "    # Initialize tqdm for progress bar\n",
    "    progress_bar = tqdm(enumerate(train_loader), total=num_batches, desc=f'Epoch {epoch + 1}/{epochs}', unit='batch')\n",
    "\n",
    "    for batch_idx, batch in progress_bar:\n",
    "        input_ids, attention_mask, labels = batch\n",
    "        input_ids, attention_mask, labels = input_ids.to(device), attention_mask.to(device), labels.to(device)\n",
    "        optimizer.zero_grad()\n",
    "        outputs = model(input_ids, attention_mask=attention_mask, labels=labels.unsqueeze(1))\n",
    "        loss = outputs.loss.mean()  # or any other reduction operation that returns a scalar\n",
    "        loss.backward()\n",
    "        optimizer.step()\n",
    "\n",
    "\n",
    "        total_loss += loss.item()\n",
    "\n",
    "        # Update tqdm bar with current loss\n",
    "        progress_bar.set_postfix({'loss': loss.item(), 'avg_loss': total_loss / (batch_idx + 1)})\n",
    "\n",
    "        # Optional: Simulate time delay to show the progress bar\n",
    "        time.sleep(0.1)\n",
    "\n",
    "    # Print epoch-level training statistics\n",
    "    avg_epoch_loss = total_loss / num_batches\n",
    "    print(f'Epoch [{epoch + 1}/{epochs}], Average Training Loss: {avg_epoch_loss:.4f}')\n",
    "\n",
    "\n",
    "\n",
    "# Epoch 1/6: 100%|██████████| 4375/4375 [1:41:51<00:00,  1.40s/batch, loss=0.208, avg_loss=0.285] \n",
    "# Epoch [1/6], Average Training Loss: 0.2852\n",
    "# Epoch 2/6: 100%|██████████| 4375/4375 [1:41:47<00:00,  1.40s/batch, loss=0.284, avg_loss=0.223]  \n",
    "# Epoch [2/6], Average Training Loss: 0.2227\n",
    "# Epoch 3/6: 100%|██████████| 4375/4375 [1:41:46<00:00,  1.40s/batch, loss=0.351, avg_loss=0.17]   \n",
    "# Epoch [3/6], Average Training Loss: 0.1702\n",
    "# Epoch 4/6: 100%|██████████| 4375/4375 [1:41:48<00:00,  1.40s/batch, loss=0.0962, avg_loss=0.121] \n",
    "# Epoch [4/6], Average Training Loss: 0.1207\n",
    "# Epoch 5/6: 100%|██████████| 4375/4375 [1:41:47<00:00,  1.40s/batch, loss=0.0165, avg_loss=0.0868] \n",
    "# Epoch [5/6], Average Training Loss: 0.0868\n",
    "# Epoch 6/6: 100%|██████████| 4375/4375 [1:41:46<00:00,  1.40s/batch, loss=0.00792, avg_loss=0.062] \n",
    "# Epoch [6/6], Average Training Loss: 0.0620\n",
    "\n",
    "\n",
    "# Time : 610 46.8s (1Oh 10 min)"
   ]
  },
  {
   "cell_type": "code",
   "execution_count": 25,
   "metadata": {},
   "outputs": [],
   "source": [
    "# On sauvegarde le modèle\n",
    "torch.save(model.state_dict(), 'CamemBERT_critique_ac.pth')"
   ]
  },
  {
   "cell_type": "markdown",
   "metadata": {},
   "source": [
    "D'après nos observations, le GPU a été trois fois plus rapide que le CPU."
   ]
  },
  {
   "cell_type": "code",
   "execution_count": 19,
   "metadata": {},
   "outputs": [
    {
     "name": "stdout",
     "output_type": "stream",
     "text": [
      "CPU times: user 13min 32s, sys: 4.92 s, total: 13min 37s\n",
      "Wall time: 13min 11s\n"
     ]
    }
   ],
   "source": [
    "%%time\n",
    "# On évalue le modèle sur le test set\n",
    "predictions, true_labels = modele_eval_bert(test_loader, model)\n",
    "\n",
    "\n",
    "# Time 8m 45.3s"
   ]
  },
  {
   "cell_type": "code",
   "execution_count": 22,
   "metadata": {},
   "outputs": [
    {
     "name": "stdout",
     "output_type": "stream",
     "text": [
      "\n",
      "Accuracy: 0.8814666666666666\n",
      "Precision: 0.8755367297203203\n",
      "Recall: 0.9144848484848485\n",
      "F1 Score: 0.8945870634967688\n",
      "\n",
      "Classification Report:\n",
      "              precision    recall  f1-score   support\n",
      "\n",
      "           0       0.89      0.84      0.86     13500\n",
      "           1       0.88      0.91      0.89     16500\n",
      "\n",
      "    accuracy                           0.88     30000\n",
      "   macro avg       0.88      0.88      0.88     30000\n",
      "weighted avg       0.88      0.88      0.88     30000\n",
      "\n"
     ]
    },
    {
     "data": {
      "image/png": "[encoded data removed]",
      "text/plain": [
       "<Figure size 800x600 with 2 Axes>"
      ]
     },
     "metadata": {},
     "output_type": "display_data"
    },
    {
     "data": {
      "text/plain": [
       "{'Accuracy': 0.8814666666666666,\n",
       " 'Precision': 0.8755367297203203,\n",
       " 'Recall': 0.9144848484848485,\n",
       " 'F1 Score': 0.8945870634967688,\n",
       " 'Classification Report': '              precision    recall  f1-score   support\\n\\n           0       0.89      0.84      0.86     13500\\n           1       0.88      0.91      0.89     16500\\n\\n    accuracy                           0.88     30000\\n   macro avg       0.88      0.88      0.88     30000\\nweighted avg       0.88      0.88      0.88     30000\\n',\n",
       " 'Confusion Matrix': array([[11355,  2145],\n",
       "        [ 1411, 15089]])}"
      ]
     },
     "execution_count": 22,
     "metadata": {},
     "output_type": "execute_result"
    }
   ],
   "source": [
    "print_metrics(true_labels, predictions)"
   ]
  },
  {
   "cell_type": "markdown",
   "metadata": {},
   "source": [
    "Les résultats indiquent que le modèle de classification a une performance globalement élevée, avec une accuracy de 88.15%, une précision de 87.55%, un recall de 91.45% et un F1 score de 89.46%. Ces scores suggèrent que le modèle a réussi à bien classifier les exemples positifs et négatifs dans l'ensemble de test. En examinant le rapport de classification, on constate que la précision, le rappel et le score F1 sont tous élevés pour les deux classes (0 et 1). "
   ]
  },
  {
   "cell_type": "markdown",
   "metadata": {},
   "source": [
    "### Analyse des performance des modèles"
   ]
  },
  {
   "cell_type": "markdown",
   "metadata": {},
   "source": [
    "Le modèle basé sur TextBlob présente la performance la plus modeste parmi les quatre, avec une accuracy de 67.18%. En revanche, les modèles de Régression Logistique et Random Forest affichent des performances similaires, avec des accuracies respectives de 82.64% et 81.13%. Le modèle Camembert (Bert-based) se distingue nettement en démontrant une performance significativement supérieure, atteignant une accuracy de 88.15%, ainsi que des scores de précision, rappel et F1 supérieurs.\n",
    "\n",
    "Ces résultats confirment les attentes générales selon lesquelles les modèles de machine learning traditionnels, tels que la Régression Logistique et Random Forest, présentent des performances intermédiaires. En revanche, les modèles basés sur des architectures de deep learning, comme Camembert, exhibent une puissance remarquable pour les tâches de classification.\n",
    "\n",
    "Cependant, il est important de noter que les modèles de machine learning traditionnels auraient pu bénéficier d'une amélioration  en se concentrant davantage sur l'optimisation des hyperparamètres. La décision de ne pas le faire était motivée par des contraintes temporelles, car cette approche aurait demandé un temps d'exécution significatif.\n",
    "\n",
    "De plus, le modèle Camembert aurait pu être amélioré en ajustant finement des paramètres tels que le nombre de données d'entraînement, le nombre de batch (initialement nous avons voulu mettre 32 afin d’accélérer le modèle, mais on rencontrait une erreur lié à la mémoire), et le nombre d'époques. Si ce dernier paramètre avait pu être ajusté à 20 par exemple, on aurait certainement eu de meilleurs résultats. Mais sachant qu’une époque prenait 1h40 environ à s’exécuter, on en aurait eu pour plus de 33h d’entrainement. Ainsi, des contraintes de ressources matérielles ont limité ces ajustements. Par ailleurs, une gestion plus efficace de la parallélisation des calculs et l'accès à des ressources plus puissantes auraient potentiellement conduit à de meilleurs résultats.\n",
    "\n",
    "En ce qui concerne la labelisation des données, une amélioration aurait pu être réalisée en adoptant une approche plus nuancée. Par exemple, l'utilisation de critères plus fins, tels que considérer les notes supérieures ou égales à 4 comme des critiques positives, celles inférieures à 2 comme négatives, et éventuellement introduire un label neutre pour les critiques intermédiaires, aurait pu renforcer la qualité des données d'entraînement et, par conséquent, améliorer la performance globale du modèle."
   ]
  },
  {
   "cell_type": "markdown",
   "metadata": {},
   "source": [
    "### Application du modèle CamemBERT à un film"
   ]
  },
  {
   "cell_type": "code",
   "execution_count": 19,
   "metadata": {},
   "outputs": [
    {
     "name": "stderr",
     "output_type": "stream",
     "text": [
      "Special tokens have been added in the vocabulary, make sure the associated word embeddings are fine-tuned or trained.\n",
      "Some weights of CamembertForSequenceClassification were not initialized from the model checkpoint at camembert-base and are newly initialized: ['classifier.dense.bias', 'classifier.out_proj.bias', 'classifier.dense.weight', 'classifier.out_proj.weight']\n",
      "You should probably TRAIN this model on a down-stream task to be able to use it for predictions and inference.\n"
     ]
    },
    {
     "data": {
      "text/plain": [
       "<All keys matched successfully>"
      ]
     },
     "execution_count": 19,
     "metadata": {},
     "output_type": "execute_result"
    }
   ],
   "source": [
    "# On import le modèle qu'on a entrainé\n",
    "\n",
    "model_name = \"camembert-base\"\n",
    "tokenizer = CamembertTokenizer.from_pretrained(model_name)\n",
    "model1 = CamembertForSequenceClassification.from_pretrained(model_name)\n",
    "model11 = torch.nn.DataParallel(model1)\n",
    "model11.load_state_dict(torch.load('CamemBERT_critique_ac.pth'))"
   ]
  },
  {
   "cell_type": "markdown",
   "metadata": {},
   "source": [
    "Notre prochaine étape consiste à appliquer notre modèle à un échantillon de 500 films, en collectant et analysant les commentaires associés. Pour chaque film, nous allons calculer le ratio entre le nombre de critiques positives et le nombre de critiques négatives. Cette métrique simple nous permettra de déterminer si le film est considéré comme un succès ou un échec.\n",
    "\n",
    "La démarche sera la suivante : si le ratio est supérieur à 2, nous classerons le film comme un succès; sinon, il sera considéré comme un échec. Cette approche offre une évaluation quantitative basée sur la polarité des commentaires, nous permettant ainsi de catégoriser les films en fonction de la perception générale des spectateurs.\n",
    "\n",
    "Parallèlement, nous avons également étiqueté notre échantillon en utilisant la note attribuée au film. Si la note est supérieure à 3, le film est qualifié de succès; sinon, il est considéré comme un échec.\n",
    "\n",
    "Cette méthodologie combinée offre une double perspective, en comparant la classification basée sur l'analyse des sentiments avec celle basée sur les notations explicites. Cela nous permettra d'évaluer la cohérence de notre modèle avec les évaluations traditionnelles des films."
   ]
  },
  {
   "cell_type": "code",
   "execution_count": 13,
   "metadata": {},
   "outputs": [],
   "source": [
    "df_merged = pd.read_csv(\"df_merged.csv\")"
   ]
  },
  {
   "cell_type": "code",
   "execution_count": 51,
   "metadata": {},
   "outputs": [],
   "source": [
    "nb_film = 500\n",
    "df_test_films = df_merged.sample(n=nb_film, random_state=1)"
   ]
  },
  {
   "cell_type": "code",
   "execution_count": 62,
   "metadata": {},
   "outputs": [],
   "source": [
    "# Rôle : renvoie un dataframe avec les informations importantes\n",
    "# Entrée : un dataframe contenant les films dont on veux prédire le succès ou l'échec\n",
    "# Sortie : un dataframe \n",
    "\n",
    "def apply_model(df, model):\n",
    "    # Créer des listes pour stocker les valeurs calculées\n",
    "    accuracy_txt_blob_list = []\n",
    "    accuracy_bert_list = []\n",
    "    succes_reel_list = []\n",
    "    succes_pred_list = []\n",
    "    ratio_pc_nc_list = []\n",
    "\n",
    "    df = df.loc[:, [\"Titre original\", \"id allocine\", \"Notes spectateur\"]]\n",
    "\n",
    "    total_rows = len(df)\n",
    "    progress_counter = 0\n",
    "\n",
    "    for index, row in df.iterrows():\n",
    "        try:\n",
    "            progress_counter += 1\n",
    "            print(f\"Processing row {progress_counter} of {total_rows}\")\n",
    "\n",
    "            id_ac = row['id allocine']\n",
    "            df_critiques_id = df_critiques[df_critiques['id_allocine'] == id_ac]\n",
    "\n",
    "            # Gestion des erreurs pour accuracy_txt_blob\n",
    "            try:\n",
    "                accuracy_txt_blob = metrics.accuracy_score(df_critiques_id['Polarité_réelle'], df_critiques_id['Text_blob_critique_nettoyé'])\n",
    "            except Exception as e:\n",
    "                print(f\"Erreur lors du calcul de accuracy_txt_blob pour la ligne {index}: {e}\")\n",
    "                accuracy_txt_blob = None\n",
    "\n",
    "            # Gestion des erreurs pour modele_eval_bert\n",
    "            try:\n",
    "                loader = data_loader(df_critiques_id, tokenizer)\n",
    "                all_predictions, true_labels = modele_eval_bert(loader, model)\n",
    "                accuracy_bert = metrics.accuracy_score(true_labels, all_predictions)\n",
    "\n",
    "                nombre_de_1 = all_predictions.count(1)\n",
    "                nombre_de_0 = all_predictions.count(0)\n",
    "                ratio_pc_nc = nombre_de_1 / nombre_de_0 if nombre_de_0 != 0 else None\n",
    "            except Exception as e:\n",
    "                print(f\"Erreur lors du calcul de accuracy_bert pour la ligne {index}: {e}\")\n",
    "                accuracy_bert = None\n",
    "                ratio_pc_nc = None\n",
    "\n",
    "            # Succès réel du film (1 c'est un hit, 0 c'est un flop)\n",
    "            succes_reel = 1 if row[\"Notes spectateur\"] > 3 else 0\n",
    "\n",
    "            # Succès prédit du film (1 c'est un hit, 0 c'est un flop).\n",
    "            succes_pred = 1 if ratio_pc_nc is not None and ratio_pc_nc > 1.5 else 0\n",
    "\n",
    "            # Ajouter les valeurs à la liste\n",
    "            accuracy_txt_blob_list.append(accuracy_txt_blob)\n",
    "            accuracy_bert_list.append(accuracy_bert)\n",
    "            succes_reel_list.append(succes_reel)\n",
    "            succes_pred_list.append(succes_pred)\n",
    "            ratio_pc_nc_list.append(ratio_pc_nc)\n",
    "\n",
    "        except Exception as e:\n",
    "            print(f\"Erreur lors du traitement de la ligne {index}: {e}\")\n",
    "\n",
    "    # Ajouter les listes comme nouvelles colonnes au DataFrame\n",
    "    df[\"accuracy_txt_blob\"] = accuracy_txt_blob_list\n",
    "    df[\"accuracy_bert\"] = accuracy_bert_list\n",
    "    df[\"ratio_pc_nc\"] = ratio_pc_nc_list\n",
    "    df[\"succes_reel\"] = succes_reel_list\n",
    "    df[\"succes_pred\"] = succes_pred_list\n",
    "    \n",
    "    return df\n"
   ]
  },
  {
   "cell_type": "code",
   "execution_count": 63,
   "metadata": {},
   "outputs": [
    {
     "name": "stdout",
     "output_type": "stream",
     "text": [
      "Processing row 1 of 500\n",
      "Processing row 2 of 500\n",
      "Processing row 3 of 500\n",
      "Processing row 4 of 500\n",
      "Processing row 5 of 500\n",
      "Processing row 6 of 500\n",
      "Processing row 7 of 500\n",
      "Processing row 8 of 500\n",
      "Processing row 9 of 500\n",
      "Processing row 10 of 500\n",
      "Processing row 11 of 500\n",
      "Processing row 12 of 500\n",
      "Processing row 13 of 500\n",
      "Processing row 14 of 500\n",
      "Processing row 15 of 500\n",
      "Erreur lors du calcul de accuracy_bert pour la ligne 331: 'int' object is not iterable\n",
      "Processing row 16 of 500\n",
      "Processing row 17 of 500\n",
      "Processing row 18 of 500\n",
      "Processing row 19 of 500\n",
      "Processing row 20 of 500\n",
      "Processing row 21 of 500\n",
      "Processing row 22 of 500\n",
      "Processing row 23 of 500\n",
      "Processing row 24 of 500\n",
      "Processing row 25 of 500\n",
      "Processing row 26 of 500\n",
      "Processing row 27 of 500\n",
      "Processing row 28 of 500\n",
      "Processing row 29 of 500\n",
      "Processing row 30 of 500\n",
      "Processing row 31 of 500\n",
      "Processing row 32 of 500\n",
      "Processing row 33 of 500\n",
      "Processing row 34 of 500\n",
      "Processing row 35 of 500\n",
      "Processing row 36 of 500\n",
      "Processing row 37 of 500\n",
      "Processing row 38 of 500\n",
      "Processing row 39 of 500\n",
      "Processing row 40 of 500\n",
      "Processing row 41 of 500\n",
      "Processing row 42 of 500\n",
      "Processing row 43 of 500\n",
      "Processing row 44 of 500\n",
      "Processing row 45 of 500\n",
      "Processing row 46 of 500\n",
      "Processing row 47 of 500\n",
      "Processing row 48 of 500\n",
      "Processing row 49 of 500\n",
      "Processing row 50 of 500\n",
      "Processing row 51 of 500\n",
      "Processing row 52 of 500\n",
      "Processing row 53 of 500\n",
      "Processing row 54 of 500\n",
      "Processing row 55 of 500\n",
      "Processing row 56 of 500\n",
      "Processing row 57 of 500\n",
      "Processing row 58 of 500\n",
      "Processing row 59 of 500\n",
      "Processing row 60 of 500\n",
      "Processing row 61 of 500\n",
      "Processing row 62 of 500\n",
      "Processing row 63 of 500\n",
      "Processing row 64 of 500\n",
      "Processing row 65 of 500\n",
      "Processing row 66 of 500\n",
      "Processing row 67 of 500\n",
      "Processing row 68 of 500\n",
      "Processing row 69 of 500\n",
      "Processing row 70 of 500\n",
      "Processing row 71 of 500\n",
      "Processing row 72 of 500\n",
      "Erreur lors du calcul de accuracy_bert pour la ligne 551: 'int' object is not iterable\n",
      "Processing row 73 of 500\n",
      "Processing row 74 of 500\n",
      "Processing row 75 of 500\n",
      "Processing row 76 of 500\n",
      "Processing row 77 of 500\n",
      "Processing row 78 of 500\n",
      "Erreur lors du calcul de accuracy_bert pour la ligne 93: 'int' object is not iterable\n",
      "Processing row 79 of 500\n",
      "Processing row 80 of 500\n",
      "Processing row 81 of 500\n",
      "Processing row 82 of 500\n",
      "Processing row 83 of 500\n",
      "Processing row 84 of 500\n",
      "Processing row 85 of 500\n",
      "Processing row 86 of 500\n",
      "Processing row 87 of 500\n",
      "Processing row 88 of 500\n",
      "Processing row 89 of 500\n",
      "Processing row 90 of 500\n",
      "Processing row 91 of 500\n",
      "Processing row 92 of 500\n",
      "Processing row 93 of 500\n",
      "Processing row 94 of 500\n",
      "Processing row 95 of 500\n",
      "Processing row 96 of 500\n",
      "Processing row 97 of 500\n",
      "Processing row 98 of 500\n",
      "Processing row 99 of 500\n",
      "Processing row 100 of 500\n",
      "Processing row 101 of 500\n",
      "Processing row 102 of 500\n",
      "Processing row 103 of 500\n",
      "Processing row 104 of 500\n",
      "Processing row 105 of 500\n",
      "Processing row 106 of 500\n",
      "Processing row 107 of 500\n",
      "Processing row 108 of 500\n",
      "Processing row 109 of 500\n",
      "Erreur lors du calcul de accuracy_bert pour la ligne 2656: 'int' object is not iterable\n",
      "Processing row 110 of 500\n",
      "Processing row 111 of 500\n",
      "Processing row 112 of 500\n",
      "Processing row 113 of 500\n",
      "Processing row 114 of 500\n",
      "Processing row 115 of 500\n",
      "Processing row 116 of 500\n",
      "Processing row 117 of 500\n",
      "Processing row 118 of 500\n",
      "Processing row 119 of 500\n",
      "Processing row 120 of 500\n",
      "Processing row 121 of 500\n",
      "Processing row 122 of 500\n",
      "Processing row 123 of 500\n",
      "Processing row 124 of 500\n",
      "Processing row 125 of 500\n",
      "Processing row 126 of 500\n",
      "Processing row 127 of 500\n",
      "Processing row 128 of 500\n",
      "Processing row 129 of 500\n",
      "Processing row 130 of 500\n",
      "Processing row 131 of 500\n",
      "Processing row 132 of 500\n",
      "Processing row 133 of 500\n",
      "Processing row 134 of 500\n",
      "Processing row 135 of 500\n",
      "Processing row 136 of 500\n",
      "Processing row 137 of 500\n",
      "Processing row 138 of 500\n",
      "Processing row 139 of 500\n",
      "Processing row 140 of 500\n",
      "Processing row 141 of 500\n",
      "Processing row 142 of 500\n",
      "Processing row 143 of 500\n",
      "Processing row 144 of 500\n",
      "Processing row 145 of 500\n",
      "Processing row 146 of 500\n",
      "Processing row 147 of 500\n",
      "Processing row 148 of 500\n",
      "Processing row 149 of 500\n",
      "Processing row 150 of 500\n",
      "Processing row 151 of 500\n",
      "Processing row 152 of 500\n",
      "Processing row 153 of 500\n",
      "Processing row 154 of 500\n",
      "Processing row 155 of 500\n",
      "Erreur lors du calcul de accuracy_bert pour la ligne 3110: 'int' object is not iterable\n",
      "Processing row 156 of 500\n",
      "Processing row 157 of 500\n",
      "Processing row 158 of 500\n",
      "Processing row 159 of 500\n",
      "Processing row 160 of 500\n",
      "Processing row 161 of 500\n",
      "Processing row 162 of 500\n",
      "Processing row 163 of 500\n",
      "Processing row 164 of 500\n",
      "Processing row 165 of 500\n",
      "Processing row 166 of 500\n",
      "Processing row 167 of 500\n",
      "Processing row 168 of 500\n",
      "Processing row 169 of 500\n",
      "Processing row 170 of 500\n",
      "Processing row 171 of 500\n",
      "Processing row 172 of 500\n",
      "Processing row 173 of 500\n",
      "Processing row 174 of 500\n",
      "Processing row 175 of 500\n",
      "Processing row 176 of 500\n",
      "Processing row 177 of 500\n",
      "Processing row 178 of 500\n",
      "Processing row 179 of 500\n",
      "Processing row 180 of 500\n",
      "Processing row 181 of 500\n",
      "Processing row 182 of 500\n",
      "Processing row 183 of 500\n",
      "Erreur lors du calcul de accuracy_bert pour la ligne 2299: 'int' object is not iterable\n",
      "Processing row 184 of 500\n",
      "Processing row 185 of 500\n",
      "Processing row 186 of 500\n",
      "Processing row 187 of 500\n",
      "Processing row 188 of 500\n",
      "Processing row 189 of 500\n",
      "Processing row 190 of 500\n",
      "Processing row 191 of 500\n",
      "Processing row 192 of 500\n",
      "Processing row 193 of 500\n",
      "Processing row 194 of 500\n",
      "Processing row 195 of 500\n",
      "Processing row 196 of 500\n",
      "Processing row 197 of 500\n",
      "Processing row 198 of 500\n",
      "Processing row 199 of 500\n",
      "Processing row 200 of 500\n",
      "Processing row 201 of 500\n",
      "Processing row 202 of 500\n",
      "Processing row 203 of 500\n",
      "Processing row 204 of 500\n",
      "Processing row 205 of 500\n",
      "Processing row 206 of 500\n",
      "Processing row 207 of 500\n",
      "Processing row 208 of 500\n",
      "Processing row 209 of 500\n",
      "Erreur lors du calcul de accuracy_bert pour la ligne 1135: 'int' object is not iterable\n",
      "Processing row 210 of 500\n",
      "Processing row 211 of 500\n",
      "Processing row 212 of 500\n",
      "Processing row 213 of 500\n",
      "Processing row 214 of 500\n",
      "Processing row 215 of 500\n",
      "Processing row 216 of 500\n",
      "Processing row 217 of 500\n",
      "Processing row 218 of 500\n",
      "Processing row 219 of 500\n",
      "Processing row 220 of 500\n",
      "Processing row 221 of 500\n",
      "Processing row 222 of 500\n",
      "Processing row 223 of 500\n",
      "Processing row 224 of 500\n",
      "Processing row 225 of 500\n",
      "Processing row 226 of 500\n",
      "Processing row 227 of 500\n",
      "Erreur lors du calcul de accuracy_bert pour la ligne 230: 'int' object is not iterable\n",
      "Processing row 228 of 500\n",
      "Processing row 229 of 500\n",
      "Processing row 230 of 500\n",
      "Processing row 231 of 500\n",
      "Processing row 232 of 500\n",
      "Processing row 233 of 500\n",
      "Processing row 234 of 500\n",
      "Processing row 235 of 500\n",
      "Processing row 236 of 500\n",
      "Processing row 237 of 500\n",
      "Processing row 238 of 500\n",
      "Processing row 239 of 500\n",
      "Processing row 240 of 500\n",
      "Processing row 241 of 500\n",
      "Processing row 242 of 500\n",
      "Processing row 243 of 500\n",
      "Processing row 244 of 500\n",
      "Processing row 245 of 500\n",
      "Processing row 246 of 500\n",
      "Processing row 247 of 500\n",
      "Processing row 248 of 500\n",
      "Processing row 249 of 500\n",
      "Processing row 250 of 500\n",
      "Processing row 251 of 500\n",
      "Processing row 252 of 500\n",
      "Erreur lors du calcul de accuracy_bert pour la ligne 126: 'int' object is not iterable\n",
      "Processing row 253 of 500\n",
      "Processing row 254 of 500\n",
      "Processing row 255 of 500\n",
      "Processing row 256 of 500\n",
      "Processing row 257 of 500\n",
      "Processing row 258 of 500\n",
      "Processing row 259 of 500\n",
      "Processing row 260 of 500\n",
      "Processing row 261 of 500\n",
      "Processing row 262 of 500\n",
      "Processing row 263 of 500\n",
      "Processing row 264 of 500\n",
      "Processing row 265 of 500\n",
      "Processing row 266 of 500\n",
      "Processing row 267 of 500\n",
      "Processing row 268 of 500\n",
      "Processing row 269 of 500\n",
      "Processing row 270 of 500\n",
      "Processing row 271 of 500\n",
      "Processing row 272 of 500\n",
      "Processing row 273 of 500\n",
      "Processing row 274 of 500\n",
      "Processing row 275 of 500\n",
      "Processing row 276 of 500\n",
      "Processing row 277 of 500\n",
      "Processing row 278 of 500\n",
      "Processing row 279 of 500\n",
      "Processing row 280 of 500\n",
      "Processing row 281 of 500\n",
      "Processing row 282 of 500\n",
      "Processing row 283 of 500\n",
      "Processing row 284 of 500\n",
      "Processing row 285 of 500\n",
      "Processing row 286 of 500\n",
      "Processing row 287 of 500\n",
      "Processing row 288 of 500\n",
      "Processing row 289 of 500\n",
      "Processing row 290 of 500\n",
      "Processing row 291 of 500\n",
      "Processing row 292 of 500\n",
      "Processing row 293 of 500\n",
      "Processing row 294 of 500\n",
      "Processing row 295 of 500\n",
      "Processing row 296 of 500\n",
      "Processing row 297 of 500\n",
      "Processing row 298 of 500\n",
      "Processing row 299 of 500\n",
      "Processing row 300 of 500\n",
      "Processing row 301 of 500\n",
      "Processing row 302 of 500\n",
      "Processing row 303 of 500\n",
      "Processing row 304 of 500\n",
      "Processing row 305 of 500\n",
      "Processing row 306 of 500\n",
      "Processing row 307 of 500\n",
      "Processing row 308 of 500\n",
      "Processing row 309 of 500\n",
      "Processing row 310 of 500\n",
      "Processing row 311 of 500\n",
      "Processing row 312 of 500\n",
      "Processing row 313 of 500\n",
      "Processing row 314 of 500\n",
      "Processing row 315 of 500\n",
      "Processing row 316 of 500\n",
      "Processing row 317 of 500\n",
      "Processing row 318 of 500\n",
      "Processing row 319 of 500\n",
      "Processing row 320 of 500\n",
      "Processing row 321 of 500\n",
      "Processing row 322 of 500\n",
      "Processing row 323 of 500\n",
      "Processing row 324 of 500\n",
      "Processing row 325 of 500\n",
      "Processing row 326 of 500\n",
      "Processing row 327 of 500\n",
      "Processing row 328 of 500\n",
      "Processing row 329 of 500\n",
      "Processing row 330 of 500\n",
      "Processing row 331 of 500\n",
      "Processing row 332 of 500\n",
      "Processing row 333 of 500\n",
      "Processing row 334 of 500\n",
      "Processing row 335 of 500\n",
      "Processing row 336 of 500\n",
      "Processing row 337 of 500\n",
      "Processing row 338 of 500\n",
      "Processing row 339 of 500\n",
      "Processing row 340 of 500\n",
      "Processing row 341 of 500\n",
      "Processing row 342 of 500\n",
      "Processing row 343 of 500\n",
      "Processing row 344 of 500\n",
      "Processing row 345 of 500\n",
      "Processing row 346 of 500\n",
      "Processing row 347 of 500\n",
      "Processing row 348 of 500\n",
      "Processing row 349 of 500\n",
      "Processing row 350 of 500\n",
      "Processing row 351 of 500\n",
      "Processing row 352 of 500\n",
      "Processing row 353 of 500\n",
      "Processing row 354 of 500\n",
      "Processing row 355 of 500\n",
      "Processing row 356 of 500\n",
      "Processing row 357 of 500\n",
      "Processing row 358 of 500\n",
      "Processing row 359 of 500\n",
      "Processing row 360 of 500\n",
      "Processing row 361 of 500\n",
      "Processing row 362 of 500\n",
      "Processing row 363 of 500\n",
      "Processing row 364 of 500\n",
      "Processing row 365 of 500\n",
      "Processing row 366 of 500\n",
      "Processing row 367 of 500\n",
      "Processing row 368 of 500\n",
      "Processing row 369 of 500\n",
      "Processing row 370 of 500\n",
      "Processing row 371 of 500\n",
      "Processing row 372 of 500\n",
      "Processing row 373 of 500\n",
      "Processing row 374 of 500\n",
      "Processing row 375 of 500\n",
      "Processing row 376 of 500\n",
      "Processing row 377 of 500\n",
      "Processing row 378 of 500\n",
      "Processing row 379 of 500\n",
      "Processing row 380 of 500\n",
      "Processing row 381 of 500\n",
      "Processing row 382 of 500\n",
      "Processing row 383 of 500\n",
      "Processing row 384 of 500\n",
      "Processing row 385 of 500\n",
      "Processing row 386 of 500\n",
      "Processing row 387 of 500\n",
      "Processing row 388 of 500\n",
      "Processing row 389 of 500\n",
      "Processing row 390 of 500\n",
      "Processing row 391 of 500\n",
      "Processing row 392 of 500\n",
      "Processing row 393 of 500\n",
      "Processing row 394 of 500\n",
      "Processing row 395 of 500\n",
      "Processing row 396 of 500\n",
      "Processing row 397 of 500\n",
      "Processing row 398 of 500\n",
      "Processing row 399 of 500\n",
      "Processing row 400 of 500\n",
      "Processing row 401 of 500\n",
      "Processing row 402 of 500\n",
      "Processing row 403 of 500\n",
      "Processing row 404 of 500\n",
      "Processing row 405 of 500\n",
      "Processing row 406 of 500\n",
      "Processing row 407 of 500\n",
      "Processing row 408 of 500\n",
      "Processing row 409 of 500\n",
      "Processing row 410 of 500\n",
      "Processing row 411 of 500\n",
      "Processing row 412 of 500\n",
      "Processing row 413 of 500\n",
      "Processing row 414 of 500\n",
      "Processing row 415 of 500\n",
      "Processing row 416 of 500\n",
      "Processing row 417 of 500\n",
      "Processing row 418 of 500\n",
      "Processing row 419 of 500\n",
      "Processing row 420 of 500\n",
      "Processing row 421 of 500\n",
      "Processing row 422 of 500\n",
      "Processing row 423 of 500\n",
      "Processing row 424 of 500\n",
      "Processing row 425 of 500\n",
      "Processing row 426 of 500\n",
      "Processing row 427 of 500\n",
      "Processing row 428 of 500\n",
      "Processing row 429 of 500\n",
      "Processing row 430 of 500\n",
      "Processing row 431 of 500\n",
      "Processing row 432 of 500\n",
      "Processing row 433 of 500\n",
      "Processing row 434 of 500\n",
      "Processing row 435 of 500\n",
      "Processing row 436 of 500\n",
      "Processing row 437 of 500\n",
      "Processing row 438 of 500\n",
      "Processing row 439 of 500\n",
      "Processing row 440 of 500\n",
      "Processing row 441 of 500\n",
      "Processing row 442 of 500\n",
      "Processing row 443 of 500\n",
      "Processing row 444 of 500\n",
      "Processing row 445 of 500\n",
      "Processing row 446 of 500\n",
      "Processing row 447 of 500\n",
      "Processing row 448 of 500\n",
      "Processing row 449 of 500\n",
      "Processing row 450 of 500\n",
      "Processing row 451 of 500\n",
      "Processing row 452 of 500\n",
      "Processing row 453 of 500\n",
      "Processing row 454 of 500\n",
      "Processing row 455 of 500\n",
      "Processing row 456 of 500\n",
      "Processing row 457 of 500\n",
      "Processing row 458 of 500\n",
      "Processing row 459 of 500\n",
      "Processing row 460 of 500\n",
      "Processing row 461 of 500\n",
      "Processing row 462 of 500\n",
      "Processing row 463 of 500\n",
      "Processing row 464 of 500\n",
      "Processing row 465 of 500\n",
      "Processing row 466 of 500\n",
      "Processing row 467 of 500\n",
      "Processing row 468 of 500\n",
      "Processing row 469 of 500\n",
      "Processing row 470 of 500\n",
      "Processing row 471 of 500\n",
      "Processing row 472 of 500\n",
      "Processing row 473 of 500\n",
      "Processing row 474 of 500\n",
      "Processing row 475 of 500\n",
      "Processing row 476 of 500\n",
      "Processing row 477 of 500\n",
      "Processing row 478 of 500\n",
      "Processing row 479 of 500\n",
      "Processing row 480 of 500\n",
      "Processing row 481 of 500\n",
      "Processing row 482 of 500\n",
      "Processing row 483 of 500\n",
      "Processing row 484 of 500\n",
      "Processing row 485 of 500\n",
      "Processing row 486 of 500\n",
      "Processing row 487 of 500\n",
      "Processing row 488 of 500\n",
      "Processing row 489 of 500\n",
      "Processing row 490 of 500\n",
      "Processing row 491 of 500\n",
      "Processing row 492 of 500\n",
      "Processing row 493 of 500\n",
      "Processing row 494 of 500\n",
      "Processing row 495 of 500\n",
      "Processing row 496 of 500\n",
      "Processing row 497 of 500\n",
      "Processing row 498 of 500\n",
      "Processing row 499 of 500\n",
      "Processing row 500 of 500\n"
     ]
    }
   ],
   "source": [
    "df = apply_model(df_test_films, model11)"
   ]
  },
  {
   "cell_type": "code",
   "execution_count": 64,
   "metadata": {},
   "outputs": [
    {
     "name": "stdout",
     "output_type": "stream",
     "text": [
      "\n",
      "Accuracy: 0.788\n",
      "Precision: 0.8811881188118812\n",
      "Recall: 0.48633879781420764\n",
      "F1 Score: 0.6267605633802816\n",
      "\n",
      "Classification Report:\n",
      "              precision    recall  f1-score   support\n",
      "\n",
      "           0       0.76      0.96      0.85       317\n",
      "           1       0.88      0.49      0.63       183\n",
      "\n",
      "    accuracy                           0.79       500\n",
      "   macro avg       0.82      0.72      0.74       500\n",
      "weighted avg       0.81      0.79      0.77       500\n",
      "\n"
     ]
    },
    {
     "data": {
      "image/png": "[encoded data removed]",
      "text/plain": [
       "<Figure size 800x600 with 2 Axes>"
      ]
     },
     "metadata": {},
     "output_type": "display_data"
    },
    {
     "data": {
      "text/plain": [
       "{'Accuracy': 0.788,\n",
       " 'Precision': 0.8811881188118812,\n",
       " 'Recall': 0.48633879781420764,\n",
       " 'F1 Score': 0.6267605633802816,\n",
       " 'Classification Report': '              precision    recall  f1-score   support\\n\\n           0       0.76      0.96      0.85       317\\n           1       0.88      0.49      0.63       183\\n\\n    accuracy                           0.79       500\\n   macro avg       0.82      0.72      0.74       500\\nweighted avg       0.81      0.79      0.77       500\\n',\n",
       " 'Confusion Matrix': array([[305,  12],\n",
       "        [ 94,  89]])}"
      ]
     },
     "execution_count": 64,
     "metadata": {},
     "output_type": "execute_result"
    }
   ],
   "source": [
    "print_metrics(df[\"succes_reel\"], df[\"succes_pred\"])"
   ]
  },
  {
   "cell_type": "markdown",
   "metadata": {},
   "source": [
    "# Conclusion du projet"
   ]
  },
  {
   "cell_type": "markdown",
   "metadata": {},
   "source": [
    "Le projet visait à classifier des films en succès ou échec à partir de l'analyse de sentiments des critiques a produit des résultats encourageants. Les différentes étapes, de l'analyse de sentiments avec TextBlob à l'utilisation de modèles tels que la régression logistique, le Random Forest, et enfin le modèle Camembert, ont permis d'obtenir une précision globale de 78.8%. Cela suggère une performance significative dans la prédiction du succès ou de l'échec des films à partir des critiques.\n",
    "\n",
    "\n",
    "Principales Observations :\n",
    "\n",
    "- Performance du modèle : Le modèle Camembert a démontré une performance supérieure par rapport aux autres modèles testés. Cela met en évidence la pertinence d'utiliser des modèles de traitement du langage naturel (NLP) plus avancés pour des tâches complexes comme la classification de films basée sur des données textuelles.\n",
    "\n",
    "- Sources de données : L'utilisation du scraping sur Allociné et l'API de TMDb a fourni une source de données assez correctes. \n",
    "\n",
    "\n",
    "\n",
    "\n",
    "Limitations du Projet :\n",
    "\n",
    "- Biais dans les données : Les données provenant de sources en ligne peuvent être biaisées en fonction de la démographie des utilisateurs de ces plateformes par exemple...\n",
    "\n",
    "- Complexité du jugement de succès/echec : La définition du succès ou de l'échec d'un film peut être subjective et dépendre de divers facteurs tels que le genre du film, le public cible, etc. Cette complexité peut rendre la tâche de classification plus délicate.\n",
    "\n",
    "\n",
    "\n",
    "\n",
    "Possibilités d'Amélioration :\n",
    "\n",
    "- Enrichissement des données : L'ajout de données supplémentaires, telles que des informations sur les acteurs, les réalisateurs, ou des métriques financières, pourrait améliorer la qualité des prédictions.\n",
    "\n",
    "- Fine-Tuning des modèles : Une optimisation des hyperparamètres des modèles ou l'exploration d'autres modèles pourrait conduire à des améliorations significatives de la performance.\n",
    "\n",
    "- Élargissement des sources de critiques : L'inclusion de critiques provenant de différentes plateformes et sources pourrait améliorer la généralisation du modèle à un public plus large.\n",
    "\n",
    "- Analyse des erreurs : Une analyse approfondie des erreurs de classification peut révéler des tendances spécifiques et guider des ajustements futurs du modèle.\n"
   ]
  }
 ],
 "metadata": {
  "kernelspec": {
   "display_name": ".venv",
   "language": "python",
   "name": "python3"
  },
  "language_info": {
   "codemirror_mode": {
    "name": "ipython",
    "version": 3
   },
   "file_extension": ".py",
   "mimetype": "text/x-python",
   "name": "python",
   "nbconvert_exporter": "python",
   "pygments_lexer": "ipython3",
   "version": "3.10.13"
  }
 },
 "nbformat": 4,
 "nbformat_minor": 2
}
