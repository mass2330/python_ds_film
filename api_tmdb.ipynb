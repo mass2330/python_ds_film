{
 "cells": [
  {
   "cell_type": "code",
   "execution_count": 2,
   "id": "a619e200-c183-45f4-9f2a-fc86284b4833",
   "metadata": {},
   "outputs": [],
   "source": [
    "import requests \n",
    "import pandas as pd \n",
    "import numpy as np\n",
    "from dateutil import parser "
   ]
  },
  {
   "cell_type": "markdown",
   "id": "b56f0793-c7d9-4639-996f-1cbb2c46c207",
   "metadata": {},
   "source": [
    "## Accéder à l'identifiant d'un film : cas pour un film "
   ]
  },
  {
   "cell_type": "raw",
   "id": "472e1392-d72a-4847-8f9c-731108d017fe",
   "metadata": {},
   "source": [
    "pb à noter : pour un titre de films on peut avoir plusieurs identifiants"
   ]
  },
  {
   "cell_type": "code",
   "execution_count": 36,
   "id": "d2f269d7-fce2-4975-a3fd-d4cbf7783ab6",
   "metadata": {},
   "outputs": [],
   "source": [
    "key_api='d1d1413d8379729633d60e9f5cc4a730' #clé de l'API "
   ]
  },
  {
   "cell_type": "code",
   "execution_count": 37,
   "id": "8f01e05e-26ef-4120-ada3-b4011acba439",
   "metadata": {},
   "outputs": [
    {
     "name": "stdout",
     "output_type": "stream",
     "text": [
      "[804095, 1201609]\n"
     ]
    }
   ],
   "source": [
    "film='The Fabelmans'\n",
    "url=f\"https://api.themoviedb.org/3/search/movie?api_key={key_api}&query={film}\" \n",
    "\n",
    "#requête pour trouver les infos  \n",
    "req = requests.get(url)\n",
    "carte = req.json()\n",
    "\n",
    "ind=[]\n",
    "for film in range(len(carte['results'])):\n",
    "    ind.append(carte['results'][film]['id'])\n",
    "print(ind)  "
   ]
  },
  {
   "cell_type": "markdown",
   "id": "37e06c47-47be-494b-a2fa-27d087a13e07",
   "metadata": {},
   "source": [
    "## Généralisation pour plusieurs films "
   ]
  },
  {
   "cell_type": "markdown",
   "id": "2549a4ef-4293-4b03-a968-eb56589f2eb8",
   "metadata": {},
   "source": [
    "#### fonction pour recuperer l'id des films "
   ]
  },
  {
   "cell_type": "code",
   "execution_count": 38,
   "id": "848e1a3f-0087-44f1-93f9-bb798bb81767",
   "metadata": {},
   "outputs": [],
   "source": [
    "def id_recup(titre):\n",
    "    url_api=f\"https://api.themoviedb.org/3/search/movie?api_key={key_api}&query={titre}\" \n",
    "    req = requests.get(url_api)\n",
    "    carte = req.json()\n",
    "\n",
    "    ind=[]\n",
    "    for film in range(len(carte['results'])):\n",
    "        ind.append(carte['results'][film]['id'])\n",
    "    return(ind)"
   ]
  },
  {
   "cell_type": "markdown",
   "id": "723c9e41-26b3-4fd6-b8f5-266b7cca3972",
   "metadata": {},
   "source": [
    "#### fonction pour récuperer les infos du film à partir de l'id "
   ]
  },
  {
   "cell_type": "code",
   "execution_count": 39,
   "id": "9cb0ee51-d4d8-41c9-95e0-26ef39110a7f",
   "metadata": {},
   "outputs": [],
   "source": [
    "def df_avec_id(id):\n",
    "    id_film= id\n",
    "    url_new_api = f\"https://api.themoviedb.org/3/movie/{id_film}?api_key={key_api}&language=en-US\"\n",
    "    req_new = requests.get(url_new_api)\n",
    "    wb_new = req_new.json()\n",
    "    \n",
    "    \n",
    "    #ajustement des données \n",
    "    if 'belongs_to_collection' in wb_new and wb_new['belongs_to_collection'] is not None:\n",
    "        wb_new['belongs_to_collection'] = wb_new['belongs_to_collection']['name']\n",
    "\n",
    "        \n",
    "    # Ajustement des données pour la clé 'genres'\n",
    "    if 'genres' in wb_new:\n",
    "        wb_new['genres'] = ', '.join([x['name'] for x in wb_new['genres']])\n",
    "    else:\n",
    "        wb_new['genres'] = None\n",
    "\n",
    "# Ajustement des données pour la clé 'production_companies'\n",
    "    if 'production_companies' in wb_new:\n",
    "        wb_new['production_companies'] = ', '.join([x['name'] for x in wb_new['production_companies']])\n",
    "    else:\n",
    "        wb_new['production_companies'] = None\n",
    "\n",
    "# Ajustement des données pour la clé 'production_countries'\n",
    "    if 'production_countries' in wb_new:\n",
    "        wb_new['production_countries'] = ', '.join([x['name'] for x in wb_new['production_countries']])\n",
    "    else:\n",
    "        wb_new['production_countries'] = None\n",
    "\n",
    "# Ajustement des données pour la clé 'spoken_languages'\n",
    "    if 'spoken_languages' in wb_new:\n",
    "        wb_new['spoken_languages'] = ', '.join([x['name'] for x in wb_new['spoken_languages']])\n",
    "    else:\n",
    "        wb_new['spoken_languages'] = None\n",
    "\n",
    "    \n",
    "    df=pd.DataFrame(wb_new, index=[0])\n",
    "    \n",
    "    return (df)"
   ]
  },
  {
   "cell_type": "markdown",
   "id": "ccd48fd2-5b8c-4f7e-a01e-e5156bde6e0d",
   "metadata": {},
   "source": [
    "#### Création de la database "
   ]
  },
  {
   "cell_type": "code",
   "execution_count": 40,
   "id": "210fdf8e-8079-42ad-94c0-0ea1976db7eb",
   "metadata": {},
   "outputs": [],
   "source": [
    "def get_movie_info(movie_id_list):\n",
    "    # Initialiser un DataFrame vide pour stocker les informations sur les films\n",
    "    movie_df = pd.DataFrame()\n",
    "\n",
    "    for movie_id in movie_id_list:\n",
    "        # Utiliser la deuxième fonction pour obtenir les informations détaillées du film\n",
    "        movie_info = df_avec_id(movie_id)\n",
    "\n",
    "        # Vérifier si des informations ont été trouvées\n",
    "        if movie_info is not None:\n",
    "            # Ajouter les informations du film au DataFrame\n",
    "            movie_df = pd.concat([movie_df, movie_info], ignore_index=True)\n",
    "\n",
    "    return movie_df\n",
    "\n",
    "#Exemple \n",
    "#movie_id_list = get_id(\"Inception\") \n",
    "#result_df = get_movie_info(movie_id_list)\n",
    "#result_df.head()"
   ]
  },
  {
   "cell_type": "code",
   "execution_count": 41,
   "id": "58635017-aa85-4b7f-bb09-94ff1c9a8957",
   "metadata": {},
   "outputs": [],
   "source": [
    "def create_movie_list(movie_list):\n",
    "    all_movies_df = pd.DataFrame()\n",
    "\n",
    "    for movie_name in movie_list:\n",
    "        movie_id_list = id_recup(movie_name)\n",
    "        if movie_id_list:\n",
    "            movie_info_df = get_movie_info(movie_id_list)\n",
    "            # Ajouter les informations du film au DataFrame global\n",
    "            all_movies_df = pd.concat([all_movies_df, movie_info_df], ignore_index=True)\n",
    "\n",
    "    return all_movies_df\n",
    "\n",
    "# Exemple \n",
    "#movie_list = [\"Inception\", \"The Dark Knight\", \"Interstellar\"]\n",
    "#result_df = create_movie_list_dataframe(movie_list)\n",
    "#result_df.head()"
   ]
  },
  {
   "cell_type": "markdown",
   "id": "9eba3fcd-0d48-4c1b-8312-3ec5822a0993",
   "metadata": {},
   "source": [
    "#### recuperer les titres des films sous forme de liste "
   ]
  },
  {
   "cell_type": "code",
   "execution_count": 42,
   "id": "ea4ea786-2dd4-4194-81fa-46f40e8a3d8e",
   "metadata": {},
   "outputs": [
    {
     "data": {
      "text/plain": [
       "4194"
      ]
     },
     "execution_count": 42,
     "metadata": {},
     "output_type": "execute_result"
    }
   ],
   "source": [
    "df_movies= pd.read_csv(\"df_film_avec_critiques.csv\")\n",
    "liste_des_films = df_movies['Titre original'].tolist()\n",
    "#print(liste_des_films)\n",
    "len(liste_des_films)"
   ]
  },
  {
   "cell_type": "code",
   "execution_count": 43,
   "id": "3cd9fda7-9d9e-4719-927e-36bcd63b05c1",
   "metadata": {
    "scrolled": true
   },
   "outputs": [
    {
     "name": "stdout",
     "output_type": "stream",
     "text": [
      "Partie 1: 1048\n",
      "Partie 2: 1049\n",
      "Partie 3: 1048\n",
      "Partie 4: 1049\n"
     ]
    }
   ],
   "source": [
    "moitie = len(liste_des_films) // 2\n",
    "\n",
    "# Séparation de la liste en deux parties\n",
    "liste_partie_1 = liste_des_films[:moitie]\n",
    "liste_partie_2 = liste_des_films[moitie:]\n",
    "\n",
    "moit = len(liste_partie_1)//2\n",
    "half = len(liste_partie_2)//2\n",
    "\n",
    "quart= liste_partie_1[:moit]\n",
    "deux_quart= liste_partie_1[moit:]\n",
    "trois_quart= liste_partie_2[:half]\n",
    "quatre_quart= liste_partie_2[half:]\n",
    "\n",
    "\n",
    "# Affichage des deux listes résultantes\n",
    "print(\"Partie 1:\", len(quart))\n",
    "print(\"Partie 2:\", len(deux_quart))\n",
    "print(\"Partie 3:\", len(trois_quart))\n",
    "print(\"Partie 4:\", len(quatre_quart))"
   ]
  },
  {
   "cell_type": "markdown",
   "id": "3510339e-2afb-43de-a4f6-6e3b15b5ec7e",
   "metadata": {},
   "source": [
    "#### DATAFRAME "
   ]
  },
  {
   "cell_type": "code",
   "execution_count": 44,
   "id": "66c559de-88e8-4654-81e0-dea37bac5f31",
   "metadata": {},
   "outputs": [
    {
     "name": "stdout",
     "output_type": "stream",
     "text": [
      "CPU times: user 3min 37s, sys: 17.1 s, total: 3min 54s\n",
      "Wall time: 21min 6s\n"
     ]
    }
   ],
   "source": [
    "%%time \n",
    "df_movie_info1=create_movie_list(quart)"
   ]
  },
  {
   "cell_type": "code",
   "execution_count": 45,
   "id": "b727da86-8d98-48b0-854c-026082e1cf6b",
   "metadata": {},
   "outputs": [
    {
     "name": "stdout",
     "output_type": "stream",
     "text": [
      "CPU times: user 3min 54s, sys: 20.2 s, total: 4min 14s\n",
      "Wall time: 21min 41s\n"
     ]
    }
   ],
   "source": [
    "%%time\n",
    "df_movie_info2=create_movie_list(deux_quart)"
   ]
  },
  {
   "cell_type": "code",
   "execution_count": 46,
   "id": "eb68bbcb",
   "metadata": {},
   "outputs": [
    {
     "name": "stdout",
     "output_type": "stream",
     "text": [
      "CPU times: user 3min 52s, sys: 19.9 s, total: 4min 12s\n",
      "Wall time: 20min 36s\n"
     ]
    }
   ],
   "source": [
    "%%time\n",
    "df_movie_info3=create_movie_list(trois_quart)"
   ]
  },
  {
   "cell_type": "code",
   "execution_count": 46,
   "id": "58f92acc",
   "metadata": {},
   "outputs": [
    {
     "name": "stdout",
     "output_type": "stream",
     "text": [
      "CPU times: user 3min 52s, sys: 19.9 s, total: 4min 12s\n",
      "Wall time: 20min 36s\n"
     ]
    }
   ],
   "source": [
    "%%time\n",
    "df_movie_info4=create_movie_list(quatre_quart)"
   ]
  },
  {
   "cell_type": "code",
   "execution_count": 56,
   "id": "1bd4f9fb-e675-43d5-a2a3-1aafb1d2891d",
   "metadata": {},
   "outputs": [],
   "source": [
    "#passage de chaque dataframe intermediaire en csv pour les sauvgarder\n",
    "\n",
    "dataframes = [df_movie_info1, df_movie_info2, df_movie_info3, df_movie_info4]\n",
    "\n",
    "for i, df in enumerate(dataframes, start=1):\n",
    "    nom_fichier_csv = f'df_movie_info{i}.csv'\n",
    "    df.to_csv(nom_fichier_csv, index=False)"
   ]
  },
  {
   "cell_type": "code",
   "execution_count": 58,
   "id": "79df5f50-1eed-4e2b-9a41-27815ee13b2b",
   "metadata": {},
   "outputs": [
    {
     "data": {
      "text/html": [
       "<div>\n",
       "<style scoped>\n",
       "    .dataframe tbody tr th:only-of-type {\n",
       "        vertical-align: middle;\n",
       "    }\n",
       "\n",
       "    .dataframe tbody tr th {\n",
       "        vertical-align: top;\n",
       "    }\n",
       "\n",
       "    .dataframe thead th {\n",
       "        text-align: right;\n",
       "    }\n",
       "</style>\n",
       "<table border=\"1\" class=\"dataframe\">\n",
       "  <thead>\n",
       "    <tr style=\"text-align: right;\">\n",
       "      <th></th>\n",
       "      <th>adult</th>\n",
       "      <th>backdrop_path</th>\n",
       "      <th>belongs_to_collection</th>\n",
       "      <th>budget</th>\n",
       "      <th>genres</th>\n",
       "      <th>homepage</th>\n",
       "      <th>id</th>\n",
       "      <th>imdb_id</th>\n",
       "      <th>original_language</th>\n",
       "      <th>original_title</th>\n",
       "      <th>...</th>\n",
       "      <th>spoken_languages</th>\n",
       "      <th>status</th>\n",
       "      <th>tagline</th>\n",
       "      <th>title</th>\n",
       "      <th>video</th>\n",
       "      <th>vote_average</th>\n",
       "      <th>vote_count</th>\n",
       "      <th>success</th>\n",
       "      <th>status_code</th>\n",
       "      <th>status_message</th>\n",
       "    </tr>\n",
       "  </thead>\n",
       "  <tbody>\n",
       "    <tr>\n",
       "      <th>0</th>\n",
       "      <td>False</td>\n",
       "      <td>/ecvy2kMxsJ60ej52beZ0F8EOGkL.jpg</td>\n",
       "      <td>None</td>\n",
       "      <td>80000000.0</td>\n",
       "      <td>Drama, Thriller, Mystery</td>\n",
       "      <td>http://www.shutterisland.com/</td>\n",
       "      <td>11324.0</td>\n",
       "      <td>tt1130884</td>\n",
       "      <td>en</td>\n",
       "      <td>Shutter Island</td>\n",
       "      <td>...</td>\n",
       "      <td>English, Deutsch</td>\n",
       "      <td>Released</td>\n",
       "      <td>Some places never let you go.</td>\n",
       "      <td>Shutter Island</td>\n",
       "      <td>False</td>\n",
       "      <td>8.201</td>\n",
       "      <td>22634.0</td>\n",
       "      <td>NaN</td>\n",
       "      <td>NaN</td>\n",
       "      <td>NaN</td>\n",
       "    </tr>\n",
       "    <tr>\n",
       "      <th>1</th>\n",
       "      <td>False</td>\n",
       "      <td>None</td>\n",
       "      <td>None</td>\n",
       "      <td>0.0</td>\n",
       "      <td>Documentary</td>\n",
       "      <td></td>\n",
       "      <td>1157141.0</td>\n",
       "      <td>tt5445282</td>\n",
       "      <td>en</td>\n",
       "      <td>Shutter Island: Into the Lighthouse</td>\n",
       "      <td>...</td>\n",
       "      <td>English</td>\n",
       "      <td>Released</td>\n",
       "      <td></td>\n",
       "      <td>Shutter Island: Into the Lighthouse</td>\n",
       "      <td>False</td>\n",
       "      <td>0.000</td>\n",
       "      <td>0.0</td>\n",
       "      <td>NaN</td>\n",
       "      <td>NaN</td>\n",
       "      <td>NaN</td>\n",
       "    </tr>\n",
       "    <tr>\n",
       "      <th>2</th>\n",
       "      <td>False</td>\n",
       "      <td>/8ZTVqvKDQ8emSGUEMjsS4yHAwrp.jpg</td>\n",
       "      <td>None</td>\n",
       "      <td>160000000.0</td>\n",
       "      <td>Action, Science Fiction, Adventure</td>\n",
       "      <td>https://www.warnerbros.com/movies/inception</td>\n",
       "      <td>27205.0</td>\n",
       "      <td>tt1375666</td>\n",
       "      <td>en</td>\n",
       "      <td>Inception</td>\n",
       "      <td>...</td>\n",
       "      <td>English, Français, 日本語, Kiswahili</td>\n",
       "      <td>Released</td>\n",
       "      <td>Your mind is the scene of the crime.</td>\n",
       "      <td>Inception</td>\n",
       "      <td>False</td>\n",
       "      <td>8.366</td>\n",
       "      <td>34886.0</td>\n",
       "      <td>NaN</td>\n",
       "      <td>NaN</td>\n",
       "      <td>NaN</td>\n",
       "    </tr>\n",
       "    <tr>\n",
       "      <th>3</th>\n",
       "      <td>False</td>\n",
       "      <td>/JeGkRdNsOuMrgwBdtB0hp763MU.jpg</td>\n",
       "      <td>El Crack Collection</td>\n",
       "      <td>0.0</td>\n",
       "      <td>Drama, Thriller</td>\n",
       "      <td>https://filmaxinternationalsales.com/film/the-...</td>\n",
       "      <td>613092.0</td>\n",
       "      <td>tt6793710</td>\n",
       "      <td>es</td>\n",
       "      <td>El crack cero</td>\n",
       "      <td>...</td>\n",
       "      <td>Español</td>\n",
       "      <td>Released</td>\n",
       "      <td>The prequel to the cult film El Crack</td>\n",
       "      <td>The Crack: Inception</td>\n",
       "      <td>False</td>\n",
       "      <td>6.700</td>\n",
       "      <td>36.0</td>\n",
       "      <td>NaN</td>\n",
       "      <td>NaN</td>\n",
       "      <td>NaN</td>\n",
       "    </tr>\n",
       "    <tr>\n",
       "      <th>4</th>\n",
       "      <td>False</td>\n",
       "      <td>None</td>\n",
       "      <td>None</td>\n",
       "      <td>0.0</td>\n",
       "      <td>Animation, Action, Thriller, Science Fiction</td>\n",
       "      <td></td>\n",
       "      <td>64956.0</td>\n",
       "      <td>tt5295894</td>\n",
       "      <td>en</td>\n",
       "      <td>Inception: The Cobol Job</td>\n",
       "      <td>...</td>\n",
       "      <td>English</td>\n",
       "      <td>Released</td>\n",
       "      <td></td>\n",
       "      <td>Inception: The Cobol Job</td>\n",
       "      <td>False</td>\n",
       "      <td>7.300</td>\n",
       "      <td>290.0</td>\n",
       "      <td>NaN</td>\n",
       "      <td>NaN</td>\n",
       "      <td>NaN</td>\n",
       "    </tr>\n",
       "  </tbody>\n",
       "</table>\n",
       "<p>5 rows × 28 columns</p>\n",
       "</div>"
      ],
      "text/plain": [
       "   adult                     backdrop_path belongs_to_collection       budget  \\\n",
       "0  False  /ecvy2kMxsJ60ej52beZ0F8EOGkL.jpg                  None   80000000.0   \n",
       "1  False                              None                  None          0.0   \n",
       "2  False  /8ZTVqvKDQ8emSGUEMjsS4yHAwrp.jpg                  None  160000000.0   \n",
       "3  False   /JeGkRdNsOuMrgwBdtB0hp763MU.jpg   El Crack Collection          0.0   \n",
       "4  False                              None                  None          0.0   \n",
       "\n",
       "                                         genres  \\\n",
       "0                      Drama, Thriller, Mystery   \n",
       "1                                   Documentary   \n",
       "2            Action, Science Fiction, Adventure   \n",
       "3                               Drama, Thriller   \n",
       "4  Animation, Action, Thriller, Science Fiction   \n",
       "\n",
       "                                            homepage         id    imdb_id  \\\n",
       "0                      http://www.shutterisland.com/    11324.0  tt1130884   \n",
       "1                                                     1157141.0  tt5445282   \n",
       "2        https://www.warnerbros.com/movies/inception    27205.0  tt1375666   \n",
       "3  https://filmaxinternationalsales.com/film/the-...   613092.0  tt6793710   \n",
       "4                                                       64956.0  tt5295894   \n",
       "\n",
       "  original_language                       original_title  ...  \\\n",
       "0                en                       Shutter Island  ...   \n",
       "1                en  Shutter Island: Into the Lighthouse  ...   \n",
       "2                en                            Inception  ...   \n",
       "3                es                        El crack cero  ...   \n",
       "4                en             Inception: The Cobol Job  ...   \n",
       "\n",
       "                    spoken_languages    status  \\\n",
       "0                   English, Deutsch  Released   \n",
       "1                            English  Released   \n",
       "2  English, Français, 日本語, Kiswahili  Released   \n",
       "3                            Español  Released   \n",
       "4                            English  Released   \n",
       "\n",
       "                                 tagline                                title  \\\n",
       "0          Some places never let you go.                       Shutter Island   \n",
       "1                                         Shutter Island: Into the Lighthouse   \n",
       "2   Your mind is the scene of the crime.                            Inception   \n",
       "3  The prequel to the cult film El Crack                 The Crack: Inception   \n",
       "4                                                    Inception: The Cobol Job   \n",
       "\n",
       "   video vote_average  vote_count  success status_code status_message  \n",
       "0  False        8.201     22634.0      NaN         NaN            NaN  \n",
       "1  False        0.000         0.0      NaN         NaN            NaN  \n",
       "2  False        8.366     34886.0      NaN         NaN            NaN  \n",
       "3  False        6.700        36.0      NaN         NaN            NaN  \n",
       "4  False        7.300       290.0      NaN         NaN            NaN  \n",
       "\n",
       "[5 rows x 28 columns]"
      ]
     },
     "execution_count": 58,
     "metadata": {},
     "output_type": "execute_result"
    }
   ],
   "source": [
    "# Rassembler les DataFrames en un seul DataFrame\n",
    "df_tmdb = pd.concat(dataframes, ignore_index=True)\n",
    "\n",
    "# Sauvegarder le DataFrame tmdb en CSV\n",
    "df_tmdb.to_csv('df_tmdb.csv', index=False)\n",
    "\n",
    "# Afficher le DataFrame final\n",
    "df_tmdb.head()"
   ]
  }
 ],
 "metadata": {
  "kernelspec": {
   "display_name": "Python 3 (ipykernel)",
   "language": "python",
   "name": "python3"
  },
  "language_info": {
   "codemirror_mode": {
    "name": "ipython",
    "version": 3
   },
   "file_extension": ".py",
   "mimetype": "text/x-python",
   "name": "python",
   "nbconvert_exporter": "python",
   "pygments_lexer": "ipython3",
   "version": "3.10.13"
  }
 },
 "nbformat": 4,
 "nbformat_minor": 5
}
