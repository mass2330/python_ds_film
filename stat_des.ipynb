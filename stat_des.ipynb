{
 "cells": [
  {
   "cell_type": "code",
   "execution_count": 423,
   "id": "aa3fb6f1-1258-4a96-9abe-f948d2c336a7",
   "metadata": {},
   "outputs": [],
   "source": [
    "import pandas as pd "
   ]
  },
  {
   "cell_type": "code",
   "execution_count": 424,
   "id": "c7c32803-099e-45d3-876a-3fe9eb8946f8",
   "metadata": {},
   "outputs": [],
   "source": [
    "df_merged = pd.read_csv(\"df_merged.csv\")\n",
    "#df_merged.head()\n",
    "#print(df_merged.dtypes)"
   ]
  },
  {
   "cell_type": "markdown",
   "id": "539f377b-2d5e-44f4-b2af-1563f82e1aa7",
   "metadata": {},
   "source": [
    "## Retrait de toutes les variables dont on a pas besoin pour l'analyse "
   ]
  },
  {
   "cell_type": "code",
   "execution_count": 425,
   "id": "3378329b-f98e-4037-8146-508d445488c9",
   "metadata": {},
   "outputs": [],
   "source": [
    "# Variables à supprimer\n",
    "variables_a_supprimer = ['Note press','titre_normalise', 'nom_du_realisateur_bis', 'adult','backdrop_path',\n",
    "                        'homepage',\"original_title\",\"poster_path\",\"status\",\"title\",\"video\",\"nom_du_realisateur_y\",\"tagline\", \n",
    "                         \"Box office\", \"original_language\", \"spoken_languages\" ,\"overview\"]\n",
    "# Supprimer les variables inutiles\n",
    "df_modified = df_merged.drop(variables_a_supprimer, axis=1)\n"
   ]
  },
  {
   "cell_type": "code",
   "execution_count": 426,
   "id": "3079fd36-a0fc-405d-afdc-39387c53c43e",
   "metadata": {
    "scrolled": true
   },
   "outputs": [
    {
     "name": "stdout",
     "output_type": "stream",
     "text": [
      "Nombre de valeurs manquantes par variable :\n",
      "Titre original                        0\n",
      "Note press                         2076\n",
      "Notes spectateur                      0\n",
      "id allocine                           0\n",
      "date                                260\n",
      "duree_minutes                        39\n",
      "Nombre_de_critiques_presse         2076\n",
      "Nombre_de_notes_spectateurs           0\n",
      "Nombre_de_critiques_spectateurs       0\n",
      "mois_sortie_x                       260\n",
      "annee_sortie_x                      260\n",
      "nom_du_realisateur_x                  3\n",
      "belongs_to_collection              2963\n",
      "budget                                0\n",
      "genres                                5\n",
      "id                                    0\n",
      "imdb_id                               1\n",
      "popularity                            0\n",
      "production_companies                 80\n",
      "production_countries                 28\n",
      "release_date                          2\n",
      "revenue                               0\n",
      "runtime                               0\n",
      "vote_average                          0\n",
      "vote_count                            0\n",
      "mois_sortie_y                         2\n",
      "annee_sortie_y                        2\n",
      "dtype: int64\n"
     ]
    }
   ],
   "source": [
    "#regarder le nombre de valeurs manquantes par variable \n",
    "masque_valeurs_manquantes = df_modified.isnull()\n",
    "valeurs_manquantes_par_colonne = masque_valeurs_manquantes.sum()\n",
    "print(\"Nombre de valeurs manquantes par variable :\")\n",
    "print(valeurs_manquantes_par_colonne)"
   ]
  },
  {
   "cell_type": "markdown",
   "id": "c0a12aa0-157f-4735-a329-1744cda6e86a",
   "metadata": {},
   "source": [
    "## Nettoyage des variables "
   ]
  },
  {
   "cell_type": "markdown",
   "id": "890803ec-247a-4e3c-90a2-b8a3470b175e",
   "metadata": {},
   "source": [
    "### Variable genre "
   ]
  },
  {
   "cell_type": "code",
   "execution_count": 427,
   "id": "d9ebac74-e6be-43e9-80cb-f94a50cc667a",
   "metadata": {},
   "outputs": [
    {
     "data": {
      "text/html": [
       "<div>\n",
       "<style scoped>\n",
       "    .dataframe tbody tr th:only-of-type {\n",
       "        vertical-align: middle;\n",
       "    }\n",
       "\n",
       "    .dataframe tbody tr th {\n",
       "        vertical-align: top;\n",
       "    }\n",
       "\n",
       "    .dataframe thead th {\n",
       "        text-align: right;\n",
       "    }\n",
       "</style>\n",
       "<table border=\"1\" class=\"dataframe\">\n",
       "  <thead>\n",
       "    <tr style=\"text-align: right;\">\n",
       "      <th></th>\n",
       "      <th>Titre original</th>\n",
       "      <th>Note press</th>\n",
       "      <th>Notes spectateur</th>\n",
       "      <th>id allocine</th>\n",
       "      <th>date</th>\n",
       "      <th>duree_minutes</th>\n",
       "      <th>Nombre_de_critiques_presse</th>\n",
       "      <th>Nombre_de_notes_spectateurs</th>\n",
       "      <th>Nombre_de_critiques_spectateurs</th>\n",
       "      <th>mois_sortie_x</th>\n",
       "      <th>...</th>\n",
       "      <th>History</th>\n",
       "      <th>Horror</th>\n",
       "      <th>Music</th>\n",
       "      <th>Mystery</th>\n",
       "      <th>Romance</th>\n",
       "      <th>Science Fiction</th>\n",
       "      <th>TV Movie</th>\n",
       "      <th>Thriller</th>\n",
       "      <th>War</th>\n",
       "      <th>Western</th>\n",
       "    </tr>\n",
       "  </thead>\n",
       "  <tbody>\n",
       "    <tr>\n",
       "      <th>0</th>\n",
       "      <td>10 000 days</td>\n",
       "      <td>NaN</td>\n",
       "      <td>1.5</td>\n",
       "      <td>239331</td>\n",
       "      <td>NaN</td>\n",
       "      <td>91.0</td>\n",
       "      <td>NaN</td>\n",
       "      <td>32.0</td>\n",
       "      <td>7.0</td>\n",
       "      <td>NaN</td>\n",
       "      <td>...</td>\n",
       "      <td>0</td>\n",
       "      <td>0</td>\n",
       "      <td>0</td>\n",
       "      <td>0</td>\n",
       "      <td>0</td>\n",
       "      <td>1</td>\n",
       "      <td>0</td>\n",
       "      <td>0</td>\n",
       "      <td>0</td>\n",
       "      <td>0</td>\n",
       "    </tr>\n",
       "    <tr>\n",
       "      <th>1</th>\n",
       "      <td>100 Degrees Below Zero</td>\n",
       "      <td>NaN</td>\n",
       "      <td>1.2</td>\n",
       "      <td>221267</td>\n",
       "      <td>2015-04-21</td>\n",
       "      <td>89.0</td>\n",
       "      <td>NaN</td>\n",
       "      <td>110.0</td>\n",
       "      <td>51.0</td>\n",
       "      <td>4.0</td>\n",
       "      <td>...</td>\n",
       "      <td>0</td>\n",
       "      <td>0</td>\n",
       "      <td>0</td>\n",
       "      <td>0</td>\n",
       "      <td>0</td>\n",
       "      <td>1</td>\n",
       "      <td>0</td>\n",
       "      <td>0</td>\n",
       "      <td>0</td>\n",
       "      <td>0</td>\n",
       "    </tr>\n",
       "    <tr>\n",
       "      <th>2</th>\n",
       "      <td>10 Cloverfield Lane</td>\n",
       "      <td>3.6</td>\n",
       "      <td>3.6</td>\n",
       "      <td>231144</td>\n",
       "      <td>2016-03-16</td>\n",
       "      <td>103.0</td>\n",
       "      <td>20.0</td>\n",
       "      <td>9399.0</td>\n",
       "      <td>735.0</td>\n",
       "      <td>3.0</td>\n",
       "      <td>...</td>\n",
       "      <td>0</td>\n",
       "      <td>1</td>\n",
       "      <td>0</td>\n",
       "      <td>0</td>\n",
       "      <td>0</td>\n",
       "      <td>1</td>\n",
       "      <td>0</td>\n",
       "      <td>1</td>\n",
       "      <td>0</td>\n",
       "      <td>0</td>\n",
       "    </tr>\n",
       "    <tr>\n",
       "      <th>3</th>\n",
       "      <td>10 Minutes Gone</td>\n",
       "      <td>NaN</td>\n",
       "      <td>1.5</td>\n",
       "      <td>266802</td>\n",
       "      <td>2020-01-10</td>\n",
       "      <td>96.0</td>\n",
       "      <td>NaN</td>\n",
       "      <td>170.0</td>\n",
       "      <td>23.0</td>\n",
       "      <td>1.0</td>\n",
       "      <td>...</td>\n",
       "      <td>0</td>\n",
       "      <td>0</td>\n",
       "      <td>0</td>\n",
       "      <td>1</td>\n",
       "      <td>0</td>\n",
       "      <td>0</td>\n",
       "      <td>0</td>\n",
       "      <td>1</td>\n",
       "      <td>0</td>\n",
       "      <td>0</td>\n",
       "    </tr>\n",
       "    <tr>\n",
       "      <th>4</th>\n",
       "      <td>10x10</td>\n",
       "      <td>NaN</td>\n",
       "      <td>2.0</td>\n",
       "      <td>251534</td>\n",
       "      <td>2018-11-29</td>\n",
       "      <td>87.0</td>\n",
       "      <td>NaN</td>\n",
       "      <td>447.0</td>\n",
       "      <td>54.0</td>\n",
       "      <td>11.0</td>\n",
       "      <td>...</td>\n",
       "      <td>0</td>\n",
       "      <td>0</td>\n",
       "      <td>0</td>\n",
       "      <td>0</td>\n",
       "      <td>0</td>\n",
       "      <td>0</td>\n",
       "      <td>0</td>\n",
       "      <td>1</td>\n",
       "      <td>0</td>\n",
       "      <td>0</td>\n",
       "    </tr>\n",
       "  </tbody>\n",
       "</table>\n",
       "<p>5 rows × 46 columns</p>\n",
       "</div>"
      ],
      "text/plain": [
       "           Titre original  Note press  Notes spectateur  id allocine  \\\n",
       "0             10 000 days         NaN               1.5       239331   \n",
       "1  100 Degrees Below Zero         NaN               1.2       221267   \n",
       "2     10 Cloverfield Lane         3.6               3.6       231144   \n",
       "3         10 Minutes Gone         NaN               1.5       266802   \n",
       "4                   10x10         NaN               2.0       251534   \n",
       "\n",
       "         date  duree_minutes  Nombre_de_critiques_presse  \\\n",
       "0         NaN           91.0                         NaN   \n",
       "1  2015-04-21           89.0                         NaN   \n",
       "2  2016-03-16          103.0                        20.0   \n",
       "3  2020-01-10           96.0                         NaN   \n",
       "4  2018-11-29           87.0                         NaN   \n",
       "\n",
       "   Nombre_de_notes_spectateurs  Nombre_de_critiques_spectateurs  \\\n",
       "0                         32.0                              7.0   \n",
       "1                        110.0                             51.0   \n",
       "2                       9399.0                            735.0   \n",
       "3                        170.0                             23.0   \n",
       "4                        447.0                             54.0   \n",
       "\n",
       "   mois_sortie_x  ...  History Horror Music  Mystery Romance  Science Fiction  \\\n",
       "0            NaN  ...        0      0     0        0       0                1   \n",
       "1            4.0  ...        0      0     0        0       0                1   \n",
       "2            3.0  ...        0      1     0        0       0                1   \n",
       "3            1.0  ...        0      0     0        1       0                0   \n",
       "4           11.0  ...        0      0     0        0       0                0   \n",
       "\n",
       "  TV Movie  Thriller War Western  \n",
       "0        0         0   0       0  \n",
       "1        0         0   0       0  \n",
       "2        0         1   0       0  \n",
       "3        0         1   0       0  \n",
       "4        0         1   0       0  \n",
       "\n",
       "[5 rows x 46 columns]"
      ]
     },
     "execution_count": 427,
     "metadata": {},
     "output_type": "execute_result"
    }
   ],
   "source": [
    "df_modified[\"genres\"].unique()\n",
    "\n",
    "# Supposons que df_modified soit votre dataframe et 'genres' la colonne contenant les genres\n",
    "# Divisez les genres en colonnes de dummies\n",
    "df_dummies = df_modified['genres'].str.get_dummies(', ')\n",
    "\n",
    "# Groupby sur l'index et sommez les valeurs (évite les duplications)\n",
    "df_dummies_grouped = df_dummies.groupby(df_dummies.index).sum()\n",
    "\n",
    "# Ajoutez les colonnes de dummies à votre dataframe d'origine\n",
    "df_modified = pd.concat([df_modified, df_dummies_grouped], axis=1)\n",
    "\n",
    "# Supprimez la colonne 'genres' si nécessaire\n",
    "#df_modified = df_modified.drop('genres', axis=1)\n",
    "\n",
    "# Affichez le résultat\n",
    "# Affichez le DataFrame avec les colonnes encodées\n",
    "df_modified.head()\n",
    "#df_modified.to_csv(\"df_modified.csv\", index=False)"
   ]
  },
  {
   "cell_type": "markdown",
   "id": "1608d99e-9a70-40a7-8fa4-62d03a3f713e",
   "metadata": {},
   "source": [
    "### Variable durée"
   ]
  },
  {
   "cell_type": "markdown",
   "id": "74da9432-6f24-4101-8670-258b04a47e4a",
   "metadata": {},
   "source": [
    "#### que pour visualiser et comprendre"
   ]
  },
  {
   "cell_type": "code",
   "execution_count": 314,
   "id": "13c53649-94b8-44b1-8141-57e32c13a331",
   "metadata": {},
   "outputs": [],
   "source": [
    "# pour visualiser un peu plus clairement\n",
    "colonnes_a_garder=[\"Titre original\", \"id allocine\", \"id\", \"imdb_id\",\"duree_minutes\", \"runtime\"]\n",
    "df_duree = df_modified.loc[:, colonnes_a_garder].copy()\n",
    "df_duree[\"difference\"]=abs(df_duree[\"duree_minutes\"]-df_duree[\"runtime\"])\n",
    "df_duree.to_csv(\"df_duree.csv\", index=False)\n",
    "#df_duree[\"difference\"].value_counts()"
   ]
  },
  {
   "cell_type": "code",
   "execution_count": 315,
   "id": "19699788-a32f-4da4-8a9b-b800512ff765",
   "metadata": {},
   "outputs": [],
   "source": [
    "#je remplace deja les valeurs manquantes de chaque variable par la valeur de l'autre colonne \n",
    "\n",
    "# Remplacer les valeurs manquantes dans duree_minutes par les valeurs de runtime\n",
    "df_duree['duree_minutes'].fillna(df_duree['runtime'], inplace=True)\n",
    "# Remplacer les valeurs manquantes dans runtime par les valeurs de duree_minutes\n",
    "df_duree['runtime'].fillna(df_duree['duree_minutes'], inplace=True)"
   ]
  },
  {
   "cell_type": "code",
   "execution_count": 316,
   "id": "920a4a86-1aea-401c-976d-66c79fcf0b2a",
   "metadata": {},
   "outputs": [],
   "source": [
    "# on remarque que certains films ont plusieurs observations, on va créer une dataframe \n",
    "#qui regroupe seulement ces valeurs dupliques pour visualiser un peu plus \n",
    "\n",
    "# Créer une nouvelle DataFrame avec les doublons seulement\n",
    "df_doublons = df_duree[df_duree.duplicated(subset=[\"id allocine\"],keep=False)]\n",
    "df_doublons.to_csv(\"df_doublons.csv\", index=False)\n"
   ]
  },
  {
   "cell_type": "code",
   "execution_count": 317,
   "id": "26364091-285b-4b7a-8704-c60e33017cef",
   "metadata": {},
   "outputs": [
    {
     "data": {
      "text/plain": [
       "3530"
      ]
     },
     "execution_count": 317,
     "metadata": {},
     "output_type": "execute_result"
    }
   ],
   "source": [
    "# apres avoir visualise on voit qu'on peut garder uniquement l'occurence ou la difference \n",
    "#de duree est minimale\n",
    "\n",
    "nom_colonne_titre = \"Titre original\"\n",
    "nom_colonne_duree = \"difference\"\n",
    "df_duree = df_duree.sort_values(by=[nom_colonne_titre, nom_colonne_duree], ascending=[True, True])\n",
    "\n",
    "# Affichez le DataFrame trié\n",
    "#df_duree.head()\n",
    "\n",
    "df_duree = df_duree.drop_duplicates(subset=\"id allocine\", keep=\"first\")\n",
    "len(df_duree)"
   ]
  },
  {
   "cell_type": "code",
   "execution_count": 364,
   "id": "2adab095-73fd-4bf0-95e0-40e8c8dfb42e",
   "metadata": {},
   "outputs": [
    {
     "data": {
      "text/plain": [
       "3525"
      ]
     },
     "execution_count": 364,
     "metadata": {},
     "output_type": "execute_result"
    }
   ],
   "source": [
    "#on voit que la base des differences est beaucoup plus réduite et plus abordable pour \n",
    "#faire le tri\n",
    "df_duree[\"difference\"].value_counts()\n",
    "\n",
    "#on remarque que les films ou runtime est egale a 0 la duree duree_minutes est bonne\n",
    "df_filtre=df_duree.loc[df_duree[\"runtime\"] !=0]\n",
    "len(df_filtre)\n",
    "#df_filtre[\"difference\"].value_counts()"
   ]
  },
  {
   "cell_type": "code",
   "execution_count": 366,
   "id": "a02be93d-124b-4837-9ede-527609a6a141",
   "metadata": {
    "collapsed": true,
    "jupyter": {
     "outputs_hidden": true
    }
   },
   "outputs": [],
   "source": [
    "#cette etape permet de vérifier par la suite quelle durée garder \n",
    "#a partir de l'informaion de imdb \n",
    "\n",
    "# Supposons que \"difference\" est le nom de la colonne\n",
    "nom_colonne = \"difference\"\n",
    "#valeur a regarder = [9,10, 11, 12, 13, 14,15,16,20, 21, 18, 24, 19, 17, 42, 62, 57, 68, 36, 73, 23, 41, 27, 34]\n",
    "valeur_cible = 9\n",
    "\n",
    "# Utilisez loc pour sélectionner la ligne où la valeur dans la colonne \"difference\" est égale à 102\n",
    "ligne_cible = df_filtre.loc[df_filtre[nom_colonne] == valeur_cible]\n",
    "\n",
    "# Affichez le résultat\n",
    "#print(\"Ligne où la valeur dans la colonne 'difference' est égale à 102 :\")\n",
    "#print(ligne_cible)\n",
    "\n",
    "#print(ligne_cible[[\"imdb_id\", \"duree_minutes\", \"runtime\", \"Titre original\"]])\n"
   ]
  },
  {
   "cell_type": "code",
   "execution_count": 363,
   "id": "0dd29b0f-49b6-4927-95ef-d1858970f99f",
   "metadata": {},
   "outputs": [],
   "source": [
    "#liste des films ou la duree allocine est la bonne récupérée à la main\n",
    "liste_imdb_id = [\"tt2073520\", \"tt1316037\", \"tt1711366\", \"tt1558575\", \"tt7587282\",\n",
    "                     \"tt1535606\", \"tt1817276\", \"tt1966359\", \"tt13265876\", \"tt2325989\",\n",
    "                     \"tt6131450\", \"tt2007430\", \"tt3460252\", \"tt2404299\", \"tt3062976\",\n",
    "                     \"tt3346224\", \"tt0466893\", \"tt1805322\", \"tt4518260\", \"tt0443465\", \n",
    "                    \"tt1453409\",\"tt3113696\", \"tt6613952\", \"tt4257926\",\"tt10238788\", \n",
    "                     \"tt4102722\",\"tt1389139\", \"tt4940416\",\"tt1855236\",\"tt1754438\",\n",
    "                    \"tt1579247\",\"tt7690670\",\"tt3280916\",\"tt1002563\"]"
   ]
  },
  {
   "cell_type": "code",
   "execution_count": 365,
   "id": "5356ae42-659c-43ee-869e-734c570b5814",
   "metadata": {},
   "outputs": [],
   "source": [
    "# Définir la fonction pour appliquer la logique\n",
    "def calculer_duree(row):\n",
    "    if row['runtime'] == 0 or row['imdb_id'] in liste_imdb_id:\n",
    "        return row['duree_minutes']\n",
    "    else:\n",
    "        return row['runtime']\n",
    "\n",
    "# Appliquer la fonction à la nouvelle colonne\n",
    "df_duree['duree_du_film'] = df_duree.apply(calculer_duree, axis=1)\n",
    "\n",
    "# Retirer les colonnes runtime et duree_minutes\n",
    "df_duree = df_duree.drop(['runtime', 'duree_minutes'], axis=1)\n",
    "df_duree.to_csv(\"df_duree.csv\", index=False)\n"
   ]
  },
  {
   "cell_type": "markdown",
   "id": "29b0cc77-4d6d-4ad8-bb3d-cee71f67ed4a",
   "metadata": {},
   "source": [
    "#### application à notre base "
   ]
  },
  {
   "cell_type": "code",
   "execution_count": 428,
   "id": "3194bb71-1254-4d04-aa6d-1be734973a24",
   "metadata": {},
   "outputs": [],
   "source": [
    "#liste des films ou la duree allocine est la bonne récupérée à la main\n",
    "liste_imdb_id = [\"tt2073520\", \"tt1316037\", \"tt1711366\", \"tt1558575\", \"tt7587282\",\n",
    "                     \"tt1535606\", \"tt1817276\", \"tt1966359\", \"tt13265876\", \"tt2325989\",\n",
    "                     \"tt6131450\", \"tt2007430\", \"tt3460252\", \"tt2404299\", \"tt3062976\",\n",
    "                     \"tt3346224\", \"tt0466893\", \"tt1805322\", \"tt4518260\", \"tt0443465\", \n",
    "                    \"tt1453409\",\"tt3113696\", \"tt6613952\", \"tt4257926\",\"tt10238788\", \n",
    "                     \"tt4102722\",\"tt1389139\", \"tt4940416\",\"tt1855236\",\"tt1754438\",\n",
    "                    \"tt1579247\",\"tt7690670\",\"tt3280916\",\"tt1002563\"]\n",
    "\n",
    "# Définir la fonction pour appliquer la logique\n",
    "def calculer_duree(row):\n",
    "    if row['runtime'] == 0 or row['imdb_id'] in liste_imdb_id:\n",
    "        return row['duree_minutes']\n",
    "    else:\n",
    "        return row['runtime']\n",
    "\n",
    "# Appliquer la fonction à la nouvelle colonne\n",
    "df_modified['duree_du_film'] = df_modified.apply(calculer_duree, axis=1)\n",
    "\n",
    "# Retirer les colonnes runtime et duree_minutes\n",
    "df_modified = df_modified.drop(['runtime', 'duree_minutes'], axis=1)\n",
    "\n",
    "#df_modified.to_csv(\"df_modified.csv\", index=False)"
   ]
  },
  {
   "cell_type": "markdown",
   "id": "d5ec8ee2-7d9a-44d0-a00f-36ae5e5e0401",
   "metadata": {},
   "source": [
    "### Variable production companies (pas forcément nécessaire)"
   ]
  },
  {
   "cell_type": "code",
   "execution_count": 387,
   "id": "7824b4d2-531d-4b30-803a-98ec5bfa6fc0",
   "metadata": {},
   "outputs": [
    {
     "name": "stdout",
     "output_type": "stream",
     "text": [
      "Liste des producteurs uniques :\n",
      "4483\n"
     ]
    }
   ],
   "source": [
    "df_modified[\"production_companies\"].unique()\n",
    "liste_des_productions = df_modified['production_companies'].str.split(', ').explode().unique()\n",
    "\n",
    "print(\"Liste des producteurs uniques :\")\n",
    "print(liste_des_productions)"
   ]
  },
  {
   "cell_type": "code",
   "execution_count": 388,
   "id": "cc40289a-9216-4b5b-89b9-901d9531baa6",
   "metadata": {},
   "outputs": [],
   "source": [
    "# Supposons que df_modified soit votre dataframe et 'genres' la colonne contenant les genres\n",
    "# Divisez les genres en colonnes de dummies\n",
    "df_dummies = df_modified['production_companies'].str.get_dummies(', ')\n",
    "\n",
    "# Groupby sur l'index et sommez les valeurs (évite les duplications)\n",
    "df_dummies_grouped = df_dummies.groupby(df_dummies.index).sum()\n",
    "\n",
    "# Ajoutez les colonnes de dummies à votre dataframe d'origine\n",
    "df_modified = pd.concat([df_modified, df_dummies_grouped], axis=1)\n",
    "\n",
    "# Supprimez la colonne 'genres' si nécessaire\n",
    "#df_modified = df_modified.drop('genres', axis=1)\n",
    "\n",
    "# Affichez le résultat\n",
    "# Affichez le DataFrame avec les colonnes encodées\n",
    "df_modified.head()\n",
    "#df_modified.to_csv(\"df_modified.csv\", index=False)"
   ]
  },
  {
   "cell_type": "markdown",
   "id": "bf0db147-560d-43c6-a850-e906ddcfc5b7",
   "metadata": {},
   "source": [
    "### Variable belongs to collection"
   ]
  },
  {
   "cell_type": "code",
   "execution_count": 429,
   "id": "bab1442d-37f0-4916-9945-6d14814d0efd",
   "metadata": {},
   "outputs": [],
   "source": [
    "# Créer une variable binaire (1 si le film appartient à une collection, 0 sinon)\n",
    "df_modified['collection'] = df_modified['belongs_to_collection'].notna().astype(int)\n",
    "df_modified = df_modified.drop('belongs_to_collection', axis=1)\n",
    "#df_modified.to_csv(\"df_modified.csv\", index=False)"
   ]
  },
  {
   "cell_type": "markdown",
   "id": "1e556e9a-c8c8-4fd5-b0bf-3dbf75fc51a7",
   "metadata": {},
   "source": [
    "### Variable production_countries"
   ]
  },
  {
   "cell_type": "code",
   "execution_count": 430,
   "id": "7b535e57-eb1b-493e-831b-ac063247054a",
   "metadata": {},
   "outputs": [
    {
     "name": "stdout",
     "output_type": "stream",
     "text": [
      "Liste des pays uniques :\n",
      "76\n"
     ]
    }
   ],
   "source": [
    "df_modified[\"production_countries\"].unique()\n",
    "liste_des_pays = df_modified['production_countries'].str.split(', ').explode().unique()\n",
    "\n",
    "print(\"Liste des pays uniques :\")\n",
    "print(len(liste_des_pays))"
   ]
  },
  {
   "cell_type": "code",
   "execution_count": 431,
   "id": "2931691a-0099-49c2-a49a-f48a0df78b7c",
   "metadata": {},
   "outputs": [],
   "source": [
    "# Supposons que df_modified soit votre dataframe et 'genres' la colonne contenant les genres\n",
    "# Divisez les genres en colonnes de dummies\n",
    "df_dummies = df_modified['production_countries'].str.get_dummies(', ')\n",
    "\n",
    "# Groupby sur l'index et sommez les valeurs (évite les duplications)\n",
    "df_dummies_grouped = df_dummies.groupby(df_dummies.index).sum()\n",
    "\n",
    "# Ajoutez les colonnes de dummies à votre dataframe d'origine\n",
    "df_modified = pd.concat([df_modified, df_dummies_grouped], axis=1)\n",
    "\n",
    "# Supprimez la colonne 'genres' si nécessaire\n",
    "#df_modified = df_modified.drop('genres', axis=1)\n",
    "\n",
    "# Affichez le résultat\n",
    "# Affichez le DataFrame avec les colonnes encodées\n",
    "#df_modified.head()\n",
    "#df_modified.to_csv(\"df_modified.csv\", index=False)"
   ]
  },
  {
   "cell_type": "markdown",
   "id": "af8e13b7-6e80-4add-bdc1-9eb8ed4ff98e",
   "metadata": {},
   "source": [
    "### Variable date de sortie "
   ]
  },
  {
   "cell_type": "code",
   "execution_count": 433,
   "id": "1fcbd7c8-826f-4fd8-ba66-55cc8357e91f",
   "metadata": {},
   "outputs": [],
   "source": [
    "df_modified['date'] = pd.to_datetime(df_modified['date'], errors='coerce')\n",
    "df_modified['release_date'] = pd.to_datetime(df_modified['release_date'], errors='coerce')"
   ]
  },
  {
   "cell_type": "code",
   "execution_count": 434,
   "id": "c6154ec0-2e31-4b41-899b-22deb07b9927",
   "metadata": {},
   "outputs": [
    {
     "data": {
      "text/plain": [
       "Titre original                      object\n",
       "Note press                         float64\n",
       "Notes spectateur                   float64\n",
       "id allocine                          int64\n",
       "date                        datetime64[ns]\n",
       "                                 ...      \n",
       "Ukraine                              int64\n",
       "United Arab Emirates                 int64\n",
       "United Kingdom                       int64\n",
       "United States of America             int64\n",
       "Uruguay                              int64\n",
       "Length: 120, dtype: object"
      ]
     },
     "execution_count": 434,
     "metadata": {},
     "output_type": "execute_result"
    }
   ],
   "source": [
    "df_modified.dtypes"
   ]
  },
  {
   "cell_type": "markdown",
   "id": "5e68904f-5ca2-41dd-8e79-f9e474e1d8b3",
   "metadata": {},
   "source": [
    "#### pour vérifier"
   ]
  },
  {
   "cell_type": "code",
   "execution_count": 408,
   "id": "f7cfefcc-bcfe-4218-a8d0-82ac1cf2028c",
   "metadata": {},
   "outputs": [],
   "source": [
    "# pour visualiser un peu plus clairement\n",
    "colonnes_a_garder=[\"Titre original\", \"id allocine\", \"id\", \"imdb_id\",\"date\",\"mois_sortie_x\",\"annee_sortie_x\", \"release_date\",\"mois_sortie_y\",\"annee_sortie_y\"]\n",
    "df_date = df_modified.loc[:, colonnes_a_garder].copy()\n",
    "#df_date[\"difference\"]=abs(df_duree[\"duree_minutes\"]-df_duree[\"runtime\"])\n",
    "df_date.to_csv(\"df_date.csv\", index=False)\n",
    "#df_duree[\"difference\"].value_counts()"
   ]
  },
  {
   "cell_type": "markdown",
   "id": "7dcd81ad-139b-4446-bf53-28728bc4dc07",
   "metadata": {},
   "source": [
    "#### nettoyage (on garde la date de tmdb)"
   ]
  },
  {
   "cell_type": "code",
   "execution_count": 435,
   "id": "7b2c7cf8-e5fa-489b-bd23-7b85a2abaf99",
   "metadata": {},
   "outputs": [],
   "source": [
    "df_modified['release_date'].fillna(df_modified['date'], inplace=True)\n",
    "df_modified['mois_sortie_y'].fillna(df_modified['mois_sortie_x'], inplace=True)\n",
    "df_modified['annee_sortie_y'].fillna(df_modified['annee_sortie_x'], inplace=True)\n"
   ]
  },
  {
   "cell_type": "code",
   "execution_count": 436,
   "id": "7a323f94-d8be-4e13-a842-f9b3624d7ee4",
   "metadata": {},
   "outputs": [],
   "source": [
    "df_modified = df_modified.drop(['date', 'mois_sortie_x', 'annee_sortie_x'], axis=1)\n",
    "df_modified = df_modified.rename(columns={'mois_sortie_y': 'mois_sortie', 'annee_sortie_y': 'annee_sortie'})\n",
    "df_modified.to_csv(\"df_modified.csv\", index=False)"
   ]
  },
  {
   "cell_type": "markdown",
   "id": "4a397314-0c44-4aae-accd-b76d4a4ab317",
   "metadata": {},
   "source": [
    "### On obtient donc à ce niveau la table df_modified finale avec laquelle on peut faire de la data visualisation et des stat descriptives"
   ]
  },
  {
   "cell_type": "code",
   "execution_count": 438,
   "id": "1f1e91e4-955a-49c6-afbe-20f917ea9e03",
   "metadata": {},
   "outputs": [
    {
     "data": {
      "text/plain": [
       "Index(['Titre original', 'Note press', 'Notes spectateur', 'id allocine',\n",
       "       'Nombre_de_critiques_presse', 'Nombre_de_notes_spectateurs',\n",
       "       'Nombre_de_critiques_spectateurs', 'nom_du_realisateur_x', 'budget',\n",
       "       'genres',\n",
       "       ...\n",
       "       'Sweden', 'Switzerland', 'Taiwan', 'Thailand', 'Turkey', 'Ukraine',\n",
       "       'United Arab Emirates', 'United Kingdom', 'United States of America',\n",
       "       'Uruguay'],\n",
       "      dtype='object', length=117)"
      ]
     },
     "execution_count": 438,
     "metadata": {},
     "output_type": "execute_result"
    }
   ],
   "source": [
    "#visualisation colonnes de la df \n",
    "df_modified.columns\n",
    "len(df_modified.columns)"
   ]
  }
 ],
 "metadata": {
  "kernelspec": {
   "display_name": "Python 3 (ipykernel)",
   "language": "python",
   "name": "python3"
  },
  "language_info": {
   "codemirror_mode": {
    "name": "ipython",
    "version": 3
   },
   "file_extension": ".py",
   "mimetype": "text/x-python",
   "name": "python",
   "nbconvert_exporter": "python",
   "pygments_lexer": "ipython3",
   "version": "3.10.13"
  }
 },
 "nbformat": 4,
 "nbformat_minor": 5
}
