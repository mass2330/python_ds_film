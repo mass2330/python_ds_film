{
 "cells": [
  {
   "cell_type": "code",
   "execution_count": 224,
   "id": "aa3fb6f1-1258-4a96-9abe-f948d2c336a7",
   "metadata": {},
   "outputs": [],
   "source": [
    "import pandas as pd "
   ]
  },
  {
   "cell_type": "code",
   "execution_count": 256,
   "id": "c7c32803-099e-45d3-876a-3fe9eb8946f8",
   "metadata": {},
   "outputs": [],
   "source": [
    "df_merged = pd.read_csv(\"df_merged.csv\")\n",
    "#df_merged.head()\n",
    "#print(df_merged.dtypes)"
   ]
  },
  {
   "cell_type": "code",
   "execution_count": 47,
   "id": "cbb05339-51f7-46f4-a2bc-641a7878b06c",
   "metadata": {},
   "outputs": [],
   "source": [
    "#df_merged[\"\"].value_counts()                       \n",
    "#df_merged[\"video\"]\n"
   ]
  },
  {
   "cell_type": "markdown",
   "id": "539f377b-2d5e-44f4-b2af-1563f82e1aa7",
   "metadata": {},
   "source": [
    "## Retrait de toutes les variables dont on a pas besoin pour l'analyse "
   ]
  },
  {
   "cell_type": "code",
   "execution_count": 257,
   "id": "3378329b-f98e-4037-8146-508d445488c9",
   "metadata": {},
   "outputs": [],
   "source": [
    "# Variables à supprimer\n",
    "variables_a_supprimer = ['titre_normalise', 'nom_du_realisateur_bis', 'adult','backdrop_path',\n",
    "                        'homepage',\"original_title\",\"poster_path\",\"status\",\"title\",\"video\",\"nom_du_realisateur_y\",\"tagline\",\n",
    "                        \"imdb_id\", \"Box office\"]\n",
    "\n",
    "# Supprimer les variables inutiles\n",
    "df_modified = df_merged.drop(variables_a_supprimer, axis=1)\n"
   ]
  },
  {
   "cell_type": "code",
   "execution_count": 238,
   "id": "b6eab910-4c4f-4d75-b9f2-d26e2d08b70b",
   "metadata": {},
   "outputs": [],
   "source": [
    "#print(df_modified.dtypes)"
   ]
  },
  {
   "cell_type": "code",
   "execution_count": 51,
   "id": "3079fd36-a0fc-405d-afdc-39387c53c43e",
   "metadata": {
    "scrolled": true
   },
   "outputs": [
    {
     "name": "stdout",
     "output_type": "stream",
     "text": [
      "Nombre de valeurs manquantes par variable :\n",
      "Titre original                        0\n",
      "Note press                         2076\n",
      "Notes spectateur                      0\n",
      "id allocine                           0\n",
      "Box office                         1925\n",
      "date                                260\n",
      "duree_minutes                        39\n",
      "Nombre_de_critiques_presse         2076\n",
      "Nombre_de_notes_spectateurs           0\n",
      "Nombre_de_critiques_spectateurs       0\n",
      "mois_sortie_x                       260\n",
      "annee_sortie_x                      260\n",
      "nom_du_realisateur_x                  3\n",
      "belongs_to_collection              2963\n",
      "budget                                0\n",
      "genres                                5\n",
      "id                                    0\n",
      "imdb_id                               1\n",
      "original_language                     0\n",
      "overview                              3\n",
      "popularity                            0\n",
      "production_companies                 80\n",
      "production_countries                 28\n",
      "release_date                          2\n",
      "revenue                               0\n",
      "runtime                               0\n",
      "spoken_languages                     12\n",
      "vote_average                          0\n",
      "vote_count                            0\n",
      "mois_sortie_y                         2\n",
      "annee_sortie_y                        2\n",
      "dtype: int64\n"
     ]
    }
   ],
   "source": [
    "#regarder le nombre de valeurs manquantes par variable \n",
    "masque_valeurs_manquantes = df_modified.isnull()\n",
    "valeurs_manquantes_par_colonne = masque_valeurs_manquantes.sum()\n",
    "print(\"Nombre de valeurs manquantes par variable :\")\n",
    "print(valeurs_manquantes_par_colonne)"
   ]
  },
  {
   "cell_type": "markdown",
   "id": "c0a12aa0-157f-4735-a329-1744cda6e86a",
   "metadata": {},
   "source": [
    "## Nettoyage des variables "
   ]
  },
  {
   "cell_type": "markdown",
   "id": "890803ec-247a-4e3c-90a2-b8a3470b175e",
   "metadata": {},
   "source": [
    "### Variable genre "
   ]
  },
  {
   "cell_type": "code",
   "execution_count": null,
   "id": "d9ebac74-e6be-43e9-80cb-f94a50cc667a",
   "metadata": {},
   "outputs": [],
   "source": [
    "df_modified[\"genres\"].unique()\n",
    "\n",
    "# Supposons que df_modified soit votre dataframe et 'genres' la colonne contenant les genres\n",
    "# Divisez les genres en colonnes de dummies\n",
    "df_dummies = df_modified['genres'].str.get_dummies(', ')\n",
    "\n",
    "# Groupby sur l'index et sommez les valeurs (évite les duplications)\n",
    "df_dummies_grouped = df_dummies.groupby(df_dummies.index).sum()\n",
    "\n",
    "# Ajoutez les colonnes de dummies à votre dataframe d'origine\n",
    "df_modified = pd.concat([df_modified, df_dummies_grouped], axis=1)\n",
    "\n",
    "# Supprimez la colonne 'genres' si nécessaire\n",
    "#df_modified = df_modified.drop('genres', axis=1)\n",
    "\n",
    "# Affichez le résultat\n",
    "# Affichez le DataFrame avec les colonnes encodées\n",
    "df_modified.head()\n",
    "df_modified.to_csv(\"df_modified.csv\", index=False)"
   ]
  },
  {
   "cell_type": "markdown",
   "id": "1608d99e-9a70-40a7-8fa4-62d03a3f713e",
   "metadata": {},
   "source": [
    "### Variable durée"
   ]
  },
  {
   "cell_type": "code",
   "execution_count": 259,
   "id": "13c53649-94b8-44b1-8141-57e32c13a331",
   "metadata": {},
   "outputs": [],
   "source": [
    "# pour visualiser un peu plus clairement\n",
    "colonnes_a_garder=[\"Titre original\", \"id allocine\", \"id\",\"duree_minutes\", \"runtime\"]\n",
    "df_duree = df_modified.loc[:, colonnes_a_garder].copy()\n",
    "df_duree[\"difference\"]=abs(df_duree[\"duree_minutes\"]-df_duree[\"runtime\"])\n",
    "df_duree.to_csv(\"df_duree.csv\", index=False)\n",
    "#df_duree[\"difference\"].value_counts()"
   ]
  },
  {
   "cell_type": "code",
   "execution_count": 260,
   "id": "19699788-a32f-4da4-8a9b-b800512ff765",
   "metadata": {},
   "outputs": [],
   "source": [
    "#je remplace deja les valeurs manquantes de chaque variable par la valeur de l'autre colonne \n",
    "\n",
    "# Remplacer les valeurs manquantes dans duree_minutes par les valeurs de runtime\n",
    "df_duree['duree_minutes'].fillna(df_duree['runtime'], inplace=True)\n",
    "# Remplacer les valeurs manquantes dans runtime par les valeurs de duree_minutes\n",
    "df_duree['runtime'].fillna(df_duree['duree_minutes'], inplace=True)"
   ]
  },
  {
   "cell_type": "code",
   "execution_count": 244,
   "id": "920a4a86-1aea-401c-976d-66c79fcf0b2a",
   "metadata": {},
   "outputs": [],
   "source": [
    "# on remarque que certains films ont plusieurs observations, on va créer une dataframe \n",
    "#qui regroupe seulement ces valeurs dupliques pour visualiser un peu plus \n",
    "\n",
    "# Créer une nouvelle DataFrame avec les doublons seulement\n",
    "df_doublons = df_duree[df_duree.duplicated(subset=[\"id allocine\"],keep=False)]\n",
    "df_doublons.to_csv(\"df_doublons.csv\", index=False)\n"
   ]
  },
  {
   "cell_type": "code",
   "execution_count": 271,
   "id": "26364091-285b-4b7a-8704-c60e33017cef",
   "metadata": {},
   "outputs": [
    {
     "data": {
      "text/plain": [
       "3530"
      ]
     },
     "execution_count": 271,
     "metadata": {},
     "output_type": "execute_result"
    }
   ],
   "source": [
    "# apres avoir visualise on voit qu'on peut garder uniquement l'occurence ou la difference \n",
    "#de duree est minimale\n",
    "\n",
    "nom_colonne_titre = \"Titre original\"\n",
    "nom_colonne_duree = \"difference\"\n",
    "df_duree = df_duree.sort_values(by=[nom_colonne_titre, nom_colonne_duree], ascending=[True, True])\n",
    "\n",
    "# Affichez le DataFrame trié\n",
    "#df_duree.head()\n",
    "\n",
    "df_duree = df_duree.drop_duplicates(subset=\"id allocine\", keep=\"first\")\n",
    "len(df_duree)"
   ]
  },
  {
   "cell_type": "code",
   "execution_count": 272,
   "id": "2adab095-73fd-4bf0-95e0-40e8c8dfb42e",
   "metadata": {},
   "outputs": [
    {
     "data": {
      "text/plain": [
       "difference\n",
       "0.0      1780\n",
       "1.0       812\n",
       "4.0       197\n",
       "2.0       193\n",
       "3.0       144\n",
       "5.0       117\n",
       "6.0        50\n",
       "7.0        40\n",
       "8.0        37\n",
       "10.0       23\n",
       "9.0        18\n",
       "11.0       13\n",
       "12.0       11\n",
       "14.0       10\n",
       "13.0        7\n",
       "15.0        5\n",
       "20.0        4\n",
       "16.0        4\n",
       "18.0        3\n",
       "21.0        3\n",
       "24.0        2\n",
       "19.0        2\n",
       "17.0        2\n",
       "84.0        1\n",
       "42.0        1\n",
       "105.0       1\n",
       "62.0        1\n",
       "57.0        1\n",
       "86.0        1\n",
       "36.0        1\n",
       "73.0        1\n",
       "23.0        1\n",
       "90.0        1\n",
       "47.0        1\n",
       "93.0        1\n",
       "27.0        1\n",
       "75.0        1\n",
       "34.0        1\n",
       "Name: count, dtype: int64"
      ]
     },
     "execution_count": 272,
     "metadata": {},
     "output_type": "execute_result"
    }
   ],
   "source": [
    "#on voit que la base des differences est beaucoup plus réduite et plus abordable pour \n",
    "#faire le tri\n",
    "df_duree[\"difference\"].value_counts()"
   ]
  },
  {
   "cell_type": "markdown",
   "id": "c055cd55-775a-4350-a01b-94adc030eed9",
   "metadata": {},
   "source": [
    "## JE ME SUIS ARRETE A LA REPRENDRE D'ICI"
   ]
  },
  {
   "cell_type": "code",
   "execution_count": 72,
   "id": "d0995817-49b6-4f35-aaf1-ea5ef79d5ba9",
   "metadata": {},
   "outputs": [
    {
     "name": "stdout",
     "output_type": "stream",
     "text": [
      "Ligne où la valeur dans la colonne 'difference' est égale à 102 :\n",
      "3538\n"
     ]
    }
   ],
   "source": [
    "# Supposons que \"difference\" est le nom de la colonne\n",
    "nom_colonne = \"difference\"\n",
    "valeur_cible = 66\n",
    "\n",
    "# Utilisez loc pour sélectionner la ligne où la valeur dans la colonne \"difference\" est égale à 102\n",
    "ligne_cible = df_modified.loc[df_modified[nom_colonne] == valeur_cible].index[0]\n",
    "\n",
    "# Affichez le résultat\n",
    "print(\"Ligne où la valeur dans la colonne 'difference' est égale à 102 :\")\n",
    "print(ligne_cible)\n"
   ]
  },
  {
   "cell_type": "code",
   "execution_count": 74,
   "id": "57b56f72-5aca-4ad5-af21-8c16730d8ca8",
   "metadata": {},
   "outputs": [
    {
     "data": {
      "text/plain": [
       "11.0"
      ]
     },
     "execution_count": 74,
     "metadata": {},
     "output_type": "execute_result"
    }
   ],
   "source": [
    "df_modified[\"duree_minutes\"][3538]\n",
    "#df_modified[\"runtime\"][3538]"
   ]
  },
  {
   "cell_type": "code",
   "execution_count": 77,
   "id": "d9d2f136-fa46-4e80-a4ac-d1f0d932bbdd",
   "metadata": {},
   "outputs": [
    {
     "data": {
      "text/plain": [
       "78.0"
      ]
     },
     "execution_count": 77,
     "metadata": {},
     "output_type": "execute_result"
    }
   ],
   "source": [
    "df_sorted[\"runtime\"][3537]"
   ]
  },
  {
   "cell_type": "code",
   "execution_count": 98,
   "id": "2f06ddca-2ad6-4846-ab5b-50d48a276d27",
   "metadata": {},
   "outputs": [
    {
     "name": "stdout",
     "output_type": "stream",
     "text": [
      "Ligne où la valeur dans la colonne 'difference' est égale à 102 :\n",
      "267\n"
     ]
    }
   ],
   "source": [
    "# Supposons que \"difference\" est le nom de la colonne\n",
    "nom_colonne = \"difference\"\n",
    "valeur_cible = 84\n",
    "\n",
    "# Utilisez loc pour sélectionner la ligne où la valeur dans la colonne \"difference\" est égale à 102\n",
    "ligne_cible = df_sans_doublons.loc[df_sans_doublons[nom_colonne] == valeur_cible].index[0]\n",
    "\n",
    "# Affichez le résultat\n",
    "print(\"Ligne où la valeur dans la colonne 'difference' est égale à 102 :\")\n",
    "print(ligne_cible)\n"
   ]
  },
  {
   "cell_type": "code",
   "execution_count": null,
   "id": "646a7213-26eb-4094-a9bb-d5497fe77eaf",
   "metadata": {},
   "outputs": [],
   "source": []
  },
  {
   "cell_type": "code",
   "execution_count": 99,
   "id": "414d23f3-9c54-4ffa-8f04-ba46ff8ebdf3",
   "metadata": {},
   "outputs": [
    {
     "name": "stdout",
     "output_type": "stream",
     "text": [
      "84.0\n",
      "0.0\n",
      "Armstrong\n"
     ]
    }
   ],
   "source": [
    "\n",
    "print(df_modified[\"duree_minutes\"][ligne_cible])\n",
    "print(df_modified[\"runtime\"][ligne_cible])\n",
    "print(df_modified[\"Titre original\"][ligne_cible])"
   ]
  },
  {
   "cell_type": "code",
   "execution_count": 101,
   "id": "90c7f94f-e2a2-4fdf-b8fd-60aaa05b82cb",
   "metadata": {},
   "outputs": [
    {
     "data": {
      "text/plain": [
       "3525"
      ]
     },
     "execution_count": 101,
     "metadata": {},
     "output_type": "execute_result"
    }
   ],
   "source": [
    "df_filtre=df_sans_doublons.loc[df_sans_doublons[\"runtime\"] !=0]\n",
    "len(df_filtre)"
   ]
  },
  {
   "cell_type": "code",
   "execution_count": 107,
   "id": "ba5358a7-070a-4704-9e2e-3145382d2241",
   "metadata": {},
   "outputs": [
    {
     "data": {
      "text/plain": [
       "difference\n",
       "0.0     1780\n",
       "1.0      812\n",
       "4.0      197\n",
       "2.0      193\n",
       "3.0      144\n",
       "5.0      117\n",
       "6.0       50\n",
       "7.0       40\n",
       "8.0       37\n",
       "10.0      23\n",
       "9.0       18\n",
       "11.0      13\n",
       "12.0      11\n",
       "14.0      10\n",
       "13.0       7\n",
       "15.0       5\n",
       "16.0       4\n",
       "20.0       4\n",
       "21.0       3\n",
       "18.0       3\n",
       "24.0       2\n",
       "19.0       2\n",
       "17.0       2\n",
       "42.0       1\n",
       "62.0       1\n",
       "57.0       1\n",
       "86.0       1\n",
       "36.0       1\n",
       "73.0       1\n",
       "23.0       1\n",
       "47.0       1\n",
       "27.0       1\n",
       "34.0       1\n",
       "Name: count, dtype: int64"
      ]
     },
     "execution_count": 107,
     "metadata": {},
     "output_type": "execute_result"
    }
   ],
   "source": [
    "df_filtre[\"difference\"].value_counts()"
   ]
  },
  {
   "cell_type": "code",
   "execution_count": 141,
   "id": "a02be93d-124b-4837-9ede-527609a6a141",
   "metadata": {},
   "outputs": [
    {
     "name": "stdout",
     "output_type": "stream",
     "text": [
      "120.0\n",
      "58.0\n",
      "Diary of a Wimpy Kid\n"
     ]
    }
   ],
   "source": [
    "# Supposons que \"difference\" est le nom de la colonne\n",
    "nom_colonne = \"difference\"\n",
    "valeur_cible = 62\n",
    "\n",
    "# Utilisez loc pour sélectionner la ligne où la valeur dans la colonne \"difference\" est égale à 102\n",
    "ligne_cible = df_filtre.loc[df_filtre[nom_colonne] == valeur_cible].index[0]\n",
    "\n",
    "# Affichez le résultat\n",
    "#print(\"Ligne où la valeur dans la colonne 'difference' est égale à 102 :\")\n",
    "#print(ligne_cible)\n",
    "\n",
    "print(df_filtre[\"duree_minutes\"][ligne_cible])\n",
    "print(df_filtre[\"runtime\"][ligne_cible])\n",
    "print(df_filtre[\"Titre original\"][ligne_cible])"
   ]
  },
  {
   "cell_type": "code",
   "execution_count": 131,
   "id": "4dc840bf-09df-4a31-baf7-429061d09ed4",
   "metadata": {},
   "outputs": [
    {
     "name": "stdout",
     "output_type": "stream",
     "text": [
      "139.0\n",
      "105.0\n",
      "The Scorpion King 4 - Quest for Power\n"
     ]
    }
   ],
   "source": [
    "\n",
    "print(df_filtre[\"duree_minutes\"][ligne_cible])\n",
    "print(df_filtre[\"runtime\"][ligne_cible])\n",
    "print(df_filtre[\"Titre original\"][ligne_cible])"
   ]
  },
  {
   "cell_type": "code",
   "execution_count": null,
   "id": "6c85c09f-247e-4e88-859f-d0ebd16cc287",
   "metadata": {},
   "outputs": [],
   "source": []
  },
  {
   "cell_type": "markdown",
   "id": "29b0cc77-4d6d-4ad8-bb3d-cee71f67ed4a",
   "metadata": {},
   "source": [
    "## AUTRE CHOSE "
   ]
  },
  {
   "cell_type": "markdown",
   "id": "d5ec8ee2-7d9a-44d0-a00f-36ae5e5e0401",
   "metadata": {},
   "source": []
  },
  {
   "cell_type": "code",
   "execution_count": 169,
   "id": "78ca34ca-d3fa-4462-8b89-6a605c6937bb",
   "metadata": {},
   "outputs": [
    {
     "data": {
      "text/plain": [
       "1001"
      ]
     },
     "execution_count": 169,
     "metadata": {},
     "output_type": "execute_result"
    }
   ],
   "source": [
    "#budget\n",
    "df_modified[\"budget\"].eq(0).sum()"
   ]
  },
  {
   "cell_type": "code",
   "execution_count": null,
   "id": "8bc3efc5-8789-435d-a015-db22020f5d42",
   "metadata": {},
   "outputs": [],
   "source": []
  },
  {
   "cell_type": "code",
   "execution_count": 205,
   "id": "77e4dff3-b039-419a-8903-f786570bdcc9",
   "metadata": {},
   "outputs": [],
   "source": [
    "#original language "
   ]
  },
  {
   "cell_type": "code",
   "execution_count": 216,
   "id": "a8045b66-a3ae-484d-a3e3-8344b2c12074",
   "metadata": {},
   "outputs": [
    {
     "data": {
      "text/plain": [
       "8.421"
      ]
     },
     "execution_count": 216,
     "metadata": {},
     "output_type": "execute_result"
    }
   ],
   "source": [
    "df_modified[\"vote_average\"].max()"
   ]
  },
  {
   "cell_type": "code",
   "execution_count": 217,
   "id": "79276029-d253-4920-a64a-dff56086429d",
   "metadata": {},
   "outputs": [
    {
     "data": {
      "text/plain": [
       "1925"
      ]
     },
     "execution_count": 217,
     "metadata": {},
     "output_type": "execute_result"
    }
   ],
   "source": [
    "#box office \n",
    "df_modified[\"Box office\"].isnull().sum()"
   ]
  },
  {
   "cell_type": "code",
   "execution_count": null,
   "id": "30c6c1af-3201-4106-afe5-5eccd1ff5211",
   "metadata": {},
   "outputs": [],
   "source": []
  }
 ],
 "metadata": {
  "kernelspec": {
   "display_name": "Python 3 (ipykernel)",
   "language": "python",
   "name": "python3"
  },
  "language_info": {
   "codemirror_mode": {
    "name": "ipython",
    "version": 3
   },
   "file_extension": ".py",
   "mimetype": "text/x-python",
   "name": "python",
   "nbconvert_exporter": "python",
   "pygments_lexer": "ipython3",
   "version": "3.10.13"
  }
 },
 "nbformat": 4,
 "nbformat_minor": 5
}
