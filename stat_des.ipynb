{
 "cells": [
  {
   "cell_type": "code",
   "execution_count": 148,
   "id": "aa3fb6f1-1258-4a96-9abe-f948d2c336a7",
   "metadata": {},
   "outputs": [],
   "source": [
    "import pandas as pd "
   ]
  },
  {
   "cell_type": "code",
   "execution_count": 206,
   "id": "c7c32803-099e-45d3-876a-3fe9eb8946f8",
   "metadata": {},
   "outputs": [],
   "source": [
    "df_merged = pd.read_csv(\"df_merged.csv\")\n",
    "\n"
   ]
  },
  {
   "cell_type": "code",
   "execution_count": 187,
   "id": "5a77fe43-7035-4757-99a0-5936521ee13d",
   "metadata": {},
   "outputs": [
    {
     "data": {
      "text/plain": [
       "0              NaN\n",
       "1       2015-04-21\n",
       "2       2016-03-16\n",
       "3       2020-01-10\n",
       "4       2018-11-29\n",
       "           ...    \n",
       "3562    2015-02-17\n",
       "3563    2015-04-07\n",
       "3564    2019-10-30\n",
       "3565    2011-08-17\n",
       "3566    2016-03-02\n",
       "Name: date, Length: 3567, dtype: object"
      ]
     },
     "execution_count": 187,
     "metadata": {},
     "output_type": "execute_result"
    }
   ],
   "source": [
    "df_merged[\"date\"]\n",
    "#df_merged[\"date\"] = pd.to_datetime(df_merged[\"date\"], errors='coerce')\n"
   ]
  },
  {
   "cell_type": "code",
   "execution_count": 150,
   "id": "00e36019-7ca3-4425-ade6-7a042aa246da",
   "metadata": {},
   "outputs": [
    {
     "name": "stdout",
     "output_type": "stream",
     "text": [
      "Titre original                      object\n",
      "Note press                         float64\n",
      "Notes spectateur                   float64\n",
      "id allocine                          int64\n",
      "Box office                         float64\n",
      "date                                object\n",
      "duree_minutes                      float64\n",
      "Nombre_de_critiques_presse         float64\n",
      "Nombre_de_notes_spectateurs        float64\n",
      "Nombre_de_critiques_spectateurs    float64\n",
      "mois_sortie_x                      float64\n",
      "annee_sortie_x                     float64\n",
      "titre_normalise                     object\n",
      "nom_du_realisateur_x                object\n",
      "nom_du_realisateur_bis              object\n",
      "adult                                 bool\n",
      "backdrop_path                       object\n",
      "belongs_to_collection               object\n",
      "budget                             float64\n",
      "genres                              object\n",
      "homepage                            object\n",
      "id                                 float64\n",
      "imdb_id                             object\n",
      "original_language                   object\n",
      "original_title                      object\n",
      "overview                            object\n",
      "popularity                         float64\n",
      "poster_path                         object\n",
      "production_companies                object\n",
      "production_countries                object\n",
      "release_date                        object\n",
      "revenue                            float64\n",
      "runtime                            float64\n",
      "spoken_languages                    object\n",
      "status                              object\n",
      "tagline                             object\n",
      "title                               object\n",
      "video                                 bool\n",
      "vote_average                       float64\n",
      "vote_count                         float64\n",
      "mois_sortie_y                      float64\n",
      "annee_sortie_y                     float64\n",
      "nom_du_realisateur_y                object\n",
      "dtype: object\n"
     ]
    }
   ],
   "source": [
    "#df_merged.head()\n",
    "print(df_merged.dtypes)"
   ]
  },
  {
   "cell_type": "code",
   "execution_count": 47,
   "id": "cbb05339-51f7-46f4-a2bc-641a7878b06c",
   "metadata": {},
   "outputs": [],
   "source": [
    "#df_merged[\"\"].value_counts()                       \n",
    "#df_merged[\"video\"]\n"
   ]
  },
  {
   "cell_type": "code",
   "execution_count": 207,
   "id": "3378329b-f98e-4037-8146-508d445488c9",
   "metadata": {},
   "outputs": [],
   "source": [
    "# Variables à supprimer\n",
    "variables_a_supprimer = ['titre_normalise', 'nom_du_realisateur_bis', 'adult','backdrop_path',\n",
    "                        'homepage',\"original_title\",\"poster_path\",\"status\",\"title\",\"video\",\"nom_du_realisateur_y\",\"tagline\",\n",
    "                        \"imdb_id\", \"Box office\"]\n",
    "\n",
    "# Supprimer les variables inutiles\n",
    "df_modified = df_merged.drop(variables_a_supprimer, axis=1)\n"
   ]
  },
  {
   "cell_type": "code",
   "execution_count": 50,
   "id": "b6eab910-4c4f-4d75-b9f2-d26e2d08b70b",
   "metadata": {},
   "outputs": [
    {
     "name": "stdout",
     "output_type": "stream",
     "text": [
      "Titre original                      object\n",
      "Note press                         float64\n",
      "Notes spectateur                   float64\n",
      "id allocine                          int64\n",
      "Box office                         float64\n",
      "date                                object\n",
      "duree_minutes                      float64\n",
      "Nombre_de_critiques_presse         float64\n",
      "Nombre_de_notes_spectateurs        float64\n",
      "Nombre_de_critiques_spectateurs    float64\n",
      "mois_sortie_x                      float64\n",
      "annee_sortie_x                     float64\n",
      "nom_du_realisateur_x                object\n",
      "belongs_to_collection               object\n",
      "budget                             float64\n",
      "genres                              object\n",
      "id                                 float64\n",
      "imdb_id                             object\n",
      "original_language                   object\n",
      "overview                            object\n",
      "popularity                         float64\n",
      "production_companies                object\n",
      "production_countries                object\n",
      "release_date                        object\n",
      "revenue                            float64\n",
      "runtime                            float64\n",
      "spoken_languages                    object\n",
      "vote_average                       float64\n",
      "vote_count                         float64\n",
      "mois_sortie_y                      float64\n",
      "annee_sortie_y                     float64\n",
      "dtype: object\n"
     ]
    }
   ],
   "source": [
    "print(df_modified.dtypes)"
   ]
  },
  {
   "cell_type": "code",
   "execution_count": 51,
   "id": "3079fd36-a0fc-405d-afdc-39387c53c43e",
   "metadata": {
    "scrolled": true
   },
   "outputs": [
    {
     "name": "stdout",
     "output_type": "stream",
     "text": [
      "Nombre de valeurs manquantes par variable :\n",
      "Titre original                        0\n",
      "Note press                         2076\n",
      "Notes spectateur                      0\n",
      "id allocine                           0\n",
      "Box office                         1925\n",
      "date                                260\n",
      "duree_minutes                        39\n",
      "Nombre_de_critiques_presse         2076\n",
      "Nombre_de_notes_spectateurs           0\n",
      "Nombre_de_critiques_spectateurs       0\n",
      "mois_sortie_x                       260\n",
      "annee_sortie_x                      260\n",
      "nom_du_realisateur_x                  3\n",
      "belongs_to_collection              2963\n",
      "budget                                0\n",
      "genres                                5\n",
      "id                                    0\n",
      "imdb_id                               1\n",
      "original_language                     0\n",
      "overview                              3\n",
      "popularity                            0\n",
      "production_companies                 80\n",
      "production_countries                 28\n",
      "release_date                          2\n",
      "revenue                               0\n",
      "runtime                               0\n",
      "spoken_languages                     12\n",
      "vote_average                          0\n",
      "vote_count                            0\n",
      "mois_sortie_y                         2\n",
      "annee_sortie_y                        2\n",
      "dtype: int64\n"
     ]
    }
   ],
   "source": [
    "#regarder le nombre de valeurs manquantes par variable \n",
    "\n",
    "masque_valeurs_manquantes = df_modified.isnull()\n",
    "valeurs_manquantes_par_colonne = masque_valeurs_manquantes.sum()\n",
    "print(\"Nombre de valeurs manquantes par variable :\")\n",
    "print(valeurs_manquantes_par_colonne)"
   ]
  },
  {
   "cell_type": "code",
   "execution_count": 58,
   "id": "19fb7d82-0865-4f93-99aa-53eaf1b1a35c",
   "metadata": {},
   "outputs": [],
   "source": [
    "df_modified[\"difference\"]=abs(df_modified[\"duree_minutes\"]-df_modified[\"runtime\"])"
   ]
  },
  {
   "cell_type": "code",
   "execution_count": 59,
   "id": "5fba7787-19df-4014-8ed8-98b87f0a5760",
   "metadata": {},
   "outputs": [
    {
     "data": {
      "text/plain": [
       "difference\n",
       "0.0      1787\n",
       "1.0       814\n",
       "4.0       198\n",
       "2.0       194\n",
       "3.0       145\n",
       "5.0       117\n",
       "6.0        51\n",
       "7.0        40\n",
       "8.0        38\n",
       "10.0       23\n",
       "9.0        18\n",
       "11.0       13\n",
       "12.0       11\n",
       "14.0       10\n",
       "13.0        7\n",
       "15.0        5\n",
       "16.0        4\n",
       "20.0        4\n",
       "18.0        3\n",
       "86.0        3\n",
       "21.0        3\n",
       "98.0        2\n",
       "89.0        2\n",
       "76.0        2\n",
       "73.0        2\n",
       "19.0        2\n",
       "67.0        2\n",
       "17.0        2\n",
       "24.0        2\n",
       "42.0        1\n",
       "84.0        1\n",
       "102.0       1\n",
       "92.0        1\n",
       "88.0        1\n",
       "62.0        1\n",
       "87.0        1\n",
       "105.0       1\n",
       "68.0        1\n",
       "57.0        1\n",
       "80.0        1\n",
       "36.0        1\n",
       "69.0        1\n",
       "90.0        1\n",
       "47.0        1\n",
       "23.0        1\n",
       "63.0        1\n",
       "93.0        1\n",
       "91.0        1\n",
       "27.0        1\n",
       "75.0        1\n",
       "34.0        1\n",
       "94.0        1\n",
       "66.0        1\n",
       "Name: count, dtype: int64"
      ]
     },
     "execution_count": 59,
     "metadata": {},
     "output_type": "execute_result"
    }
   ],
   "source": [
    "df_modified[\"difference\"].value_counts()"
   ]
  },
  {
   "cell_type": "code",
   "execution_count": 72,
   "id": "d0995817-49b6-4f35-aaf1-ea5ef79d5ba9",
   "metadata": {},
   "outputs": [
    {
     "name": "stdout",
     "output_type": "stream",
     "text": [
      "Ligne où la valeur dans la colonne 'difference' est égale à 102 :\n",
      "3538\n"
     ]
    }
   ],
   "source": [
    "# Supposons que \"difference\" est le nom de la colonne\n",
    "nom_colonne = \"difference\"\n",
    "valeur_cible = 66\n",
    "\n",
    "# Utilisez loc pour sélectionner la ligne où la valeur dans la colonne \"difference\" est égale à 102\n",
    "ligne_cible = df_modified.loc[df_modified[nom_colonne] == valeur_cible].index[0]\n",
    "\n",
    "# Affichez le résultat\n",
    "print(\"Ligne où la valeur dans la colonne 'difference' est égale à 102 :\")\n",
    "print(ligne_cible)\n"
   ]
  },
  {
   "cell_type": "code",
   "execution_count": 74,
   "id": "57b56f72-5aca-4ad5-af21-8c16730d8ca8",
   "metadata": {},
   "outputs": [
    {
     "data": {
      "text/plain": [
       "11.0"
      ]
     },
     "execution_count": 74,
     "metadata": {},
     "output_type": "execute_result"
    }
   ],
   "source": [
    "df_modified[\"duree_minutes\"][3538]\n",
    "#df_modified[\"runtime\"][3538]"
   ]
  },
  {
   "cell_type": "code",
   "execution_count": 78,
   "id": "8b4337d0-c5e4-4b0c-bf40-809fc1724348",
   "metadata": {},
   "outputs": [
    {
     "data": {
      "text/html": [
       "<div>\n",
       "<style scoped>\n",
       "    .dataframe tbody tr th:only-of-type {\n",
       "        vertical-align: middle;\n",
       "    }\n",
       "\n",
       "    .dataframe tbody tr th {\n",
       "        vertical-align: top;\n",
       "    }\n",
       "\n",
       "    .dataframe thead th {\n",
       "        text-align: right;\n",
       "    }\n",
       "</style>\n",
       "<table border=\"1\" class=\"dataframe\">\n",
       "  <thead>\n",
       "    <tr style=\"text-align: right;\">\n",
       "      <th></th>\n",
       "      <th>Titre original</th>\n",
       "      <th>Note press</th>\n",
       "      <th>Notes spectateur</th>\n",
       "      <th>id allocine</th>\n",
       "      <th>Box office</th>\n",
       "      <th>date</th>\n",
       "      <th>duree_minutes</th>\n",
       "      <th>Nombre_de_critiques_presse</th>\n",
       "      <th>Nombre_de_notes_spectateurs</th>\n",
       "      <th>Nombre_de_critiques_spectateurs</th>\n",
       "      <th>...</th>\n",
       "      <th>production_countries</th>\n",
       "      <th>release_date</th>\n",
       "      <th>revenue</th>\n",
       "      <th>runtime</th>\n",
       "      <th>spoken_languages</th>\n",
       "      <th>vote_average</th>\n",
       "      <th>vote_count</th>\n",
       "      <th>mois_sortie_y</th>\n",
       "      <th>annee_sortie_y</th>\n",
       "      <th>difference</th>\n",
       "    </tr>\n",
       "  </thead>\n",
       "  <tbody>\n",
       "    <tr>\n",
       "      <th>0</th>\n",
       "      <td>10 000 days</td>\n",
       "      <td>NaN</td>\n",
       "      <td>1.5</td>\n",
       "      <td>239331</td>\n",
       "      <td>NaN</td>\n",
       "      <td>NaN</td>\n",
       "      <td>91.0</td>\n",
       "      <td>NaN</td>\n",
       "      <td>32.0</td>\n",
       "      <td>7.0</td>\n",
       "      <td>...</td>\n",
       "      <td>United States of America</td>\n",
       "      <td>2014-11-23</td>\n",
       "      <td>0.0</td>\n",
       "      <td>91.0</td>\n",
       "      <td>English</td>\n",
       "      <td>2.800</td>\n",
       "      <td>15.0</td>\n",
       "      <td>11.0</td>\n",
       "      <td>2014.0</td>\n",
       "      <td>0.0</td>\n",
       "    </tr>\n",
       "    <tr>\n",
       "      <th>2</th>\n",
       "      <td>10 Cloverfield Lane</td>\n",
       "      <td>3.6</td>\n",
       "      <td>3.6</td>\n",
       "      <td>231144</td>\n",
       "      <td>67880730.0</td>\n",
       "      <td>2016-03-16</td>\n",
       "      <td>103.0</td>\n",
       "      <td>20.0</td>\n",
       "      <td>9399.0</td>\n",
       "      <td>735.0</td>\n",
       "      <td>...</td>\n",
       "      <td>United States of America</td>\n",
       "      <td>2016-03-10</td>\n",
       "      <td>110216998.0</td>\n",
       "      <td>104.0</td>\n",
       "      <td>English</td>\n",
       "      <td>6.984</td>\n",
       "      <td>7456.0</td>\n",
       "      <td>3.0</td>\n",
       "      <td>2016.0</td>\n",
       "      <td>1.0</td>\n",
       "    </tr>\n",
       "    <tr>\n",
       "      <th>3</th>\n",
       "      <td>10 Minutes Gone</td>\n",
       "      <td>NaN</td>\n",
       "      <td>1.5</td>\n",
       "      <td>266802</td>\n",
       "      <td>NaN</td>\n",
       "      <td>2020-01-10</td>\n",
       "      <td>96.0</td>\n",
       "      <td>NaN</td>\n",
       "      <td>170.0</td>\n",
       "      <td>23.0</td>\n",
       "      <td>...</td>\n",
       "      <td>United States of America</td>\n",
       "      <td>2019-09-30</td>\n",
       "      <td>332731.0</td>\n",
       "      <td>96.0</td>\n",
       "      <td>English</td>\n",
       "      <td>5.358</td>\n",
       "      <td>204.0</td>\n",
       "      <td>9.0</td>\n",
       "      <td>2019.0</td>\n",
       "      <td>0.0</td>\n",
       "    </tr>\n",
       "    <tr>\n",
       "      <th>5</th>\n",
       "      <td>10 Years</td>\n",
       "      <td>NaN</td>\n",
       "      <td>2.3</td>\n",
       "      <td>189144</td>\n",
       "      <td>NaN</td>\n",
       "      <td>2017-06-02</td>\n",
       "      <td>97.0</td>\n",
       "      <td>NaN</td>\n",
       "      <td>306.0</td>\n",
       "      <td>12.0</td>\n",
       "      <td>...</td>\n",
       "      <td>United States of America</td>\n",
       "      <td>2012-09-14</td>\n",
       "      <td>203373.0</td>\n",
       "      <td>100.0</td>\n",
       "      <td>English</td>\n",
       "      <td>5.800</td>\n",
       "      <td>510.0</td>\n",
       "      <td>9.0</td>\n",
       "      <td>2012.0</td>\n",
       "      <td>3.0</td>\n",
       "    </tr>\n",
       "    <tr>\n",
       "      <th>1</th>\n",
       "      <td>100 Degrees Below Zero</td>\n",
       "      <td>NaN</td>\n",
       "      <td>1.2</td>\n",
       "      <td>221267</td>\n",
       "      <td>NaN</td>\n",
       "      <td>2015-04-21</td>\n",
       "      <td>89.0</td>\n",
       "      <td>NaN</td>\n",
       "      <td>110.0</td>\n",
       "      <td>51.0</td>\n",
       "      <td>...</td>\n",
       "      <td>United States of America</td>\n",
       "      <td>2013-03-29</td>\n",
       "      <td>0.0</td>\n",
       "      <td>88.0</td>\n",
       "      <td>English</td>\n",
       "      <td>4.400</td>\n",
       "      <td>112.0</td>\n",
       "      <td>3.0</td>\n",
       "      <td>2013.0</td>\n",
       "      <td>1.0</td>\n",
       "    </tr>\n",
       "  </tbody>\n",
       "</table>\n",
       "<p>5 rows × 32 columns</p>\n",
       "</div>"
      ],
      "text/plain": [
       "           Titre original  Note press  Notes spectateur  id allocine  \\\n",
       "0             10 000 days         NaN               1.5       239331   \n",
       "2     10 Cloverfield Lane         3.6               3.6       231144   \n",
       "3         10 Minutes Gone         NaN               1.5       266802   \n",
       "5                10 Years         NaN               2.3       189144   \n",
       "1  100 Degrees Below Zero         NaN               1.2       221267   \n",
       "\n",
       "   Box office        date  duree_minutes  Nombre_de_critiques_presse  \\\n",
       "0         NaN         NaN           91.0                         NaN   \n",
       "2  67880730.0  2016-03-16          103.0                        20.0   \n",
       "3         NaN  2020-01-10           96.0                         NaN   \n",
       "5         NaN  2017-06-02           97.0                         NaN   \n",
       "1         NaN  2015-04-21           89.0                         NaN   \n",
       "\n",
       "   Nombre_de_notes_spectateurs  Nombre_de_critiques_spectateurs  ...  \\\n",
       "0                         32.0                              7.0  ...   \n",
       "2                       9399.0                            735.0  ...   \n",
       "3                        170.0                             23.0  ...   \n",
       "5                        306.0                             12.0  ...   \n",
       "1                        110.0                             51.0  ...   \n",
       "\n",
       "       production_countries  release_date      revenue runtime  \\\n",
       "0  United States of America    2014-11-23          0.0    91.0   \n",
       "2  United States of America    2016-03-10  110216998.0   104.0   \n",
       "3  United States of America    2019-09-30     332731.0    96.0   \n",
       "5  United States of America    2012-09-14     203373.0   100.0   \n",
       "1  United States of America    2013-03-29          0.0    88.0   \n",
       "\n",
       "   spoken_languages vote_average  vote_count mois_sortie_y annee_sortie_y  \\\n",
       "0           English        2.800        15.0          11.0         2014.0   \n",
       "2           English        6.984      7456.0           3.0         2016.0   \n",
       "3           English        5.358       204.0           9.0         2019.0   \n",
       "5           English        5.800       510.0           9.0         2012.0   \n",
       "1           English        4.400       112.0           3.0         2013.0   \n",
       "\n",
       "  difference  \n",
       "0        0.0  \n",
       "2        1.0  \n",
       "3        0.0  \n",
       "5        3.0  \n",
       "1        1.0  \n",
       "\n",
       "[5 rows x 32 columns]"
      ]
     },
     "execution_count": 78,
     "metadata": {},
     "output_type": "execute_result"
    }
   ],
   "source": [
    "\n",
    "nom_colonne_titre = \"Titre original\"\n",
    "nom_colonne_duree = \"runtime\"\n",
    "\n",
    "df_sorted = df_modified.sort_values(by=[nom_colonne_titre, nom_colonne_duree], ascending=[True, False])\n",
    "\n",
    "# Affichez le DataFrame trié\n",
    "df_sorted.head()\n"
   ]
  },
  {
   "cell_type": "code",
   "execution_count": 77,
   "id": "d9d2f136-fa46-4e80-a4ac-d1f0d932bbdd",
   "metadata": {},
   "outputs": [
    {
     "data": {
      "text/plain": [
       "78.0"
      ]
     },
     "execution_count": 77,
     "metadata": {},
     "output_type": "execute_result"
    }
   ],
   "source": [
    "df_sorted[\"runtime\"][3537]"
   ]
  },
  {
   "cell_type": "code",
   "execution_count": 81,
   "id": "4e3d0ec5-f5e1-4314-805e-13f225369cbc",
   "metadata": {},
   "outputs": [
    {
     "data": {
      "text/plain": [
       "3530"
      ]
     },
     "execution_count": 81,
     "metadata": {},
     "output_type": "execute_result"
    }
   ],
   "source": [
    "df_sans_doublons = df_sorted.drop_duplicates(subset=\"id allocine\", keep=\"first\")\n",
    "len(df_sans_doublons)"
   ]
  },
  {
   "cell_type": "code",
   "execution_count": 83,
   "id": "df39a88a-01cf-40c3-9bb3-fddc6d3b4d0f",
   "metadata": {},
   "outputs": [
    {
     "data": {
      "text/plain": [
       "difference\n",
       "0.0      1780\n",
       "1.0       812\n",
       "4.0       197\n",
       "2.0       193\n",
       "3.0       144\n",
       "5.0       117\n",
       "6.0        50\n",
       "7.0        40\n",
       "8.0        37\n",
       "10.0       23\n",
       "9.0        18\n",
       "11.0       13\n",
       "12.0       11\n",
       "14.0       10\n",
       "13.0        7\n",
       "15.0        5\n",
       "20.0        4\n",
       "16.0        4\n",
       "18.0        3\n",
       "21.0        3\n",
       "24.0        2\n",
       "19.0        2\n",
       "17.0        2\n",
       "84.0        1\n",
       "42.0        1\n",
       "105.0       1\n",
       "62.0        1\n",
       "57.0        1\n",
       "86.0        1\n",
       "36.0        1\n",
       "73.0        1\n",
       "23.0        1\n",
       "90.0        1\n",
       "47.0        1\n",
       "93.0        1\n",
       "27.0        1\n",
       "75.0        1\n",
       "34.0        1\n",
       "Name: count, dtype: int64"
      ]
     },
     "execution_count": 83,
     "metadata": {},
     "output_type": "execute_result"
    }
   ],
   "source": [
    "#df_sans_doublons[\"difference\"].value_counts()"
   ]
  },
  {
   "cell_type": "code",
   "execution_count": 98,
   "id": "2f06ddca-2ad6-4846-ab5b-50d48a276d27",
   "metadata": {},
   "outputs": [
    {
     "name": "stdout",
     "output_type": "stream",
     "text": [
      "Ligne où la valeur dans la colonne 'difference' est égale à 102 :\n",
      "267\n"
     ]
    }
   ],
   "source": [
    "# Supposons que \"difference\" est le nom de la colonne\n",
    "nom_colonne = \"difference\"\n",
    "valeur_cible = 84\n",
    "\n",
    "# Utilisez loc pour sélectionner la ligne où la valeur dans la colonne \"difference\" est égale à 102\n",
    "ligne_cible = df_sans_doublons.loc[df_sans_doublons[nom_colonne] == valeur_cible].index[0]\n",
    "\n",
    "# Affichez le résultat\n",
    "print(\"Ligne où la valeur dans la colonne 'difference' est égale à 102 :\")\n",
    "print(ligne_cible)\n"
   ]
  },
  {
   "cell_type": "code",
   "execution_count": null,
   "id": "646a7213-26eb-4094-a9bb-d5497fe77eaf",
   "metadata": {},
   "outputs": [],
   "source": []
  },
  {
   "cell_type": "code",
   "execution_count": 99,
   "id": "414d23f3-9c54-4ffa-8f04-ba46ff8ebdf3",
   "metadata": {},
   "outputs": [
    {
     "name": "stdout",
     "output_type": "stream",
     "text": [
      "84.0\n",
      "0.0\n",
      "Armstrong\n"
     ]
    }
   ],
   "source": [
    "\n",
    "print(df_modified[\"duree_minutes\"][ligne_cible])\n",
    "print(df_modified[\"runtime\"][ligne_cible])\n",
    "print(df_modified[\"Titre original\"][ligne_cible])"
   ]
  },
  {
   "cell_type": "code",
   "execution_count": 101,
   "id": "90c7f94f-e2a2-4fdf-b8fd-60aaa05b82cb",
   "metadata": {},
   "outputs": [
    {
     "data": {
      "text/plain": [
       "3525"
      ]
     },
     "execution_count": 101,
     "metadata": {},
     "output_type": "execute_result"
    }
   ],
   "source": [
    "df_filtre=df_sans_doublons.loc[df_sans_doublons[\"runtime\"] !=0]\n",
    "len(df_filtre)"
   ]
  },
  {
   "cell_type": "code",
   "execution_count": 107,
   "id": "ba5358a7-070a-4704-9e2e-3145382d2241",
   "metadata": {},
   "outputs": [
    {
     "data": {
      "text/plain": [
       "difference\n",
       "0.0     1780\n",
       "1.0      812\n",
       "4.0      197\n",
       "2.0      193\n",
       "3.0      144\n",
       "5.0      117\n",
       "6.0       50\n",
       "7.0       40\n",
       "8.0       37\n",
       "10.0      23\n",
       "9.0       18\n",
       "11.0      13\n",
       "12.0      11\n",
       "14.0      10\n",
       "13.0       7\n",
       "15.0       5\n",
       "16.0       4\n",
       "20.0       4\n",
       "21.0       3\n",
       "18.0       3\n",
       "24.0       2\n",
       "19.0       2\n",
       "17.0       2\n",
       "42.0       1\n",
       "62.0       1\n",
       "57.0       1\n",
       "86.0       1\n",
       "36.0       1\n",
       "73.0       1\n",
       "23.0       1\n",
       "47.0       1\n",
       "27.0       1\n",
       "34.0       1\n",
       "Name: count, dtype: int64"
      ]
     },
     "execution_count": 107,
     "metadata": {},
     "output_type": "execute_result"
    }
   ],
   "source": [
    "df_filtre[\"difference\"].value_counts()"
   ]
  },
  {
   "cell_type": "code",
   "execution_count": 141,
   "id": "a02be93d-124b-4837-9ede-527609a6a141",
   "metadata": {},
   "outputs": [
    {
     "name": "stdout",
     "output_type": "stream",
     "text": [
      "120.0\n",
      "58.0\n",
      "Diary of a Wimpy Kid\n"
     ]
    }
   ],
   "source": [
    "# Supposons que \"difference\" est le nom de la colonne\n",
    "nom_colonne = \"difference\"\n",
    "valeur_cible = 62\n",
    "\n",
    "# Utilisez loc pour sélectionner la ligne où la valeur dans la colonne \"difference\" est égale à 102\n",
    "ligne_cible = df_filtre.loc[df_filtre[nom_colonne] == valeur_cible].index[0]\n",
    "\n",
    "# Affichez le résultat\n",
    "#print(\"Ligne où la valeur dans la colonne 'difference' est égale à 102 :\")\n",
    "#print(ligne_cible)\n",
    "\n",
    "print(df_filtre[\"duree_minutes\"][ligne_cible])\n",
    "print(df_filtre[\"runtime\"][ligne_cible])\n",
    "print(df_filtre[\"Titre original\"][ligne_cible])"
   ]
  },
  {
   "cell_type": "code",
   "execution_count": 131,
   "id": "4dc840bf-09df-4a31-baf7-429061d09ed4",
   "metadata": {},
   "outputs": [
    {
     "name": "stdout",
     "output_type": "stream",
     "text": [
      "139.0\n",
      "105.0\n",
      "The Scorpion King 4 - Quest for Power\n"
     ]
    }
   ],
   "source": [
    "\n",
    "print(df_filtre[\"duree_minutes\"][ligne_cible])\n",
    "print(df_filtre[\"runtime\"][ligne_cible])\n",
    "print(df_filtre[\"Titre original\"][ligne_cible])"
   ]
  },
  {
   "cell_type": "code",
   "execution_count": null,
   "id": "6c85c09f-247e-4e88-859f-d0ebd16cc287",
   "metadata": {},
   "outputs": [],
   "source": []
  },
  {
   "cell_type": "markdown",
   "id": "29b0cc77-4d6d-4ad8-bb3d-cee71f67ed4a",
   "metadata": {},
   "source": [
    "## AUTRE CHOSE "
   ]
  },
  {
   "cell_type": "code",
   "execution_count": 152,
   "id": "30afdd2c-e1ee-4f5e-b72f-b3e01bed2d74",
   "metadata": {},
   "outputs": [
    {
     "name": "stdout",
     "output_type": "stream",
     "text": [
      "Titre original                      object\n",
      "Note press                         float64\n",
      "Notes spectateur                   float64\n",
      "id allocine                          int64\n",
      "Box office                         float64\n",
      "date                                object\n",
      "duree_minutes                      float64\n",
      "Nombre_de_critiques_presse         float64\n",
      "Nombre_de_notes_spectateurs        float64\n",
      "Nombre_de_critiques_spectateurs    float64\n",
      "mois_sortie_x                      float64\n",
      "annee_sortie_x                     float64\n",
      "nom_du_realisateur_x                object\n",
      "belongs_to_collection               object\n",
      "budget                             float64\n",
      "genres                              object\n",
      "id                                 float64\n",
      "imdb_id                             object\n",
      "original_language                   object\n",
      "overview                            object\n",
      "popularity                         float64\n",
      "production_companies                object\n",
      "production_countries                object\n",
      "release_date                        object\n",
      "revenue                            float64\n",
      "runtime                            float64\n",
      "spoken_languages                    object\n",
      "vote_average                       float64\n",
      "vote_count                         float64\n",
      "mois_sortie_y                      float64\n",
      "annee_sortie_y                     float64\n",
      "dtype: object\n"
     ]
    }
   ],
   "source": [
    "print(df_modified.dtypes)"
   ]
  },
  {
   "cell_type": "markdown",
   "id": "d5ec8ee2-7d9a-44d0-a00f-36ae5e5e0401",
   "metadata": {},
   "source": []
  },
  {
   "cell_type": "code",
   "execution_count": 169,
   "id": "78ca34ca-d3fa-4462-8b89-6a605c6937bb",
   "metadata": {},
   "outputs": [
    {
     "data": {
      "text/plain": [
       "1001"
      ]
     },
     "execution_count": 169,
     "metadata": {},
     "output_type": "execute_result"
    }
   ],
   "source": [
    "#budget\n",
    "df_modified[\"budget\"].eq(0).sum()"
   ]
  },
  {
   "cell_type": "code",
   "execution_count": 175,
   "id": "21e0159b-9690-41f1-af3b-10d4e47c7747",
   "metadata": {},
   "outputs": [
    {
     "data": {
      "text/plain": [
       "array(['Science Fiction', 'Action, Science Fiction',\n",
       "       'Thriller, Science Fiction, Drama, Horror', ...,\n",
       "       'Action, Horror, Science Fiction, TV Movie',\n",
       "       'Comedy, Romance, Family', 'Comedy, Adventure, Action'],\n",
       "      dtype=object)"
      ]
     },
     "execution_count": 175,
     "metadata": {},
     "output_type": "execute_result"
    }
   ],
   "source": [
    "df_modified[\"genres\"].unique()"
   ]
  },
  {
   "cell_type": "code",
   "execution_count": 190,
   "id": "2b9dd08c-73e2-4c82-9cf5-2dda72132052",
   "metadata": {},
   "outputs": [
    {
     "name": "stdout",
     "output_type": "stream",
     "text": [
      "              Titre original      genres_list\n",
      "0                10 000 days  Science Fiction\n",
      "1     100 Degrees Below Zero           Action\n",
      "2     100 Degrees Below Zero  Science Fiction\n",
      "3        10 Cloverfield Lane         Thriller\n",
      "4        10 Cloverfield Lane  Science Fiction\n",
      "...                      ...              ...\n",
      "8731               Zookeeper          Romance\n",
      "8732               Zookeeper           Family\n",
      "8733             Zoolander 2           Comedy\n",
      "8734             Zoolander 2        Adventure\n",
      "8735             Zoolander 2           Action\n",
      "\n",
      "[8736 rows x 2 columns]\n"
     ]
    }
   ],
   "source": [
    "\n",
    "# Supposons que df_modified soit votre dataframe\n",
    "# Créez une nouvelle colonne \"genres_list\" qui contient une liste de genres pour chaque film\n",
    "df_modified['genres_list'] = df_modified['genres'].str.split(', ')\n",
    "\n",
    "# Utilisez la fonction explode pour transformer la liste de genres en plusieurs lignes\n",
    "df_expanded = df_modified.explode('genres_list')\n",
    "\n",
    "# Vous pouvez également réinitialiser l'index si vous le souhaitez\n",
    "df_expanded = df_expanded.reset_index(drop=True)\n",
    "\n",
    "# Affichez le résultat\n",
    "print(df_expanded[['Titre original', 'genres_list']])\n"
   ]
  },
  {
   "cell_type": "code",
   "execution_count": 191,
   "id": "db729b3b-9e1b-442a-bfb1-a26a5c95acfb",
   "metadata": {},
   "outputs": [
    {
     "data": {
      "text/plain": [
       "array(['Science Fiction', 'Action', 'Thriller', 'Drama', 'Horror',\n",
       "       'Crime', 'Mystery', 'Comedy', 'Adventure', 'History', 'War',\n",
       "       'Fantasy', 'Family', 'Romance', 'TV Movie', 'Western', nan,\n",
       "       'Music', 'Animation', 'Documentary'], dtype=object)"
      ]
     },
     "execution_count": 191,
     "metadata": {},
     "output_type": "execute_result"
    }
   ],
   "source": [
    "df_expanded[\"genres_list\"].unique()"
   ]
  },
  {
   "cell_type": "code",
   "execution_count": 203,
   "id": "c1908192-52ba-416d-9b9d-6514e176bfd4",
   "metadata": {},
   "outputs": [],
   "source": [
    "\n",
    "# Supposons que df_modified soit votre dataframe et 'genres' la colonne contenant les genres\n",
    "# Divisez les genres en colonnes de dummies\n",
    "df_dummies = df_modified['genres'].str.get_dummies(', ')\n",
    "\n",
    "# Groupby sur l'index et sommez les valeurs (évite les duplications)\n",
    "df_dummies_grouped = df_dummies.groupby(df_dummies.index).sum()\n",
    "\n",
    "# Ajoutez les colonnes de dummies à votre dataframe d'origine\n",
    "df_modified = pd.concat([df_modified, df_dummies_grouped], axis=1)\n",
    "\n",
    "# Supprimez la colonne 'genres' si nécessaire\n",
    "#df_modified = df_modified.drop('genres', axis=1)\n",
    "\n",
    "# Affichez le résultat"
   ]
  },
  {
   "cell_type": "code",
   "execution_count": 204,
   "id": "cfaa4ed7-3a0d-47cc-9efc-4bdbe077d80e",
   "metadata": {},
   "outputs": [],
   "source": [
    "# Affichez le DataFrame avec les colonnes encodées\n",
    "df_modified.head()\n",
    "df_modified.to_csv(\"df_modified.csv\", index=False)\n"
   ]
  },
  {
   "cell_type": "code",
   "execution_count": null,
   "id": "8bc3efc5-8789-435d-a015-db22020f5d42",
   "metadata": {},
   "outputs": [],
   "source": []
  },
  {
   "cell_type": "code",
   "execution_count": 205,
   "id": "77e4dff3-b039-419a-8903-f786570bdcc9",
   "metadata": {},
   "outputs": [],
   "source": [
    "#original language "
   ]
  },
  {
   "cell_type": "code",
   "execution_count": 216,
   "id": "a8045b66-a3ae-484d-a3e3-8344b2c12074",
   "metadata": {},
   "outputs": [
    {
     "data": {
      "text/plain": [
       "8.421"
      ]
     },
     "execution_count": 216,
     "metadata": {},
     "output_type": "execute_result"
    }
   ],
   "source": [
    "df_modified[\"vote_average\"].max()"
   ]
  },
  {
   "cell_type": "code",
   "execution_count": 217,
   "id": "79276029-d253-4920-a64a-dff56086429d",
   "metadata": {},
   "outputs": [
    {
     "data": {
      "text/plain": [
       "1925"
      ]
     },
     "execution_count": 217,
     "metadata": {},
     "output_type": "execute_result"
    }
   ],
   "source": [
    "#box office \n",
    "df_modified[\"Box office\"].isnull().sum()"
   ]
  }
 ],
 "metadata": {
  "kernelspec": {
   "display_name": "Python 3 (ipykernel)",
   "language": "python",
   "name": "python3"
  },
  "language_info": {
   "codemirror_mode": {
    "name": "ipython",
    "version": 3
   },
   "file_extension": ".py",
   "mimetype": "text/x-python",
   "name": "python",
   "nbconvert_exporter": "python",
   "pygments_lexer": "ipython3",
   "version": "3.10.13"
  }
 },
 "nbformat": 4,
 "nbformat_minor": 5
}
