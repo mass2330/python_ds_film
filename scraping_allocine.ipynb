{
 "cells": [
  {
   "cell_type": "code",
   "execution_count": 147,
   "id": "2ebb6907-3c01-488c-aba2-a115bc7e387c",
   "metadata": {},
   "outputs": [],
   "source": [
    "from urllib.request import urlopen\n",
    "from bs4 import BeautifulSoup as bs"
   ]
  },
  {
   "cell_type": "code",
   "execution_count": 148,
   "id": "39d06aba-c891-4809-b711-1c08b2c37102",
   "metadata": {},
   "outputs": [
    {
     "name": "stdout",
     "output_type": "stream",
     "text": [
      "CPU times: user 56 µs, sys: 5 µs, total: 61 µs\n",
      "Wall time: 70.8 µs\n"
     ]
    }
   ],
   "source": [
    "%%time\n",
    "import pandas as pd\n",
    "import numpy as np\n",
    "import matplotlib.pyplot as plt\n",
    "\n",
    "from requests import get\n",
    "\n",
    "from warnings import warn\n",
    "from time import sleep\n",
    "from random import randint\n",
    "\n",
    "import seaborn as sns\n",
    "\n",
    "import requests\n"
   ]
  },
  {
   "cell_type": "code",
   "execution_count": 29,
   "id": "3db270ca-bfe9-4354-b1ee-8f91f57401a5",
   "metadata": {},
   "outputs": [],
   "source": [
    "#url_imdb = \"https://www.allocine.fr/film/meilleurs/\""
   ]
  },
  {
   "cell_type": "code",
   "execution_count": 127,
   "id": "664fcf1d-942a-40bc-94fc-4d165d3481e8",
   "metadata": {},
   "outputs": [],
   "source": [
    "#base_url = \"https://www.allocine.fr/film/meilleurs/?page=2\"\n",
    "\n",
    "url = \"https://www.allocine.fr/films/?page=372\""
   ]
  },
  {
   "cell_type": "code",
   "execution_count": 128,
   "id": "aea63bde-0f9c-4229-9d89-d139ab58d150",
   "metadata": {},
   "outputs": [],
   "source": [
    "response = requests.get(url)\n",
    "bs_allocine = bs(response.text, \"html.parser\")"
   ]
  },
  {
   "cell_type": "code",
   "execution_count": 129,
   "id": "c76e4c76-5893-4703-98bc-da01c1cbb21e",
   "metadata": {},
   "outputs": [],
   "source": [
    "films_allocine = bs_allocine.findAll(\"li\", attrs = {'class' : \"mdl\"})"
   ]
  },
  {
   "cell_type": "code",
   "execution_count": 130,
   "id": "0f76b0da-be53-4b2a-a1b2-7ec95c647953",
   "metadata": {},
   "outputs": [
    {
     "data": {
      "text/plain": [
       "15"
      ]
     },
     "execution_count": 130,
     "metadata": {},
     "output_type": "execute_result"
    }
   ],
   "source": [
    "len(films_allocine)"
   ]
  },
  {
   "cell_type": "code",
   "execution_count": 131,
   "id": "73d832b3-af61-4a01-972f-90adad13a376",
   "metadata": {},
   "outputs": [
    {
     "data": {
      "text/plain": [
       "'Un, deux, trois, soleil'"
      ]
     },
     "execution_count": 131,
     "metadata": {},
     "output_type": "execute_result"
    }
   ],
   "source": [
    "film_allocine = films_allocine[0]\n",
    "titre_allocine = film_allocine.find('a', class_='meta-title-link').text\n",
    "titre_allocine"
   ]
  },
  {
   "cell_type": "code",
   "execution_count": 137,
   "id": "283f6a2f-a9ec-403d-aab8-de728adfcf2e",
   "metadata": {},
   "outputs": [
    {
     "name": "stdout",
     "output_type": "stream",
     "text": [
      "3,1\n",
      "--\n"
     ]
    }
   ],
   "source": [
    "notes_presse = film_allocine.find_all('span', class_='stareval-note')[0]\n",
    "print(notes_presse.text)\n",
    "\n",
    "notes_spectateurs = film_allocine.find_all('span', class_='stareval-note')[1]\n",
    "print (notes_spectateurs.text)\n",
    "\n"
   ]
  },
  {
   "cell_type": "code",
   "execution_count": 140,
   "id": "5d26a831-3756-41ef-b17a-409518c0386e",
   "metadata": {},
   "outputs": [
    {
     "data": {
      "text/plain": [
       "True"
      ]
     },
     "execution_count": 140,
     "metadata": {},
     "output_type": "execute_result"
    }
   ],
   "source": [
    "notes_spectateurs.text == \"--\""
   ]
  },
  {
   "cell_type": "markdown",
   "id": "cbf42da2-0e0d-466e-8c8a-e5753357c97a",
   "metadata": {},
   "source": [
    "### GENERALISATION POUR LES FILMS D'UNE PAGE "
   ]
  },
  {
   "cell_type": "code",
   "execution_count": 134,
   "id": "69669ef8-291f-47b5-b618-c828dd48f81b",
   "metadata": {},
   "outputs": [],
   "source": [
    "titre_allocine = []\n",
    "note_allocine_presse = []\n",
    "note_allocine_spect = []\n",
    "\n",
    "for film_allocine in films_allocine :\n",
    "    titre_allocine.append(film_allocine.find('a', class_='meta-title-link').text)\n",
    "    note_allocine_presse.append(film_allocine.find_all('span', class_='stareval-note')[0].text)\n",
    "    note_allocine_spect.append(film_allocine.find_all('span', class_='stareval-note')[1].text)\n",
    "\n",
    "\n",
    "df_allocine = pd.DataFrame(list(zip(titre_allocine, note_allocine_presse, note_allocine_spect)), columns=[\"Titre\", \"Note_presse\",\"Note_spectateur\"])"
   ]
  },
  {
   "cell_type": "code",
   "execution_count": 135,
   "id": "e226fd35-71de-4efb-a1c2-6fa155a53ea6",
   "metadata": {},
   "outputs": [
    {
     "data": {
      "text/html": [
       "<div>\n",
       "<style scoped>\n",
       "    .dataframe tbody tr th:only-of-type {\n",
       "        vertical-align: middle;\n",
       "    }\n",
       "\n",
       "    .dataframe tbody tr th {\n",
       "        vertical-align: top;\n",
       "    }\n",
       "\n",
       "    .dataframe thead th {\n",
       "        text-align: right;\n",
       "    }\n",
       "</style>\n",
       "<table border=\"1\" class=\"dataframe\">\n",
       "  <thead>\n",
       "    <tr style=\"text-align: right;\">\n",
       "      <th></th>\n",
       "      <th>Titre</th>\n",
       "      <th>Note_presse</th>\n",
       "      <th>Note_spectateur</th>\n",
       "    </tr>\n",
       "  </thead>\n",
       "  <tbody>\n",
       "    <tr>\n",
       "      <th>0</th>\n",
       "      <td>Un, deux, trois, soleil</td>\n",
       "      <td>3,0</td>\n",
       "      <td>--</td>\n",
       "    </tr>\n",
       "    <tr>\n",
       "      <th>1</th>\n",
       "      <td>Braquage à l'Anglaise</td>\n",
       "      <td>3,8</td>\n",
       "      <td>3,5</td>\n",
       "    </tr>\n",
       "    <tr>\n",
       "      <th>2</th>\n",
       "      <td>Die Hard : belle journée pour mourir</td>\n",
       "      <td>1,7</td>\n",
       "      <td>2,1</td>\n",
       "    </tr>\n",
       "    <tr>\n",
       "      <th>3</th>\n",
       "      <td>Enfance clandestine</td>\n",
       "      <td>3,6</td>\n",
       "      <td>3,9</td>\n",
       "    </tr>\n",
       "    <tr>\n",
       "      <th>4</th>\n",
       "      <td>Un amour à New York</td>\n",
       "      <td>3,2</td>\n",
       "      <td>2,9</td>\n",
       "    </tr>\n",
       "    <tr>\n",
       "      <th>5</th>\n",
       "      <td>Noël au château</td>\n",
       "      <td>3,2</td>\n",
       "      <td>--</td>\n",
       "    </tr>\n",
       "    <tr>\n",
       "      <th>6</th>\n",
       "      <td>L'Ultime razzia</td>\n",
       "      <td>3,4</td>\n",
       "      <td>3,8</td>\n",
       "    </tr>\n",
       "    <tr>\n",
       "      <th>7</th>\n",
       "      <td>Rushmore</td>\n",
       "      <td>3,6</td>\n",
       "      <td>3,8</td>\n",
       "    </tr>\n",
       "    <tr>\n",
       "      <th>8</th>\n",
       "      <td>Ce soir je vais tuer l'assassin de mon fils</td>\n",
       "      <td>3,7</td>\n",
       "      <td>--</td>\n",
       "    </tr>\n",
       "    <tr>\n",
       "      <th>9</th>\n",
       "      <td>La Dame de fer</td>\n",
       "      <td>2,3</td>\n",
       "      <td>2,9</td>\n",
       "    </tr>\n",
       "    <tr>\n",
       "      <th>10</th>\n",
       "      <td>A l'aveugle</td>\n",
       "      <td>2,4</td>\n",
       "      <td>2,7</td>\n",
       "    </tr>\n",
       "    <tr>\n",
       "      <th>11</th>\n",
       "      <td>Space Cowboys</td>\n",
       "      <td>4,0</td>\n",
       "      <td>3,2</td>\n",
       "    </tr>\n",
       "    <tr>\n",
       "      <th>12</th>\n",
       "      <td>L'Emprise du vice</td>\n",
       "      <td>1,5</td>\n",
       "      <td>--</td>\n",
       "    </tr>\n",
       "    <tr>\n",
       "      <th>13</th>\n",
       "      <td>Confident Royal</td>\n",
       "      <td>3,0</td>\n",
       "      <td>3,8</td>\n",
       "    </tr>\n",
       "    <tr>\n",
       "      <th>14</th>\n",
       "      <td>Braquage Final</td>\n",
       "      <td>3,1</td>\n",
       "      <td>--</td>\n",
       "    </tr>\n",
       "  </tbody>\n",
       "</table>\n",
       "</div>"
      ],
      "text/plain": [
       "                                          Titre Note_presse Note_spectateur\n",
       "0                       Un, deux, trois, soleil         3,0              --\n",
       "1                         Braquage à l'Anglaise         3,8             3,5\n",
       "2          Die Hard : belle journée pour mourir         1,7             2,1\n",
       "3                           Enfance clandestine         3,6             3,9\n",
       "4                           Un amour à New York         3,2             2,9\n",
       "5                               Noël au château         3,2              --\n",
       "6                               L'Ultime razzia         3,4             3,8\n",
       "7                                      Rushmore         3,6             3,8\n",
       "8   Ce soir je vais tuer l'assassin de mon fils         3,7              --\n",
       "9                                La Dame de fer         2,3             2,9\n",
       "10                                  A l'aveugle         2,4             2,7\n",
       "11                                Space Cowboys         4,0             3,2\n",
       "12                            L'Emprise du vice         1,5              --\n",
       "13                              Confident Royal         3,0             3,8\n",
       "14                               Braquage Final         3,1              --"
      ]
     },
     "execution_count": 135,
     "metadata": {},
     "output_type": "execute_result"
    }
   ],
   "source": [
    "df_allocine"
   ]
  },
  {
   "cell_type": "markdown",
   "id": "bb39cc71-6fc3-4f28-89e3-109dcf038716",
   "metadata": {},
   "source": [
    "### GENERALISATION POUR LES FILMS DE TOUTES LES PAGES "
   ]
  },
  {
   "cell_type": "code",
   "execution_count": null,
   "id": "ddee7e24-2b6b-48a1-969d-1ba68f50df34",
   "metadata": {},
   "outputs": [],
   "source": [
    "%%time\n",
    "# Définir la base de l'URL\n",
    "base_url = \"https://www.allocine.fr/films/?page=\"\n",
    "\n",
    "titre_allocine = []\n",
    "note_allocine_presse = []\n",
    "note_allocine_spect = []\n",
    "\n",
    "# Boucle sur les pages\n",
    "for page in range(1, 3000):  #7788 normalement 50 juste pour tester là\n",
    "    url_bis = f\"{base_url}{page}\"\n",
    "\n",
    "    # Envoyer une requête GET à l'URL\n",
    "    response = requests.get(url_bis)\n",
    "    \n",
    "    if response.status_code == 200:\n",
    "        # Utiliser BeautifulSoup pour analyser le contenu de la page\n",
    "        bs_allocine = bs(response.text, \"html.parser\")\n",
    "\n",
    "        # Trouver tous les films sur la page\n",
    "        films_allocine = bs_allocine.findAll(\"li\", attrs = {'class' : \"mdl\"})\n",
    "        \n",
    "        # Boucler sur chaque film et extraire les informations\n",
    "        for film_allocine in films_allocine:\n",
    "            titre_allocine.append(film_allocine.find('a', class_='meta-title-link').text)\n",
    "            \n",
    "            #note_allocine_presse.append(film_allocine.find_all('span', class_='stareval-note')[0].text)\n",
    "            #note_allocine_spect.append(film_allocine.find_all('span', class_='stareval-note')[1].text)\n",
    "            note_presse_tag = film_allocine.find_all('span', class_='stareval-note')\n",
    "            note_allocine_presse.append(note_presse_tag[0].text if note_presse_tag else None)\n",
    "    \n",
    "            note_spect_tag = film_allocine.find_all('span', class_='stareval-note')\n",
    "            note_allocine_spect.append(note_spect_tag[1].text if note_spect_tag and len(note_spect_tag) > 1 else None)\n",
    "    \n",
    "    else:\n",
    "        print(f\"Échec de la requête pour la page {page}\")\n",
    "\n",
    "# Créer un DataFrame avec les données collectées\n",
    "df_allocine = pd.DataFrame(list(zip(titre_allocine, note_allocine_presse, note_allocine_spect)), columns=[\"Titre\", \"Note_presse\",\"Note_spectateur\"])\n",
    "\n",
    "# Afficher le DataFrame\n",
    "#print(df_allocine)\n"
   ]
  },
  {
   "cell_type": "code",
   "execution_count": 156,
   "id": "39a98bca-886f-445e-ae7d-6cd15daac4ea",
   "metadata": {},
   "outputs": [
    {
     "data": {
      "text/html": [
       "<div>\n",
       "<style scoped>\n",
       "    .dataframe tbody tr th:only-of-type {\n",
       "        vertical-align: middle;\n",
       "    }\n",
       "\n",
       "    .dataframe tbody tr th {\n",
       "        vertical-align: top;\n",
       "    }\n",
       "\n",
       "    .dataframe thead th {\n",
       "        text-align: right;\n",
       "    }\n",
       "</style>\n",
       "<table border=\"1\" class=\"dataframe\">\n",
       "  <thead>\n",
       "    <tr style=\"text-align: right;\">\n",
       "      <th></th>\n",
       "      <th>Titre</th>\n",
       "      <th>Note_presse</th>\n",
       "      <th>Note_spectateur</th>\n",
       "    </tr>\n",
       "  </thead>\n",
       "  <tbody>\n",
       "    <tr>\n",
       "      <th>0</th>\n",
       "      <td>Napoléon</td>\n",
       "      <td>2,9</td>\n",
       "      <td>2,3</td>\n",
       "    </tr>\n",
       "    <tr>\n",
       "      <th>1</th>\n",
       "      <td>Hunger Games: la Ballade du serpent et de l'oi...</td>\n",
       "      <td>3,1</td>\n",
       "      <td>3,8</td>\n",
       "    </tr>\n",
       "    <tr>\n",
       "      <th>2</th>\n",
       "      <td>Le Garçon et le Héron</td>\n",
       "      <td>4,2</td>\n",
       "      <td>3,8</td>\n",
       "    </tr>\n",
       "    <tr>\n",
       "      <th>3</th>\n",
       "      <td>La Tresse</td>\n",
       "      <td>2,4</td>\n",
       "      <td>4,2</td>\n",
       "    </tr>\n",
       "    <tr>\n",
       "      <th>4</th>\n",
       "      <td>Killers of the Flower Moon</td>\n",
       "      <td>4,4</td>\n",
       "      <td>4,1</td>\n",
       "    </tr>\n",
       "    <tr>\n",
       "      <th>...</th>\n",
       "      <td>...</td>\n",
       "      <td>...</td>\n",
       "      <td>...</td>\n",
       "    </tr>\n",
       "    <tr>\n",
       "      <th>1480</th>\n",
       "      <td>Rocky Balboa</td>\n",
       "      <td>3,7</td>\n",
       "      <td>3,7</td>\n",
       "    </tr>\n",
       "    <tr>\n",
       "      <th>1481</th>\n",
       "      <td>Troll</td>\n",
       "      <td>2,3</td>\n",
       "      <td>--</td>\n",
       "    </tr>\n",
       "    <tr>\n",
       "      <th>1482</th>\n",
       "      <td>Tous en scène</td>\n",
       "      <td>3,6</td>\n",
       "      <td>4,0</td>\n",
       "    </tr>\n",
       "    <tr>\n",
       "      <th>1483</th>\n",
       "      <td>American Sniper</td>\n",
       "      <td>3,8</td>\n",
       "      <td>4,1</td>\n",
       "    </tr>\n",
       "    <tr>\n",
       "      <th>1484</th>\n",
       "      <td>Le Paradis</td>\n",
       "      <td>3,4</td>\n",
       "      <td>3,7</td>\n",
       "    </tr>\n",
       "  </tbody>\n",
       "</table>\n",
       "<p>1485 rows × 3 columns</p>\n",
       "</div>"
      ],
      "text/plain": [
       "                                                  Titre Note_presse  \\\n",
       "0                                              Napoléon         2,9   \n",
       "1     Hunger Games: la Ballade du serpent et de l'oi...         3,1   \n",
       "2                                 Le Garçon et le Héron         4,2   \n",
       "3                                             La Tresse         2,4   \n",
       "4                            Killers of the Flower Moon         4,4   \n",
       "...                                                 ...         ...   \n",
       "1480                                       Rocky Balboa         3,7   \n",
       "1481                                              Troll         2,3   \n",
       "1482                                      Tous en scène         3,6   \n",
       "1483                                    American Sniper         3,8   \n",
       "1484                                         Le Paradis         3,4   \n",
       "\n",
       "     Note_spectateur  \n",
       "0                2,3  \n",
       "1                3,8  \n",
       "2                3,8  \n",
       "3                4,2  \n",
       "4                4,1  \n",
       "...              ...  \n",
       "1480             3,7  \n",
       "1481              --  \n",
       "1482             4,0  \n",
       "1483             4,1  \n",
       "1484             3,7  \n",
       "\n",
       "[1485 rows x 3 columns]"
      ]
     },
     "execution_count": 156,
     "metadata": {},
     "output_type": "execute_result"
    }
   ],
   "source": [
    "df_allocine"
   ]
  },
  {
   "cell_type": "code",
   "execution_count": 143,
   "id": "5a42ec25-e3ed-4ef7-98cd-f516e9db299b",
   "metadata": {},
   "outputs": [],
   "source": [
    "df_allocine.to_csv(\"rate\", index=False)"
   ]
  },
  {
   "cell_type": "code",
   "execution_count": 145,
   "id": "1e43b4ab-4885-4357-95f1-36b9bd0d6d15",
   "metadata": {},
   "outputs": [
    {
     "data": {
      "text/plain": [
       "685"
      ]
     },
     "execution_count": 145,
     "metadata": {},
     "output_type": "execute_result"
    }
   ],
   "source": [
    "len(df_allocine[\"Titre\"].unique())"
   ]
  }
 ],
 "metadata": {
  "kernelspec": {
   "display_name": "Python 3 (ipykernel)",
   "language": "python",
   "name": "python3"
  },
  "language_info": {
   "codemirror_mode": {
    "name": "ipython",
    "version": 3
   },
   "file_extension": ".py",
   "mimetype": "text/x-python",
   "name": "python",
   "nbconvert_exporter": "python",
   "pygments_lexer": "ipython3",
   "version": "3.10.13"
  }
 },
 "nbformat": 4,
 "nbformat_minor": 5
}
